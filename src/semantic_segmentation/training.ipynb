{
 "cells": [
  {
   "cell_type": "markdown",
   "metadata": {},
   "source": [
    "This notebook take inspiration from the Nvidia's [SegNet](https://github.com/dusty-nv/pytorch-segmentation/tree/master)."
   ]
  },
  {
   "cell_type": "code",
   "execution_count": 1,
   "metadata": {},
   "outputs": [],
   "source": [
    "import torchvision\n",
    "import torch\n",
    "from tqdm import tqdm\n",
    "import matplotlib.pyplot as plt\n",
    "import numpy as np\n",
    "from PIL import Image\n",
    "from skimage.transform import resize\n",
    "\n",
    "from math import floor\n",
    "from dataclasses import dataclass\n",
    "from pathlib import Path\n",
    "\n",
    "from semantic_segmentation.dataset import get_sets as get_semantic_sets\n",
    "from semantic_segmentation.dataset import InputType\n",
    "from ipywidgets import interact, BoundedIntText\n",
    "from utils.dataset import get_dataloader\n",
    "from params import PROJECT_PATH\n",
    "from sam_pipeline_utils import compute_semantic_segmentation, CostType\n",
    "from semantic_segmentation.sam_pipeline_utils import downsample_to_grid\n",
    "from params.dataset import TOP_UNUSED_ROWS\n",
    "\n",
    "\n",
    "device = \"cuda\"\n",
    "\n",
    "if device == \"cuda\":\n",
    "    # Benchmark different convolution algorithms and use the fastest one\n",
    "    torch.backends.cudnn.benchmark = True"
   ]
  },
  {
   "cell_type": "markdown",
   "metadata": {},
   "source": [
    "# Config"
   ]
  },
  {
   "cell_type": "code",
   "execution_count": 2,
   "metadata": {},
   "outputs": [],
   "source": [
    "@dataclass\n",
    "class SegTrainingConfig:\n",
    "    dataset_dir: Path = (\n",
    "        PROJECT_PATH\n",
    "        / \"datasets/Distillation dataset/smaller_dataset_distillation_all\"\n",
    "    )\n",
    "    weights: \"weight\" = (\n",
    "        torchvision.models.segmentation.FCN_ResNet50_Weights.DEFAULT\n",
    "    )\n",
    "    batch_size: int = 64\n",
    "    num_epochs: int = 100\n",
    "    lr: float = 1e-3\n",
    "    lr_max_decay: float = 0.01\n",
    "    lr_decay_step: int = 50\n",
    "\n",
    "\n",
    "config = SegTrainingConfig()"
   ]
  },
  {
   "cell_type": "code",
   "execution_count": 3,
   "metadata": {},
   "outputs": [],
   "source": [
    "%%script false --no-raise-error\n",
    "\n",
    "# XXX: debug\n",
    "config = SegTrainingConfig(\n",
    "    dataset_dir=PROJECT_PATH\n",
    "    / \"datasets/Distillation dataset/fake_dataset_distillation\",\n",
    ")"
   ]
  },
  {
   "cell_type": "markdown",
   "metadata": {},
   "source": [
    "# Dataset"
   ]
  },
  {
   "cell_type": "code",
   "execution_count": 4,
   "metadata": {},
   "outputs": [],
   "source": [
    "train_set, val_set, test_set = get_semantic_sets(config.dataset_dir)\n",
    "train_loader, val_loader, test_loader = get_dataloader(\n",
    "    train_set, val_set, test_set, batch_size=config.batch_size\n",
    ")"
   ]
  },
  {
   "cell_type": "markdown",
   "metadata": {},
   "source": [
    "# Model"
   ]
  },
  {
   "cell_type": "code",
   "execution_count": 5,
   "metadata": {},
   "outputs": [
    {
     "data": {
      "text/plain": [
       "['deeplabv3_mobilenet_v3_large',\n",
       " 'deeplabv3_resnet101',\n",
       " 'deeplabv3_resnet50',\n",
       " 'fcn_resnet101',\n",
       " 'fcn_resnet50',\n",
       " 'lraspp_mobilenet_v3_large']"
      ]
     },
     "execution_count": 5,
     "metadata": {},
     "output_type": "execute_result"
    }
   ],
   "source": [
    "torchvision.models.list_models(torchvision.models.segmentation)"
   ]
  },
  {
   "cell_type": "code",
   "execution_count": 6,
   "metadata": {},
   "outputs": [],
   "source": [
    "def get_model(config):\n",
    "    model = torchvision.models.segmentation.fcn_resnet50(\n",
    "        weights=config.weights,\n",
    "        progress=True,\n",
    "    )\n",
    "\n",
    "    # Adapt for our task of traversal semantic segmentation\n",
    "    model.classifier[-1] = torch.nn.Conv2d(\n",
    "        512, 1, kernel_size=(1, 1), stride=(1, 1)\n",
    "    )\n",
    "    model.aux_classifier[-1] = torch.nn.Conv2d(\n",
    "        256, 1, kernel_size=(1, 1), stride=(1, 1)\n",
    "    )\n",
    "\n",
    "    return model.to(device)"
   ]
  },
  {
   "cell_type": "code",
   "execution_count": 7,
   "metadata": {},
   "outputs": [],
   "source": [
    "model = get_model(config)"
   ]
  },
  {
   "cell_type": "markdown",
   "metadata": {},
   "source": [
    "# Training"
   ]
  },
  {
   "cell_type": "code",
   "execution_count": 8,
   "metadata": {},
   "outputs": [],
   "source": [
    "optimizer = torch.optim.Adam(model.parameters(), lr=config.lr)\n",
    "lr_scheduler = torch.optim.lr_scheduler.LinearLR(\n",
    "    optimizer, 1, config.lr_max_decay, config.lr_decay_step\n",
    ")"
   ]
  },
  {
   "cell_type": "code",
   "execution_count": 9,
   "metadata": {},
   "outputs": [],
   "source": [
    "def criterion(inputs, target):\n",
    "    losses = {}\n",
    "    for name, x in inputs.items():\n",
    "        losses[name] = torch.nn.functional.mse_loss(x, target.unsqueeze(1))\n",
    "\n",
    "    if len(losses) == 1:\n",
    "        return losses[\"out\"]\n",
    "\n",
    "    return losses[\"out\"] + 0.5 * losses[\"aux\"]\n",
    "\n",
    "\n",
    "def train(model, train_loader, optimizer, device):\n",
    "    model.train()\n",
    "    total_loss = torch.tensor(0.0).to(device)\n",
    "    for x, y in train_loader:\n",
    "        x = x.to(device)\n",
    "        y = y.to(device)\n",
    "\n",
    "        optimizer.zero_grad(set_to_none=True)\n",
    "        y_pred = model(x)\n",
    "        loss = criterion(y_pred, y)\n",
    "        loss.backward()\n",
    "        optimizer.step()\n",
    "        total_loss += loss\n",
    "\n",
    "    avg_train_loss = total_loss.item() / len(train_loader)\n",
    "    return avg_train_loss\n",
    "\n",
    "\n",
    "def evaluate(model, val_loader, device):\n",
    "    model.eval()\n",
    "    val_loss = 0\n",
    "    with torch.no_grad():\n",
    "        for x_val, y_val in val_loader:\n",
    "            x_val = x_val.to(device)\n",
    "            y_val = y_val.to(device)\n",
    "\n",
    "            y_pred_val = model(x_val)[\"out\"]\n",
    "            val_loss += torch.nn.functional.mse_loss(\n",
    "                y_pred_val, y_val.unsqueeze(1)\n",
    "            ).item()\n",
    "\n",
    "    avg_val_loss = val_loss / len(val_loader)\n",
    "    return avg_val_loss"
   ]
  },
  {
   "cell_type": "code",
   "execution_count": 10,
   "metadata": {},
   "outputs": [],
   "source": [
    "def train_model(\n",
    "    config, model, train_loader, val_loader, optimizer, lr_scheduler, device\n",
    "):\n",
    "    progress_bar = tqdm(range(config.num_epochs), desc=\"Epoch\")\n",
    "    train_loss_list = []\n",
    "    val_loss_list = []\n",
    "\n",
    "    for _ in progress_bar:\n",
    "        train_loss = train(model, train_loader, optimizer, device)\n",
    "        val_loss = evaluate(model, val_loader, device)\n",
    "\n",
    "        lr_scheduler.step()\n",
    "        progress_bar.set_description(\n",
    "            f\"Train Loss: {train_loss:.4f}, Val Loss: {val_loss:.4f}, Epoch\"\n",
    "        )\n",
    "\n",
    "        train_loss_list.append(train_loss)\n",
    "        val_loss_list.append(val_loss)\n",
    "\n",
    "    return train_loss_list, val_loss_list"
   ]
  },
  {
   "cell_type": "code",
   "execution_count": 11,
   "metadata": {},
   "outputs": [],
   "source": [
    "%%script false --no-raise-error\n",
    "\n",
    "train_loss_list, val_loss_list = train_model(\n",
    "    config, model, train_loader, val_loader, optimizer, lr_scheduler, device\n",
    ")"
   ]
  },
  {
   "cell_type": "code",
   "execution_count": 12,
   "metadata": {},
   "outputs": [],
   "source": [
    "%%script false --no-raise-error\n",
    "\n",
    "evaluate(model, test_loader, device)"
   ]
  },
  {
   "cell_type": "code",
   "execution_count": 13,
   "metadata": {},
   "outputs": [],
   "source": [
    "%%script false --no-raise-error\n",
    "\n",
    "torch.save(model.state_dict(), \"logs/model_new_size_data_aug.pth\")"
   ]
  },
  {
   "cell_type": "code",
   "execution_count": 14,
   "metadata": {},
   "outputs": [
    {
     "data": {
      "text/plain": [
       "<All keys matched successfully>"
      ]
     },
     "execution_count": 14,
     "metadata": {},
     "output_type": "execute_result"
    }
   ],
   "source": [
    "weights = torch.load(\"logs/model_new_size_data_aug.pth\")\n",
    "model.load_state_dict(weights)"
   ]
  },
  {
   "cell_type": "markdown",
   "metadata": {},
   "source": [
    "# Results?"
   ]
  },
  {
   "cell_type": "code",
   "execution_count": 15,
   "metadata": {},
   "outputs": [
    {
     "data": {
      "text/plain": [
       "Text(0, 0.5, 'Loss')"
      ]
     },
     "execution_count": 15,
     "metadata": {},
     "output_type": "execute_result"
    },
    {
     "data": {
      "image/png": "[encoded data removed]",
      "text/plain": [
       "<Figure size 640x480 with 1 Axes>"
      ]
     },
     "metadata": {},
     "output_type": "display_data"
    }
   ],
   "source": [
    "%%script false --no-raise-error\n",
    "\n",
    "plt.plot(train_loss_list, label=\"train loss\")\n",
    "plt.plot(val_loss_list, label=\"val loss\")\n",
    "plt.legend()\n",
    "plt.xlabel(\"Epoch\")\n",
    "plt.ylabel(\"Loss\")"
   ]
  },
  {
   "cell_type": "code",
   "execution_count": 16,
   "metadata": {},
   "outputs": [],
   "source": [
    "%%script false --no-raise-error\n",
    "\n",
    "whole_image_dataset = (\n",
    "    PROJECT_PATH / \"datasets/Distillation dataset/dataset_distillation_all\"\n",
    ")\n",
    "\n",
    "visualization_set = test_set\n",
    "\n",
    "\n",
    "@interact(index=BoundedIntText(0, min=0, max=len(visualization_set) - 1))\n",
    "def visualize_prediction(index):\n",
    "    model.eval()\n",
    "    with torch.no_grad():\n",
    "        image, target = visualization_set[index]\n",
    "        image = image.unsqueeze(0).to(device)\n",
    "        output = model(image)[\"out\"]\n",
    "\n",
    "    _, axes = plt.subplots(1, 5, figsize=(30, 4))\n",
    "\n",
    "    test_index = visualization_set.indexes[index]\n",
    "    whole_image_path = config.dataset_dir / f\"images/{test_index:05d}.png\"\n",
    "    whole_image = plt.imread(whole_image_path)\n",
    "    output = output.squeeze().cpu().numpy()\n",
    "    top_height = (\n",
    "        floor(output.shape[0] / (1 - TOP_UNUSED_ROWS)) - output.shape[0]\n",
    "    )\n",
    "    axes[0].imshow(whole_image)\n",
    "    axes[0].imshow(whole_image)\n",
    "    axes[0].axhline(top_height, linestyle=\"dotted\", color=\"red\")\n",
    "    axes[0].axis(\"off\")\n",
    "    axes[0].set_title(\"Source Image\")\n",
    "\n",
    "    axes[1].imshow(target.squeeze().numpy(), cmap=\"hot_r\", vmin=2, vmax=6)\n",
    "    axes[1].set_title(\"Target (SAM Pipeline)\")\n",
    "    axes[1].axis(\"off\")\n",
    "\n",
    "    colorbar = axes[2].imshow(output, cmap=\"hot_r\", vmin=2, vmax=6)\n",
    "    axes[2].set_title(\"Predicted Result (distillation)\")\n",
    "    axes[2].axis(\"off\")\n",
    "\n",
    "    plt.colorbar(colorbar, ax=axes, shrink=0.5, location=\"bottom\")\n",
    "\n",
    "    whole_target = np.load(\n",
    "        whole_image_dataset / f\"targets/{test_index:05d}.npy\"\n",
    "    )\n",
    "\n",
    "    top_half = np.zeros((top_height, output.shape[1]))\n",
    "    whole_output = np.vstack((top_half, output))\n",
    "\n",
    "    whole_output = resize(\n",
    "        whole_output,\n",
    "        whole_target.shape,\n",
    "        mode=\"reflect\",\n",
    "        anti_aliasing=True,\n",
    "    )\n",
    "    axes[3].imshow(whole_target)\n",
    "\n",
    "    costmap_target = downsample_to_grid(whole_target)\n",
    "    costmap_output = downsample_to_grid(whole_output)\n",
    "\n",
    "    axes[3].imshow(costmap_target, cmap=\"hot_r\", vmin=2, vmax=6)\n",
    "    axes[3].set_title(\"Target Costmap\\n(i.e. SAM Pipeline)\")\n",
    "    axes[3].axis(\"off\")\n",
    "    axes[4].imshow(costmap_output, cmap=\"hot_r\", vmin=2, vmax=6)\n",
    "    axes[4].set_title(\"Predicted Costmap\\n(i.e. distillation)\")\n",
    "    axes[4].axis(\"off\")"
   ]
  },
  {
   "cell_type": "markdown",
   "metadata": {},
   "source": [
    "## Artefacts of bilinear upsampling"
   ]
  },
  {
   "cell_type": "code",
   "execution_count": 17,
   "metadata": {},
   "outputs": [
    {
     "name": "stdout",
     "output_type": "stream",
     "text": [
      "    def forward(self, x: Tensor) -> Dict[str, Tensor]:\n",
      "        input_shape = x.shape[-2:]\n",
      "        # contract: features is a dict of tensors\n",
      "        features = self.backbone(x)\n",
      "\n",
      "        result = OrderedDict()\n",
      "        x = features[\"out\"]\n",
      "        x = self.classifier(x)\n",
      "        x = F.interpolate(x, size=input_shape, mode=\"bilinear\", align_corners=False)\n",
      "        result[\"out\"] = x\n",
      "\n",
      "        if self.aux_classifier is not None:\n",
      "            x = features[\"aux\"]\n",
      "            x = self.aux_classifier(x)\n",
      "            x = F.interpolate(x, size=input_shape, mode=\"bilinear\", align_corners=False)\n",
      "            result[\"aux\"] = x\n",
      "\n",
      "        return result\n",
      "\n"
     ]
    }
   ],
   "source": [
    "import inspect\n",
    "\n",
    "print(inspect.getsource(model.forward))"
   ]
  },
  {
   "cell_type": "code",
   "execution_count": 18,
   "metadata": {},
   "outputs": [],
   "source": [
    "img, _ = train_set[0]"
   ]
  },
  {
   "cell_type": "code",
   "execution_count": 19,
   "metadata": {},
   "outputs": [],
   "source": [
    "features = model.backbone(img.unsqueeze(0).to(device))\n",
    "\n",
    "x = features[\"out\"]\n",
    "x = model.classifier(x)\n",
    "\n",
    "x_interp = torch.nn.functional.interpolate(\n",
    "    x, size=img.shape[-2:], mode=\"bilinear\", align_corners=False\n",
    ")"
   ]
  },
  {
   "cell_type": "code",
   "execution_count": 20,
   "metadata": {},
   "outputs": [
    {
     "data": {
      "text/plain": [
       "<matplotlib.image.AxesImage at 0x7f22902879a0>"
      ]
     },
     "execution_count": 21,
     "metadata": {},
     "output_type": "execute_result"
    },
    {
     "data": {
      "image/png": "[encoded data removed]",
      "text/plain": [
       "<Figure size 1000x400 with 2 Axes>"
      ]
     },
     "metadata": {},
     "output_type": "display_data"
    }
   ],
   "source": [
    "_, (ax1, ax2) = plt.subplots(1, 2, figsize=(10, 4))\n",
    "ax1.imshow(x.squeeze().cpu().detach().numpy(), cmap=\"hot_r\", vmin=2, vmax=6)\n",
    "ax2.imshow(\n",
    "    x_interp.squeeze().cpu().detach().numpy(), cmap=\"hot_r\", vmin=2, vmax=6\n",
    ")"
   ]
  },
  {
   "cell_type": "markdown",
   "metadata": {},
   "source": [
    "# Benchmarking models"
   ]
  },
  {
   "cell_type": "markdown",
   "metadata": {},
   "source": [
    "## Distilled model"
   ]
  },
  {
   "cell_type": "code",
   "execution_count": 21,
   "metadata": {},
   "outputs": [],
   "source": [
    "from timeit import timeit\n",
    "\n",
    "model.eval()\n",
    "benchmark_image, _ = test_set[0]\n",
    "benchmark_image = benchmark_image.unsqueeze(0).to(device)"
   ]
  },
  {
   "cell_type": "code",
   "execution_count": 22,
   "metadata": {},
   "outputs": [],
   "source": [
    "%%script false --no-raise-error\n",
    "%%timeit\n",
    "\n",
    "with torch.no_grad():\n",
    "    model(benchmark_image)"
   ]
  },
  {
   "cell_type": "markdown",
   "metadata": {},
   "source": [
    "## Full SAM pipeline"
   ]
  },
  {
   "cell_type": "code",
   "execution_count": 23,
   "metadata": {},
   "outputs": [],
   "source": [
    "def get_image(img_path: Path) -> np.array:\n",
    "    with Image.open(img_path) as pil_img:\n",
    "        pil_img = pil_img.resize((180, 320))\n",
    "        return np.array(pil_img)\n",
    "\n",
    "\n",
    "img = get_image(config.dataset_dir / \"images\" / \"00000.png\")\n",
    "depth = get_image(config.dataset_dir / \"images\" / \"00000d.png\")\n",
    "normal = get_image(config.dataset_dir / \"images\" / \"00000n.png\")"
   ]
  },
  {
   "cell_type": "code",
   "execution_count": 24,
   "metadata": {},
   "outputs": [],
   "source": [
    "%%script false --no-raise-error\n",
    "%%timeit\n",
    "\n",
    "with torch.no_grad():\n",
    "    compute_semantic_segmentation(\n",
    "        img,\n",
    "        depth,\n",
    "        normal,\n",
    "        should_fill_segmentation=True,\n",
    "        cost_type=CostType.CENTERED,\n",
    "        should_filter_intersection=True,\n",
    "        completeness_threshold=0,\n",
    "    )"
   ]
  },
  {
   "cell_type": "markdown",
   "metadata": {},
   "source": [
    "## Plot"
   ]
  },
  {
   "cell_type": "code",
   "execution_count": 25,
   "metadata": {},
   "outputs": [
    {
     "data": {
      "text/plain": [
       "Text(0.5, 1.0, 'Comparison of SAM_pipeline and distilled_pipeline')"
      ]
     },
     "execution_count": 25,
     "metadata": {},
     "output_type": "execute_result"
    },
    {
     "data": {
      "image/png": "[encoded data removed]",
      "text/plain": [
       "<Figure size 640x480 with 1 Axes>"
      ]
     },
     "metadata": {},
     "output_type": "display_data"
    }
   ],
   "source": [
    "# %%script false --no-raise-error\n",
    "\n",
    "# XXX: time written below are computed with the 2 above %%timeit\n",
    "sam_pipeline_time = 2900\n",
    "distilled_pipeline_time = 4\n",
    "\n",
    "values = [sam_pipeline_time, distilled_pipeline_time]\n",
    "labels = [\n",
    "    \"SAM pipeline\",\n",
    "    f\"Distilled pipeline (x{sam_pipeline_time // distilled_pipeline_time} faster)\",\n",
    "]\n",
    "\n",
    "plt.bar(labels, values, color=[\"firebrick\", \"limegreen\"])\n",
    "plt.xlabel(\"Model\")\n",
    "plt.ylabel(\"Log Time (in ms)\")\n",
    "plt.yscale(\"log\")\n",
    "plt.title(\"Comparison of SAM_pipeline and distilled_pipeline\")"
   ]
  },
  {
   "cell_type": "markdown",
   "metadata": {},
   "source": [
    "# Profiling Training\n",
    "we need to fasten the training process in order to perform Hyperparameters tuning on it."
   ]
  },
  {
   "cell_type": "code",
   "execution_count": 26,
   "metadata": {},
   "outputs": [],
   "source": [
    "from torch.profiler import profile, ProfilerActivity, record_function"
   ]
  },
  {
   "cell_type": "code",
   "execution_count": 27,
   "metadata": {},
   "outputs": [],
   "source": [
    "%%script false --no-raise-error\n",
    "\n",
    "with profile(\n",
    "    activities=[ProfilerActivity.CPU, ProfilerActivity.CUDA],\n",
    "    profile_memory=True,\n",
    "    with_stack=True,\n",
    ") as prof:\n",
    "    train(model, train_loader, optimizer, device)"
   ]
  },
  {
   "cell_type": "code",
   "execution_count": 28,
   "metadata": {},
   "outputs": [],
   "source": [
    "%%script false --no-raise-error\n",
    "\n",
    "prof.export_chrome_trace(\"trace_non_blocking.json\")"
   ]
  },
  {
   "cell_type": "markdown",
   "metadata": {},
   "source": [
    "# Hyperparameters tuning"
   ]
  },
  {
   "cell_type": "code",
   "execution_count": 29,
   "metadata": {},
   "outputs": [],
   "source": [
    "from torchvision import transforms\n",
    "from ray import train as ray_train\n",
    "from ray import tune\n",
    "from ray.tune.search.optuna import OptunaSearch\n",
    "\n",
    "from semantic_segmentation.dataset import (\n",
    "    DEFAULT_SEG_GEOMETRIC_AUGMENTATION_TRANSFORM,\n",
    ")\n",
    "from utils.dataset import DEFAULT_IMAGE_AUGMENTATION_TRANSFORM\n",
    "from utils.hp_tuning import (\n",
    "    get_multiple_choice,\n",
    "    get_multiple_choice_seach_space,\n",
    "    plot_trials_multiple_choice,\n",
    ")"
   ]
  },
  {
   "cell_type": "code",
   "execution_count": 30,
   "metadata": {},
   "outputs": [],
   "source": [
    "image_augmentation_search_space = get_multiple_choice_seach_space(\n",
    "    \"image_augmentation\", DEFAULT_IMAGE_AUGMENTATION_TRANSFORM.transforms\n",
    ")\n",
    "geometric_augmentation_search_space = get_multiple_choice_seach_space(\n",
    "    \"geometric_augmentation\",\n",
    "    DEFAULT_SEG_GEOMETRIC_AUGMENTATION_TRANSFORM.transforms,\n",
    ")"
   ]
  },
  {
   "cell_type": "code",
   "execution_count": 31,
   "metadata": {},
   "outputs": [],
   "source": [
    "search_space = {\n",
    "    **image_augmentation_search_space,\n",
    "    **geometric_augmentation_search_space,\n",
    "}\n",
    "\n",
    "\n",
    "def get_loaders_from_config(config, hp_config):\n",
    "    image_augmentation_transforms = get_multiple_choice(\n",
    "        hp_config,\n",
    "        \"image_augmentation\",\n",
    "        DEFAULT_IMAGE_AUGMENTATION_TRANSFORM.transforms,\n",
    "    )\n",
    "    geometric_augmentation_transforms = get_multiple_choice(\n",
    "        hp_config,\n",
    "        \"geometric_augmentation\",\n",
    "        DEFAULT_SEG_GEOMETRIC_AUGMENTATION_TRANSFORM.transforms,\n",
    "    )\n",
    "\n",
    "    image_augmentation_transforms = transforms.Compose(\n",
    "        image_augmentation_transforms\n",
    "    )\n",
    "    geometric_augmentation_transforms = transforms.Compose(\n",
    "        geometric_augmentation_transforms\n",
    "    )\n",
    "\n",
    "    train_set, val_set, test_set = get_semantic_sets(\n",
    "        config.dataset_dir,\n",
    "        image_augmentation_transform=image_augmentation_transforms,\n",
    "        geometric_augmentation_transform=geometric_augmentation_transforms,\n",
    "    )\n",
    "    return get_dataloader(\n",
    "        train_set, val_set, test_set, batch_size=config.batch_size\n",
    "    )\n",
    "\n",
    "\n",
    "def trial(hp_config):\n",
    "    config = SegTrainingConfig()\n",
    "\n",
    "    train_loader, val_loader, test_loader = get_loaders_from_config(\n",
    "        config, hp_config\n",
    "    )\n",
    "    model = get_model(config)\n",
    "    optimizer = torch.optim.Adam(model.parameters(), lr=config.lr)\n",
    "    lr_scheduler = torch.optim.lr_scheduler.LinearLR(\n",
    "        optimizer, 1, config.lr_max_decay, config.lr_decay_step\n",
    "    )\n",
    "\n",
    "    train_model(\n",
    "        config,\n",
    "        model,\n",
    "        train_loader,\n",
    "        val_loader,\n",
    "        optimizer,\n",
    "        lr_scheduler,\n",
    "        device,\n",
    "    )\n",
    "    return evaluate(model, test_loader, device)"
   ]
  },
  {
   "cell_type": "code",
   "execution_count": 32,
   "metadata": {},
   "outputs": [],
   "source": [
    "gpu_trial = tune.with_resources(trial, {\"cpu\": 12, \"gpu\": 1})"
   ]
  },
  {
   "cell_type": "code",
   "execution_count": 33,
   "metadata": {},
   "outputs": [],
   "source": [
    "%%script false --no-raise-error\n",
    "\n",
    "algo = OptunaSearch()\n",
    "\n",
    "tuner = tune.Tuner(\n",
    "    gpu_trial,\n",
    "    tune_config=tune.TuneConfig(\n",
    "        mode=\"min\",\n",
    "        search_alg=algo,\n",
    "        num_samples=100,\n",
    "    ),\n",
    "    param_space=search_space,\n",
    ")\n",
    "results = tuner.fit()"
   ]
  },
  {
   "cell_type": "code",
   "execution_count": 34,
   "metadata": {},
   "outputs": [],
   "source": [
    "%%script false --no-raise-error\n",
    "\n",
    "results.experiment_path"
   ]
  },
  {
   "cell_type": "code",
   "execution_count": 35,
   "metadata": {},
   "outputs": [
    {
     "name": "stderr",
     "output_type": "stream",
     "text": [
      "2023-12-21 11:42:46,402\tWARNING experiment_analysis.py:185 -- Failed to fetch metrics for 1 trial(s):\n",
      "- trial_95b979eb: FileNotFoundError('Could not fetch metrics for trial_95b979eb: both result.json and progress.csv were not found at /home/g_thomas/ray_results/trial_2023-12-19_10-00-41/trial_95b979eb_95_geometric_augmentation_0=False,geometric_augmentation_1=False,geometric_augmentation_2=True,geometric_augmentati_2023-12-21_11-18-09')\n"
     ]
    }
   ],
   "source": [
    "results = tune.Tuner.restore(\n",
    "    # \"/home/g_thomas/ray_results/siamese_hp_tuning_data_aug/\",\n",
    "    \"/home/g_thomas/ray_results/trial_2023-12-19_10-00-41\",\n",
    "    trainable=gpu_trial,\n",
    ").get_results()"
   ]
  },
  {
   "cell_type": "code",
   "execution_count": 36,
   "metadata": {},
   "outputs": [
    {
     "data": {
      "text/html": [
       "<div>\n",
       "<style scoped>\n",
       "    .dataframe tbody tr th:only-of-type {\n",
       "        vertical-align: middle;\n",
       "    }\n",
       "\n",
       "    .dataframe tbody tr th {\n",
       "        vertical-align: top;\n",
       "    }\n",
       "\n",
       "    .dataframe thead th {\n",
       "        text-align: right;\n",
       "    }\n",
       "</style>\n",
       "<table border=\"1\" class=\"dataframe\">\n",
       "  <thead>\n",
       "    <tr style=\"text-align: right;\">\n",
       "      <th></th>\n",
       "      <th>_metric</th>\n",
       "      <th>timestamp</th>\n",
       "      <th>checkpoint_dir_name</th>\n",
       "      <th>done</th>\n",
       "      <th>training_iteration</th>\n",
       "      <th>trial_id</th>\n",
       "      <th>date</th>\n",
       "      <th>time_this_iter_s</th>\n",
       "      <th>time_total_s</th>\n",
       "      <th>pid</th>\n",
       "      <th>...</th>\n",
       "      <th>config/image_augmentation_0</th>\n",
       "      <th>config/image_augmentation_1</th>\n",
       "      <th>config/image_augmentation_2</th>\n",
       "      <th>config/image_augmentation_3</th>\n",
       "      <th>config/image_augmentation_4</th>\n",
       "      <th>config/geometric_augmentation_0</th>\n",
       "      <th>config/geometric_augmentation_1</th>\n",
       "      <th>config/geometric_augmentation_2</th>\n",
       "      <th>config/geometric_augmentation_3</th>\n",
       "      <th>logdir</th>\n",
       "    </tr>\n",
       "  </thead>\n",
       "  <tbody>\n",
       "    <tr>\n",
       "      <th>0</th>\n",
       "      <td>0.231394</td>\n",
       "      <td>1702978337</td>\n",
       "      <td>None</td>\n",
       "      <td>False</td>\n",
       "      <td>1</td>\n",
       "      <td>e004fe47</td>\n",
       "      <td>2023-12-19_10-32-17</td>\n",
       "      <td>1887.159580</td>\n",
       "      <td>1887.159580</td>\n",
       "      <td>12763</td>\n",
       "      <td>...</td>\n",
       "      <td>False</td>\n",
       "      <td>False</td>\n",
       "      <td>False</td>\n",
       "      <td>True</td>\n",
       "      <td>True</td>\n",
       "      <td>True</td>\n",
       "      <td>True</td>\n",
       "      <td>True</td>\n",
       "      <td>False</td>\n",
       "      <td>e004fe47</td>\n",
       "    </tr>\n",
       "    <tr>\n",
       "      <th>1</th>\n",
       "      <td>0.172935</td>\n",
       "      <td>1702980311</td>\n",
       "      <td>None</td>\n",
       "      <td>False</td>\n",
       "      <td>1</td>\n",
       "      <td>e9fd4845</td>\n",
       "      <td>2023-12-19_11-05-11</td>\n",
       "      <td>1973.880884</td>\n",
       "      <td>1973.880884</td>\n",
       "      <td>12763</td>\n",
       "      <td>...</td>\n",
       "      <td>False</td>\n",
       "      <td>False</td>\n",
       "      <td>True</td>\n",
       "      <td>True</td>\n",
       "      <td>False</td>\n",
       "      <td>False</td>\n",
       "      <td>False</td>\n",
       "      <td>False</td>\n",
       "      <td>False</td>\n",
       "      <td>e9fd4845</td>\n",
       "    </tr>\n",
       "    <tr>\n",
       "      <th>2</th>\n",
       "      <td>0.196466</td>\n",
       "      <td>1702982300</td>\n",
       "      <td>None</td>\n",
       "      <td>False</td>\n",
       "      <td>1</td>\n",
       "      <td>9bd97c24</td>\n",
       "      <td>2023-12-19_11-38-20</td>\n",
       "      <td>1989.106441</td>\n",
       "      <td>1989.106441</td>\n",
       "      <td>12763</td>\n",
       "      <td>...</td>\n",
       "      <td>True</td>\n",
       "      <td>True</td>\n",
       "      <td>False</td>\n",
       "      <td>False</td>\n",
       "      <td>False</td>\n",
       "      <td>False</td>\n",
       "      <td>False</td>\n",
       "      <td>False</td>\n",
       "      <td>True</td>\n",
       "      <td>9bd97c24</td>\n",
       "    </tr>\n",
       "    <tr>\n",
       "      <th>3</th>\n",
       "      <td>0.258116</td>\n",
       "      <td>1702984254</td>\n",
       "      <td>None</td>\n",
       "      <td>False</td>\n",
       "      <td>1</td>\n",
       "      <td>e7aad824</td>\n",
       "      <td>2023-12-19_12-10-54</td>\n",
       "      <td>1954.334540</td>\n",
       "      <td>1954.334540</td>\n",
       "      <td>12763</td>\n",
       "      <td>...</td>\n",
       "      <td>True</td>\n",
       "      <td>False</td>\n",
       "      <td>False</td>\n",
       "      <td>False</td>\n",
       "      <td>True</td>\n",
       "      <td>True</td>\n",
       "      <td>True</td>\n",
       "      <td>False</td>\n",
       "      <td>True</td>\n",
       "      <td>e7aad824</td>\n",
       "    </tr>\n",
       "    <tr>\n",
       "      <th>4</th>\n",
       "      <td>0.237159</td>\n",
       "      <td>1702986216</td>\n",
       "      <td>None</td>\n",
       "      <td>False</td>\n",
       "      <td>1</td>\n",
       "      <td>a353330f</td>\n",
       "      <td>2023-12-19_12-43-36</td>\n",
       "      <td>1961.866830</td>\n",
       "      <td>1961.866830</td>\n",
       "      <td>12763</td>\n",
       "      <td>...</td>\n",
       "      <td>True</td>\n",
       "      <td>True</td>\n",
       "      <td>False</td>\n",
       "      <td>True</td>\n",
       "      <td>False</td>\n",
       "      <td>False</td>\n",
       "      <td>True</td>\n",
       "      <td>False</td>\n",
       "      <td>True</td>\n",
       "      <td>a353330f</td>\n",
       "    </tr>\n",
       "    <tr>\n",
       "      <th>...</th>\n",
       "      <td>...</td>\n",
       "      <td>...</td>\n",
       "      <td>...</td>\n",
       "      <td>...</td>\n",
       "      <td>...</td>\n",
       "      <td>...</td>\n",
       "      <td>...</td>\n",
       "      <td>...</td>\n",
       "      <td>...</td>\n",
       "      <td>...</td>\n",
       "      <td>...</td>\n",
       "      <td>...</td>\n",
       "      <td>...</td>\n",
       "      <td>...</td>\n",
       "      <td>...</td>\n",
       "      <td>...</td>\n",
       "      <td>...</td>\n",
       "      <td>...</td>\n",
       "      <td>...</td>\n",
       "      <td>...</td>\n",
       "      <td>...</td>\n",
       "    </tr>\n",
       "    <tr>\n",
       "      <th>88</th>\n",
       "      <td>0.163457</td>\n",
       "      <td>1703146274</td>\n",
       "      <td>None</td>\n",
       "      <td>False</td>\n",
       "      <td>1</td>\n",
       "      <td>49d8215d</td>\n",
       "      <td>2023-12-21_09-11-14</td>\n",
       "      <td>1871.336775</td>\n",
       "      <td>1871.336775</td>\n",
       "      <td>12763</td>\n",
       "      <td>...</td>\n",
       "      <td>False</td>\n",
       "      <td>False</td>\n",
       "      <td>False</td>\n",
       "      <td>False</td>\n",
       "      <td>False</td>\n",
       "      <td>False</td>\n",
       "      <td>False</td>\n",
       "      <td>True</td>\n",
       "      <td>False</td>\n",
       "      <td>49d8215d</td>\n",
       "    </tr>\n",
       "    <tr>\n",
       "      <th>89</th>\n",
       "      <td>0.157340</td>\n",
       "      <td>1703148157</td>\n",
       "      <td>None</td>\n",
       "      <td>False</td>\n",
       "      <td>1</td>\n",
       "      <td>d704af5a</td>\n",
       "      <td>2023-12-21_09-42-37</td>\n",
       "      <td>1882.491143</td>\n",
       "      <td>1882.491143</td>\n",
       "      <td>12763</td>\n",
       "      <td>...</td>\n",
       "      <td>False</td>\n",
       "      <td>False</td>\n",
       "      <td>False</td>\n",
       "      <td>False</td>\n",
       "      <td>False</td>\n",
       "      <td>False</td>\n",
       "      <td>False</td>\n",
       "      <td>True</td>\n",
       "      <td>False</td>\n",
       "      <td>d704af5a</td>\n",
       "    </tr>\n",
       "    <tr>\n",
       "      <th>90</th>\n",
       "      <td>0.156289</td>\n",
       "      <td>1703150028</td>\n",
       "      <td>None</td>\n",
       "      <td>False</td>\n",
       "      <td>1</td>\n",
       "      <td>3bd1864b</td>\n",
       "      <td>2023-12-21_10-13-48</td>\n",
       "      <td>1871.145649</td>\n",
       "      <td>1871.145649</td>\n",
       "      <td>12763</td>\n",
       "      <td>...</td>\n",
       "      <td>False</td>\n",
       "      <td>False</td>\n",
       "      <td>False</td>\n",
       "      <td>False</td>\n",
       "      <td>False</td>\n",
       "      <td>False</td>\n",
       "      <td>False</td>\n",
       "      <td>True</td>\n",
       "      <td>False</td>\n",
       "      <td>3bd1864b</td>\n",
       "    </tr>\n",
       "    <tr>\n",
       "      <th>91</th>\n",
       "      <td>0.164550</td>\n",
       "      <td>1703151995</td>\n",
       "      <td>None</td>\n",
       "      <td>False</td>\n",
       "      <td>1</td>\n",
       "      <td>3547f87b</td>\n",
       "      <td>2023-12-21_10-46-35</td>\n",
       "      <td>1966.739721</td>\n",
       "      <td>1966.739721</td>\n",
       "      <td>12763</td>\n",
       "      <td>...</td>\n",
       "      <td>False</td>\n",
       "      <td>True</td>\n",
       "      <td>False</td>\n",
       "      <td>False</td>\n",
       "      <td>False</td>\n",
       "      <td>False</td>\n",
       "      <td>False</td>\n",
       "      <td>True</td>\n",
       "      <td>False</td>\n",
       "      <td>3547f87b</td>\n",
       "    </tr>\n",
       "    <tr>\n",
       "      <th>92</th>\n",
       "      <td>0.153740</td>\n",
       "      <td>1703153889</td>\n",
       "      <td>None</td>\n",
       "      <td>False</td>\n",
       "      <td>1</td>\n",
       "      <td>e73b3a82</td>\n",
       "      <td>2023-12-21_11-18-09</td>\n",
       "      <td>1894.538050</td>\n",
       "      <td>1894.538050</td>\n",
       "      <td>12763</td>\n",
       "      <td>...</td>\n",
       "      <td>False</td>\n",
       "      <td>False</td>\n",
       "      <td>False</td>\n",
       "      <td>False</td>\n",
       "      <td>False</td>\n",
       "      <td>False</td>\n",
       "      <td>False</td>\n",
       "      <td>True</td>\n",
       "      <td>False</td>\n",
       "      <td>e73b3a82</td>\n",
       "    </tr>\n",
       "  </tbody>\n",
       "</table>\n",
       "<p>93 rows × 24 columns</p>\n",
       "</div>"
      ],
      "text/plain": [
       "     _metric   timestamp checkpoint_dir_name   done  training_iteration  \\\n",
       "0   0.231394  1702978337                None  False                   1   \n",
       "1   0.172935  1702980311                None  False                   1   \n",
       "2   0.196466  1702982300                None  False                   1   \n",
       "3   0.258116  1702984254                None  False                   1   \n",
       "4   0.237159  1702986216                None  False                   1   \n",
       "..       ...         ...                 ...    ...                 ...   \n",
       "88  0.163457  1703146274                None  False                   1   \n",
       "89  0.157340  1703148157                None  False                   1   \n",
       "90  0.156289  1703150028                None  False                   1   \n",
       "91  0.164550  1703151995                None  False                   1   \n",
       "92  0.153740  1703153889                None  False                   1   \n",
       "\n",
       "    trial_id                 date  time_this_iter_s  time_total_s    pid  ...  \\\n",
       "0   e004fe47  2023-12-19_10-32-17       1887.159580   1887.159580  12763  ...   \n",
       "1   e9fd4845  2023-12-19_11-05-11       1973.880884   1973.880884  12763  ...   \n",
       "2   9bd97c24  2023-12-19_11-38-20       1989.106441   1989.106441  12763  ...   \n",
       "3   e7aad824  2023-12-19_12-10-54       1954.334540   1954.334540  12763  ...   \n",
       "4   a353330f  2023-12-19_12-43-36       1961.866830   1961.866830  12763  ...   \n",
       "..       ...                  ...               ...           ...    ...  ...   \n",
       "88  49d8215d  2023-12-21_09-11-14       1871.336775   1871.336775  12763  ...   \n",
       "89  d704af5a  2023-12-21_09-42-37       1882.491143   1882.491143  12763  ...   \n",
       "90  3bd1864b  2023-12-21_10-13-48       1871.145649   1871.145649  12763  ...   \n",
       "91  3547f87b  2023-12-21_10-46-35       1966.739721   1966.739721  12763  ...   \n",
       "92  e73b3a82  2023-12-21_11-18-09       1894.538050   1894.538050  12763  ...   \n",
       "\n",
       "   config/image_augmentation_0 config/image_augmentation_1  \\\n",
       "0                        False                       False   \n",
       "1                        False                       False   \n",
       "2                         True                        True   \n",
       "3                         True                       False   \n",
       "4                         True                        True   \n",
       "..                         ...                         ...   \n",
       "88                       False                       False   \n",
       "89                       False                       False   \n",
       "90                       False                       False   \n",
       "91                       False                        True   \n",
       "92                       False                       False   \n",
       "\n",
       "    config/image_augmentation_2  config/image_augmentation_3  \\\n",
       "0                         False                         True   \n",
       "1                          True                         True   \n",
       "2                         False                        False   \n",
       "3                         False                        False   \n",
       "4                         False                         True   \n",
       "..                          ...                          ...   \n",
       "88                        False                        False   \n",
       "89                        False                        False   \n",
       "90                        False                        False   \n",
       "91                        False                        False   \n",
       "92                        False                        False   \n",
       "\n",
       "    config/image_augmentation_4  config/geometric_augmentation_0  \\\n",
       "0                          True                             True   \n",
       "1                         False                            False   \n",
       "2                         False                            False   \n",
       "3                          True                             True   \n",
       "4                         False                            False   \n",
       "..                          ...                              ...   \n",
       "88                        False                            False   \n",
       "89                        False                            False   \n",
       "90                        False                            False   \n",
       "91                        False                            False   \n",
       "92                        False                            False   \n",
       "\n",
       "    config/geometric_augmentation_1  config/geometric_augmentation_2  \\\n",
       "0                              True                             True   \n",
       "1                             False                            False   \n",
       "2                             False                            False   \n",
       "3                              True                            False   \n",
       "4                              True                            False   \n",
       "..                              ...                              ...   \n",
       "88                            False                             True   \n",
       "89                            False                             True   \n",
       "90                            False                             True   \n",
       "91                            False                             True   \n",
       "92                            False                             True   \n",
       "\n",
       "    config/geometric_augmentation_3    logdir  \n",
       "0                             False  e004fe47  \n",
       "1                             False  e9fd4845  \n",
       "2                              True  9bd97c24  \n",
       "3                              True  e7aad824  \n",
       "4                              True  a353330f  \n",
       "..                              ...       ...  \n",
       "88                            False  49d8215d  \n",
       "89                            False  d704af5a  \n",
       "90                            False  3bd1864b  \n",
       "91                            False  3547f87b  \n",
       "92                            False  e73b3a82  \n",
       "\n",
       "[93 rows x 24 columns]"
      ]
     },
     "execution_count": 36,
     "metadata": {},
     "output_type": "execute_result"
    }
   ],
   "source": [
    "df = results.get_dataframe()\n",
    "df"
   ]
  },
  {
   "cell_type": "code",
   "execution_count": 37,
   "metadata": {},
   "outputs": [
    {
     "data": {
      "text/plain": [
       "({'image_augmentation_0': False,\n",
       "  'image_augmentation_1': False,\n",
       "  'image_augmentation_2': False,\n",
       "  'image_augmentation_3': False,\n",
       "  'image_augmentation_4': False,\n",
       "  'geometric_augmentation_0': False,\n",
       "  'geometric_augmentation_1': False,\n",
       "  'geometric_augmentation_2': True,\n",
       "  'geometric_augmentation_3': False},\n",
       " Result(\n",
       "   metrics={'_metric': 0.15265197645534168},\n",
       "   path='/home/g_thomas/ray_results/trial_2023-12-19_10-00-41/trial_86ec7650_86_geometric_augmentation_0=False,geometric_augmentation_1=False,geometric_augmentation_2=True,geometric_augmentati_2023-12-21_06-33-48',\n",
       "   filesystem='local',\n",
       "   checkpoint=None\n",
       " ))"
      ]
     },
     "execution_count": 37,
     "metadata": {},
     "output_type": "execute_result"
    }
   ],
   "source": [
    "best = df.iloc[df[\"_metric\"].argmin()]\n",
    "\n",
    "results.get_best_result().config, results.get_best_result()"
   ]
  },
  {
   "cell_type": "code",
   "execution_count": 38,
   "metadata": {},
   "outputs": [
    {
     "data": {
      "image/png": "[encoded data removed]",
      "text/plain": [
       "<Figure size 2500x500 with 5 Axes>"
      ]
     },
     "metadata": {},
     "output_type": "display_data"
    },
    {
     "data": {
      "image/png": "[encoded data removed]",
      "text/plain": [
       "<Figure size 2000x500 with 4 Axes>"
      ]
     },
     "metadata": {},
     "output_type": "display_data"
    }
   ],
   "source": [
    "plot_trials_multiple_choice(df, \"config/image_augmentation\", \"_metric\")\n",
    "plot_trials_multiple_choice(df, \"config/geometric_augmentation\", \"_metric\")"
   ]
  }
 ],
 "metadata": {
  "kernelspec": {
   "display_name": "traversability-analysis-FVBHScUm-py3.9",
   "language": "python",
   "name": "python3"
  },
  "language_info": {
   "codemirror_mode": {
    "name": "ipython",
    "version": 3
   },
   "file_extension": ".py",
   "mimetype": "text/x-python",
   "name": "python",
   "nbconvert_exporter": "python",
   "pygments_lexer": "ipython3",
   "version": "3.9.5"
  }
 },
 "nbformat": 4,
 "nbformat_minor": 2
}
