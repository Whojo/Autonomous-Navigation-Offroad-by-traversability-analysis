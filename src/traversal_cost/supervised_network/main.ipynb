{
 "cells": [
  {
   "cell_type": "code",
   "execution_count": 1,
   "metadata": {},
   "outputs": [],
   "source": [
    "# Import libraries\n",
    "import torch\n",
    "import torch.nn as nn\n",
    "from torch import optim\n",
    "from torch.utils.data import DataLoader, Dataset, Subset\n",
    "import torch.nn.functional as F\n",
    "\n",
    "# A module to print a model summary (outputs shape, number of parameters, ...)\n",
    "import torchsummary\n",
    "\n",
    "# Tensorboard for visualization\n",
    "from torch.utils.tensorboard import SummaryWriter\n",
    "\n",
    "from tqdm import tqdm\n",
    "\n",
    "import pandas as pd\n",
    "import numpy as np\n",
    "import os\n",
    "import matplotlib.pyplot as plt\n",
    "from sklearn.model_selection import train_test_split\n",
    "\n",
    "\n",
    "# Custom modules and packages\n",
    "import params.supervised_learning\n",
    "import utils_supervised\n",
    "import traversalcost.utils\n",
    "from dataset import SupervisedNetworkDataset\n",
    "from model import SupervisedNetwork \n",
    "from loss import SupervisedLoss \n",
    "from train import train\n",
    "from validate import validate\n",
    "from test import test_supervised"
   ]
  },
  {
   "attachments": {},
   "cell_type": "markdown",
   "metadata": {},
   "source": [
    "## Prepare data"
   ]
  },
  {
   "cell_type": "code",
   "execution_count": 2,
   "metadata": {},
   "outputs": [
    {
     "name": "stdout",
     "output_type": "stream",
     "text": [
      "/home/g_thomas/Documents/PRE/src/traversal_cost/datasets/dataset_supervised\n",
      "15\n",
      "1\n",
      "0.0022\n",
      "7.41e-07\n",
      "Help on function compute_traversal_costs in module utils_supervised:\n",
      "\n",
      "compute_traversal_costs(dataset, cost_function, only_test, to_tensor=False)\n",
      "    Compute the traversal cost of each sample in a dataset\n",
      "    \n",
      "    Args:\n",
      "        dataset (string): Path to the dataset\n",
      "        cost_function (function): Function used to compute the cost of a\n",
      "        sample\n",
      "        to_tensor (bool, optional): If True, convert the cost to a tensor.\n",
      "        Defaults to False.\n",
      "    \n",
      "    Returns:\n",
      "        dataframe: A dataframe containing the terrain classes, the linear\n",
      "        velocities of the robot and the traversal costs\n",
      "\n"
     ]
    }
   ],
   "source": [
    "print(params.supervised_learning.DATASET)\n",
    "print(params.supervised_learning.NB_EPOCHS)\n",
    "print(params.supervised_learning.BATCH_SIZE)\n",
    "print(params.supervised_learning.LEARNING_RATE)\n",
    "print(params.supervised_learning.WEIGHT_DECAY)\n",
    "\n",
    "help(utils_supervised.compute_traversal_costs)"
   ]
  },
  {
   "cell_type": "code",
   "execution_count": 4,
   "metadata": {},
   "outputs": [],
   "source": [
    "# Create a Dataset for training\n",
    "train_set = SupervisedNetworkDataset(params.supervised_learning.DATASET / \"traversal_costs_train.csv\",\n",
    "                                params.supervised_learning.DATASET / \"features\")\n",
    "\n",
    "        \n",
    "# Create a Dataset for testing\n",
    "test_set = SupervisedNetworkDataset(params.supervised_learning.DATASET / \"traversal_costs_test.csv\",\n",
    "                                params.supervised_learning.DATASET / \"features\")"
   ]
  },
  {
   "cell_type": "code",
   "execution_count": 5,
   "metadata": {},
   "outputs": [],
   "source": [
    "# Combine a dataset and a sampler, and provide an iterable over the dataset\n",
    "# (setting shuffle argument to True calls a RandomSampler, and avoids to\n",
    "# have to create a Sampler object)\n",
    "\n",
    "train_loader = DataLoader(\n",
    "    train_set,\n",
    "    batch_size= params.supervised_learning.BATCH_SIZE,\n",
    "    shuffle=True,\n",
    "    num_workers=12,  # Asynchronous data loading and augmentation\n",
    "    pin_memory=True,  # Increase the transferring speed of the data to the GPU\n",
    ")\n",
    "\n",
    "test_loader = DataLoader(\n",
    "    test_set,\n",
    "    batch_size= params.supervised_learning.BATCH_SIZE,\n",
    "    shuffle=True,\n",
    "    num_workers=12,  # Asynchronous data loading and augmentation\n",
    "    pin_memory=True,  # Increase the transferring speed of the data to the GPU\n",
    ")"
   ]
  },
  {
   "attachments": {},
   "cell_type": "markdown",
   "metadata": {},
   "source": [
    "## GPU ?"
   ]
  },
  {
   "cell_type": "code",
   "execution_count": 6,
   "metadata": {},
   "outputs": [
    {
     "name": "stdout",
     "output_type": "stream",
     "text": [
      "Device: cuda\n",
      "\n"
     ]
    }
   ],
   "source": [
    "# Use a GPU if available\n",
    "# device = \"cpu\"\n",
    "device = \"cuda\" if torch.cuda.is_available() else \"cpu\"\n",
    "print(f\"Device: {device}\\n\")"
   ]
  },
  {
   "cell_type": "code",
   "execution_count": 7,
   "metadata": {},
   "outputs": [],
   "source": [
    "# Create a model\n",
    "model = SupervisedNetwork().to(device=device)\n",
    "\n",
    "criterion = SupervisedLoss().to(device=device)"
   ]
  },
  {
   "cell_type": "code",
   "execution_count": 8,
   "metadata": {},
   "outputs": [
    {
     "data": {
      "application/vnd.jupyter.widget-view+json": {
       "model_id": "55cb85fee9c54ce69dfaebd8332282b9",
       "version_major": 2,
       "version_minor": 0
      },
      "text/plain": [
       "  0%|          | 0/816 [00:00<?, ?batch/s]"
      ]
     },
     "metadata": {},
     "output_type": "display_data"
    },
    {
     "name": "stderr",
     "output_type": "stream",
     "text": [
      "/home/g_thomas/Documents/PRE/src/traversal_cost/supervised_network/loss.py:21: UserWarning: Using a target size (torch.Size([1])) that is different to the input size (torch.Size([1, 1])). This will likely lead to incorrect results due to broadcasting. Please ensure they have the same size.\n",
      "  loss = F.mse_loss(estimated_cost, real_cost)\n"
     ]
    },
    {
     "data": {
      "application/vnd.jupyter.widget-view+json": {
       "model_id": "44cffe618a0a4fe495b4b37449ea6c0d",
       "version_major": 2,
       "version_minor": 0
      },
      "text/plain": [
       "  0%|          | 0/144 [00:00<?, ?batch/s]"
      ]
     },
     "metadata": {},
     "output_type": "display_data"
    },
    {
     "name": "stdout",
     "output_type": "stream",
     "text": [
      "Train loss:  57.0586765099536\n",
      "Validation loss:  57.51194442104962\n"
     ]
    },
    {
     "data": {
      "application/vnd.jupyter.widget-view+json": {
       "model_id": "06a54fca3a7441ee995a08fb9ecbac51",
       "version_major": 2,
       "version_minor": 0
      },
      "text/plain": [
       "  0%|          | 0/816 [00:00<?, ?batch/s]"
      ]
     },
     "metadata": {},
     "output_type": "display_data"
    },
    {
     "data": {
      "application/vnd.jupyter.widget-view+json": {
       "model_id": "90bd4ba581204fa58348c876f712edbb",
       "version_major": 2,
       "version_minor": 0
      },
      "text/plain": [
       "  0%|          | 0/144 [00:00<?, ?batch/s]"
      ]
     },
     "metadata": {},
     "output_type": "display_data"
    },
    {
     "name": "stdout",
     "output_type": "stream",
     "text": [
      "Train loss:  57.0586765099536\n",
      "Validation loss:  57.51194442104962\n"
     ]
    },
    {
     "data": {
      "application/vnd.jupyter.widget-view+json": {
       "model_id": "24b729fb4b3a47c8bff5c4ab7d85e081",
       "version_major": 2,
       "version_minor": 0
      },
      "text/plain": [
       "  0%|          | 0/816 [00:00<?, ?batch/s]"
      ]
     },
     "metadata": {},
     "output_type": "display_data"
    },
    {
     "data": {
      "application/vnd.jupyter.widget-view+json": {
       "model_id": "f7ff6cbdb810430fa71fdde58cb81fc2",
       "version_major": 2,
       "version_minor": 0
      },
      "text/plain": [
       "  0%|          | 0/144 [00:00<?, ?batch/s]"
      ]
     },
     "metadata": {},
     "output_type": "display_data"
    },
    {
     "name": "stdout",
     "output_type": "stream",
     "text": [
      "Train loss:  57.0586765099536\n",
      "Validation loss:  57.51194442104962\n"
     ]
    },
    {
     "data": {
      "application/vnd.jupyter.widget-view+json": {
       "model_id": "ababfe08ef62421ebb6d66488f92eea7",
       "version_major": 2,
       "version_minor": 0
      },
      "text/plain": [
       "  0%|          | 0/816 [00:00<?, ?batch/s]"
      ]
     },
     "metadata": {},
     "output_type": "display_data"
    },
    {
     "data": {
      "application/vnd.jupyter.widget-view+json": {
       "model_id": "71dc24e89c204670a485b165a0656df3",
       "version_major": 2,
       "version_minor": 0
      },
      "text/plain": [
       "  0%|          | 0/144 [00:00<?, ?batch/s]"
      ]
     },
     "metadata": {},
     "output_type": "display_data"
    },
    {
     "name": "stdout",
     "output_type": "stream",
     "text": [
      "Train loss:  57.0586765099536\n",
      "Validation loss:  57.51194442104962\n"
     ]
    },
    {
     "data": {
      "application/vnd.jupyter.widget-view+json": {
       "model_id": "f17daea7cd174d99ab3b461c53cdbb8e",
       "version_major": 2,
       "version_minor": 0
      },
      "text/plain": [
       "  0%|          | 0/816 [00:00<?, ?batch/s]"
      ]
     },
     "metadata": {},
     "output_type": "display_data"
    },
    {
     "data": {
      "application/vnd.jupyter.widget-view+json": {
       "model_id": "da0ecdf7d06b4790a98de2a3e770ec75",
       "version_major": 2,
       "version_minor": 0
      },
      "text/plain": [
       "  0%|          | 0/144 [00:00<?, ?batch/s]"
      ]
     },
     "metadata": {},
     "output_type": "display_data"
    },
    {
     "name": "stdout",
     "output_type": "stream",
     "text": [
      "Train loss:  57.0586765099536\n",
      "Validation loss:  57.51194442104962\n"
     ]
    },
    {
     "data": {
      "application/vnd.jupyter.widget-view+json": {
       "model_id": "17dacfa8f04c410c815279fbfb6e39fc",
       "version_major": 2,
       "version_minor": 0
      },
      "text/plain": [
       "  0%|          | 0/816 [00:00<?, ?batch/s]"
      ]
     },
     "metadata": {},
     "output_type": "display_data"
    },
    {
     "data": {
      "application/vnd.jupyter.widget-view+json": {
       "model_id": "3ec2a9ef08d24d2ca4d9b934b08bbb77",
       "version_major": 2,
       "version_minor": 0
      },
      "text/plain": [
       "  0%|          | 0/144 [00:00<?, ?batch/s]"
      ]
     },
     "metadata": {},
     "output_type": "display_data"
    },
    {
     "name": "stdout",
     "output_type": "stream",
     "text": [
      "Train loss:  57.0586765099536\n",
      "Validation loss:  57.51194442104962\n"
     ]
    },
    {
     "data": {
      "application/vnd.jupyter.widget-view+json": {
       "model_id": "a65606c998d34d23b9f0c29af7d5d098",
       "version_major": 2,
       "version_minor": 0
      },
      "text/plain": [
       "  0%|          | 0/816 [00:00<?, ?batch/s]"
      ]
     },
     "metadata": {},
     "output_type": "display_data"
    },
    {
     "data": {
      "application/vnd.jupyter.widget-view+json": {
       "model_id": "19342665067e48f09e8f230d8f94349b",
       "version_major": 2,
       "version_minor": 0
      },
      "text/plain": [
       "  0%|          | 0/144 [00:00<?, ?batch/s]"
      ]
     },
     "metadata": {},
     "output_type": "display_data"
    },
    {
     "name": "stdout",
     "output_type": "stream",
     "text": [
      "Train loss:  57.0586765099536\n",
      "Validation loss:  57.51194442104962\n"
     ]
    },
    {
     "data": {
      "application/vnd.jupyter.widget-view+json": {
       "model_id": "e23a86ea0fa748a38abf6bfbb5e117e5",
       "version_major": 2,
       "version_minor": 0
      },
      "text/plain": [
       "  0%|          | 0/816 [00:00<?, ?batch/s]"
      ]
     },
     "metadata": {},
     "output_type": "display_data"
    },
    {
     "data": {
      "application/vnd.jupyter.widget-view+json": {
       "model_id": "1c48b3086a5445ba9e38c3c05ddc2181",
       "version_major": 2,
       "version_minor": 0
      },
      "text/plain": [
       "  0%|          | 0/144 [00:00<?, ?batch/s]"
      ]
     },
     "metadata": {},
     "output_type": "display_data"
    },
    {
     "name": "stdout",
     "output_type": "stream",
     "text": [
      "Train loss:  57.0586765099536\n",
      "Validation loss:  57.51194442104962\n"
     ]
    },
    {
     "data": {
      "application/vnd.jupyter.widget-view+json": {
       "model_id": "d7a38454de124f0c95cda1a16758fd53",
       "version_major": 2,
       "version_minor": 0
      },
      "text/plain": [
       "  0%|          | 0/816 [00:00<?, ?batch/s]"
      ]
     },
     "metadata": {},
     "output_type": "display_data"
    },
    {
     "ename": "KeyboardInterrupt",
     "evalue": "",
     "output_type": "error",
     "traceback": [
      "\u001b[0;31m---------------------------------------------------------------------------\u001b[0m",
      "\u001b[0;31mKeyboardInterrupt\u001b[0m                         Traceback (most recent call last)",
      "\u001b[1;32m/home/g_thomas/Documents/PRE/src/traversal_cost/supervised_network/main.ipynb Cell 9\u001b[0m line \u001b[0;36m1\n\u001b[1;32m     <a href='vscode-notebook-cell:/home/g_thomas/Documents/PRE/src/traversal_cost/supervised_network/main.ipynb#X11sZmlsZQ%3D%3D?line=10'>11</a>\u001b[0m \u001b[39m# Loop over the epochs\u001b[39;00m\n\u001b[1;32m     <a href='vscode-notebook-cell:/home/g_thomas/Documents/PRE/src/traversal_cost/supervised_network/main.ipynb#X11sZmlsZQ%3D%3D?line=12'>13</a>\u001b[0m \u001b[39mfor\u001b[39;00m epoch \u001b[39min\u001b[39;00m \u001b[39mrange\u001b[39m(params\u001b[39m.\u001b[39msupervised_learning\u001b[39m.\u001b[39mNB_EPOCHS):\n\u001b[1;32m     <a href='vscode-notebook-cell:/home/g_thomas/Documents/PRE/src/traversal_cost/supervised_network/main.ipynb#X11sZmlsZQ%3D%3D?line=13'>14</a>\u001b[0m     \n\u001b[1;32m     <a href='vscode-notebook-cell:/home/g_thomas/Documents/PRE/src/traversal_cost/supervised_network/main.ipynb#X11sZmlsZQ%3D%3D?line=14'>15</a>\u001b[0m     \u001b[39m# Training\u001b[39;00m\n\u001b[0;32m---> <a href='vscode-notebook-cell:/home/g_thomas/Documents/PRE/src/traversal_cost/supervised_network/main.ipynb#X11sZmlsZQ%3D%3D?line=15'>16</a>\u001b[0m     train_loss \u001b[39m=\u001b[39m train(model,\n\u001b[1;32m     <a href='vscode-notebook-cell:/home/g_thomas/Documents/PRE/src/traversal_cost/supervised_network/main.ipynb#X11sZmlsZQ%3D%3D?line=16'>17</a>\u001b[0m                        device,\n\u001b[1;32m     <a href='vscode-notebook-cell:/home/g_thomas/Documents/PRE/src/traversal_cost/supervised_network/main.ipynb#X11sZmlsZQ%3D%3D?line=17'>18</a>\u001b[0m                        train_loader,\n\u001b[1;32m     <a href='vscode-notebook-cell:/home/g_thomas/Documents/PRE/src/traversal_cost/supervised_network/main.ipynb#X11sZmlsZQ%3D%3D?line=18'>19</a>\u001b[0m                        optimizer,\n\u001b[1;32m     <a href='vscode-notebook-cell:/home/g_thomas/Documents/PRE/src/traversal_cost/supervised_network/main.ipynb#X11sZmlsZQ%3D%3D?line=19'>20</a>\u001b[0m                        criterion,\n\u001b[1;32m     <a href='vscode-notebook-cell:/home/g_thomas/Documents/PRE/src/traversal_cost/supervised_network/main.ipynb#X11sZmlsZQ%3D%3D?line=20'>21</a>\u001b[0m                        epoch)\n\u001b[1;32m     <a href='vscode-notebook-cell:/home/g_thomas/Documents/PRE/src/traversal_cost/supervised_network/main.ipynb#X11sZmlsZQ%3D%3D?line=22'>23</a>\u001b[0m     \u001b[39m# Validation\u001b[39;00m\n\u001b[1;32m     <a href='vscode-notebook-cell:/home/g_thomas/Documents/PRE/src/traversal_cost/supervised_network/main.ipynb#X11sZmlsZQ%3D%3D?line=23'>24</a>\u001b[0m     val_loss \u001b[39m=\u001b[39m validate(model,\n\u001b[1;32m     <a href='vscode-notebook-cell:/home/g_thomas/Documents/PRE/src/traversal_cost/supervised_network/main.ipynb#X11sZmlsZQ%3D%3D?line=24'>25</a>\u001b[0m                         device,\n\u001b[1;32m     <a href='vscode-notebook-cell:/home/g_thomas/Documents/PRE/src/traversal_cost/supervised_network/main.ipynb#X11sZmlsZQ%3D%3D?line=25'>26</a>\u001b[0m                         test_loader,\n\u001b[1;32m     <a href='vscode-notebook-cell:/home/g_thomas/Documents/PRE/src/traversal_cost/supervised_network/main.ipynb#X11sZmlsZQ%3D%3D?line=26'>27</a>\u001b[0m                         criterion,\n\u001b[1;32m     <a href='vscode-notebook-cell:/home/g_thomas/Documents/PRE/src/traversal_cost/supervised_network/main.ipynb#X11sZmlsZQ%3D%3D?line=27'>28</a>\u001b[0m                         epoch) \n",
      "File \u001b[0;32m~/Documents/PRE/src/traversal_cost/supervised_network/train.py:50\u001b[0m, in \u001b[0;36mtrain\u001b[0;34m(model, device, train_loader, optimizer, criterion, epoch)\u001b[0m\n\u001b[1;32m     47\u001b[0m optimizer\u001b[39m.\u001b[39mzero_grad()\n\u001b[1;32m     49\u001b[0m \u001b[39m# Perform forward pass\u001b[39;00m\n\u001b[0;32m---> 50\u001b[0m predicted_costs \u001b[39m=\u001b[39m model(feature)\n\u001b[1;32m     52\u001b[0m \u001b[39m# Compute loss \u001b[39;00m\n\u001b[1;32m     53\u001b[0m loss \u001b[39m=\u001b[39m criterion(predicted_costs,\n\u001b[1;32m     54\u001b[0m                  real_cost)\n",
      "File \u001b[0;32m~/.local/lib/python3.8/site-packages/torch/nn/modules/module.py:1501\u001b[0m, in \u001b[0;36mModule._call_impl\u001b[0;34m(self, *args, **kwargs)\u001b[0m\n\u001b[1;32m   1496\u001b[0m \u001b[39m# If we don't have any hooks, we want to skip the rest of the logic in\u001b[39;00m\n\u001b[1;32m   1497\u001b[0m \u001b[39m# this function, and just call forward.\u001b[39;00m\n\u001b[1;32m   1498\u001b[0m \u001b[39mif\u001b[39;00m \u001b[39mnot\u001b[39;00m (\u001b[39mself\u001b[39m\u001b[39m.\u001b[39m_backward_hooks \u001b[39mor\u001b[39;00m \u001b[39mself\u001b[39m\u001b[39m.\u001b[39m_backward_pre_hooks \u001b[39mor\u001b[39;00m \u001b[39mself\u001b[39m\u001b[39m.\u001b[39m_forward_hooks \u001b[39mor\u001b[39;00m \u001b[39mself\u001b[39m\u001b[39m.\u001b[39m_forward_pre_hooks\n\u001b[1;32m   1499\u001b[0m         \u001b[39mor\u001b[39;00m _global_backward_pre_hooks \u001b[39mor\u001b[39;00m _global_backward_hooks\n\u001b[1;32m   1500\u001b[0m         \u001b[39mor\u001b[39;00m _global_forward_hooks \u001b[39mor\u001b[39;00m _global_forward_pre_hooks):\n\u001b[0;32m-> 1501\u001b[0m     \u001b[39mreturn\u001b[39;00m forward_call(\u001b[39m*\u001b[39;49margs, \u001b[39m*\u001b[39;49m\u001b[39m*\u001b[39;49mkwargs)\n\u001b[1;32m   1502\u001b[0m \u001b[39m# Do not call functions when jit is used\u001b[39;00m\n\u001b[1;32m   1503\u001b[0m full_backward_hooks, non_full_backward_hooks \u001b[39m=\u001b[39m [], []\n",
      "File \u001b[0;32m~/Documents/PRE/src/traversal_cost/supervised_network/model.py:30\u001b[0m, in \u001b[0;36mSupervisedNetwork.forward\u001b[0;34m(self, x)\u001b[0m\n\u001b[1;32m     28\u001b[0m \u001b[39mdef\u001b[39;00m \u001b[39mforward\u001b[39m(\u001b[39mself\u001b[39m, x):\n\u001b[0;32m---> 30\u001b[0m     output \u001b[39m=\u001b[39m \u001b[39mself\u001b[39;49m\u001b[39m.\u001b[39;49mmlp(x)\n\u001b[1;32m     32\u001b[0m     \u001b[39mreturn\u001b[39;00m output\n",
      "File \u001b[0;32m~/.local/lib/python3.8/site-packages/torch/nn/modules/module.py:1501\u001b[0m, in \u001b[0;36mModule._call_impl\u001b[0;34m(self, *args, **kwargs)\u001b[0m\n\u001b[1;32m   1496\u001b[0m \u001b[39m# If we don't have any hooks, we want to skip the rest of the logic in\u001b[39;00m\n\u001b[1;32m   1497\u001b[0m \u001b[39m# this function, and just call forward.\u001b[39;00m\n\u001b[1;32m   1498\u001b[0m \u001b[39mif\u001b[39;00m \u001b[39mnot\u001b[39;00m (\u001b[39mself\u001b[39m\u001b[39m.\u001b[39m_backward_hooks \u001b[39mor\u001b[39;00m \u001b[39mself\u001b[39m\u001b[39m.\u001b[39m_backward_pre_hooks \u001b[39mor\u001b[39;00m \u001b[39mself\u001b[39m\u001b[39m.\u001b[39m_forward_hooks \u001b[39mor\u001b[39;00m \u001b[39mself\u001b[39m\u001b[39m.\u001b[39m_forward_pre_hooks\n\u001b[1;32m   1499\u001b[0m         \u001b[39mor\u001b[39;00m _global_backward_pre_hooks \u001b[39mor\u001b[39;00m _global_backward_hooks\n\u001b[1;32m   1500\u001b[0m         \u001b[39mor\u001b[39;00m _global_forward_hooks \u001b[39mor\u001b[39;00m _global_forward_pre_hooks):\n\u001b[0;32m-> 1501\u001b[0m     \u001b[39mreturn\u001b[39;00m forward_call(\u001b[39m*\u001b[39;49margs, \u001b[39m*\u001b[39;49m\u001b[39m*\u001b[39;49mkwargs)\n\u001b[1;32m   1502\u001b[0m \u001b[39m# Do not call functions when jit is used\u001b[39;00m\n\u001b[1;32m   1503\u001b[0m full_backward_hooks, non_full_backward_hooks \u001b[39m=\u001b[39m [], []\n",
      "File \u001b[0;32m~/.local/lib/python3.8/site-packages/torch/nn/modules/container.py:217\u001b[0m, in \u001b[0;36mSequential.forward\u001b[0;34m(self, input)\u001b[0m\n\u001b[1;32m    215\u001b[0m \u001b[39mdef\u001b[39;00m \u001b[39mforward\u001b[39m(\u001b[39mself\u001b[39m, \u001b[39minput\u001b[39m):\n\u001b[1;32m    216\u001b[0m     \u001b[39mfor\u001b[39;00m module \u001b[39min\u001b[39;00m \u001b[39mself\u001b[39m:\n\u001b[0;32m--> 217\u001b[0m         \u001b[39minput\u001b[39m \u001b[39m=\u001b[39m module(\u001b[39minput\u001b[39;49m)\n\u001b[1;32m    218\u001b[0m     \u001b[39mreturn\u001b[39;00m \u001b[39minput\u001b[39m\n",
      "File \u001b[0;32m~/.local/lib/python3.8/site-packages/torch/nn/modules/module.py:1501\u001b[0m, in \u001b[0;36mModule._call_impl\u001b[0;34m(self, *args, **kwargs)\u001b[0m\n\u001b[1;32m   1496\u001b[0m \u001b[39m# If we don't have any hooks, we want to skip the rest of the logic in\u001b[39;00m\n\u001b[1;32m   1497\u001b[0m \u001b[39m# this function, and just call forward.\u001b[39;00m\n\u001b[1;32m   1498\u001b[0m \u001b[39mif\u001b[39;00m \u001b[39mnot\u001b[39;00m (\u001b[39mself\u001b[39m\u001b[39m.\u001b[39m_backward_hooks \u001b[39mor\u001b[39;00m \u001b[39mself\u001b[39m\u001b[39m.\u001b[39m_backward_pre_hooks \u001b[39mor\u001b[39;00m \u001b[39mself\u001b[39m\u001b[39m.\u001b[39m_forward_hooks \u001b[39mor\u001b[39;00m \u001b[39mself\u001b[39m\u001b[39m.\u001b[39m_forward_pre_hooks\n\u001b[1;32m   1499\u001b[0m         \u001b[39mor\u001b[39;00m _global_backward_pre_hooks \u001b[39mor\u001b[39;00m _global_backward_hooks\n\u001b[1;32m   1500\u001b[0m         \u001b[39mor\u001b[39;00m _global_forward_hooks \u001b[39mor\u001b[39;00m _global_forward_pre_hooks):\n\u001b[0;32m-> 1501\u001b[0m     \u001b[39mreturn\u001b[39;00m forward_call(\u001b[39m*\u001b[39;49margs, \u001b[39m*\u001b[39;49m\u001b[39m*\u001b[39;49mkwargs)\n\u001b[1;32m   1502\u001b[0m \u001b[39m# Do not call functions when jit is used\u001b[39;00m\n\u001b[1;32m   1503\u001b[0m full_backward_hooks, non_full_backward_hooks \u001b[39m=\u001b[39m [], []\n",
      "File \u001b[0;32m~/.local/lib/python3.8/site-packages/torch/nn/modules/linear.py:114\u001b[0m, in \u001b[0;36mLinear.forward\u001b[0;34m(self, input)\u001b[0m\n\u001b[1;32m    113\u001b[0m \u001b[39mdef\u001b[39;00m \u001b[39mforward\u001b[39m(\u001b[39mself\u001b[39m, \u001b[39minput\u001b[39m: Tensor) \u001b[39m-\u001b[39m\u001b[39m>\u001b[39m Tensor:\n\u001b[0;32m--> 114\u001b[0m     \u001b[39mreturn\u001b[39;00m F\u001b[39m.\u001b[39mlinear(\u001b[39minput\u001b[39m, \u001b[39mself\u001b[39m\u001b[39m.\u001b[39mweight, \u001b[39mself\u001b[39;49m\u001b[39m.\u001b[39;49mbias)\n",
      "\u001b[0;31mKeyboardInterrupt\u001b[0m: "
     ]
    }
   ],
   "source": [
    "#Creating list for plot afterwards\n",
    "\n",
    "List_train_loss_value = []\n",
    "List_test_loss_value = []\n",
    "\n",
    "optimizer = optim.SGD(model.parameters(),\n",
    "                      lr=params.supervised_learning.LEARNING_RATE,\n",
    "                      momentum=params.supervised_learning.MOMENTUM,\n",
    "                      weight_decay=params.supervised_learning.WEIGHT_DECAY)\n",
    "\n",
    "# Loop over the epochs\n",
    "\n",
    "for epoch in range(params.supervised_learning.NB_EPOCHS):\n",
    "    \n",
    "    # Training\n",
    "    train_loss = train(model,\n",
    "                       device,\n",
    "                       train_loader,\n",
    "                       optimizer,\n",
    "                       criterion,\n",
    "                       epoch)\n",
    "    \n",
    "    # Validation\n",
    "    val_loss = validate(model,\n",
    "                        device,\n",
    "                        test_loader,\n",
    "                        criterion,\n",
    "                        epoch) \n",
    "    \n",
    "    print(\"Train loss: \", train_loss)\n",
    "    print(\"Validation loss: \", val_loss)\n",
    "    \n",
    "    # Store the computed losses\n",
    "    List_train_loss_value.append(train_loss)\n",
    "    List_test_loss_value.append(val_loss)\n",
    "    "
   ]
  },
  {
   "attachments": {},
   "cell_type": "markdown",
   "metadata": {},
   "source": [
    "## Visualization "
   ]
  },
  {
   "cell_type": "code",
   "execution_count": 8,
   "metadata": {},
   "outputs": [
    {
     "data": {
      "text/plain": [
       "<matplotlib.legend.Legend at 0x7fb5edd98e20>"
      ]
     },
     "execution_count": 8,
     "metadata": {},
     "output_type": "execute_result"
    },
    {
     "data": {
      "image/png": "[encoded data removed]",
      "text/plain": [
       "<Figure size 432x288 with 1 Axes>"
      ]
     },
     "metadata": {
      "needs_background": "light"
     },
     "output_type": "display_data"
    }
   ],
   "source": [
    "plt.plot(range(params.supervised_learning.NB_EPOCHS), List_train_loss_value, \"b\", label=\"train loss\")\n",
    "\n",
    "plt.plot(range(params.supervised_learning.NB_EPOCHS), List_test_loss_value, \"r\", label=\"validation loss\")\n",
    "\n",
    "plt.xlabel(\"Epoch\")\n",
    "plt.legend()"
   ]
  },
  {
   "attachments": {},
   "cell_type": "markdown",
   "metadata": {},
   "source": [
    "## Testing"
   ]
  },
  {
   "cell_type": "code",
   "execution_count": 9,
   "metadata": {},
   "outputs": [
    {
     "name": "stdout",
     "output_type": "stream",
     "text": [
      "Test loss:  2.658619860187173\n"
     ]
    }
   ],
   "source": [
    "# Test the model\n",
    "test_loss = test_supervised(model,\n",
    "                 device,\n",
    "                 test_loader,\n",
    "                 criterion)\n",
    "\n",
    "print(\"Test loss: \", test_loss)"
   ]
  },
  {
   "cell_type": "code",
   "execution_count": 36,
   "metadata": {},
   "outputs": [],
   "source": [
    "def compute_traversal_costs(dataset,\n",
    "                            cost_function,\n",
    "                            only_test,\n",
    "                            to_tensor=False\n",
    "                            ):\n",
    "    \"\"\"Compute the traversal cost of each sample in a dataset\n",
    "\n",
    "    Args:\n",
    "        dataset (string): Path to the dataset\n",
    "        cost_function (function): Function used to compute the cost of a\n",
    "        sample\n",
    "        to_tensor (bool, optional): If True, convert the cost to a tensor.\n",
    "        Defaults to False.\n",
    "\n",
    "    Returns:\n",
    "        dataframe: A dataframe containing the terrain classes, the linear\n",
    "        velocities of the robot and the traversal costs\n",
    "    \"\"\"    \n",
    "    # Read the csv file containing the labels\n",
    "    \n",
    "    if only_test == False :\n",
    "        \n",
    "        print(f\"not only test ok !\")\n",
    "\n",
    "        labels_df = pd.read_csv(dataset + \"labels.csv\",\n",
    "                            converters={\"id\": str})\n",
    "    \n",
    "        # Add an empty column to the dataframe\n",
    "        labels_df[\"cost\"] = \"\"\n",
    "    \n",
    "        for i in range(len(labels_df.index)):\n",
    "            # Get the id of the current sample\n",
    "            id = labels_df[\"id\"][i]\n",
    "            \n",
    "            # Load the features of the current sample\n",
    "            features = np.load(dataset + \"features/\" + str(id) + \".npy\")\n",
    "            \n",
    "            # Convert the features to a tensor if required\n",
    "            if to_tensor:\n",
    "                features = torch.from_numpy(features).float()\n",
    "            \n",
    "            # Compute the cost of the current sample\n",
    "            cost = cost_function(features)\n",
    "            \n",
    "            # Convert the cost to a float if required\n",
    "            if to_tensor:\n",
    "                cost = cost.item()\n",
    "            \n",
    "            # Store the cost in the dataframe\n",
    "            labels_df.at[i, \"cost\"] = cost\n",
    "        \n",
    "    if only_test == True :\n",
    "        \n",
    "        print(f\"only test ok !\")\n",
    "        \n",
    "        labels_df = pd.read_csv(dataset + \"labels.csv\",\n",
    "                            converters={\"id\": str})\n",
    "        \n",
    "        test_data_labels_df =  pd.read_csv(dataset + \"traversalcosts_test.csv\",\n",
    "                            converters={\"id\": str})\n",
    "        \n",
    "        \n",
    "        # Add an empty column to the dataframe\n",
    "        labels_df[\"cost\"] = \"\"\n",
    "        \n",
    "        print(test_data_labels_df)\n",
    "        \n",
    "        for i in range(len(test_data_labels_df.index)):\n",
    "            # Get the id of the current sample\n",
    "            id = test_data_labels_df[\"id\"][i]\n",
    "            \n",
    "            # Load the features of the current sample\n",
    "            features = np.load(dataset + \"features/\" + str(id) + \".npy\")\n",
    "            #print(f\"feature is {features}\")\n",
    "            \n",
    "            # Convert the features to a tensor if required\n",
    "            if to_tensor:\n",
    "                features = torch.from_numpy(features).float()\n",
    "            \n",
    "            # Compute the cost of the current sample\n",
    "            cost = cost_function(features)\n",
    "            \n",
    "            # Convert the cost to a float if required\n",
    "            if to_tensor:\n",
    "                cost = cost.item()\n",
    "            \n",
    "            # Store the cost in the dataframe\n",
    "            labels_df.at[i, \"predicted_cost\"] = cost\n",
    "        \n",
    "        labels_df = labels_df.dropna(axis=0)\n",
    "\n",
    "    # Extract the terrain classes, the linear velocities and the costs\n",
    "    costs_df = labels_df[[\"terrain_class\",\n",
    "                          \"linear_velocity\",\n",
    "                          \"predicted_cost\"]]\n",
    "    \n",
    "    return costs_df\n"
   ]
  },
  {
   "cell_type": "code",
   "execution_count": 37,
   "metadata": {},
   "outputs": [
    {
     "name": "stdout",
     "output_type": "stream",
     "text": [
      "only test ok !\n",
      "96\n"
     ]
    },
    {
     "ename": "KeyError",
     "evalue": "\"['terrain_class', 'linear_velocity'] not in index\"",
     "output_type": "error",
     "traceback": [
      "\u001b[0;31m---------------------------------------------------------------------------\u001b[0m",
      "\u001b[0;31mKeyError\u001b[0m                                  Traceback (most recent call last)",
      "Cell \u001b[0;32mIn[37], line 1\u001b[0m\n\u001b[0;32m----> 1\u001b[0m costs_df \u001b[39m=\u001b[39m compute_traversal_costs(dataset \u001b[39m=\u001b[39;49m params\u001b[39m.\u001b[39;49msupervised_learning\u001b[39m.\u001b[39;49mDATASET,\n\u001b[1;32m      2\u001b[0m                             cost_function\u001b[39m=\u001b[39;49mmodel\u001b[39m.\u001b[39;49mto(device\u001b[39m=\u001b[39;49m\u001b[39m\"\u001b[39;49m\u001b[39mcpu\u001b[39;49m\u001b[39m\"\u001b[39;49m),\n\u001b[1;32m      3\u001b[0m                             only_test \u001b[39m=\u001b[39;49m \u001b[39mTrue\u001b[39;49;00m,\n\u001b[1;32m      4\u001b[0m                             to_tensor\u001b[39m=\u001b[39;49m\u001b[39mTrue\u001b[39;49;00m\n\u001b[1;32m      5\u001b[0m )\n\u001b[1;32m      7\u001b[0m costs_df\n",
      "Cell \u001b[0;32mIn[36], line 91\u001b[0m, in \u001b[0;36mcompute_traversal_costs\u001b[0;34m(dataset, cost_function, only_test, to_tensor)\u001b[0m\n\u001b[1;32m     88\u001b[0m         test_data_labels_df\u001b[39m.\u001b[39mat[i, \u001b[39m\"\u001b[39m\u001b[39mpredicted_cost\u001b[39m\u001b[39m\"\u001b[39m] \u001b[39m=\u001b[39m cost\n\u001b[1;32m     90\u001b[0m \u001b[39m# Extract the terrain classes, the linear velocities and the costs\u001b[39;00m\n\u001b[0;32m---> 91\u001b[0m costs_df \u001b[39m=\u001b[39m test_data_labels_df[[\u001b[39m\"\u001b[39;49m\u001b[39mterrain_class\u001b[39;49m\u001b[39m\"\u001b[39;49m,\n\u001b[1;32m     92\u001b[0m                       \u001b[39m\"\u001b[39;49m\u001b[39mlinear_velocity\u001b[39;49m\u001b[39m\"\u001b[39;49m,\n\u001b[1;32m     93\u001b[0m                       \u001b[39m\"\u001b[39;49m\u001b[39mpredicted_cost\u001b[39;49m\u001b[39m\"\u001b[39;49m]]\n\u001b[1;32m     95\u001b[0m \u001b[39mreturn\u001b[39;00m costs_df\n",
      "File \u001b[0;32m~/miniconda3/lib/python3.9/site-packages/pandas/core/frame.py:3511\u001b[0m, in \u001b[0;36mDataFrame.__getitem__\u001b[0;34m(self, key)\u001b[0m\n\u001b[1;32m   3509\u001b[0m     \u001b[39mif\u001b[39;00m is_iterator(key):\n\u001b[1;32m   3510\u001b[0m         key \u001b[39m=\u001b[39m \u001b[39mlist\u001b[39m(key)\n\u001b[0;32m-> 3511\u001b[0m     indexer \u001b[39m=\u001b[39m \u001b[39mself\u001b[39;49m\u001b[39m.\u001b[39;49mcolumns\u001b[39m.\u001b[39;49m_get_indexer_strict(key, \u001b[39m\"\u001b[39;49m\u001b[39mcolumns\u001b[39;49m\u001b[39m\"\u001b[39;49m)[\u001b[39m1\u001b[39m]\n\u001b[1;32m   3513\u001b[0m \u001b[39m# take() does not accept boolean indexers\u001b[39;00m\n\u001b[1;32m   3514\u001b[0m \u001b[39mif\u001b[39;00m \u001b[39mgetattr\u001b[39m(indexer, \u001b[39m\"\u001b[39m\u001b[39mdtype\u001b[39m\u001b[39m\"\u001b[39m, \u001b[39mNone\u001b[39;00m) \u001b[39m==\u001b[39m \u001b[39mbool\u001b[39m:\n",
      "File \u001b[0;32m~/miniconda3/lib/python3.9/site-packages/pandas/core/indexes/base.py:5782\u001b[0m, in \u001b[0;36mIndex._get_indexer_strict\u001b[0;34m(self, key, axis_name)\u001b[0m\n\u001b[1;32m   5779\u001b[0m \u001b[39melse\u001b[39;00m:\n\u001b[1;32m   5780\u001b[0m     keyarr, indexer, new_indexer \u001b[39m=\u001b[39m \u001b[39mself\u001b[39m\u001b[39m.\u001b[39m_reindex_non_unique(keyarr)\n\u001b[0;32m-> 5782\u001b[0m \u001b[39mself\u001b[39;49m\u001b[39m.\u001b[39;49m_raise_if_missing(keyarr, indexer, axis_name)\n\u001b[1;32m   5784\u001b[0m keyarr \u001b[39m=\u001b[39m \u001b[39mself\u001b[39m\u001b[39m.\u001b[39mtake(indexer)\n\u001b[1;32m   5785\u001b[0m \u001b[39mif\u001b[39;00m \u001b[39misinstance\u001b[39m(key, Index):\n\u001b[1;32m   5786\u001b[0m     \u001b[39m# GH 42790 - Preserve name from an Index\u001b[39;00m\n",
      "File \u001b[0;32m~/miniconda3/lib/python3.9/site-packages/pandas/core/indexes/base.py:5845\u001b[0m, in \u001b[0;36mIndex._raise_if_missing\u001b[0;34m(self, key, indexer, axis_name)\u001b[0m\n\u001b[1;32m   5842\u001b[0m     \u001b[39mraise\u001b[39;00m \u001b[39mKeyError\u001b[39;00m(\u001b[39mf\u001b[39m\u001b[39m\"\u001b[39m\u001b[39mNone of [\u001b[39m\u001b[39m{\u001b[39;00mkey\u001b[39m}\u001b[39;00m\u001b[39m] are in the [\u001b[39m\u001b[39m{\u001b[39;00maxis_name\u001b[39m}\u001b[39;00m\u001b[39m]\u001b[39m\u001b[39m\"\u001b[39m)\n\u001b[1;32m   5844\u001b[0m not_found \u001b[39m=\u001b[39m \u001b[39mlist\u001b[39m(ensure_index(key)[missing_mask\u001b[39m.\u001b[39mnonzero()[\u001b[39m0\u001b[39m]]\u001b[39m.\u001b[39munique())\n\u001b[0;32m-> 5845\u001b[0m \u001b[39mraise\u001b[39;00m \u001b[39mKeyError\u001b[39;00m(\u001b[39mf\u001b[39m\u001b[39m\"\u001b[39m\u001b[39m{\u001b[39;00mnot_found\u001b[39m}\u001b[39;00m\u001b[39m not in index\u001b[39m\u001b[39m\"\u001b[39m)\n",
      "\u001b[0;31mKeyError\u001b[0m: \"['terrain_class', 'linear_velocity'] not in index\""
     ]
    }
   ],
   "source": [
    "costs_df = compute_traversal_costs(dataset = params.supervised_learning.DATASET,\n",
    "                            cost_function=model.to(device=\"cpu\"),\n",
    "                            only_test = True,\n",
    "                            to_tensor=True\n",
    ")\n",
    "\n",
    "costs_df"
   ]
  },
  {
   "cell_type": "code",
   "execution_count": 16,
   "metadata": {},
   "outputs": [],
   "source": [
    "def plot_theorical_cost(dictionnary, epoch):\n",
    "    \n",
    "    plt.figure(figsize = (20,20))\n",
    "    t = np.linspace(0, epoch, 500)\n",
    "    \n",
    "    for key in dictionnary.keys():\n",
    "        \n",
    "        plt.plot(t, dictionnary[key](t), '.', label = f\"{key}\")\n",
    "    plt.legend()"
   ]
  },
  {
   "cell_type": "code",
   "execution_count": 18,
   "metadata": {},
   "outputs": [
    {
     "ename": "TypeError",
     "evalue": "display_traversal_costs() takes 1 positional argument but 4 were given",
     "output_type": "error",
     "traceback": [
      "\u001b[0;31m---------------------------------------------------------------------------\u001b[0m",
      "\u001b[0;31mTypeError\u001b[0m                                 Traceback (most recent call last)",
      "Cell \u001b[0;32mIn[18], line 5\u001b[0m\n\u001b[1;32m      1\u001b[0m \u001b[39m# Display the traversal costs\u001b[39;00m\n\u001b[1;32m      2\u001b[0m \u001b[39m#plt.figure(figsize=(10))\u001b[39;00m\n\u001b[0;32m----> 5\u001b[0m cost_graph \u001b[39m=\u001b[39m traversalcost\u001b[39m.\u001b[39;49mutils\u001b[39m.\u001b[39;49mdisplay_traversal_costs(costs_df, \u001b[39mFalse\u001b[39;49;00m, params\u001b[39m.\u001b[39;49msupervised_learning\u001b[39m.\u001b[39;49mterrain_cost,\n\u001b[1;32m      6\u001b[0m                                                          params\u001b[39m.\u001b[39;49msupervised_learning\u001b[39m.\u001b[39;49mNB_EPOCHS)\n\u001b[1;32m      7\u001b[0m \u001b[39m#cost_graph_with_theorical_cost = traversalcost.utils.plot_theorical_cost(params.supervised_learning.terrain_cost, \u001b[39;00m\n\u001b[1;32m      8\u001b[0m \u001b[39m#                                                                         params.supervised_learning.NB_EPOCHS)\u001b[39;00m\n\u001b[1;32m      9\u001b[0m \u001b[39m#cost_graph = traversalcost.utils.display_traversal_costs_whiskers(costs_df)\u001b[39;00m\n",
      "\u001b[0;31mTypeError\u001b[0m: display_traversal_costs() takes 1 positional argument but 4 were given"
     ]
    }
   ],
   "source": [
    "# Display the traversal costs\n",
    "#plt.figure(figsize=(10))\n",
    "\n",
    "\n",
    "cost_graph = traversalcost.utils.display_traversal_costs(costs_df, False, params.supervised_learning.terrain_cost,\n",
    "                                                         params.supervised_learning.NB_EPOCHS)\n",
    "#cost_graph_with_theorical_cost = traversalcost.utils.plot_theorical_cost(params.supervised_learning.terrain_cost, \n",
    "#                                                                         params.supervised_learning.NB_EPOCHS)\n",
    "#cost_graph = traversalcost.utils.display_traversal_costs_whiskers(costs_df)\n"
   ]
  },
  {
   "attachments": {},
   "cell_type": "markdown",
   "metadata": {},
   "source": [
    "## Save model parameters"
   ]
  },
  {
   "cell_type": "code",
   "execution_count": null,
   "metadata": {},
   "outputs": [],
   "source": [
    "# Save the model parameters\n",
    "#torch.save(model.state_dict(), \"siamese.params\")"
   ]
  }
 ],
 "metadata": {
  "kernelspec": {
   "display_name": "global-python",
   "language": "python",
   "name": "global-python"
  },
  "language_info": {
   "codemirror_mode": {
    "name": "ipython",
    "version": 3
   },
   "file_extension": ".py",
   "mimetype": "text/x-python",
   "name": "python",
   "nbconvert_exporter": "python",
   "pygments_lexer": "ipython3",
   "version": "3.8.10"
  },
  "orig_nbformat": 4
 },
 "nbformat": 4,
 "nbformat_minor": 2
}
