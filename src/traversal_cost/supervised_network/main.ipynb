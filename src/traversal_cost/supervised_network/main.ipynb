{
 "cells": [
  {
   "cell_type": "code",
   "execution_count": 5,
   "metadata": {},
   "outputs": [],
   "source": [
    "# Import libraries\n",
    "import torch\n",
    "import torch.nn as nn\n",
    "from torch import optim\n",
    "from torch.utils.data import DataLoader, Dataset, Subset\n",
    "import torch.nn.functional as F\n",
    "\n",
    "# A module to print a model summary (outputs shape, number of parameters, ...)\n",
    "import torchsummary\n",
    "\n",
    "# Tensorboard for visualization\n",
    "from torch.utils.tensorboard import SummaryWriter\n",
    "\n",
    "from tqdm import tqdm\n",
    "\n",
    "import pandas as pd\n",
    "import numpy as np\n",
    "import os\n",
    "import matplotlib.pyplot as plt\n",
    "from sklearn.model_selection import train_test_split\n",
    "\n",
    "\n",
    "# Custom modules and packages\n",
    "import params.supervised_learning\n",
    "import utils_supervised\n",
    "import traversalcost.utils\n",
    "from dataset import SupervisedNetworkDataset\n",
    "from model import SupervisedNetwork \n",
    "from loss import SupervisedLoss \n",
    "from train import train\n",
    "from validate import validate\n",
    "from test import test_supervised"
   ]
  },
  {
   "attachments": {},
   "cell_type": "markdown",
   "metadata": {},
   "source": [
    "## Prepare data"
   ]
  },
  {
   "cell_type": "code",
   "execution_count": 6,
   "metadata": {},
   "outputs": [
    {
     "name": "stdout",
     "output_type": "stream",
     "text": [
      "/home/g_thomas/Documents/PRE/src/traversal_cost/datasets/dataset_small_DS_test\n",
      "15\n",
      "1\n",
      "0.0022\n",
      "7.41e-07\n",
      "Help on function compute_traversal_costs in module utils_supervised:\n",
      "\n",
      "compute_traversal_costs(dataset, cost_function, only_test, to_tensor=False)\n",
      "    Compute the traversal cost of each sample in a dataset\n",
      "    \n",
      "    Args:\n",
      "        dataset (string): Path to the dataset\n",
      "        cost_function (function): Function used to compute the cost of a\n",
      "        sample\n",
      "        to_tensor (bool, optional): If True, convert the cost to a tensor.\n",
      "        Defaults to False.\n",
      "    \n",
      "    Returns:\n",
      "        dataframe: A dataframe containing the terrain classes, the linear\n",
      "        velocities of the robot and the traversal costs\n",
      "\n"
     ]
    }
   ],
   "source": [
    "print(params.supervised_learning.DATASET)\n",
    "print(params.supervised_learning.NB_EPOCHS)\n",
    "print(params.supervised_learning.BATCH_SIZE)\n",
    "print(params.supervised_learning.LEARNING_RATE)\n",
    "print(params.supervised_learning.WEIGHT_DECAY)\n",
    "\n",
    "help(utils_supervised.compute_traversal_costs)"
   ]
  },
  {
   "cell_type": "code",
   "execution_count": 7,
   "metadata": {},
   "outputs": [],
   "source": [
    "# Create a Dataset for training\n",
    "train_set = SupervisedNetworkDataset(params.supervised_learning.DATASET / \"traversalcosts_train.csv\",\n",
    "                                params.supervised_learning.DATASET / \"features\")\n",
    "\n",
    "        \n",
    "# Create a Dataset for testing\n",
    "test_set = SupervisedNetworkDataset(params.supervised_learning.DATASET / \"traversalcosts_test.csv\",\n",
    "                                params.supervised_learning.DATASET / \"features\")"
   ]
  },
  {
   "cell_type": "code",
   "execution_count": 8,
   "metadata": {},
   "outputs": [],
   "source": [
    "# Combine a dataset and a sampler, and provide an iterable over the dataset\n",
    "# (setting shuffle argument to True calls a RandomSampler, and avoids to\n",
    "# have to create a Sampler object)\n",
    "\n",
    "train_loader = DataLoader(\n",
    "    train_set,\n",
    "    batch_size= params.supervised_learning.BATCH_SIZE,\n",
    "    shuffle=True,\n",
    "    num_workers=12,  # Asynchronous data loading and augmentation\n",
    "    pin_memory=True,  # Increase the transferring speed of the data to the GPU\n",
    ")\n",
    "\n",
    "test_loader = DataLoader(\n",
    "    test_set,\n",
    "    batch_size= params.supervised_learning.BATCH_SIZE,\n",
    "    shuffle=True,\n",
    "    num_workers=12,  # Asynchronous data loading and augmentation\n",
    "    pin_memory=True,  # Increase the transferring speed of the data to the GPU\n",
    ")"
   ]
  },
  {
   "attachments": {},
   "cell_type": "markdown",
   "metadata": {},
   "source": [
    "## GPU ?"
   ]
  },
  {
   "cell_type": "code",
   "execution_count": 9,
   "metadata": {},
   "outputs": [
    {
     "name": "stdout",
     "output_type": "stream",
     "text": [
      "Device: cuda\n",
      "\n"
     ]
    }
   ],
   "source": [
    "# Use a GPU if available\n",
    "# device = \"cpu\"\n",
    "device = \"cuda\" if torch.cuda.is_available() else \"cpu\"\n",
    "print(f\"Device: {device}\\n\")"
   ]
  },
  {
   "cell_type": "code",
   "execution_count": 10,
   "metadata": {},
   "outputs": [],
   "source": [
    "# Create a model\n",
    "model = SupervisedNetwork().to(device=device)\n",
    "\n",
    "criterion = SupervisedLoss().to(device=device)"
   ]
  },
  {
   "cell_type": "code",
   "execution_count": 11,
   "metadata": {},
   "outputs": [
    {
     "data": {
      "application/vnd.jupyter.widget-view+json": {
       "model_id": "8fd80da7f6d9494e8a866d74d7eda284",
       "version_major": 2,
       "version_minor": 0
      },
      "text/plain": [
       "  0%|          | 0/720 [00:00<?, ?batch/s]"
      ]
     },
     "metadata": {},
     "output_type": "display_data"
    },
    {
     "name": "stderr",
     "output_type": "stream",
     "text": [
      "/home/g_thomas/Documents/PRE/src/traversal_cost/supervised_network/loss.py:21: UserWarning: Using a target size (torch.Size([1])) that is different to the input size (torch.Size([1, 1])). This will likely lead to incorrect results due to broadcasting. Please ensure they have the same size.\n",
      "  loss = F.mse_loss(estimated_cost, real_cost)\n"
     ]
    },
    {
     "data": {
      "application/vnd.jupyter.widget-view+json": {
       "model_id": "7e546088c8cb4b6b9a24e9259e9761fd",
       "version_major": 2,
       "version_minor": 0
      },
      "text/plain": [
       "  0%|          | 0/240 [00:00<?, ?batch/s]"
      ]
     },
     "metadata": {},
     "output_type": "display_data"
    },
    {
     "name": "stdout",
     "output_type": "stream",
     "text": [
      "Train loss:  4.139248181632827\n",
      "Validation loss:  3.0832421861588957\n"
     ]
    },
    {
     "data": {
      "application/vnd.jupyter.widget-view+json": {
       "model_id": "ffe000725b48473b84b0060ef189789d",
       "version_major": 2,
       "version_minor": 0
      },
      "text/plain": [
       "  0%|          | 0/720 [00:00<?, ?batch/s]"
      ]
     },
     "metadata": {},
     "output_type": "display_data"
    },
    {
     "data": {
      "application/vnd.jupyter.widget-view+json": {
       "model_id": "24dd8320eb7542d5a28eb4531a7f8202",
       "version_major": 2,
       "version_minor": 0
      },
      "text/plain": [
       "  0%|          | 0/240 [00:00<?, ?batch/s]"
      ]
     },
     "metadata": {},
     "output_type": "display_data"
    },
    {
     "name": "stdout",
     "output_type": "stream",
     "text": [
      "Train loss:  3.119497243382188\n",
      "Validation loss:  3.098239526269026\n"
     ]
    },
    {
     "data": {
      "application/vnd.jupyter.widget-view+json": {
       "model_id": "e80f7f768c284c8a8c5ea517995dbd59",
       "version_major": 2,
       "version_minor": 0
      },
      "text/plain": [
       "  0%|          | 0/720 [00:00<?, ?batch/s]"
      ]
     },
     "metadata": {},
     "output_type": "display_data"
    },
    {
     "data": {
      "application/vnd.jupyter.widget-view+json": {
       "model_id": "95e59981b5a447068cec7e505e4c5be7",
       "version_major": 2,
       "version_minor": 0
      },
      "text/plain": [
       "  0%|          | 0/240 [00:00<?, ?batch/s]"
      ]
     },
     "metadata": {},
     "output_type": "display_data"
    },
    {
     "name": "stdout",
     "output_type": "stream",
     "text": [
      "Train loss:  3.121268492756298\n",
      "Validation loss:  3.1549232032234764\n"
     ]
    },
    {
     "data": {
      "application/vnd.jupyter.widget-view+json": {
       "model_id": "72c37fb962234566ab0465aa9a070b36",
       "version_major": 2,
       "version_minor": 0
      },
      "text/plain": [
       "  0%|          | 0/720 [00:00<?, ?batch/s]"
      ]
     },
     "metadata": {},
     "output_type": "display_data"
    },
    {
     "data": {
      "application/vnd.jupyter.widget-view+json": {
       "model_id": "9234a8fb03a2494d8554be927c2ee1eb",
       "version_major": 2,
       "version_minor": 0
      },
      "text/plain": [
       "  0%|          | 0/240 [00:00<?, ?batch/s]"
      ]
     },
     "metadata": {},
     "output_type": "display_data"
    },
    {
     "name": "stdout",
     "output_type": "stream",
     "text": [
      "Train loss:  3.1432766133965035\n",
      "Validation loss:  3.081763011813382\n"
     ]
    },
    {
     "data": {
      "application/vnd.jupyter.widget-view+json": {
       "model_id": "6a6d5ebebf694a279a79c79bb1e60eba",
       "version_major": 2,
       "version_minor": 0
      },
      "text/plain": [
       "  0%|          | 0/720 [00:00<?, ?batch/s]"
      ]
     },
     "metadata": {},
     "output_type": "display_data"
    },
    {
     "data": {
      "application/vnd.jupyter.widget-view+json": {
       "model_id": "8dfd5b89028c43fe894298ff7d434dee",
       "version_major": 2,
       "version_minor": 0
      },
      "text/plain": [
       "  0%|          | 0/240 [00:00<?, ?batch/s]"
      ]
     },
     "metadata": {},
     "output_type": "display_data"
    },
    {
     "name": "stdout",
     "output_type": "stream",
     "text": [
      "Train loss:  3.095607177328888\n",
      "Validation loss:  3.4314544738280044\n"
     ]
    },
    {
     "data": {
      "application/vnd.jupyter.widget-view+json": {
       "model_id": "bfba158a3ccb4458884935141ec3a2cd",
       "version_major": 2,
       "version_minor": 0
      },
      "text/plain": [
       "  0%|          | 0/720 [00:00<?, ?batch/s]"
      ]
     },
     "metadata": {},
     "output_type": "display_data"
    },
    {
     "data": {
      "application/vnd.jupyter.widget-view+json": {
       "model_id": "c0d070bf5fed43b98b5db79499ee7eba",
       "version_major": 2,
       "version_minor": 0
      },
      "text/plain": [
       "  0%|          | 0/240 [00:00<?, ?batch/s]"
      ]
     },
     "metadata": {},
     "output_type": "display_data"
    },
    {
     "name": "stdout",
     "output_type": "stream",
     "text": [
      "Train loss:  3.158200255518779\n",
      "Validation loss:  3.118229517802441\n"
     ]
    },
    {
     "data": {
      "application/vnd.jupyter.widget-view+json": {
       "model_id": "51cda781acf24ac7a10086d4336b42a3",
       "version_major": 2,
       "version_minor": 0
      },
      "text/plain": [
       "  0%|          | 0/720 [00:00<?, ?batch/s]"
      ]
     },
     "metadata": {},
     "output_type": "display_data"
    },
    {
     "data": {
      "application/vnd.jupyter.widget-view+json": {
       "model_id": "32b6886a60c743eea02b45fd15d93988",
       "version_major": 2,
       "version_minor": 0
      },
      "text/plain": [
       "  0%|          | 0/240 [00:00<?, ?batch/s]"
      ]
     },
     "metadata": {},
     "output_type": "display_data"
    },
    {
     "name": "stdout",
     "output_type": "stream",
     "text": [
      "Train loss:  3.120617200581943\n",
      "Validation loss:  3.0816359622830833\n"
     ]
    },
    {
     "data": {
      "application/vnd.jupyter.widget-view+json": {
       "model_id": "0721286566804efb8c273b018e584192",
       "version_major": 2,
       "version_minor": 0
      },
      "text/plain": [
       "  0%|          | 0/720 [00:00<?, ?batch/s]"
      ]
     },
     "metadata": {},
     "output_type": "display_data"
    },
    {
     "data": {
      "application/vnd.jupyter.widget-view+json": {
       "model_id": "50e81e41796b4e448a2048ce6cf7471b",
       "version_major": 2,
       "version_minor": 0
      },
      "text/plain": [
       "  0%|          | 0/240 [00:00<?, ?batch/s]"
      ]
     },
     "metadata": {},
     "output_type": "display_data"
    },
    {
     "name": "stdout",
     "output_type": "stream",
     "text": [
      "Train loss:  3.1045898817363695\n",
      "Validation loss:  3.2606978367409587\n"
     ]
    },
    {
     "data": {
      "application/vnd.jupyter.widget-view+json": {
       "model_id": "1de32233d17d41a9a4d54c909480e34a",
       "version_major": 2,
       "version_minor": 0
      },
      "text/plain": [
       "  0%|          | 0/720 [00:00<?, ?batch/s]"
      ]
     },
     "metadata": {},
     "output_type": "display_data"
    },
    {
     "data": {
      "application/vnd.jupyter.widget-view+json": {
       "model_id": "d84f0778170342ee8ffec1ff3a8b839c",
       "version_major": 2,
       "version_minor": 0
      },
      "text/plain": [
       "  0%|          | 0/240 [00:00<?, ?batch/s]"
      ]
     },
     "metadata": {},
     "output_type": "display_data"
    },
    {
     "name": "stdout",
     "output_type": "stream",
     "text": [
      "Train loss:  3.056551114269232\n",
      "Validation loss:  3.2774491141155524\n"
     ]
    },
    {
     "data": {
      "application/vnd.jupyter.widget-view+json": {
       "model_id": "3162fe47f162426c89b1cb6c9adb6444",
       "version_major": 2,
       "version_minor": 0
      },
      "text/plain": [
       "  0%|          | 0/720 [00:00<?, ?batch/s]"
      ]
     },
     "metadata": {},
     "output_type": "display_data"
    },
    {
     "data": {
      "application/vnd.jupyter.widget-view+json": {
       "model_id": "31620e16741e4da1b7a32e0265e32741",
       "version_major": 2,
       "version_minor": 0
      },
      "text/plain": [
       "  0%|          | 0/240 [00:00<?, ?batch/s]"
      ]
     },
     "metadata": {},
     "output_type": "display_data"
    },
    {
     "name": "stdout",
     "output_type": "stream",
     "text": [
      "Train loss:  3.1327863211683957\n",
      "Validation loss:  3.4563880789404116\n"
     ]
    },
    {
     "data": {
      "application/vnd.jupyter.widget-view+json": {
       "model_id": "b68ebe3873124fd3a6ab77626525f214",
       "version_major": 2,
       "version_minor": 0
      },
      "text/plain": [
       "  0%|          | 0/720 [00:00<?, ?batch/s]"
      ]
     },
     "metadata": {},
     "output_type": "display_data"
    },
    {
     "data": {
      "application/vnd.jupyter.widget-view+json": {
       "model_id": "df66a356f6ff49779cb328ff780b260e",
       "version_major": 2,
       "version_minor": 0
      },
      "text/plain": [
       "  0%|          | 0/240 [00:00<?, ?batch/s]"
      ]
     },
     "metadata": {},
     "output_type": "display_data"
    },
    {
     "name": "stdout",
     "output_type": "stream",
     "text": [
      "Train loss:  3.16916410763355\n",
      "Validation loss:  3.117130796122365\n"
     ]
    },
    {
     "data": {
      "application/vnd.jupyter.widget-view+json": {
       "model_id": "ef5f3fb974874790a25d3b8dad7ae0eb",
       "version_major": 2,
       "version_minor": 0
      },
      "text/plain": [
       "  0%|          | 0/720 [00:00<?, ?batch/s]"
      ]
     },
     "metadata": {},
     "output_type": "display_data"
    },
    {
     "data": {
      "application/vnd.jupyter.widget-view+json": {
       "model_id": "b40fd6390572461a824b0301f67e995e",
       "version_major": 2,
       "version_minor": 0
      },
      "text/plain": [
       "  0%|          | 0/240 [00:00<?, ?batch/s]"
      ]
     },
     "metadata": {},
     "output_type": "display_data"
    },
    {
     "name": "stdout",
     "output_type": "stream",
     "text": [
      "Train loss:  3.16943782017005\n",
      "Validation loss:  3.14811772333087\n"
     ]
    },
    {
     "data": {
      "application/vnd.jupyter.widget-view+json": {
       "model_id": "5b4e3db812844ecdb1498261e1e522c3",
       "version_major": 2,
       "version_minor": 0
      },
      "text/plain": [
       "  0%|          | 0/720 [00:00<?, ?batch/s]"
      ]
     },
     "metadata": {},
     "output_type": "display_data"
    },
    {
     "data": {
      "application/vnd.jupyter.widget-view+json": {
       "model_id": "57a8126759844e9fa1dcad1a9050b715",
       "version_major": 2,
       "version_minor": 0
      },
      "text/plain": [
       "  0%|          | 0/240 [00:00<?, ?batch/s]"
      ]
     },
     "metadata": {},
     "output_type": "display_data"
    },
    {
     "name": "stdout",
     "output_type": "stream",
     "text": [
      "Train loss:  3.093815748477775\n",
      "Validation loss:  3.310227474074054\n"
     ]
    },
    {
     "data": {
      "application/vnd.jupyter.widget-view+json": {
       "model_id": "fd51d6434d2e4519bb3f70ee55cd481f",
       "version_major": 2,
       "version_minor": 0
      },
      "text/plain": [
       "  0%|          | 0/720 [00:00<?, ?batch/s]"
      ]
     },
     "metadata": {},
     "output_type": "display_data"
    },
    {
     "data": {
      "application/vnd.jupyter.widget-view+json": {
       "model_id": "2b1e791163194bc9a2eed2c0b06d8b18",
       "version_major": 2,
       "version_minor": 0
      },
      "text/plain": [
       "  0%|          | 0/240 [00:00<?, ?batch/s]"
      ]
     },
     "metadata": {},
     "output_type": "display_data"
    },
    {
     "name": "stdout",
     "output_type": "stream",
     "text": [
      "Train loss:  3.1490552706104458\n",
      "Validation loss:  3.1195008957525716\n"
     ]
    },
    {
     "data": {
      "application/vnd.jupyter.widget-view+json": {
       "model_id": "319c064c36f44c9380c00d9809c8654e",
       "version_major": 2,
       "version_minor": 0
      },
      "text/plain": [
       "  0%|          | 0/720 [00:00<?, ?batch/s]"
      ]
     },
     "metadata": {},
     "output_type": "display_data"
    },
    {
     "data": {
      "application/vnd.jupyter.widget-view+json": {
       "model_id": "9c5ea66957b741e4b3e48d29c9c7439f",
       "version_major": 2,
       "version_minor": 0
      },
      "text/plain": [
       "  0%|          | 0/240 [00:00<?, ?batch/s]"
      ]
     },
     "metadata": {},
     "output_type": "display_data"
    },
    {
     "name": "stdout",
     "output_type": "stream",
     "text": [
      "Train loss:  3.1162952029807105\n",
      "Validation loss:  3.107862249046836\n"
     ]
    }
   ],
   "source": [
    "#Creating list for plot afterwards\n",
    "\n",
    "List_train_loss_value = []\n",
    "List_test_loss_value = []\n",
    "\n",
    "optimizer = optim.SGD(model.parameters(),\n",
    "                      lr=params.supervised_learning.LEARNING_RATE,\n",
    "                      momentum=params.supervised_learning.MOMENTUM,\n",
    "                      weight_decay=params.supervised_learning.WEIGHT_DECAY)\n",
    "\n",
    "# Loop over the epochs\n",
    "\n",
    "for epoch in range(params.supervised_learning.NB_EPOCHS):\n",
    "    \n",
    "    # Training\n",
    "    train_loss = train(model,\n",
    "                       device,\n",
    "                       train_loader,\n",
    "                       optimizer,\n",
    "                       criterion,\n",
    "                       epoch)\n",
    "    \n",
    "    # Validation\n",
    "    val_loss = validate(model,\n",
    "                        device,\n",
    "                        test_loader,\n",
    "                        criterion,\n",
    "                        epoch) \n",
    "    \n",
    "    print(\"Train loss: \", train_loss)\n",
    "    print(\"Validation loss: \", val_loss)\n",
    "    \n",
    "    # Store the computed losses\n",
    "    List_train_loss_value.append(train_loss)\n",
    "    List_test_loss_value.append(val_loss)\n",
    "    "
   ]
  },
  {
   "attachments": {},
   "cell_type": "markdown",
   "metadata": {},
   "source": [
    "## Visualization "
   ]
  },
  {
   "cell_type": "code",
   "execution_count": 12,
   "metadata": {},
   "outputs": [
    {
     "data": {
      "text/plain": [
       "<matplotlib.legend.Legend at 0x7f153fc07d90>"
      ]
     },
     "execution_count": 12,
     "metadata": {},
     "output_type": "execute_result"
    },
    {
     "data": {
      "image/png": "[encoded data removed]",
      "text/plain": [
       "<Figure size 640x480 with 1 Axes>"
      ]
     },
     "metadata": {},
     "output_type": "display_data"
    }
   ],
   "source": [
    "plt.plot(range(params.supervised_learning.NB_EPOCHS), List_train_loss_value, \"b\", label=\"train loss\")\n",
    "\n",
    "plt.plot(range(params.supervised_learning.NB_EPOCHS), List_test_loss_value, \"r\", label=\"validation loss\")\n",
    "\n",
    "plt.xlabel(\"Epoch\")\n",
    "plt.legend()"
   ]
  },
  {
   "attachments": {},
   "cell_type": "markdown",
   "metadata": {},
   "source": [
    "## Testing"
   ]
  },
  {
   "cell_type": "code",
   "execution_count": 13,
   "metadata": {},
   "outputs": [
    {
     "name": "stdout",
     "output_type": "stream",
     "text": [
      "Test loss:  3.107862249046836\n"
     ]
    }
   ],
   "source": [
    "# Test the model\n",
    "test_loss = test_supervised(model,\n",
    "                 device,\n",
    "                 test_loader,\n",
    "                 criterion)\n",
    "\n",
    "print(\"Test loss: \", test_loss)"
   ]
  },
  {
   "cell_type": "code",
   "execution_count": 20,
   "metadata": {},
   "outputs": [],
   "source": [
    "def compute_traversal_costs(dataset,\n",
    "                            cost_function,\n",
    "                            only_test,\n",
    "                            to_tensor=False\n",
    "                            ):\n",
    "    \"\"\"Compute the traversal cost of each sample in a dataset\n",
    "\n",
    "    Args:\n",
    "        dataset (string): Path to the dataset\n",
    "        cost_function (function): Function used to compute the cost of a\n",
    "        sample\n",
    "        to_tensor (bool, optional): If True, convert the cost to a tensor.\n",
    "        Defaults to False.\n",
    "\n",
    "    Returns:\n",
    "        dataframe: A dataframe containing the terrain classes, the linear\n",
    "        velocities of the robot and the traversal costs\n",
    "    \"\"\"    \n",
    "    # Read the csv file containing the labels\n",
    "    \n",
    "    if only_test == False :\n",
    "        \n",
    "        print(f\"not only test ok !\")\n",
    "\n",
    "        labels_df = pd.read_csv(dataset / \"labels.csv\",\n",
    "                            converters={\"id\": str})\n",
    "    \n",
    "        # Add an empty column to the dataframe\n",
    "        labels_df[\"cost\"] = \"\"\n",
    "    \n",
    "        for i in range(len(labels_df.index)):\n",
    "            # Get the id of the current sample\n",
    "            id = labels_df[\"id\"][i]\n",
    "            \n",
    "            # Load the features of the current sample\n",
    "            features = np.load(dataset / \"features\" / (str(id) + \".npy\"))\n",
    "            \n",
    "            # Convert the features to a tensor if required\n",
    "            if to_tensor:\n",
    "                features = torch.from_numpy(features).float()\n",
    "            \n",
    "            # Compute the cost of the current sample\n",
    "            cost = cost_function(features)\n",
    "            \n",
    "            # Convert the cost to a float if required\n",
    "            if to_tensor:\n",
    "                cost = cost.item()\n",
    "            \n",
    "            # Store the cost in the dataframe\n",
    "            labels_df.at[i, \"cost\"] = cost\n",
    "        \n",
    "    if only_test == True :\n",
    "        \n",
    "        print(f\"only test ok !\")\n",
    "        \n",
    "        labels_df = pd.read_csv(dataset / \"labels.csv\",\n",
    "                            converters={\"id\": str})\n",
    "        \n",
    "        test_data_labels_df =  pd.read_csv(dataset / \"traversalcosts_test.csv\",\n",
    "                            converters={\"id\": str})\n",
    "        \n",
    "        \n",
    "        # Add an empty column to the dataframe\n",
    "        labels_df[\"cost\"] = \"\"\n",
    "        \n",
    "        print(test_data_labels_df)\n",
    "        \n",
    "        for i in range(len(test_data_labels_df.index)):\n",
    "            # Get the id of the current sample\n",
    "            id = test_data_labels_df[\"id\"][i]\n",
    "            \n",
    "            # Load the features of the current sample\n",
    "            features = np.load(dataset / \"features\" / (str(id) + \".npy\"))\n",
    "            #print(f\"feature is {features}\")\n",
    "            \n",
    "            # Convert the features to a tensor if required\n",
    "            if to_tensor:\n",
    "                features = torch.from_numpy(features).float()\n",
    "            \n",
    "            # Compute the cost of the current sample\n",
    "            cost = cost_function(features)\n",
    "            \n",
    "            # Convert the cost to a float if required\n",
    "            if to_tensor:\n",
    "                cost = cost.item()\n",
    "            \n",
    "            # Store the cost in the dataframe\n",
    "            labels_df.at[i, \"predicted_cost\"] = cost\n",
    "        \n",
    "        labels_df = labels_df.dropna(axis=0)\n",
    "\n",
    "    # Extract the terrain classes, the linear velocities and the costs\n",
    "    costs_df = labels_df[[\"terrain_class\",\n",
    "                          \"linear_velocity\",\n",
    "                          \"predicted_cost\"]]\n",
    "    \n",
    "    return costs_df\n"
   ]
  },
  {
   "cell_type": "code",
   "execution_count": 21,
   "metadata": {},
   "outputs": [
    {
     "name": "stdout",
     "output_type": "stream",
     "text": [
      "only test ok !\n",
      "      id  cost\n",
      "0    005   0.3\n",
      "1    898   1.6\n",
      "2    318   3.0\n",
      "3    569   1.4\n",
      "4    633   7.0\n",
      "..   ...   ...\n",
      "235  664   1.8\n",
      "236  136   2.8\n",
      "237  306   3.0\n",
      "238  922   2.4\n",
      "239  840   0.6\n",
      "\n",
      "[240 rows x 2 columns]\n"
     ]
    },
    {
     "data": {
      "text/html": [
       "<div>\n",
       "<style scoped>\n",
       "    .dataframe tbody tr th:only-of-type {\n",
       "        vertical-align: middle;\n",
       "    }\n",
       "\n",
       "    .dataframe tbody tr th {\n",
       "        vertical-align: top;\n",
       "    }\n",
       "\n",
       "    .dataframe thead th {\n",
       "        text-align: right;\n",
       "    }\n",
       "</style>\n",
       "<table border=\"1\" class=\"dataframe\">\n",
       "  <thead>\n",
       "    <tr style=\"text-align: right;\">\n",
       "      <th></th>\n",
       "      <th>terrain_class</th>\n",
       "      <th>linear_velocity</th>\n",
       "      <th>predicted_cost</th>\n",
       "    </tr>\n",
       "  </thead>\n",
       "  <tbody>\n",
       "    <tr>\n",
       "      <th>0</th>\n",
       "      <td>grass_easy</td>\n",
       "      <td>0.2</td>\n",
       "      <td>2.528256</td>\n",
       "    </tr>\n",
       "    <tr>\n",
       "      <th>1</th>\n",
       "      <td>grass_easy</td>\n",
       "      <td>0.2</td>\n",
       "      <td>2.528256</td>\n",
       "    </tr>\n",
       "    <tr>\n",
       "      <th>2</th>\n",
       "      <td>grass_easy</td>\n",
       "      <td>0.2</td>\n",
       "      <td>2.528256</td>\n",
       "    </tr>\n",
       "    <tr>\n",
       "      <th>3</th>\n",
       "      <td>grass_easy</td>\n",
       "      <td>0.2</td>\n",
       "      <td>2.528256</td>\n",
       "    </tr>\n",
       "    <tr>\n",
       "      <th>4</th>\n",
       "      <td>grass_easy</td>\n",
       "      <td>0.2</td>\n",
       "      <td>2.528256</td>\n",
       "    </tr>\n",
       "    <tr>\n",
       "      <th>...</th>\n",
       "      <td>...</td>\n",
       "      <td>...</td>\n",
       "      <td>...</td>\n",
       "    </tr>\n",
       "    <tr>\n",
       "      <th>235</th>\n",
       "      <td>road_medium</td>\n",
       "      <td>1.0</td>\n",
       "      <td>2.528256</td>\n",
       "    </tr>\n",
       "    <tr>\n",
       "      <th>236</th>\n",
       "      <td>road_medium</td>\n",
       "      <td>1.0</td>\n",
       "      <td>2.528256</td>\n",
       "    </tr>\n",
       "    <tr>\n",
       "      <th>237</th>\n",
       "      <td>road_medium</td>\n",
       "      <td>1.0</td>\n",
       "      <td>2.528256</td>\n",
       "    </tr>\n",
       "    <tr>\n",
       "      <th>238</th>\n",
       "      <td>road_medium</td>\n",
       "      <td>1.0</td>\n",
       "      <td>2.528256</td>\n",
       "    </tr>\n",
       "    <tr>\n",
       "      <th>239</th>\n",
       "      <td>road_medium</td>\n",
       "      <td>1.0</td>\n",
       "      <td>2.528256</td>\n",
       "    </tr>\n",
       "  </tbody>\n",
       "</table>\n",
       "<p>240 rows × 3 columns</p>\n",
       "</div>"
      ],
      "text/plain": [
       "    terrain_class  linear_velocity  predicted_cost\n",
       "0      grass_easy              0.2        2.528256\n",
       "1      grass_easy              0.2        2.528256\n",
       "2      grass_easy              0.2        2.528256\n",
       "3      grass_easy              0.2        2.528256\n",
       "4      grass_easy              0.2        2.528256\n",
       "..            ...              ...             ...\n",
       "235   road_medium              1.0        2.528256\n",
       "236   road_medium              1.0        2.528256\n",
       "237   road_medium              1.0        2.528256\n",
       "238   road_medium              1.0        2.528256\n",
       "239   road_medium              1.0        2.528256\n",
       "\n",
       "[240 rows x 3 columns]"
      ]
     },
     "execution_count": 21,
     "metadata": {},
     "output_type": "execute_result"
    }
   ],
   "source": [
    "costs_df = compute_traversal_costs(dataset = params.supervised_learning.DATASET,\n",
    "                            cost_function=model.to(device=\"cpu\"),\n",
    "                            only_test = True,\n",
    "                            to_tensor=True\n",
    ")\n",
    "\n",
    "costs_df"
   ]
  },
  {
   "cell_type": "code",
   "execution_count": 30,
   "metadata": {},
   "outputs": [],
   "source": [
    "def plot_theorical_cost(dictionnary, epoch):\n",
    "    t = np.linspace(0, epoch, 500)\n",
    "    \n",
    "    for key in dictionnary.keys():\n",
    "        plt.plot(t, dictionnary[key](t), '.', label = f\"{key}\")\n",
    "    plt.legend()"
   ]
  },
  {
   "cell_type": "code",
   "execution_count": 41,
   "metadata": {},
   "outputs": [
    {
     "data": {
      "text/html": [
       "<div>\n",
       "<style scoped>\n",
       "    .dataframe tbody tr th:only-of-type {\n",
       "        vertical-align: middle;\n",
       "    }\n",
       "\n",
       "    .dataframe tbody tr th {\n",
       "        vertical-align: top;\n",
       "    }\n",
       "\n",
       "    .dataframe thead th {\n",
       "        text-align: right;\n",
       "    }\n",
       "</style>\n",
       "<table border=\"1\" class=\"dataframe\">\n",
       "  <thead>\n",
       "    <tr style=\"text-align: right;\">\n",
       "      <th></th>\n",
       "      <th>terrain_class</th>\n",
       "      <th>linear_velocity</th>\n",
       "      <th>predicted_cost</th>\n",
       "    </tr>\n",
       "  </thead>\n",
       "  <tbody>\n",
       "    <tr>\n",
       "      <th>0</th>\n",
       "      <td>grass_easy</td>\n",
       "      <td>0.2</td>\n",
       "      <td>2.528256</td>\n",
       "    </tr>\n",
       "    <tr>\n",
       "      <th>1</th>\n",
       "      <td>grass_easy</td>\n",
       "      <td>0.2</td>\n",
       "      <td>2.528256</td>\n",
       "    </tr>\n",
       "    <tr>\n",
       "      <th>2</th>\n",
       "      <td>grass_easy</td>\n",
       "      <td>0.2</td>\n",
       "      <td>2.528256</td>\n",
       "    </tr>\n",
       "    <tr>\n",
       "      <th>3</th>\n",
       "      <td>grass_easy</td>\n",
       "      <td>0.2</td>\n",
       "      <td>2.528256</td>\n",
       "    </tr>\n",
       "    <tr>\n",
       "      <th>4</th>\n",
       "      <td>grass_easy</td>\n",
       "      <td>0.2</td>\n",
       "      <td>2.528256</td>\n",
       "    </tr>\n",
       "    <tr>\n",
       "      <th>...</th>\n",
       "      <td>...</td>\n",
       "      <td>...</td>\n",
       "      <td>...</td>\n",
       "    </tr>\n",
       "    <tr>\n",
       "      <th>235</th>\n",
       "      <td>road_medium</td>\n",
       "      <td>1.0</td>\n",
       "      <td>2.528256</td>\n",
       "    </tr>\n",
       "    <tr>\n",
       "      <th>236</th>\n",
       "      <td>road_medium</td>\n",
       "      <td>1.0</td>\n",
       "      <td>2.528256</td>\n",
       "    </tr>\n",
       "    <tr>\n",
       "      <th>237</th>\n",
       "      <td>road_medium</td>\n",
       "      <td>1.0</td>\n",
       "      <td>2.528256</td>\n",
       "    </tr>\n",
       "    <tr>\n",
       "      <th>238</th>\n",
       "      <td>road_medium</td>\n",
       "      <td>1.0</td>\n",
       "      <td>2.528256</td>\n",
       "    </tr>\n",
       "    <tr>\n",
       "      <th>239</th>\n",
       "      <td>road_medium</td>\n",
       "      <td>1.0</td>\n",
       "      <td>2.528256</td>\n",
       "    </tr>\n",
       "  </tbody>\n",
       "</table>\n",
       "<p>240 rows × 3 columns</p>\n",
       "</div>"
      ],
      "text/plain": [
       "    terrain_class  linear_velocity  predicted_cost\n",
       "0      grass_easy              0.2        2.528256\n",
       "1      grass_easy              0.2        2.528256\n",
       "2      grass_easy              0.2        2.528256\n",
       "3      grass_easy              0.2        2.528256\n",
       "4      grass_easy              0.2        2.528256\n",
       "..            ...              ...             ...\n",
       "235   road_medium              1.0        2.528256\n",
       "236   road_medium              1.0        2.528256\n",
       "237   road_medium              1.0        2.528256\n",
       "238   road_medium              1.0        2.528256\n",
       "239   road_medium              1.0        2.528256\n",
       "\n",
       "[240 rows x 3 columns]"
      ]
     },
     "execution_count": 41,
     "metadata": {},
     "output_type": "execute_result"
    }
   ],
   "source": [
    "costs_df"
   ]
  },
  {
   "cell_type": "code",
   "execution_count": 37,
   "metadata": {},
   "outputs": [
    {
     "data": {
      "image/png": "[encoded data removed]",
      "text/plain": [
       "<Figure size 640x480 with 1 Axes>"
      ]
     },
     "metadata": {},
     "output_type": "display_data"
    }
   ],
   "source": [
    "cost_graph = traversalcost.utils.display_traversal_costs(costs_df.rename(columns={\"predicted_cost\": \"cost\"}))#, False, params.supervised_learning.terrain_cost,\n",
    "                                                        #  params.supervised_learning.NB_EPOCHS)\n",
    "# plot_theorical_cost(params.supervised_learning.terrain_cost, params.supervised_learning.NB_EPOCHS)\n",
    "#cost_graph = traversalcost.utils.display_traversal_costs_whiskers(costs_df)\n"
   ]
  },
  {
   "attachments": {},
   "cell_type": "markdown",
   "metadata": {},
   "source": [
    "## Save model parameters"
   ]
  },
  {
   "cell_type": "code",
   "execution_count": null,
   "metadata": {},
   "outputs": [],
   "source": [
    "# Save the model parameters\n",
    "#torch.save(model.state_dict(), \"siamese.params\")"
   ]
  }
 ],
 "metadata": {
  "kernelspec": {
   "display_name": "global-python",
   "language": "python",
   "name": "global-python"
  },
  "language_info": {
   "codemirror_mode": {
    "name": "ipython",
    "version": 3
   },
   "file_extension": ".py",
   "mimetype": "text/x-python",
   "name": "python",
   "nbconvert_exporter": "python",
   "pygments_lexer": "ipython3",
   "version": "3.8.10"
  },
  "orig_nbformat": 4
 },
 "nbformat": 4,
 "nbformat_minor": 2
}
