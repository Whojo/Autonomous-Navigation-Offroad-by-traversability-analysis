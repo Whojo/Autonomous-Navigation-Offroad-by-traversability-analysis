{
 "cells": [
  {
   "cell_type": "code",
   "execution_count": 1,
   "metadata": {},
   "outputs": [],
   "source": [
    "# Import libraries\n",
    "import torch\n",
    "import torch.nn as nn\n",
    "from torch import optim\n",
    "import torchvision.models as models\n",
    "from torchvision import transforms\n",
    "from torch.utils.data import DataLoader, Dataset, random_split, Subset\n",
    "\n",
    "# A module to print a model summary (outputs shape, number of parameters, ...)\n",
    "import torchsummary\n",
    "\n",
    "# TensorBoard for visualization\n",
    "from torch.utils.tensorboard import SummaryWriter\n",
    "\n",
    "from tqdm import tqdm\n",
    "\n",
    "import pandas as pd\n",
    "import numpy as np\n",
    "import os\n",
    "import matplotlib.pyplot as plt\n",
    "plt.rcParams.update({\n",
    "    \"pgf.texsystem\": \"pdflatex\",\n",
    "    'font.family': 'serif',\n",
    "    'text.usetex': True,\n",
    "    'pgf.rcfonts': False,\n",
    "})\n",
    "\n",
    "from PIL import Image\n",
    "from sklearn.model_selection import train_test_split\n",
    "\n",
    "from params import PROJECT_PATH"
   ]
  },
  {
   "attachments": {},
   "cell_type": "markdown",
   "metadata": {},
   "source": [
    "## Prepare data"
   ]
  },
  {
   "cell_type": "code",
   "execution_count": 2,
   "metadata": {},
   "outputs": [],
   "source": [
    "# Define the data to be used\n",
    "DATASET = PROJECT_PATH / \"datasets/dataset_uncertainty_indoor/\"\n",
    "# DATASET = PROJECT_PATH / \"datasets/dataset_3+8bags_3var3sc_regression_classification_kmeans_split/\"\n",
    "\n",
    "\n",
    "class TraversabilityDataset(Dataset):\n",
    "    \"\"\"Custom Dataset class to represent our dataset\n",
    "    It includes data and information about the data\n",
    "\n",
    "    Args:\n",
    "        Dataset (class): Abstract class which represents a dataset\n",
    "    \"\"\"\n",
    "    \n",
    "    def __init__(self, traversal_costs_file, images_directory,\n",
    "                 transform=None):\n",
    "        \"\"\"Constructor of the class\n",
    "\n",
    "        Args:\n",
    "            traversal_costs_file (string): Path to the csv file which contains\n",
    "            images index and their associated traversal cost\n",
    "            images_directory (string): Directory with all the images\n",
    "            transform (callable, optional): Transforms to be applied on a\n",
    "            sample. Defaults to None.\n",
    "        \"\"\"\n",
    "        # Read the csv file\n",
    "        self.traversal_costs_frame = pd.read_csv(traversal_costs_file)\n",
    "        \n",
    "        # Initialize the name of the images directory\n",
    "        self.images_directory = images_directory\n",
    "        \n",
    "        # Initialize the transforms\n",
    "        self.transform = transform\n",
    "\n",
    "    def __len__(self):\n",
    "        \"\"\"Return the size of the dataset\n",
    "\n",
    "        Returns:\n",
    "            int: Number of samples\n",
    "        \"\"\"\n",
    "        # Count the number of files in the image directory\n",
    "        # return len(os.listdir(self.images_directory))\n",
    "        return len(self.traversal_costs_frame)\n",
    "\n",
    "    def __getitem__(self, idx):\n",
    "        \"\"\"Allow to access a sample by its index\n",
    "\n",
    "        Args:\n",
    "            idx (int): Index of a sample\n",
    "\n",
    "        Returns:\n",
    "            list: Sample at index idx\n",
    "            ([image, traversal_cost])\n",
    "        \"\"\"\n",
    "        # Get the image name at index idx\n",
    "        image_name = os.path.join(self.images_directory,\n",
    "                                  self.traversal_costs_frame.loc[idx, \"image_id\"])\n",
    "        \n",
    "        # Read the image\n",
    "        image = Image.open(image_name)\n",
    "        \n",
    "        # Eventually apply transforms to the image\n",
    "        if self.transform:\n",
    "            image = self.transform(image)\n",
    "        \n",
    "        # Get the corresponding traversal cost\n",
    "        traversal_cost = self.traversal_costs_frame.loc[idx, \"traversal_cost\"]\n",
    "        \n",
    "        # Get the corresponding traversability label\n",
    "        traversability_label = self.traversal_costs_frame.loc[idx, \"traversability_label\"]\n",
    "\n",
    "        return image, traversal_cost, traversability_label"
   ]
  },
  {
   "cell_type": "code",
   "execution_count": 3,
   "metadata": {},
   "outputs": [],
   "source": [
    "def compute_mean_std(images_directory, traversal_costs_file):\n",
    "    \"\"\"Compute the mean and standard deviation of the dataset\n",
    "\n",
    "    Args:\n",
    "        images_directory (string): Directory with all the images\n",
    "        traversal_costs_file (string): Name of the csv file which contains\n",
    "        images index and their associated traversal cost\n",
    "\n",
    "    Returns:\n",
    "        torch::Tensor: Mean and standard deviation of the dataset\n",
    "    \"\"\"\n",
    "    transform = transforms.Compose([\n",
    "        # Reduce the size of the images\n",
    "        # (if size is an int, the smaller edge of the\n",
    "        # image will be matched to this number and the ration is kept)\n",
    "        transforms.Resize((70, 210)),\n",
    "\n",
    "        # Convert a PIL Image or numpy.ndarray to tensor\n",
    "        transforms.ToTensor(),\n",
    "    ])\n",
    "    \n",
    "    # Create a Dataset for training\n",
    "    dataset = TraversabilityDataset(\n",
    "        traversal_costs_file=DATASET / traversal_costs_file,\n",
    "        images_directory=DATASET / images_directory,\n",
    "        transform=transform\n",
    "    )\n",
    "    \n",
    "    loader = DataLoader(\n",
    "        dataset=dataset,\n",
    "        batch_size=1,\n",
    "        shuffle=False,\n",
    "        num_workers=12,\n",
    "        pin_memory=True\n",
    "    )\n",
    "\n",
    "    cnt = 0\n",
    "    first_moment = torch.empty(3)\n",
    "    second_moment = torch.empty(3)\n",
    "\n",
    "    for images, traversal_costs, traversability_labels in loader:\n",
    "        b, c, h, w = images.shape\n",
    "        nb_pixels = b * h * w\n",
    "        sum_ = torch.sum(images, dim=[0, 2, 3])\n",
    "        sum_of_square = torch.sum(images ** 2, dim=[0, 2, 3])\n",
    "        first_moment = (cnt * first_moment + sum_) / (cnt + nb_pixels)\n",
    "        second_moment = (cnt * second_moment + sum_of_square) / (cnt + nb_pixels)\n",
    "        cnt += nb_pixels\n",
    "\n",
    "    mean = first_moment\n",
    "    std = torch.sqrt(second_moment - first_moment ** 2)\n",
    "    \n",
    "    return mean, std"
   ]
  },
  {
   "cell_type": "code",
   "execution_count": 4,
   "metadata": {},
   "outputs": [
    {
     "name": "stdout",
     "output_type": "stream",
     "text": [
      "tensor([0.3428, 0.3571, 0.2912]) tensor([0.1364, 0.1248, 0.1303])\n"
     ]
    }
   ],
   "source": [
    "mean, std = compute_mean_std(\"images_train\", \"traversal_costs_train.csv\")\n",
    "print(mean, std)"
   ]
  },
  {
   "cell_type": "code",
   "execution_count": 5,
   "metadata": {},
   "outputs": [],
   "source": [
    "# Compose several transforms together to be applied to training data\n",
    "# (Note that transforms are not applied yet)\n",
    "train_transform = transforms.Compose([\n",
    "    # Reduce the size of the images\n",
    "    # (if size is an int, the smaller edge of the\n",
    "    # image will be matched to this number and the ration is kept)\n",
    "    # transforms.Resize(100),\n",
    "    transforms.Resize((70, 210)),\n",
    "    \n",
    "    # Perform horizontal flip of the image with a probability of 0.5\n",
    "    transforms.RandomHorizontalFlip(p=0.5),\n",
    "    \n",
    "    # Modify the brightness and the contrast of the image\n",
    "    transforms.ColorJitter(contrast=0.5, brightness=0.5),\n",
    "    \n",
    "    # Convert a PIL Image or numpy.ndarray to tensor\n",
    "    transforms.ToTensor(),\n",
    "    \n",
    "    # Add some random gaussian noise to the image\n",
    "    transforms.Lambda(lambda x: x + (0.001**0.5)*torch.randn(x.shape)),\n",
    "    \n",
    "    # Normalize a tensor image with pre-computed mean and standard deviation\n",
    "    # (based on the data used to train the model(s))\n",
    "    # (be careful, it only works on torch.*Tensor)\n",
    "    transforms.Normalize(\n",
    "        # mean=[0.485, 0.456, 0.406],\n",
    "        # std=[0.229, 0.224, 0.225]\n",
    "        mean=mean,\n",
    "        std=std\n",
    "    ),\n",
    "])\n",
    "\n",
    "# Define a different set of transforms testing\n",
    "# (for instance we do not need to flip the image)\n",
    "test_transform = transforms.Compose([\n",
    "    # transforms.Resize(100),\n",
    "    transforms.Resize((70, 210)),\n",
    "    # transforms.Grayscale(),\n",
    "    # transforms.CenterCrop(100),\n",
    "    # transforms.RandomCrop(100),\n",
    "    transforms.ToTensor(),\n",
    "    \n",
    "    # Mean and standard deviation were pre-computed on the training data\n",
    "    # (on the ImageNet dataset)\n",
    "    transforms.Normalize(\n",
    "        # mean=[0.485, 0.456, 0.406],\n",
    "        # std=[0.229, 0.224, 0.225]\n",
    "        mean=mean,\n",
    "        std=std\n",
    "    ),\n",
    "])\n",
    "\n",
    "\n",
    "# # Create a Dataset instance for our training data\n",
    "# data = TraversabilityDataset(\n",
    "#     traversal_costs_file=DATASET / \"traversal_costs.csv\",\n",
    "#     images_directory=DATASET / \"images\",\n",
    "#     transform=train_transform\n",
    "# )\n",
    "\n",
    "# # Split our training dataset into a training dataset and a validation dataset\n",
    "# train_set, val_set, test_set = random_split(data, [0.8, 0.1, 0.1])\n",
    "\n",
    "\n",
    "# Create a Dataset for training\n",
    "train_set = TraversabilityDataset(\n",
    "    traversal_costs_file=DATASET / \"traversal_costs_train.csv\",\n",
    "    images_directory=DATASET / \"images_train\",\n",
    "    transform=train_transform\n",
    ")\n",
    "\n",
    "# Create a Dataset for validation\n",
    "val_set = TraversabilityDataset(\n",
    "    traversal_costs_file=DATASET / \"traversal_costs_train.csv\",\n",
    "    images_directory=DATASET / \"images_train\",\n",
    "    transform=test_transform\n",
    ")\n",
    "\n",
    "# Create a Dataset for testin\n",
    "test_set = TraversabilityDataset(\n",
    "    traversal_costs_file=DATASET / \"traversal_costs_test.csv\",\n",
    "    images_directory=DATASET / \"images_test\",\n",
    "    transform=test_transform\n",
    ")\n",
    "\n",
    "# Set the train dataset size\n",
    "# 70% of the total data is used for training, 15% for validation\n",
    "# and 15% for testing\n",
    "train_size = 70/(100-15)\n",
    "\n",
    "# Splits train data indices into train and validation data indices\n",
    "train_indices, val_indices = train_test_split(range(len(train_set)), train_size=train_size)\n",
    "\n",
    "# Extract the corresponding subsets of the train dataset\n",
    "train_set = Subset(train_set, train_indices)\n",
    "val_set = Subset(val_set, val_indices)\n",
    "\n",
    "\n",
    "BATCH_SIZE = 32\n",
    "\n",
    "# Combine a dataset and a sampler, and provide an iterable over the dataset\n",
    "# (setting shuffle argument to True calls a RandomSampler, and avoids to\n",
    "# have to create a Sampler object)\n",
    "train_loader = DataLoader(\n",
    "    train_set,\n",
    "    batch_size=BATCH_SIZE,\n",
    "    shuffle=True,\n",
    "    num_workers=12,  # Asynchronous data loading and augmentation\n",
    "    pin_memory=True,  # Increase the transferring speed of the data to the GPU\n",
    ")\n",
    "\n",
    "val_loader = DataLoader(\n",
    "    val_set,\n",
    "    batch_size=BATCH_SIZE,\n",
    "    shuffle=True,\n",
    "    num_workers=12,\n",
    "    pin_memory=True,\n",
    ")\n",
    "\n",
    "test_loader = DataLoader(\n",
    "    test_set,\n",
    "    batch_size=BATCH_SIZE,\n",
    "    shuffle=False,  # SequentialSampler\n",
    "    num_workers=12,\n",
    "    pin_memory=True,\n",
    ")"
   ]
  },
  {
   "cell_type": "code",
   "execution_count": 6,
   "metadata": {},
   "outputs": [],
   "source": [
    "# Get the number of samples per split\n",
    "NB_TRAIN = len(train_set)\n",
    "NB_VAL = len(val_set)\n",
    "NB_TEST = len(test_set)"
   ]
  },
  {
   "cell_type": "code",
   "execution_count": 7,
   "metadata": {},
   "outputs": [
    {
     "name": "stdout",
     "output_type": "stream",
     "text": [
      "69.0 % of the data for training (6238 samples)\n",
      "15.0 % of the data for validation (1337 samples)\n",
      "17.0 % of the data for testing (1497 samples)\n"
     ]
    }
   ],
   "source": [
    "# Display the splits ratio\n",
    "NB_SAMPLES = NB_TRAIN + NB_VAL + NB_TEST\n",
    "\n",
    "print(f\"{np.round(NB_TRAIN/NB_SAMPLES*100)} % of the data for training ({NB_TRAIN} samples)\")\n",
    "print(f\"{np.round(NB_VAL/NB_SAMPLES*100)} % of the data for validation ({NB_VAL} samples)\")\n",
    "print(f\"{np.round(NB_TEST/NB_SAMPLES*100)} % of the data for testing ({NB_TEST} samples)\")"
   ]
  },
  {
   "cell_type": "code",
   "execution_count": 8,
   "metadata": {},
   "outputs": [
    {
     "name": "stdout",
     "output_type": "stream",
     "text": [
      "6238\n"
     ]
    }
   ],
   "source": [
    "print(len(train_loader.dataset))"
   ]
  },
  {
   "attachments": {},
   "cell_type": "markdown",
   "metadata": {},
   "source": [
    "## GPU?"
   ]
  },
  {
   "cell_type": "code",
   "execution_count": 9,
   "metadata": {},
   "outputs": [
    {
     "name": "stdout",
     "output_type": "stream",
     "text": [
      "Device: cuda\n",
      "\n"
     ]
    }
   ],
   "source": [
    "# Use a GPU if available\n",
    "# device = \"cpu\"\n",
    "device = \"cuda\" if torch.cuda.is_available() else \"cpu\"\n",
    "print(f\"Device: {device}\\n\")"
   ]
  },
  {
   "attachments": {},
   "cell_type": "markdown",
   "metadata": {},
   "source": [
    "## Model design and initialization"
   ]
  },
  {
   "cell_type": "code",
   "execution_count": 10,
   "metadata": {},
   "outputs": [],
   "source": [
    "def resnet18(device=device):\n",
    "    \"\"\"Create a ResNet18 model with a fully-connected layer at the end.\n",
    "\n",
    "    Args:\n",
    "        device (string, optional): The device to use. Defaults to device.\n",
    "\n",
    "    Returns:\n",
    "        Model: The ResNet18 model\n",
    "    \"\"\"\n",
    "    # Load the pre-trained ResNet model\n",
    "    resnet = models.resnet18(weights=models.ResNet18_Weights.DEFAULT).to(device=device)\n",
    "\n",
    "    # Replace the last layer by a fully-connected one with N outputs\n",
    "    # (N being the number of classes)\n",
    "    resnet.fc = nn.Linear(resnet.fc.in_features, 10, device=device)\n",
    "\n",
    "    # Initialize the last layer using Xavier initialization\n",
    "    nn.init.xavier_uniform_(resnet.fc.weight)\n",
    "    \n",
    "    return resnet"
   ]
  },
  {
   "cell_type": "code",
   "execution_count": 11,
   "metadata": {},
   "outputs": [],
   "source": [
    "# Create a ResNet18 model\n",
    "model = resnet18()"
   ]
  },
  {
   "attachments": {},
   "cell_type": "markdown",
   "metadata": {},
   "source": [
    "#### Visualize the model"
   ]
  },
  {
   "cell_type": "code",
   "execution_count": 12,
   "metadata": {},
   "outputs": [
    {
     "name": "stdout",
     "output_type": "stream",
     "text": [
      "[('conv1.weight', torch.Size([64, 3, 7, 7])), ('bn1.weight', torch.Size([64])), ('bn1.bias', torch.Size([64])), ('layer1.0.conv1.weight', torch.Size([64, 64, 3, 3])), ('layer1.0.bn1.weight', torch.Size([64])), ('layer1.0.bn1.bias', torch.Size([64])), ('layer1.0.conv2.weight', torch.Size([64, 64, 3, 3])), ('layer1.0.bn2.weight', torch.Size([64])), ('layer1.0.bn2.bias', torch.Size([64])), ('layer1.1.conv1.weight', torch.Size([64, 64, 3, 3])), ('layer1.1.bn1.weight', torch.Size([64])), ('layer1.1.bn1.bias', torch.Size([64])), ('layer1.1.conv2.weight', torch.Size([64, 64, 3, 3])), ('layer1.1.bn2.weight', torch.Size([64])), ('layer1.1.bn2.bias', torch.Size([64])), ('layer2.0.conv1.weight', torch.Size([128, 64, 3, 3])), ('layer2.0.bn1.weight', torch.Size([128])), ('layer2.0.bn1.bias', torch.Size([128])), ('layer2.0.conv2.weight', torch.Size([128, 128, 3, 3])), ('layer2.0.bn2.weight', torch.Size([128])), ('layer2.0.bn2.bias', torch.Size([128])), ('layer2.0.downsample.0.weight', torch.Size([128, 64, 1, 1])), ('layer2.0.downsample.1.weight', torch.Size([128])), ('layer2.0.downsample.1.bias', torch.Size([128])), ('layer2.1.conv1.weight', torch.Size([128, 128, 3, 3])), ('layer2.1.bn1.weight', torch.Size([128])), ('layer2.1.bn1.bias', torch.Size([128])), ('layer2.1.conv2.weight', torch.Size([128, 128, 3, 3])), ('layer2.1.bn2.weight', torch.Size([128])), ('layer2.1.bn2.bias', torch.Size([128])), ('layer3.0.conv1.weight', torch.Size([256, 128, 3, 3])), ('layer3.0.bn1.weight', torch.Size([256])), ('layer3.0.bn1.bias', torch.Size([256])), ('layer3.0.conv2.weight', torch.Size([256, 256, 3, 3])), ('layer3.0.bn2.weight', torch.Size([256])), ('layer3.0.bn2.bias', torch.Size([256])), ('layer3.0.downsample.0.weight', torch.Size([256, 128, 1, 1])), ('layer3.0.downsample.1.weight', torch.Size([256])), ('layer3.0.downsample.1.bias', torch.Size([256])), ('layer3.1.conv1.weight', torch.Size([256, 256, 3, 3])), ('layer3.1.bn1.weight', torch.Size([256])), ('layer3.1.bn1.bias', torch.Size([256])), ('layer3.1.conv2.weight', torch.Size([256, 256, 3, 3])), ('layer3.1.bn2.weight', torch.Size([256])), ('layer3.1.bn2.bias', torch.Size([256])), ('layer4.0.conv1.weight', torch.Size([512, 256, 3, 3])), ('layer4.0.bn1.weight', torch.Size([512])), ('layer4.0.bn1.bias', torch.Size([512])), ('layer4.0.conv2.weight', torch.Size([512, 512, 3, 3])), ('layer4.0.bn2.weight', torch.Size([512])), ('layer4.0.bn2.bias', torch.Size([512])), ('layer4.0.downsample.0.weight', torch.Size([512, 256, 1, 1])), ('layer4.0.downsample.1.weight', torch.Size([512])), ('layer4.0.downsample.1.bias', torch.Size([512])), ('layer4.1.conv1.weight', torch.Size([512, 512, 3, 3])), ('layer4.1.bn1.weight', torch.Size([512])), ('layer4.1.bn1.bias', torch.Size([512])), ('layer4.1.conv2.weight', torch.Size([512, 512, 3, 3])), ('layer4.1.bn2.weight', torch.Size([512])), ('layer4.1.bn2.bias', torch.Size([512])), ('fc.weight', torch.Size([10, 512])), ('fc.bias', torch.Size([10]))]\n"
     ]
    }
   ],
   "source": [
    "# Open TensorBoard\n",
    "tensorboard = SummaryWriter()\n",
    "\n",
    "# Display the architecture in TensorBoard\n",
    "images, traversal_costs, traversability_labels = next(iter(train_loader))\n",
    "images = images.to(device)\n",
    "tensorboard.add_graph(model, images)\n",
    "\n",
    "# print(model)\n",
    "# print(torchsummary.summary(model, (3, 100, 100)))\n",
    "print([(name, param.shape) for name, param in model.named_parameters()])\n",
    "# print(model.fc.state_dict())"
   ]
  },
  {
   "attachments": {},
   "cell_type": "markdown",
   "metadata": {},
   "source": [
    "## Training and validation loops"
   ]
  },
  {
   "cell_type": "code",
   "execution_count": 15,
   "metadata": {},
   "outputs": [],
   "source": [
    "def train(model, device, train_loader, optimizer, criterion_classification, criterion_regression, bins_midpoints, epoch):\n",
    "    \"\"\"Train the model for one epoch\n",
    "\n",
    "    Args:\n",
    "        model (Model): The model to train\n",
    "        device (string): The device to use (cpu or cuda)\n",
    "        train_loader (Dataloader): The training data loader\n",
    "        optimizer (Optimizer): The optimizer to use\n",
    "        criterion_classification (Loss): The classification loss to use\n",
    "        criterion_regression (Loss): The regression loss to use\n",
    "        bins_midpoints (ndarray): The midpoints of the bins used to discretize the traversal costs\n",
    "        epoch (int): The current epoch\n",
    "\n",
    "    Returns:\n",
    "        double, double, double: The training loss, the training accuracy and the training regression loss\n",
    "    \"\"\"\n",
    "    # Initialize the training loss and accuracy\n",
    "    train_loss = 0.\n",
    "    train_correct = 0\n",
    "    train_regression_loss = 0.\n",
    "    \n",
    "    # Configure the model for training\n",
    "    # (good practice, only necessary if the model operates differently for\n",
    "    # training and validation)\n",
    "    model.train()\n",
    "    \n",
    "    # Add a progress bar\n",
    "    train_loader_pbar = tqdm(train_loader, unit=\"batch\")\n",
    "    \n",
    "    # Loop over the training batches\n",
    "    for images, traversal_costs, traversability_labels in train_loader_pbar:\n",
    "        \n",
    "        # Print the epoch and training mode\n",
    "        train_loader_pbar.set_description(f\"Epoch {epoch} [train]\")\n",
    "        \n",
    "        # Move images and traversal scores to GPU (if available)\n",
    "        images = images.to(device)\n",
    "        traversal_costs = traversal_costs.to(device)\n",
    "        traversability_labels = traversability_labels.to(device)\n",
    "        \n",
    "        # Zero out gradients before each backpropagation pass, to avoid that\n",
    "        # they accumulate\n",
    "        optimizer.zero_grad()\n",
    "        \n",
    "        # Perform forward pass\n",
    "        predicted_traversability_labels = model(images)\n",
    "        # predicted_traversal_scores = nn.Softmax(dim=1)(model(images))\n",
    "        \n",
    "        # Compute loss \n",
    "        loss = criterion_classification(predicted_traversability_labels, traversability_labels)\n",
    "        \n",
    "        # Print the batch loss next to the progress bar\n",
    "        train_loader_pbar.set_postfix(batch_loss=loss.item())\n",
    "        \n",
    "        # Perform backpropagation (update weights)\n",
    "        loss.backward()\n",
    "        \n",
    "        # Adjust parameters based on gradients\n",
    "        optimizer.step()\n",
    "        \n",
    "        # Accumulate batch loss to average over the epoch\n",
    "        train_loss += loss.item()\n",
    "    \n",
    "        # Get the number of correct predictions\n",
    "        train_correct += torch.sum(\n",
    "            torch.argmax(predicted_traversability_labels, dim=1) == traversability_labels\n",
    "            ).item()\n",
    "        \n",
    "        # Compute the expected traversal cost over the bins\n",
    "        expected_traversal_costs = torch.matmul(nn.Softmax(dim=1)(predicted_traversability_labels), bins_midpoints)\n",
    "        \n",
    "        # Compute and accumulate the batch loss\n",
    "        train_regression_loss += criterion_regression(expected_traversal_costs[:, 0], traversal_costs).item()\n",
    "    \n",
    "    # Compute the losses and accuracies\n",
    "    train_loss /= len(train_loader)\n",
    "    train_accuracy = 100*train_correct/NB_TRAIN\n",
    "    train_regression_loss /= len(train_loader)\n",
    "        \n",
    "    return train_loss, train_accuracy, train_regression_loss"
   ]
  },
  {
   "cell_type": "code",
   "execution_count": 16,
   "metadata": {},
   "outputs": [],
   "source": [
    "def validate(model, device, val_loader, criterion_classification, criterion_regression, bins_midpoints, epoch):\n",
    "    \"\"\"Validate the model for one epoch\n",
    "\n",
    "    Args:\n",
    "        model (Model): The model to validate\n",
    "        device (string): The device to use (cpu or cuda)\n",
    "        val_loader (Dataloader): The validation data loader\n",
    "        criterion_classification (Loss): The classification loss to use\n",
    "        criterion_regression (Loss): The regression loss to use\n",
    "        bins_midpoints (ndarray): The midpoints of the bins used to discretize the traversal costs\n",
    "        epoch (int): The current epoch\n",
    "        \n",
    "    Returns:\n",
    "        double, double, double: The validation loss, the validation accuracy and the validation regression loss\n",
    "    \"\"\"\n",
    "    # Initialize the validation loss and accuracy\n",
    "    val_loss = 0.\n",
    "    val_correct = 0\n",
    "    val_regression_loss = 0.\n",
    "    \n",
    "    # Configure the model for testing\n",
    "    # (turn off dropout layers, batchnorm layers, etc)\n",
    "    model.eval()\n",
    "    \n",
    "    # Add a progress bar\n",
    "    val_loader_pbar = tqdm(val_loader, unit=\"batch\")\n",
    "    \n",
    "    # Turn off gradients computation (the backward computational graph is built during\n",
    "    # the forward pass and weights are updated during the backward pass, here we avoid\n",
    "    # building the graph)\n",
    "    with torch.no_grad():\n",
    "        # Loop over the validation batches\n",
    "        for images, traversal_costs, traversability_labels in val_loader_pbar:\n",
    "\n",
    "            # Print the epoch and validation mode\n",
    "            val_loader_pbar.set_description(f\"Epoch {epoch} [val]\")\n",
    "\n",
    "            # Move images and traversal scores to GPU (if available)\n",
    "            images = images.to(device)\n",
    "            traversal_costs = traversal_costs.to(device)\n",
    "            traversability_labels = traversability_labels.to(device)\n",
    "            \n",
    "            # Perform forward pass (only, no backpropagation)\n",
    "            predicted_traversability_labels = model(images)\n",
    "            # predicted_traversal_scores = nn.Softmax(dim=1)(model(images))\n",
    "\n",
    "            # Compute loss\n",
    "            loss = criterion_classification(predicted_traversability_labels, traversability_labels)\n",
    "\n",
    "            # Print the batch loss next to the progress bar\n",
    "            val_loader_pbar.set_postfix(batch_loss=loss.item())\n",
    "\n",
    "            # Accumulate batch loss to average over the epoch\n",
    "            val_loss += loss.item()\n",
    "            \n",
    "            # Get the number of correct predictions\n",
    "            val_correct += torch.sum(\n",
    "                torch.argmax(predicted_traversability_labels, dim=1) == traversability_labels\n",
    "                ).item()\n",
    "            \n",
    "            # Compute the expected traversal cost over the bins\n",
    "            expected_traversal_costs = torch.matmul(nn.Softmax(dim=1)(predicted_traversability_labels), bins_midpoints)\n",
    "\n",
    "            # Compute and accumulate the batch loss\n",
    "            val_regression_loss += criterion_regression(expected_traversal_costs[:, 0], traversal_costs).item()\n",
    "        \n",
    "    # Compute the losses and accuracies\n",
    "    val_loss /= len(val_loader)\n",
    "    val_accuracy = 100*val_correct/NB_VAL\n",
    "    val_regression_loss /= len(val_loader)\n",
    "    \n",
    "    return val_loss, val_accuracy, val_regression_loss"
   ]
  },
  {
   "cell_type": "code",
   "execution_count": 17,
   "metadata": {},
   "outputs": [
    {
     "name": "stderr",
     "output_type": "stream",
     "text": [
      "Epoch 0 [train]: 100%|██████████| 195/195 [00:07<00:00, 27.66batch/s, batch_loss=1.92]\n",
      "Epoch 0 [val]: 100%|██████████| 42/42 [00:01<00:00, 31.13batch/s, batch_loss=2.18]\n"
     ]
    },
    {
     "name": "stdout",
     "output_type": "stream",
     "text": [
      "Train accuracy:  25.585123436999037\n",
      "Validation accuracy:  28.571428571428573\n",
      "Train regression loss:  0.07012841990583364\n",
      "Validation regression loss:  0.057840216399178836\n"
     ]
    },
    {
     "name": "stderr",
     "output_type": "stream",
     "text": [
      "Epoch 1 [train]: 100%|██████████| 195/195 [00:06<00:00, 28.27batch/s, batch_loss=1.45]\n",
      "Epoch 1 [val]: 100%|██████████| 42/42 [00:01<00:00, 33.28batch/s, batch_loss=1.88]\n"
     ]
    },
    {
     "name": "stdout",
     "output_type": "stream",
     "text": [
      "Train accuracy:  30.282141712087206\n",
      "Validation accuracy:  28.646222887060585\n",
      "Train regression loss:  0.04904899146072412\n",
      "Validation regression loss:  0.05437940774861768\n"
     ]
    },
    {
     "name": "stderr",
     "output_type": "stream",
     "text": [
      "Epoch 2 [train]: 100%|██████████| 195/195 [00:06<00:00, 27.98batch/s, batch_loss=2.05]\n",
      "Epoch 2 [val]: 100%|██████████| 42/42 [00:01<00:00, 32.15batch/s, batch_loss=1.8] \n"
     ]
    },
    {
     "name": "stdout",
     "output_type": "stream",
     "text": [
      "Train accuracy:  32.334081436357806\n",
      "Validation accuracy:  29.842931937172775\n",
      "Train regression loss:  0.047150295032673976\n",
      "Validation regression loss:  0.05466873218148336\n"
     ]
    },
    {
     "name": "stderr",
     "output_type": "stream",
     "text": [
      "Epoch 3 [train]: 100%|██████████| 195/195 [00:06<00:00, 27.90batch/s, batch_loss=1.63]\n",
      "Epoch 3 [val]: 100%|██████████| 42/42 [00:01<00:00, 32.46batch/s, batch_loss=1.8] \n"
     ]
    },
    {
     "name": "stdout",
     "output_type": "stream",
     "text": [
      "Train accuracy:  33.10355883295928\n",
      "Validation accuracy:  29.319371727748692\n",
      "Train regression loss:  0.04450305247908575\n",
      "Validation regression loss:  0.05585646644359664\n"
     ]
    },
    {
     "name": "stderr",
     "output_type": "stream",
     "text": [
      "Epoch 4 [train]: 100%|██████████| 195/195 [00:06<00:00, 30.02batch/s, batch_loss=1.48]\n",
      "Epoch 4 [val]: 100%|██████████| 42/42 [00:01<00:00, 32.15batch/s, batch_loss=1.41]\n"
     ]
    },
    {
     "name": "stdout",
     "output_type": "stream",
     "text": [
      "Train accuracy:  34.46617505610773\n",
      "Validation accuracy:  29.094988780852656\n",
      "Train regression loss:  0.04427361276451033\n",
      "Validation regression loss:  0.050521856406251286\n"
     ]
    },
    {
     "name": "stderr",
     "output_type": "stream",
     "text": [
      "Epoch 5 [train]: 100%|██████████| 195/195 [00:06<00:00, 28.36batch/s, batch_loss=1.4] \n",
      "Epoch 5 [val]: 100%|██████████| 42/42 [00:01<00:00, 32.10batch/s, batch_loss=1.93]\n"
     ]
    },
    {
     "name": "stdout",
     "output_type": "stream",
     "text": [
      "Train accuracy:  35.37992946457198\n",
      "Validation accuracy:  29.69334330590875\n",
      "Train regression loss:  0.0417535072081079\n",
      "Validation regression loss:  0.04757851542381157\n"
     ]
    },
    {
     "name": "stderr",
     "output_type": "stream",
     "text": [
      "Epoch 6 [train]: 100%|██████████| 195/195 [00:06<00:00, 28.07batch/s, batch_loss=1.56]\n",
      "Epoch 6 [val]: 100%|██████████| 42/42 [00:01<00:00, 31.09batch/s, batch_loss=1.61]\n"
     ]
    },
    {
     "name": "stdout",
     "output_type": "stream",
     "text": [
      "Train accuracy:  35.29977556909266\n",
      "Validation accuracy:  32.460732984293195\n",
      "Train regression loss:  0.041628545714876716\n",
      "Validation regression loss:  0.04743451618413151\n"
     ]
    },
    {
     "name": "stderr",
     "output_type": "stream",
     "text": [
      "Epoch 7 [train]: 100%|██████████| 195/195 [00:07<00:00, 26.97batch/s, batch_loss=1.38]\n",
      "Epoch 7 [val]: 100%|██████████| 42/42 [00:01<00:00, 30.76batch/s, batch_loss=1.49]\n"
     ]
    },
    {
     "name": "stdout",
     "output_type": "stream",
     "text": [
      "Train accuracy:  36.117345302981725\n",
      "Validation accuracy:  29.319371727748692\n",
      "Train regression loss:  0.040652416415772205\n",
      "Validation regression loss:  0.04619493371631981\n"
     ]
    },
    {
     "name": "stderr",
     "output_type": "stream",
     "text": [
      "Epoch 8 [train]: 100%|██████████| 195/195 [00:06<00:00, 28.66batch/s, batch_loss=1.38]\n",
      "Epoch 8 [val]: 100%|██████████| 42/42 [00:01<00:00, 31.98batch/s, batch_loss=1.78]\n"
     ]
    },
    {
     "name": "stdout",
     "output_type": "stream",
     "text": [
      "Train accuracy:  36.29368387303623\n",
      "Validation accuracy:  30.964846671652953\n",
      "Train regression loss:  0.040763153622192703\n",
      "Validation regression loss:  0.048921161424803156\n"
     ]
    },
    {
     "name": "stderr",
     "output_type": "stream",
     "text": [
      "Epoch 9 [train]: 100%|██████████| 195/195 [00:07<00:00, 27.61batch/s, batch_loss=1.34]\n",
      "Epoch 9 [val]: 100%|██████████| 42/42 [00:01<00:00, 33.10batch/s, batch_loss=1.45]\n"
     ]
    },
    {
     "name": "stdout",
     "output_type": "stream",
     "text": [
      "Train accuracy:  36.91888425777493\n",
      "Validation accuracy:  33.05908750934929\n",
      "Train regression loss:  0.0396618282659916\n",
      "Validation regression loss:  0.04647826704210961\n"
     ]
    },
    {
     "name": "stderr",
     "output_type": "stream",
     "text": [
      "Epoch 10 [train]: 100%|██████████| 195/195 [00:06<00:00, 28.88batch/s, batch_loss=1.28]\n",
      "Epoch 10 [val]: 100%|██████████| 42/42 [00:01<00:00, 34.97batch/s, batch_loss=1.26]\n"
     ]
    },
    {
     "name": "stdout",
     "output_type": "stream",
     "text": [
      "Train accuracy:  38.05706957358127\n",
      "Validation accuracy:  31.787584143605088\n",
      "Train regression loss:  0.0394053824239096\n",
      "Validation regression loss:  0.04865360154376025\n"
     ]
    },
    {
     "name": "stderr",
     "output_type": "stream",
     "text": [
      "Epoch 11 [train]: 100%|██████████| 195/195 [00:07<00:00, 27.70batch/s, batch_loss=1.5] \n",
      "Epoch 11 [val]: 100%|██████████| 42/42 [00:01<00:00, 33.63batch/s, batch_loss=1.98]\n"
     ]
    },
    {
     "name": "stdout",
     "output_type": "stream",
     "text": [
      "Train accuracy:  38.69830073741584\n",
      "Validation accuracy:  32.01196709050112\n",
      "Train regression loss:  0.03807505852067682\n",
      "Validation regression loss:  0.0502673045964923\n"
     ]
    },
    {
     "name": "stderr",
     "output_type": "stream",
     "text": [
      "Epoch 12 [train]: 100%|██████████| 195/195 [00:06<00:00, 27.96batch/s, batch_loss=1.48]\n",
      "Epoch 12 [val]: 100%|██████████| 42/42 [00:01<00:00, 33.70batch/s, batch_loss=1.9] \n"
     ]
    },
    {
     "name": "stdout",
     "output_type": "stream",
     "text": [
      "Train accuracy:  38.77845463289516\n",
      "Validation accuracy:  33.7322363500374\n",
      "Train regression loss:  0.038559727283386774\n",
      "Validation regression loss:  0.046033878499260855\n"
     ]
    },
    {
     "name": "stderr",
     "output_type": "stream",
     "text": [
      "Epoch 13 [train]: 100%|██████████| 195/195 [00:06<00:00, 28.57batch/s, batch_loss=1.37]\n",
      "Epoch 13 [val]: 100%|██████████| 42/42 [00:01<00:00, 29.57batch/s, batch_loss=1.89]\n"
     ]
    },
    {
     "name": "stdout",
     "output_type": "stream",
     "text": [
      "Train accuracy:  39.820455274126324\n",
      "Validation accuracy:  33.43305908750935\n",
      "Train regression loss:  0.03645095363247811\n",
      "Validation regression loss:  0.04586283583268752\n"
     ]
    },
    {
     "name": "stderr",
     "output_type": "stream",
     "text": [
      "Epoch 14 [train]: 100%|██████████| 195/195 [00:06<00:00, 28.19batch/s, batch_loss=1.31]\n",
      "Epoch 14 [val]: 100%|██████████| 42/42 [00:01<00:00, 31.81batch/s, batch_loss=1.46]\n"
     ]
    },
    {
     "name": "stdout",
     "output_type": "stream",
     "text": [
      "Train accuracy:  40.50977877524848\n",
      "Validation accuracy:  33.283470456245325\n",
      "Train regression loss:  0.03707919478153521\n",
      "Validation regression loss:  0.04789549131718336\n"
     ]
    },
    {
     "name": "stderr",
     "output_type": "stream",
     "text": [
      "Epoch 15 [train]: 100%|██████████| 195/195 [00:07<00:00, 27.81batch/s, batch_loss=1.62]\n",
      "Epoch 15 [val]: 100%|██████████| 42/42 [00:01<00:00, 32.39batch/s, batch_loss=1.69]\n"
     ]
    },
    {
     "name": "stdout",
     "output_type": "stream",
     "text": [
      "Train accuracy:  41.47162552100032\n",
      "Validation accuracy:  33.43305908750935\n",
      "Train regression loss:  0.03687258265821459\n",
      "Validation regression loss:  0.044036002488151316\n"
     ]
    },
    {
     "name": "stderr",
     "output_type": "stream",
     "text": [
      "Epoch 16 [train]: 100%|██████████| 195/195 [00:07<00:00, 27.44batch/s, batch_loss=1.29]\n",
      "Epoch 16 [val]: 100%|██████████| 42/42 [00:01<00:00, 30.74batch/s, batch_loss=1.47]\n"
     ]
    },
    {
     "name": "stdout",
     "output_type": "stream",
     "text": [
      "Train accuracy:  41.03879448541199\n",
      "Validation accuracy:  33.657442034405385\n",
      "Train regression loss:  0.03757520611621887\n",
      "Validation regression loss:  0.043079058023402866\n"
     ]
    },
    {
     "name": "stderr",
     "output_type": "stream",
     "text": [
      "Epoch 17 [train]: 100%|██████████| 195/195 [00:06<00:00, 28.88batch/s, batch_loss=1.44]\n",
      "Epoch 17 [val]: 100%|██████████| 42/42 [00:01<00:00, 35.29batch/s, batch_loss=1.57]\n"
     ]
    },
    {
     "name": "stdout",
     "output_type": "stream",
     "text": [
      "Train accuracy:  41.08688682269958\n",
      "Validation accuracy:  35.45250560957367\n",
      "Train regression loss:  0.0357585066267945\n",
      "Validation regression loss:  0.04169812194912906\n"
     ]
    },
    {
     "name": "stderr",
     "output_type": "stream",
     "text": [
      "Epoch 18 [train]: 100%|██████████| 195/195 [00:07<00:00, 27.76batch/s, batch_loss=1.36]\n",
      "Epoch 18 [val]: 100%|██████████| 42/42 [00:01<00:00, 31.69batch/s, batch_loss=1.8] \n"
     ]
    },
    {
     "name": "stdout",
     "output_type": "stream",
     "text": [
      "Train accuracy:  41.808271882013464\n",
      "Validation accuracy:  31.114435302916977\n",
      "Train regression loss:  0.03516438370241736\n",
      "Validation regression loss:  0.04873385012522537\n"
     ]
    },
    {
     "name": "stderr",
     "output_type": "stream",
     "text": [
      "Epoch 19 [train]: 100%|██████████| 195/195 [00:06<00:00, 28.48batch/s, batch_loss=1.32]\n",
      "Epoch 19 [val]: 100%|██████████| 42/42 [00:01<00:00, 33.52batch/s, batch_loss=1.43]\n"
     ]
    },
    {
     "name": "stdout",
     "output_type": "stream",
     "text": [
      "Train accuracy:  41.7922411029176\n",
      "Validation accuracy:  32.086761406133135\n",
      "Train regression loss:  0.03507311172972862\n",
      "Validation regression loss:  0.04541185208984285\n"
     ]
    },
    {
     "name": "stderr",
     "output_type": "stream",
     "text": [
      "Epoch 20 [train]: 100%|██████████| 195/195 [00:06<00:00, 28.26batch/s, batch_loss=1.4] \n",
      "Epoch 20 [val]: 100%|██████████| 42/42 [00:01<00:00, 32.62batch/s, batch_loss=1.97]\n"
     ]
    },
    {
     "name": "stdout",
     "output_type": "stream",
     "text": [
      "Train accuracy:  42.1930105803142\n",
      "Validation accuracy:  28.122662677636498\n",
      "Train regression loss:  0.034191313250394234\n",
      "Validation regression loss:  0.04846927660538135\n"
     ]
    },
    {
     "name": "stderr",
     "output_type": "stream",
     "text": [
      "Epoch 21 [train]: 100%|██████████| 195/195 [00:06<00:00, 27.96batch/s, batch_loss=1.77] \n",
      "Epoch 21 [val]: 100%|██████████| 42/42 [00:01<00:00, 34.09batch/s, batch_loss=1.66]\n"
     ]
    },
    {
     "name": "stdout",
     "output_type": "stream",
     "text": [
      "Train accuracy:  42.51362616223148\n",
      "Validation accuracy:  33.20867614061331\n",
      "Train regression loss:  0.03477289478053384\n",
      "Validation regression loss:  0.04252474937742299\n"
     ]
    },
    {
     "name": "stderr",
     "output_type": "stream",
     "text": [
      "Epoch 22 [train]: 100%|██████████| 195/195 [00:07<00:00, 27.36batch/s, batch_loss=1.25]\n",
      "Epoch 22 [val]: 100%|██████████| 42/42 [00:01<00:00, 31.24batch/s, batch_loss=1.42]\n"
     ]
    },
    {
     "name": "stdout",
     "output_type": "stream",
     "text": [
      "Train accuracy:  44.084642513626164\n",
      "Validation accuracy:  34.62976813762154\n",
      "Train regression loss:  0.03394162778251789\n",
      "Validation regression loss:  0.04305852665821698\n"
     ]
    },
    {
     "name": "stderr",
     "output_type": "stream",
     "text": [
      "Epoch 23 [train]: 100%|██████████| 195/195 [00:07<00:00, 27.80batch/s, batch_loss=1.29]\n",
      "Epoch 23 [val]: 100%|██████████| 42/42 [00:01<00:00, 34.63batch/s, batch_loss=2.05]\n"
     ]
    },
    {
     "name": "stdout",
     "output_type": "stream",
     "text": [
      "Train accuracy:  43.18691888425778\n",
      "Validation accuracy:  33.7322363500374\n",
      "Train regression loss:  0.03471728203398509\n",
      "Validation regression loss:  0.04292253416407166\n"
     ]
    },
    {
     "name": "stderr",
     "output_type": "stream",
     "text": [
      "Epoch 24 [train]: 100%|██████████| 195/195 [00:06<00:00, 28.05batch/s, batch_loss=1.37]\n",
      "Epoch 24 [val]: 100%|██████████| 42/42 [00:01<00:00, 32.71batch/s, batch_loss=1.6] \n"
     ]
    },
    {
     "name": "stdout",
     "output_type": "stream",
     "text": [
      "Train accuracy:  45.046489259378006\n",
      "Validation accuracy:  33.657442034405385\n",
      "Train regression loss:  0.0338275570373965\n",
      "Validation regression loss:  0.0440328090070186\n"
     ]
    },
    {
     "name": "stderr",
     "output_type": "stream",
     "text": [
      "Epoch 25 [train]: 100%|██████████| 195/195 [00:06<00:00, 28.78batch/s, batch_loss=1.3]  \n",
      "Epoch 25 [val]: 100%|██████████| 42/42 [00:01<00:00, 33.28batch/s, batch_loss=1.68]\n"
     ]
    },
    {
     "name": "stdout",
     "output_type": "stream",
     "text": [
      "Train accuracy:  46.42513626162231\n",
      "Validation accuracy:  35.602094240837694\n",
      "Train regression loss:  0.03220922359005141\n",
      "Validation regression loss:  0.044983755129868616\n"
     ]
    },
    {
     "name": "stderr",
     "output_type": "stream",
     "text": [
      "Epoch 26 [train]: 100%|██████████| 195/195 [00:06<00:00, 28.43batch/s, batch_loss=1.26]\n",
      "Epoch 26 [val]: 100%|██████████| 42/42 [00:01<00:00, 32.87batch/s, batch_loss=1.42]\n"
     ]
    },
    {
     "name": "stdout",
     "output_type": "stream",
     "text": [
      "Train accuracy:  45.960243667842256\n",
      "Validation accuracy:  33.1338818249813\n",
      "Train regression loss:  0.0318186143148471\n",
      "Validation regression loss:  0.04611681675431011\n"
     ]
    },
    {
     "name": "stderr",
     "output_type": "stream",
     "text": [
      "Epoch 27 [train]: 100%|██████████| 195/195 [00:06<00:00, 27.94batch/s, batch_loss=1.28]\n",
      "Epoch 27 [val]: 100%|██████████| 42/42 [00:01<00:00, 31.83batch/s, batch_loss=1.71]\n"
     ]
    },
    {
     "name": "stdout",
     "output_type": "stream",
     "text": [
      "Train accuracy:  46.08848990060917\n",
      "Validation accuracy:  31.039640987284965\n",
      "Train regression loss:  0.03285554600070736\n",
      "Validation regression loss:  0.048485627499077255\n"
     ]
    },
    {
     "name": "stderr",
     "output_type": "stream",
     "text": [
      "Epoch 28 [train]: 100%|██████████| 195/195 [00:07<00:00, 27.52batch/s, batch_loss=1.04] \n",
      "Epoch 28 [val]: 100%|██████████| 42/42 [00:01<00:00, 33.60batch/s, batch_loss=1.9] \n"
     ]
    },
    {
     "name": "stdout",
     "output_type": "stream",
     "text": [
      "Train accuracy:  46.906059634498234\n",
      "Validation accuracy:  34.031413612565444\n",
      "Train regression loss:  0.03208557136026699\n",
      "Validation regression loss:  0.0464452457252067\n"
     ]
    },
    {
     "name": "stderr",
     "output_type": "stream",
     "text": [
      "Epoch 29 [train]: 100%|██████████| 195/195 [00:06<00:00, 27.88batch/s, batch_loss=1.3]  \n",
      "Epoch 29 [val]: 100%|██████████| 42/42 [00:01<00:00, 33.16batch/s, batch_loss=1.86]\n"
     ]
    },
    {
     "name": "stdout",
     "output_type": "stream",
     "text": [
      "Train accuracy:  47.73966014748317\n",
      "Validation accuracy:  35.228122662677634\n",
      "Train regression loss:  0.030883634759105737\n",
      "Validation regression loss:  0.04185608732733947\n"
     ]
    },
    {
     "name": "stderr",
     "output_type": "stream",
     "text": [
      "Epoch 30 [train]: 100%|██████████| 195/195 [00:07<00:00, 27.76batch/s, batch_loss=1.45] \n",
      "Epoch 30 [val]: 100%|██████████| 42/42 [00:01<00:00, 32.91batch/s, batch_loss=1.36]\n"
     ]
    },
    {
     "name": "stdout",
     "output_type": "stream",
     "text": [
      "Train accuracy:  48.36486053222187\n",
      "Validation accuracy:  36.49962602842184\n",
      "Train regression loss:  0.030874386678175852\n",
      "Validation regression loss:  0.040507706410626294\n"
     ]
    },
    {
     "name": "stderr",
     "output_type": "stream",
     "text": [
      "Epoch 31 [train]: 100%|██████████| 195/195 [00:06<00:00, 28.74batch/s, batch_loss=1.38] \n",
      "Epoch 31 [val]: 100%|██████████| 42/42 [00:01<00:00, 32.47batch/s, batch_loss=1.9] \n"
     ]
    },
    {
     "name": "stdout",
     "output_type": "stream",
     "text": [
      "Train accuracy:  49.61526130169926\n",
      "Validation accuracy:  36.050860134629765\n",
      "Train regression loss:  0.030084496019478716\n",
      "Validation regression loss:  0.04178174522587171\n"
     ]
    },
    {
     "name": "stderr",
     "output_type": "stream",
     "text": [
      "Epoch 32 [train]: 100%|██████████| 195/195 [00:06<00:00, 27.98batch/s, batch_loss=1.32]\n",
      "Epoch 32 [val]: 100%|██████████| 42/42 [00:01<00:00, 31.08batch/s, batch_loss=2.19]\n"
     ]
    },
    {
     "name": "stdout",
     "output_type": "stream",
     "text": [
      "Train accuracy:  49.43892273164476\n",
      "Validation accuracy:  35.90127150336574\n",
      "Train regression loss:  0.030396752970182954\n",
      "Validation regression loss:  0.039841469731237755\n"
     ]
    },
    {
     "name": "stderr",
     "output_type": "stream",
     "text": [
      "Epoch 33 [train]: 100%|██████████| 195/195 [00:06<00:00, 28.10batch/s, batch_loss=1.24] \n",
      "Epoch 33 [val]: 100%|██████████| 42/42 [00:01<00:00, 31.48batch/s, batch_loss=1.69]\n"
     ]
    },
    {
     "name": "stdout",
     "output_type": "stream",
     "text": [
      "Train accuracy:  48.92593780057711\n",
      "Validation accuracy:  33.20867614061331\n",
      "Train regression loss:  0.03051154101234489\n",
      "Validation regression loss:  0.0448516357306822\n"
     ]
    },
    {
     "name": "stderr",
     "output_type": "stream",
     "text": [
      "Epoch 34 [train]: 100%|██████████| 195/195 [00:07<00:00, 27.72batch/s, batch_loss=1.25] \n",
      "Epoch 34 [val]: 100%|██████████| 42/42 [00:01<00:00, 33.47batch/s, batch_loss=1.85]\n"
     ]
    },
    {
     "name": "stdout",
     "output_type": "stream",
     "text": [
      "Train accuracy:  50.51298493106765\n",
      "Validation accuracy:  33.50785340314136\n",
      "Train regression loss:  0.029758214022667068\n",
      "Validation regression loss:  0.04103305363286031\n"
     ]
    },
    {
     "name": "stderr",
     "output_type": "stream",
     "text": [
      "Epoch 35 [train]: 100%|██████████| 195/195 [00:07<00:00, 27.85batch/s, batch_loss=1.61] \n",
      "Epoch 35 [val]: 100%|██████████| 42/42 [00:01<00:00, 32.19batch/s, batch_loss=1.57]\n"
     ]
    },
    {
     "name": "stdout",
     "output_type": "stream",
     "text": [
      "Train accuracy:  51.0259698621353\n",
      "Validation accuracy:  35.302916978309646\n",
      "Train regression loss:  0.029759937518239805\n",
      "Validation regression loss:  0.04032994096382475\n"
     ]
    },
    {
     "name": "stderr",
     "output_type": "stream",
     "text": [
      "Epoch 36 [train]: 100%|██████████| 195/195 [00:06<00:00, 28.08batch/s, batch_loss=1.17] \n",
      "Epoch 36 [val]: 100%|██████████| 42/42 [00:01<00:00, 33.57batch/s, batch_loss=1.48]\n"
     ]
    },
    {
     "name": "stdout",
     "output_type": "stream",
     "text": [
      "Train accuracy:  50.48092337287592\n",
      "Validation accuracy:  34.18100224382947\n",
      "Train regression loss:  0.029638192174720634\n",
      "Validation regression loss:  0.042982595929375714\n"
     ]
    },
    {
     "name": "stderr",
     "output_type": "stream",
     "text": [
      "Epoch 37 [train]: 100%|██████████| 195/195 [00:06<00:00, 28.47batch/s, batch_loss=1.32] \n",
      "Epoch 37 [val]: 100%|██████████| 42/42 [00:01<00:00, 31.27batch/s, batch_loss=1.65]\n"
     ]
    },
    {
     "name": "stdout",
     "output_type": "stream",
     "text": [
      "Train accuracy:  51.63513946777813\n",
      "Validation accuracy:  36.050860134629765\n",
      "Train regression loss:  0.0292871597800497\n",
      "Validation regression loss:  0.042120789638539186\n"
     ]
    },
    {
     "name": "stderr",
     "output_type": "stream",
     "text": [
      "Epoch 38 [train]: 100%|██████████| 195/195 [00:06<00:00, 28.11batch/s, batch_loss=1.16] \n",
      "Epoch 38 [val]: 100%|██████████| 42/42 [00:01<00:00, 31.68batch/s, batch_loss=1.74]\n"
     ]
    },
    {
     "name": "stdout",
     "output_type": "stream",
     "text": [
      "Train accuracy:  52.03590894517473\n",
      "Validation accuracy:  35.97606581899775\n",
      "Train regression loss:  0.029150245052007924\n",
      "Validation regression loss:  0.04047884096810359\n"
     ]
    },
    {
     "name": "stderr",
     "output_type": "stream",
     "text": [
      "Epoch 39 [train]: 100%|██████████| 195/195 [00:06<00:00, 28.48batch/s, batch_loss=1.14] \n",
      "Epoch 39 [val]: 100%|██████████| 42/42 [00:01<00:00, 30.60batch/s, batch_loss=1.43]"
     ]
    },
    {
     "name": "stdout",
     "output_type": "stream",
     "text": [
      "Train accuracy:  52.6771401090093\n",
      "Validation accuracy:  36.20044876589379\n",
      "Train regression loss:  0.02904422386924557\n",
      "Validation regression loss:  0.041801678934341134\n"
     ]
    },
    {
     "name": "stderr",
     "output_type": "stream",
     "text": [
      "\n"
     ]
    }
   ],
   "source": [
    "# Define the loss function (combines nn.LogSoftmax() and nn.NLLLoss())\n",
    "criterion_classification = nn.CrossEntropyLoss()\n",
    "\n",
    "# Loss function to compare the expected traversal cost over the bins\n",
    "# and the ground truth traversal cost\n",
    "criterion_regression = nn.MSELoss()\n",
    "\n",
    "# Load the bins midpoints\n",
    "bins_midpoints = np.load(DATASET / \"bins_midpoints.npy\")\n",
    "bins_midpoints = torch.tensor(bins_midpoints[:, None], dtype=torch.float32, device=device)\n",
    "\n",
    "# Get all the parameters excepts the weights and bias of fc layer\n",
    "base_params = [param for name, param in model.named_parameters()\n",
    "               if name not in [\"fc.weight\", \"fc.bias\"]]\n",
    "\n",
    "# Define the optimizer, with a greater learning rate for the new fc layer\n",
    "optimizer = optim.SGD([\n",
    "    {\"params\": base_params},\n",
    "    {\"params\": model.fc.parameters(), \"lr\": 1e-3},\n",
    "],\n",
    "    lr=1e-4, momentum=0.9, weight_decay=0.001)\n",
    "\n",
    "# An epoch is one complete pass of the training dataset through the network\n",
    "NB_EPOCHS = 40\n",
    "\n",
    "# Create tensors to store the loss and accuracy values\n",
    "loss_values = torch.zeros(2, NB_EPOCHS)\n",
    "accuracy_values = torch.zeros(2, NB_EPOCHS)\n",
    "regression_loss_values = torch.zeros(2, NB_EPOCHS)\n",
    "\n",
    "# Loop over the epochs\n",
    "for epoch in range(NB_EPOCHS):\n",
    "    \n",
    "    # Training\n",
    "    train_loss, train_accuracy, train_regression_loss = train(model,\n",
    "                                                              device,\n",
    "                                                              train_loader,\n",
    "                                                              optimizer,\n",
    "                                                              criterion_classification,\n",
    "                                                              criterion_regression,\n",
    "                                                              bins_midpoints,\n",
    "                                                              epoch)\n",
    "    \n",
    "    # Validation\n",
    "    val_loss, val_accuracy, val_regression_loss = validate(model,\n",
    "                                                           device,\n",
    "                                                           val_loader,\n",
    "                                                           criterion_classification,\n",
    "                                                           criterion_regression,\n",
    "                                                           bins_midpoints,\n",
    "                                                           epoch) \n",
    "    \n",
    "    print(\"Train accuracy: \", train_accuracy)\n",
    "    print(\"Validation accuracy: \", val_accuracy)\n",
    "    print(\"Train regression loss: \", train_regression_loss)\n",
    "    print(\"Validation regression loss: \", val_regression_loss)\n",
    "    \n",
    "    # Store the computed losses\n",
    "    loss_values[0, epoch] = train_loss\n",
    "    loss_values[1, epoch] = val_loss\n",
    "    # Store the computed accuracies\n",
    "    accuracy_values[0, epoch] = train_accuracy\n",
    "    accuracy_values[1, epoch] = val_accuracy\n",
    "    # Store the computed regression losses\n",
    "    regression_loss_values[0, epoch] = train_regression_loss\n",
    "    regression_loss_values[1, epoch] = val_regression_loss\n",
    "    \n",
    "    # Add the losses to TensorBoard\n",
    "    tensorboard.add_scalar(\"train_loss\", train_loss, epoch)\n",
    "    tensorboard.add_scalar(\"val_loss\", val_loss, epoch)\n",
    "    # Add the accuracies to TensorBoard\n",
    "    tensorboard.add_scalar(\"train_accuracy\", train_accuracy, epoch)\n",
    "    tensorboard.add_scalar(\"val_accuracy\", val_accuracy, epoch)\n",
    "    # Add the regression losses to TensorBoard\n",
    "    tensorboard.add_scalar(\"train_regression_loss\", train_regression_loss, epoch)\n",
    "    tensorboard.add_scalar(\"val_regression_loss\", val_regression_loss, epoch)\n",
    "\n",
    "# Close TensorBoard\n",
    "tensorboard.close()"
   ]
  },
  {
   "attachments": {},
   "cell_type": "markdown",
   "metadata": {},
   "source": [
    "### Visualization"
   ]
  },
  {
   "cell_type": "code",
   "execution_count": 18,
   "metadata": {},
   "outputs": [
    {
     "data": {
      "text/plain": [
       "Text(0.5, 0, 'Epoch')"
      ]
     },
     "execution_count": 18,
     "metadata": {},
     "output_type": "execute_result"
    },
    {
     "data": {
      "image/png": "[encoded data removed]",
      "text/plain": [
       "<Figure size 640x480 with 1 Axes>"
      ]
     },
     "metadata": {},
     "output_type": "display_data"
    }
   ],
   "source": [
    "# Loss\n",
    "train_losses = loss_values[0]\n",
    "val_losses = loss_values[1]\n",
    "\n",
    "plt.plot(train_losses, \"b\", label=\"train loss\")\n",
    "plt.plot(val_losses, \"r\", label=\"validation loss\")\n",
    "\n",
    "plt.legend()\n",
    "plt.xlabel(\"Epoch\")"
   ]
  },
  {
   "cell_type": "code",
   "execution_count": 19,
   "metadata": {},
   "outputs": [
    {
     "data": {
      "text/plain": [
       "Text(0.5, 0, 'Epoch')"
      ]
     },
     "execution_count": 19,
     "metadata": {},
     "output_type": "execute_result"
    },
    {
     "data": {
      "image/png": "[encoded data removed]",
      "text/plain": [
       "<Figure size 640x480 with 1 Axes>"
      ]
     },
     "metadata": {},
     "output_type": "display_data"
    }
   ],
   "source": [
    "# Accuracy\n",
    "train_accuracies = accuracy_values[0]\n",
    "val_accuracies = accuracy_values[1]\n",
    "\n",
    "plt.plot(train_accuracies, \"b\", label=\"train accuracy\")\n",
    "plt.plot(val_accuracies, \"r\", label=\"validation accuracy\")\n",
    "\n",
    "plt.legend()\n",
    "plt.xlabel(\"Epoch\")"
   ]
  },
  {
   "cell_type": "code",
   "execution_count": 20,
   "metadata": {},
   "outputs": [
    {
     "data": {
      "text/plain": [
       "Text(0.5, 0, 'Epoch')"
      ]
     },
     "execution_count": 20,
     "metadata": {},
     "output_type": "execute_result"
    },
    {
     "data": {
      "image/png": "[encoded data removed]",
      "text/plain": [
       "<Figure size 640x480 with 1 Axes>"
      ]
     },
     "metadata": {},
     "output_type": "display_data"
    }
   ],
   "source": [
    "# Regression loss\n",
    "train_regression_losses = regression_loss_values[0]\n",
    "val_regression_losses = regression_loss_values[1]\n",
    "\n",
    "plt.plot(train_regression_losses, \"b\", label=\"train regression loss\")\n",
    "plt.plot(val_regression_losses, \"r\", label=\"validation regression loss\")\n",
    "\n",
    "plt.legend()\n",
    "plt.xlabel(\"Epoch\")"
   ]
  },
  {
   "cell_type": "markdown",
   "metadata": {},
   "source": [
    "## Testing"
   ]
  },
  {
   "attachments": {},
   "cell_type": "markdown",
   "metadata": {},
   "source": [
    "#### Uncertainty functions"
   ]
  },
  {
   "cell_type": "code",
   "execution_count": 21,
   "metadata": {},
   "outputs": [],
   "source": [
    "def shannon_entropy(p):\n",
    "    \"\"\"\n",
    "    Apply the Shannon entropy function to a probability distribution\n",
    "    \"\"\"\n",
    "    return -torch.sum(p*torch.log(p), dim=1)\n",
    "\n",
    "def least_confidence(p):\n",
    "    \"\"\"\n",
    "    Apply the least confidence function to a probability distribution\n",
    "    \"\"\"\n",
    "    return 1 - torch.max(p, dim=1)[0]\n",
    "\n",
    "def confidence_margin(p):\n",
    "    \"\"\"\n",
    "    Apply the margin sampling function to a probability distribution\n",
    "    \"\"\"\n",
    "    sorted_p, _ = torch.sort(p, dim=1, descending=True)\n",
    "    return 1 - (sorted_p[:, 0] - sorted_p[:, 1])\n"
   ]
  },
  {
   "attachments": {},
   "cell_type": "markdown",
   "metadata": {},
   "source": [
    "#### Regression error function"
   ]
  },
  {
   "cell_type": "code",
   "execution_count": 22,
   "metadata": {},
   "outputs": [],
   "source": [
    "def squared_error(predicted_costs, true_costs):\n",
    "    \"\"\"\n",
    "    Apply the squared error function to a predicted and true traversal cost\n",
    "    \"\"\"\n",
    "    return (predicted_costs - true_costs)**2"
   ]
  },
  {
   "attachments": {},
   "cell_type": "markdown",
   "metadata": {},
   "source": [
    "#### Test function"
   ]
  },
  {
   "cell_type": "code",
   "execution_count": 23,
   "metadata": {},
   "outputs": [],
   "source": [
    "def test(model, device, test_loader, criterion_classification, criterion_regression, bins_midpoints, uncertainty_function):\n",
    "    \"\"\"Test the model on the test set\n",
    "\n",
    "    Args:\n",
    "        model (Model): The model to test\n",
    "        device (string): The device to use for the computations\n",
    "        test_loader (Dataloader): The dataloader for the test set\n",
    "        criterion_classification (Loss): The loss function for the classification task\n",
    "        criterion_regression (Loss): The loss function for the regression task\n",
    "        bins_midpoints (ndarray): The midpoints of the bins used for the discretization of the traversal cost\n",
    "        uncertainty_function (function): The function to use to compute the uncertainty\n",
    "\n",
    "    Returns:\n",
    "        double, double, double, list, list: The average loss, the accuracy, the regression loss,\n",
    "        the list of the uncertainties, the list of regression losses\n",
    "    \"\"\"\n",
    "    # Testing\n",
    "    test_loss = 0.\n",
    "    test_correct = 0\n",
    "    test_regression_loss = 0.\n",
    "\n",
    "    # Configure the model for testing\n",
    "    model.eval()\n",
    "\n",
    "    test_regression_losses = []\n",
    "    uncertainties = []\n",
    "\n",
    "    with torch.no_grad():\n",
    "        # Loop over the testing batches\n",
    "        for images, traversal_costs, traversability_labels in test_loader:\n",
    "\n",
    "            images = images.to(device)\n",
    "            traversal_costs = traversal_costs.to(device)\n",
    "            traversability_labels = traversability_labels.to(device)\n",
    "\n",
    "            # Perform forward pass\n",
    "            predicted_traversability_labels = model(images)\n",
    "\n",
    "            # Compute loss\n",
    "            loss = criterion_classification(predicted_traversability_labels, traversability_labels)\n",
    "            \n",
    "            # Accumulate batch loss to average of the entire testing set\n",
    "            test_loss += loss.item()\n",
    "\n",
    "            # Get the number of correct predictions\n",
    "            test_correct += torch.sum(\n",
    "                torch.argmax(predicted_traversability_labels, dim=1) == traversability_labels\n",
    "                ).item()\n",
    "\n",
    "            # Apply the softmax function to the predicted traversability labels\n",
    "            probabilities = nn.Softmax(dim=1)(predicted_traversability_labels)\n",
    "\n",
    "            # Compute the expected traversal cost over the bins\n",
    "            expected_traversal_costs = torch.matmul(probabilities, bins_midpoints)\n",
    "            \n",
    "            # Compute and accumulate the batch loss\n",
    "            test_regression_loss += criterion_regression(expected_traversal_costs[:, 0], traversal_costs).item()\n",
    "\n",
    "            # Compute the loss for each sample\n",
    "            test_regression_losses.append(squared_error(expected_traversal_costs[:, 0], traversal_costs).to(\"cpu\"))\n",
    "            \n",
    "            # Compute the uncertainty\n",
    "            uncertainties.append(uncertainty_function(probabilities).to(\"cpu\"))\n",
    "\n",
    "    # Compute the loss and accuracy\n",
    "    test_loss /= len(test_loader)\n",
    "    test_accuracy = 100*test_correct/NB_TEST\n",
    "    \n",
    "    # Compute the regression loss\n",
    "    test_regression_loss /= len(test_loader)\n",
    "   \n",
    "    return test_loss, test_accuracy, test_regression_loss, test_regression_losses, uncertainties"
   ]
  },
  {
   "attachments": {},
   "cell_type": "markdown",
   "metadata": {},
   "source": [
    "#### Testing the model"
   ]
  },
  {
   "cell_type": "code",
   "execution_count": 24,
   "metadata": {},
   "outputs": [
    {
     "name": "stdout",
     "output_type": "stream",
     "text": [
      "Test accuracy:  32.197728790915164\n",
      "Regression loss:  0.06635485480938648\n"
     ]
    }
   ],
   "source": [
    "# Set the uncertainty function\n",
    "uncertainty_function = shannon_entropy\n",
    "\n",
    "# Test the model\n",
    "_, test_accuracy, test_regression_loss, test_regression_losses, uncertainties = test(model,\n",
    "                                                                                     device,\n",
    "                                                                                     test_loader,\n",
    "                                                                                     criterion_classification,\n",
    "                                                                                     criterion_regression,\n",
    "                                                                                     bins_midpoints,\n",
    "                                                                                     uncertainty_function)\n",
    "\n",
    "print(\"Test accuracy: \", test_accuracy)\n",
    "print(\"Regression loss: \", test_regression_loss)"
   ]
  },
  {
   "attachments": {},
   "cell_type": "markdown",
   "metadata": {},
   "source": [
    "## Save model parameters"
   ]
  },
  {
   "cell_type": "code",
   "execution_count": 25,
   "metadata": {},
   "outputs": [],
   "source": [
    "# Save the model parameters\n",
    "# torch.save(model.state_dict(), \"resnet18_.params\")"
   ]
  },
  {
   "attachments": {},
   "cell_type": "markdown",
   "metadata": {},
   "source": [
    "## Assessing the relevance of the uncertainty"
   ]
  },
  {
   "cell_type": "code",
   "execution_count": 26,
   "metadata": {},
   "outputs": [],
   "source": [
    "def uncertainty_relevance(model,\n",
    "                          device,\n",
    "                          criterion_classification,\n",
    "                          criterion_regression,\n",
    "                          bins_midpoints,\n",
    "                          uncertainty_function,\n",
    "                          test_set,\n",
    "                          test_regression_loss,\n",
    "                          test_regression_losses,\n",
    "                          uncertainties,\n",
    "                          nb_samples=len(test_set)):\n",
    "    \"\"\"Compute the regression losses after successive removal of the samples with the highest loss and uncertainty\n",
    "\n",
    "    Args:\n",
    "        model (Model): The model to test\n",
    "        device (string): The device to use for the computations\n",
    "        criterion_classification (Loss): The loss function for the classification task\n",
    "        criterion_regression (Loss): The loss function for the regression task\n",
    "        bins_midpoints (ndarray): The midpoints of the bins used for the discretization of the traversal cost\n",
    "        uncertainty_function (function): The function to use to compute the uncertainty\n",
    "        test_set (Dataset): The test set\n",
    "        test_regression_loss (double): The regression loss on the test set\n",
    "        test_regression_losses (list): The list of the regression losses for each sample\n",
    "        uncertainties (list): The list of the uncertainties for each sample\n",
    "        nb_samples (int, optional): The number of samples in the test set. Defaults to len(test_set).\n",
    "\n",
    "    Returns:\n",
    "        list, list: The list of the regression losses after successive removal of the samples with the highest loss,\n",
    "        the list of the regression losses after successive removal of the samples with the highest uncertainty\n",
    "    \"\"\"\n",
    "    # Create lists to store the test losses\n",
    "    test_losses_loss = [test_regression_loss]\n",
    "    test_losses_uncertainty = [test_regression_loss]\n",
    "    \n",
    "    # Concatenate the regression losses and convert to numpy array\n",
    "    test_regression_losses = torch.cat(test_regression_losses, dim=0).numpy()\n",
    "\n",
    "    # Concatenate the uncertainties and convert to numpy array\n",
    "    uncertainties = torch.cat(uncertainties, dim=0).numpy()\n",
    "\n",
    "    # Loop over the different percentages of samples to keep\n",
    "    for i in range(1, 10):\n",
    "\n",
    "        # Calculate the number of samples to keep\n",
    "        nb_samples_to_keep = int((1 - i*0.1)*nb_samples)\n",
    "        # Calculate the indices of the samples with the lowest losses\n",
    "        indices_to_keep_loss = test_regression_losses.argsort()[:nb_samples_to_keep]\n",
    "        # Calculate the indices of the samples with the lowest uncertainties\n",
    "        indices_to_keep_uncertainty = uncertainties.argsort()[:nb_samples_to_keep]\n",
    "        \n",
    "        if i == 1:\n",
    "            test_set_display = Subset(test_set, indices=uncertainties.argsort()[nb_samples_to_keep:])\n",
    "            \n",
    "            for tensor, tcost, tclass in test_set_display:\n",
    "                # De-normalize the normalized tensor\n",
    "                tensor_denormalized = transforms.Compose([\n",
    "                    transforms.Normalize(\n",
    "                        mean=[0., 0., 0.],\n",
    "                        std=1/std\n",
    "                        ),\n",
    "                    transforms.Normalize(\n",
    "                        mean=-mean,\n",
    "                        std=[1., 1., 1.]\n",
    "                        ),\n",
    "                    ])(tensor)\n",
    "\n",
    "                # Convert the tensor to a PIL Image\n",
    "                image_denormalized = transforms.ToPILImage()(tensor_denormalized)\n",
    "                \n",
    "                plt.imshow(image_denormalized)\n",
    "                plt.title(\"De-normalized image\")\n",
    "                \n",
    "                # print(type(image))\n",
    "                # image = image.numpy().transpose(1, 2, 0)\n",
    "                \n",
    "                # cv2.imshow(\"Image\", image)\n",
    "                # cv2.waitKey()\n",
    "\n",
    "        # Create a new test dataset without the samples with the largest losses\n",
    "        test_set_loss = Subset(test_set, indices=indices_to_keep_loss)\n",
    "        # Create a new test dataset without the samples with the largest uncertainties\n",
    "        test_set_uncertainty = Subset(test_set, indices=indices_to_keep_uncertainty)\n",
    "\n",
    "        # Create a new test dataloader without the samples with the largest losses\n",
    "        test_loader_loss = DataLoader(test_set_loss,\n",
    "                                      batch_size=BATCH_SIZE,\n",
    "                                      shuffle=False,\n",
    "                                      num_workers=12,\n",
    "                                      pin_memory=True,\n",
    "                                      )\n",
    "        # Create a new test dataloader without the samples with the largest uncertainties\n",
    "        test_loader_uncertainty = DataLoader(test_set_uncertainty,\n",
    "                                             batch_size=BATCH_SIZE,\n",
    "                                             shuffle=False,\n",
    "                                             num_workers=12,\n",
    "                                             pin_memory=True,\n",
    "                                             )\n",
    "\n",
    "        # Test the model on the new test dataset without the samples with the largest losses\n",
    "        test_regression_loss_loss = test(model, \n",
    "                                         device,\n",
    "                                         test_loader_loss,\n",
    "                                         criterion_classification,\n",
    "                                         criterion_regression,\n",
    "                                         bins_midpoints,\n",
    "                                         uncertainty_function)[2]\n",
    "        # Test the model on the new test dataset without the samples with the largest uncertainties\n",
    "        test_regression_loss_uncertainty = test(model,\n",
    "                                                device,\n",
    "                                                test_loader_uncertainty,\n",
    "                                                criterion_classification,\n",
    "                                                criterion_regression,\n",
    "                                                bins_midpoints,\n",
    "                                                uncertainty_function)[2]\n",
    "\n",
    "        # Append the test loss to the list\n",
    "        test_losses_loss.append(test_regression_loss_loss)\n",
    "        test_losses_uncertainty.append(test_regression_loss_uncertainty)\n",
    "        \n",
    "    return test_losses_loss, test_losses_uncertainty"
   ]
  },
  {
   "cell_type": "code",
   "execution_count": 27,
   "metadata": {},
   "outputs": [
    {
     "data": {
      "image/png": "[encoded data removed]",
      "text/plain": [
       "<Figure size 640x480 with 1 Axes>"
      ]
     },
     "metadata": {},
     "output_type": "display_data"
    }
   ],
   "source": [
    "# Compute the test losses after successive removal of the samples with the highest loss and uncertainty\n",
    "test_losses_loss, test_losses_uncertainty = uncertainty_relevance(model,\n",
    "                                                                  device,\n",
    "                                                                  criterion_classification,\n",
    "                                                                  criterion_regression,\n",
    "                                                                  bins_midpoints,\n",
    "                                                                  uncertainty_function,\n",
    "                                                                  test_set,\n",
    "                                                                  test_regression_loss,\n",
    "                                                                  test_regression_losses,\n",
    "                                                                  uncertainties)"
   ]
  },
  {
   "attachments": {},
   "cell_type": "markdown",
   "metadata": {},
   "source": [
    "#### Plotting the results"
   ]
  },
  {
   "cell_type": "code",
   "execution_count": 28,
   "metadata": {},
   "outputs": [
    {
     "data": {
      "text/plain": [
       "Text(0, 0.5, 'Regression error (MSE)')"
      ]
     },
     "execution_count": 28,
     "metadata": {},
     "output_type": "execute_result"
    },
    {
     "data": {
      "image/png": "[encoded data removed]",
      "text/plain": [
       "<Figure size 640x480 with 1 Axes>"
      ]
     },
     "metadata": {},
     "output_type": "display_data"
    }
   ],
   "source": [
    "plt.plot(range(0, 100, 10), test_losses_loss, \"bo--\", label=\"removing samples with highest regression loss\", markersize=4)\n",
    "plt.plot(range(0, 100, 10), test_losses_uncertainty, \"ro--\", label=\"removing samples with highest uncertainty\", markersize=4)\n",
    "\n",
    "plt.legend(loc=\"upper right\")\n",
    "plt.xlabel(\"Percentage of samples removed\")\n",
    "plt.ylabel(\"Regression error (MSE)\")"
   ]
  },
  {
   "attachments": {},
   "cell_type": "markdown",
   "metadata": {},
   "source": [
    "### Ensemble learning"
   ]
  },
  {
   "attachments": {},
   "cell_type": "markdown",
   "metadata": {},
   "source": [
    "#### Training the models"
   ]
  },
  {
   "cell_type": "code",
   "execution_count": 38,
   "metadata": {},
   "outputs": [
    {
     "name": "stdout",
     "output_type": "stream",
     "text": [
      "Training model 1/3\n"
     ]
    },
    {
     "name": "stderr",
     "output_type": "stream",
     "text": [
      "Epoch 0 [train]: 100%|██████████| 195/195 [00:07<00:00, 27.50batch/s, batch_loss=1.82]\n",
      "Epoch 1 [train]: 100%|██████████| 195/195 [00:07<00:00, 27.80batch/s, batch_loss=1.61]\n",
      "Epoch 2 [train]: 100%|██████████| 195/195 [00:07<00:00, 26.52batch/s, batch_loss=1.67]\n",
      "Epoch 3 [train]: 100%|██████████| 195/195 [00:07<00:00, 27.21batch/s, batch_loss=1.82]\n",
      "Epoch 4 [train]: 100%|██████████| 195/195 [00:07<00:00, 27.20batch/s, batch_loss=1.52]\n",
      "Epoch 5 [train]: 100%|██████████| 195/195 [00:07<00:00, 27.44batch/s, batch_loss=1.66]\n",
      "Epoch 6 [train]: 100%|██████████| 195/195 [00:07<00:00, 27.38batch/s, batch_loss=1.57]\n",
      "Epoch 7 [train]: 100%|██████████| 195/195 [00:07<00:00, 27.09batch/s, batch_loss=1.64]\n",
      "Epoch 8 [train]: 100%|██████████| 195/195 [00:07<00:00, 26.82batch/s, batch_loss=1.48]\n",
      "Epoch 9 [train]: 100%|██████████| 195/195 [00:07<00:00, 27.43batch/s, batch_loss=1.5] \n",
      "Epoch 10 [train]: 100%|██████████| 195/195 [00:07<00:00, 26.97batch/s, batch_loss=1.41]\n",
      "Epoch 11 [train]: 100%|██████████| 195/195 [00:07<00:00, 27.55batch/s, batch_loss=1.39]\n",
      "Epoch 12 [train]: 100%|██████████| 195/195 [00:07<00:00, 27.52batch/s, batch_loss=1.33]\n",
      "Epoch 13 [train]: 100%|██████████| 195/195 [00:06<00:00, 28.26batch/s, batch_loss=1.39]\n",
      "Epoch 14 [train]: 100%|██████████| 195/195 [00:07<00:00, 27.57batch/s, batch_loss=1.44]\n",
      "Epoch 15 [train]: 100%|██████████| 195/195 [00:06<00:00, 28.20batch/s, batch_loss=1.71]\n",
      "Epoch 16 [train]: 100%|██████████| 195/195 [00:07<00:00, 27.66batch/s, batch_loss=1.36]\n",
      "Epoch 17 [train]: 100%|██████████| 195/195 [00:07<00:00, 27.08batch/s, batch_loss=1.45]\n",
      "Epoch 18 [train]: 100%|██████████| 195/195 [00:06<00:00, 27.91batch/s, batch_loss=1.22]\n",
      "Epoch 19 [train]: 100%|██████████| 195/195 [00:07<00:00, 27.75batch/s, batch_loss=1.51]\n",
      "Epoch 20 [train]: 100%|██████████| 195/195 [00:06<00:00, 28.40batch/s, batch_loss=1.45]\n",
      "Epoch 21 [train]: 100%|██████████| 195/195 [00:07<00:00, 27.42batch/s, batch_loss=1.58]\n",
      "Epoch 22 [train]: 100%|██████████| 195/195 [00:06<00:00, 29.45batch/s, batch_loss=1.73]\n",
      "Epoch 23 [train]: 100%|██████████| 195/195 [00:07<00:00, 27.68batch/s, batch_loss=1.67]\n",
      "Epoch 24 [train]: 100%|██████████| 195/195 [00:06<00:00, 28.39batch/s, batch_loss=1.06]\n",
      "Epoch 25 [train]: 100%|██████████| 195/195 [00:06<00:00, 29.23batch/s, batch_loss=1.37]\n",
      "Epoch 26 [train]: 100%|██████████| 195/195 [00:06<00:00, 29.86batch/s, batch_loss=1.35] \n",
      "Epoch 27 [train]: 100%|██████████| 195/195 [00:06<00:00, 30.24batch/s, batch_loss=1.15]\n",
      "Epoch 28 [train]: 100%|██████████| 195/195 [00:06<00:00, 28.98batch/s, batch_loss=1.44] \n",
      "Epoch 29 [train]: 100%|██████████| 195/195 [00:06<00:00, 29.94batch/s, batch_loss=1.34]\n",
      "Epoch 30 [train]: 100%|██████████| 195/195 [00:06<00:00, 28.04batch/s, batch_loss=1.05] \n",
      "Epoch 31 [train]: 100%|██████████| 195/195 [00:06<00:00, 28.42batch/s, batch_loss=1.24] \n",
      "Epoch 32 [train]: 100%|██████████| 195/195 [00:07<00:00, 27.45batch/s, batch_loss=1.28] \n",
      "Epoch 33 [train]: 100%|██████████| 195/195 [00:07<00:00, 27.80batch/s, batch_loss=1.43] \n",
      "Epoch 34 [train]: 100%|██████████| 195/195 [00:06<00:00, 28.43batch/s, batch_loss=1.35] \n",
      "Epoch 35 [train]: 100%|██████████| 195/195 [00:06<00:00, 28.98batch/s, batch_loss=1.41] \n",
      "Epoch 36 [train]: 100%|██████████| 195/195 [00:07<00:00, 27.41batch/s, batch_loss=0.983]\n",
      "Epoch 37 [train]: 100%|██████████| 195/195 [00:06<00:00, 28.06batch/s, batch_loss=1.26] \n",
      "Epoch 38 [train]: 100%|██████████| 195/195 [00:06<00:00, 28.95batch/s, batch_loss=1.11] \n",
      "Epoch 39 [train]: 100%|██████████| 195/195 [00:06<00:00, 28.92batch/s, batch_loss=1.66] \n"
     ]
    },
    {
     "name": "stdout",
     "output_type": "stream",
     "text": [
      "Training model 2/3\n"
     ]
    },
    {
     "name": "stderr",
     "output_type": "stream",
     "text": [
      "Epoch 0 [train]: 100%|██████████| 195/195 [00:06<00:00, 28.00batch/s, batch_loss=2.04]\n",
      "Epoch 1 [train]: 100%|██████████| 195/195 [00:07<00:00, 26.57batch/s, batch_loss=1.41]\n",
      "Epoch 2 [train]: 100%|██████████| 195/195 [00:07<00:00, 27.66batch/s, batch_loss=1.8] \n",
      "Epoch 3 [train]: 100%|██████████| 195/195 [00:07<00:00, 26.94batch/s, batch_loss=1.35]\n",
      "Epoch 4 [train]: 100%|██████████| 195/195 [00:06<00:00, 28.13batch/s, batch_loss=1.48]\n",
      "Epoch 5 [train]: 100%|██████████| 195/195 [00:07<00:00, 26.89batch/s, batch_loss=1.77]\n",
      "Epoch 6 [train]: 100%|██████████| 195/195 [00:07<00:00, 26.92batch/s, batch_loss=1.75]\n",
      "Epoch 7 [train]: 100%|██████████| 195/195 [00:07<00:00, 27.74batch/s, batch_loss=1.79]\n",
      "Epoch 8 [train]: 100%|██████████| 195/195 [00:07<00:00, 27.26batch/s, batch_loss=1.41]\n",
      "Epoch 9 [train]: 100%|██████████| 195/195 [00:07<00:00, 27.38batch/s, batch_loss=1.69]\n",
      "Epoch 10 [train]: 100%|██████████| 195/195 [00:07<00:00, 27.22batch/s, batch_loss=1.55]\n",
      "Epoch 11 [train]: 100%|██████████| 195/195 [00:07<00:00, 27.59batch/s, batch_loss=1.53]\n",
      "Epoch 12 [train]: 100%|██████████| 195/195 [00:06<00:00, 27.96batch/s, batch_loss=1.48]\n",
      "Epoch 13 [train]: 100%|██████████| 195/195 [00:07<00:00, 27.39batch/s, batch_loss=1.6] \n",
      "Epoch 14 [train]: 100%|██████████| 195/195 [00:06<00:00, 28.03batch/s, batch_loss=1.33]\n",
      "Epoch 15 [train]: 100%|██████████| 195/195 [00:07<00:00, 27.70batch/s, batch_loss=1.54]\n",
      "Epoch 16 [train]: 100%|██████████| 195/195 [00:06<00:00, 28.41batch/s, batch_loss=1.72]\n",
      "Epoch 17 [train]: 100%|██████████| 195/195 [00:06<00:00, 28.36batch/s, batch_loss=1.23]\n",
      "Epoch 18 [train]: 100%|██████████| 195/195 [00:07<00:00, 27.73batch/s, batch_loss=1.3] \n",
      "Epoch 19 [train]: 100%|██████████| 195/195 [00:06<00:00, 27.91batch/s, batch_loss=1.43]\n",
      "Epoch 20 [train]: 100%|██████████| 195/195 [00:07<00:00, 27.54batch/s, batch_loss=1.38]\n",
      "Epoch 21 [train]: 100%|██████████| 195/195 [00:06<00:00, 28.16batch/s, batch_loss=1.3] \n",
      "Epoch 22 [train]: 100%|██████████| 195/195 [00:07<00:00, 27.12batch/s, batch_loss=1.2] \n",
      "Epoch 23 [train]: 100%|██████████| 195/195 [00:06<00:00, 27.97batch/s, batch_loss=1.34] \n",
      "Epoch 24 [train]: 100%|██████████| 195/195 [00:06<00:00, 28.22batch/s, batch_loss=1.12]\n",
      "Epoch 25 [train]: 100%|██████████| 195/195 [00:07<00:00, 27.73batch/s, batch_loss=1.5] \n",
      "Epoch 26 [train]: 100%|██████████| 195/195 [00:06<00:00, 27.91batch/s, batch_loss=1.3]  \n",
      "Epoch 27 [train]: 100%|██████████| 195/195 [00:07<00:00, 27.71batch/s, batch_loss=1.33] \n",
      "Epoch 28 [train]: 100%|██████████| 195/195 [00:06<00:00, 28.07batch/s, batch_loss=1.2]  \n",
      "Epoch 29 [train]: 100%|██████████| 195/195 [00:06<00:00, 28.31batch/s, batch_loss=0.981]\n",
      "Epoch 30 [train]: 100%|██████████| 195/195 [00:07<00:00, 27.74batch/s, batch_loss=1.38] \n",
      "Epoch 31 [train]: 100%|██████████| 195/195 [00:06<00:00, 28.62batch/s, batch_loss=1.39] \n",
      "Epoch 32 [train]: 100%|██████████| 195/195 [00:06<00:00, 28.25batch/s, batch_loss=1.29] \n",
      "Epoch 33 [train]: 100%|██████████| 195/195 [00:07<00:00, 27.15batch/s, batch_loss=1.26] \n",
      "Epoch 34 [train]: 100%|██████████| 195/195 [00:06<00:00, 28.51batch/s, batch_loss=1.53] \n",
      "Epoch 35 [train]: 100%|██████████| 195/195 [00:06<00:00, 28.87batch/s, batch_loss=1.08] \n",
      "Epoch 36 [train]: 100%|██████████| 195/195 [00:06<00:00, 27.89batch/s, batch_loss=1.16] \n",
      "Epoch 37 [train]: 100%|██████████| 195/195 [00:06<00:00, 28.95batch/s, batch_loss=1.66] \n",
      "Epoch 38 [train]: 100%|██████████| 195/195 [00:06<00:00, 27.96batch/s, batch_loss=1.15] \n",
      "Epoch 39 [train]: 100%|██████████| 195/195 [00:06<00:00, 27.94batch/s, batch_loss=1.26] \n"
     ]
    },
    {
     "name": "stdout",
     "output_type": "stream",
     "text": [
      "Training model 3/3\n"
     ]
    },
    {
     "name": "stderr",
     "output_type": "stream",
     "text": [
      "Epoch 0 [train]: 100%|██████████| 195/195 [00:07<00:00, 26.90batch/s, batch_loss=1.69]\n",
      "Epoch 1 [train]: 100%|██████████| 195/195 [00:07<00:00, 27.28batch/s, batch_loss=2.13]\n",
      "Epoch 2 [train]: 100%|██████████| 195/195 [00:07<00:00, 27.18batch/s, batch_loss=1.29]\n",
      "Epoch 3 [train]: 100%|██████████| 195/195 [00:07<00:00, 26.97batch/s, batch_loss=2.03]\n",
      "Epoch 4 [train]: 100%|██████████| 195/195 [00:07<00:00, 27.61batch/s, batch_loss=1.58]\n",
      "Epoch 5 [train]: 100%|██████████| 195/195 [00:07<00:00, 27.77batch/s, batch_loss=1.77]\n",
      "Epoch 6 [train]: 100%|██████████| 195/195 [00:07<00:00, 27.28batch/s, batch_loss=1.63]\n",
      "Epoch 7 [train]: 100%|██████████| 195/195 [00:07<00:00, 27.31batch/s, batch_loss=1.54]\n",
      "Epoch 8 [train]: 100%|██████████| 195/195 [00:07<00:00, 27.24batch/s, batch_loss=1.35]\n",
      "Epoch 9 [train]: 100%|██████████| 195/195 [00:07<00:00, 26.85batch/s, batch_loss=1.51]\n",
      "Epoch 10 [train]: 100%|██████████| 195/195 [00:07<00:00, 27.71batch/s, batch_loss=1.47]\n",
      "Epoch 11 [train]: 100%|██████████| 195/195 [00:07<00:00, 27.21batch/s, batch_loss=1.44]\n",
      "Epoch 12 [train]: 100%|██████████| 195/195 [00:07<00:00, 26.58batch/s, batch_loss=1.51]\n",
      "Epoch 13 [train]: 100%|██████████| 195/195 [00:07<00:00, 27.76batch/s, batch_loss=1.34]\n",
      "Epoch 14 [train]: 100%|██████████| 195/195 [00:07<00:00, 26.94batch/s, batch_loss=1.48]\n",
      "Epoch 15 [train]: 100%|██████████| 195/195 [00:07<00:00, 27.42batch/s, batch_loss=1.66]\n",
      "Epoch 16 [train]: 100%|██████████| 195/195 [00:07<00:00, 27.73batch/s, batch_loss=1.31]\n",
      "Epoch 17 [train]: 100%|██████████| 195/195 [00:07<00:00, 26.33batch/s, batch_loss=1.11]\n",
      "Epoch 18 [train]: 100%|██████████| 195/195 [00:07<00:00, 27.20batch/s, batch_loss=1.77]\n",
      "Epoch 19 [train]: 100%|██████████| 195/195 [00:07<00:00, 26.39batch/s, batch_loss=1.45]\n",
      "Epoch 20 [train]: 100%|██████████| 195/195 [00:07<00:00, 27.78batch/s, batch_loss=1.52]\n",
      "Epoch 21 [train]: 100%|██████████| 195/195 [00:07<00:00, 27.21batch/s, batch_loss=1.12]\n",
      "Epoch 22 [train]: 100%|██████████| 195/195 [00:07<00:00, 27.65batch/s, batch_loss=1.31]\n",
      "Epoch 23 [train]: 100%|██████████| 195/195 [00:07<00:00, 27.24batch/s, batch_loss=1.51]\n",
      "Epoch 24 [train]: 100%|██████████| 195/195 [00:07<00:00, 26.89batch/s, batch_loss=1.8] \n",
      "Epoch 25 [train]: 100%|██████████| 195/195 [00:06<00:00, 28.06batch/s, batch_loss=1.71]\n",
      "Epoch 26 [train]: 100%|██████████| 195/195 [00:07<00:00, 27.66batch/s, batch_loss=1.29]\n",
      "Epoch 27 [train]: 100%|██████████| 195/195 [00:06<00:00, 27.99batch/s, batch_loss=1.36]\n",
      "Epoch 28 [train]: 100%|██████████| 195/195 [00:06<00:00, 29.02batch/s, batch_loss=1.3]  \n",
      "Epoch 29 [train]: 100%|██████████| 195/195 [00:07<00:00, 27.59batch/s, batch_loss=1.04] \n",
      "Epoch 30 [train]: 100%|██████████| 195/195 [00:06<00:00, 28.13batch/s, batch_loss=1.36] \n",
      "Epoch 31 [train]: 100%|██████████| 195/195 [00:06<00:00, 27.93batch/s, batch_loss=1.19] \n",
      "Epoch 32 [train]: 100%|██████████| 195/195 [00:07<00:00, 27.19batch/s, batch_loss=1.34] \n",
      "Epoch 33 [train]: 100%|██████████| 195/195 [00:06<00:00, 29.50batch/s, batch_loss=1.1]  \n",
      "Epoch 34 [train]: 100%|██████████| 195/195 [00:07<00:00, 27.70batch/s, batch_loss=1]    \n",
      "Epoch 35 [train]: 100%|██████████| 195/195 [00:06<00:00, 28.78batch/s, batch_loss=1.45]\n",
      "Epoch 36 [train]: 100%|██████████| 195/195 [00:06<00:00, 28.07batch/s, batch_loss=1.04] \n",
      "Epoch 37 [train]: 100%|██████████| 195/195 [00:06<00:00, 28.85batch/s, batch_loss=1.17] \n",
      "Epoch 38 [train]: 100%|██████████| 195/195 [00:06<00:00, 28.57batch/s, batch_loss=1.12] \n",
      "Epoch 39 [train]: 100%|██████████| 195/195 [00:06<00:00, 28.51batch/s, batch_loss=0.927]\n"
     ]
    }
   ],
   "source": [
    "# Create a list of models\n",
    "nb_models = 3\n",
    "some_models = [resnet18() for _ in range(nb_models)]\n",
    "\n",
    "# Loop over the models\n",
    "for i in range(nb_models):\n",
    "    \n",
    "    print(f\"Training model {i+1}/{nb_models}\")\n",
    "    \n",
    "    # Get all the parameters excepts the weights and bias of fc layer\n",
    "    base_params = [param for name, param in some_models[i].named_parameters()\n",
    "                   if name not in [\"fc.weight\", \"fc.bias\"]]\n",
    "\n",
    "    # Define the optimizer, with a greater learning rate for the new fc layer\n",
    "    optimizer = optim.SGD([\n",
    "        {\"params\": base_params},\n",
    "        {\"params\": some_models[i].fc.parameters(), \"lr\": 1e-3},\n",
    "    ],\n",
    "        lr=1e-4, momentum=0.9, weight_decay=0.001)\n",
    "    \n",
    "    # Loop over the epochs\n",
    "    for epoch in range(NB_EPOCHS):\n",
    "\n",
    "        # Train the model\n",
    "        train_loss, train_accuracy, train_regression_loss = train(some_models[i],\n",
    "                                                                  device,\n",
    "                                                                  train_loader,\n",
    "                                                                  optimizer,\n",
    "                                                                  criterion_classification,\n",
    "                                                                  criterion_regression,\n",
    "                                                                  bins_midpoints,\n",
    "                                                                  epoch)"
   ]
  },
  {
   "cell_type": "code",
   "execution_count": 39,
   "metadata": {},
   "outputs": [],
   "source": [
    "def test_models(models, device, test_loader, criterion_classification, criterion_regression, bins_midpoints, uncertainty_function):\n",
    "    \"\"\"Test the models on the test set\n",
    "\n",
    "    Args:\n",
    "        models (list): List of models to test\n",
    "        device (string): The device to use for the computations\n",
    "        test_loader (Dataloader): The dataloader for the test set\n",
    "        criterion_classification (Loss): The loss function for the classification task\n",
    "        criterion_regression (Loss): The loss function for the regression task\n",
    "        bins_midpoints (ndarray): The midpoints of the bins used for the discretization of the traversal cost\n",
    "        uncertainty_function (function): The function to use to compute the uncertainty\n",
    "\n",
    "    Returns:\n",
    "        double, double, double, list, list: The average loss, the accuracy, the regression loss,\n",
    "        the list of the uncertainties, the list of regression losses\n",
    "    \"\"\"\n",
    "    # Testing\n",
    "    test_regression_loss = 0.\n",
    "\n",
    "    # Configure the models for testing\n",
    "    for model in models:\n",
    "        model.eval()\n",
    "\n",
    "    test_regression_losses = []\n",
    "    uncertainties = []\n",
    "\n",
    "    with torch.no_grad():\n",
    "        # Loop over the testing batches\n",
    "        for images, traversal_costs, traversability_labels in test_loader:\n",
    "\n",
    "            images = images.to(device)\n",
    "            traversal_costs = traversal_costs.to(device)\n",
    "\n",
    "            # expected_traversal_costs = torch.zeros(traversal_costs.shape[0], 1).to(device)\n",
    "            \n",
    "            # uncert = torch.zeros(traversal_costs.shape[0]).to(device)\n",
    "            \n",
    "            probabilities = torch.zeros(traversal_costs.shape[0], 10).to(device)\n",
    "            \n",
    "            exp_costs = torch.zeros(traversal_costs.shape[0], len(models)).to(device)\n",
    "            \n",
    "            # Perform forward pass\n",
    "            for index, model in enumerate(models):\n",
    "                \n",
    "                predicted_traversability_labels = model(images)\n",
    "\n",
    "                # Apply the softmax function to the predicted traversability labels\n",
    "                probabilities += nn.Softmax(dim=1)(predicted_traversability_labels)\n",
    "\n",
    "                # Compute the expected traversal cost over the bins\n",
    "                # expected_traversal_costs += torch.matmul(probabilities, bins_midpoints)\n",
    "                \n",
    "                # Compute the uncertainty\n",
    "                # uncert += uncertainty_function(probabilities)\n",
    "                \n",
    "                exp_costs[:, index] = torch.matmul(nn.Softmax(dim=1)(predicted_traversability_labels), bins_midpoints)[:, 0]\n",
    "            \n",
    "            probabilities /= len(models)\n",
    "            \n",
    "            # Compute the expected traversal cost over the bins\n",
    "            expected_traversal_costs = torch.matmul(probabilities, bins_midpoints)\n",
    "            \n",
    "            variance = torch.var(exp_costs, dim=1)\n",
    "            uncertainties.append(variance.to(\"cpu\"))\n",
    "            \n",
    "            # uncertainties.append(uncertainty_function(probabilities).to(\"cpu\"))\n",
    "                \n",
    "            # Compute and accumulate the batch loss\n",
    "            test_regression_loss += criterion_regression(expected_traversal_costs[:, 0], traversal_costs).item()\n",
    "\n",
    "            # Compute the loss for each sample\n",
    "            test_regression_losses.append(squared_error(expected_traversal_costs[:, 0], traversal_costs).to(\"cpu\"))\n",
    "\n",
    "    # Compute the regression loss\n",
    "    test_regression_loss /= len(test_loader)\n",
    "   \n",
    "    return test_regression_loss, test_regression_losses, uncertainties"
   ]
  },
  {
   "cell_type": "code",
   "execution_count": 40,
   "metadata": {},
   "outputs": [],
   "source": [
    "def uncertainty_relevance_models(models,\n",
    "                          device,\n",
    "                          criterion_classification,\n",
    "                          criterion_regression,\n",
    "                          bins_midpoints,\n",
    "                          uncertainty_function,\n",
    "                          test_set,\n",
    "                          test_regression_loss,\n",
    "                          test_regression_losses,\n",
    "                          uncertainties,\n",
    "                          nb_samples=len(test_set)):\n",
    "    \"\"\"Compute the regression losses after successive removal of the samples with the highest loss and uncertainty\n",
    "\n",
    "    Args:\n",
    "        model (Model): The model to test\n",
    "        device (string): The device to use for the computations\n",
    "        criterion_classification (Loss): The loss function for the classification task\n",
    "        criterion_regression (Loss): The loss function for the regression task\n",
    "        bins_midpoints (ndarray): The midpoints of the bins used for the discretization of the traversal cost\n",
    "        uncertainty_function (function): The function to use to compute the uncertainty\n",
    "        test_set (Dataset): The test set\n",
    "        test_regression_loss (double): The regression loss on the test set\n",
    "        test_regression_losses (list): The list of the regression losses for each sample\n",
    "        uncertainties (list): The list of the uncertainties for each sample\n",
    "        nb_samples (int, optional): The number of samples in the test set. Defaults to len(test_set).\n",
    "\n",
    "    Returns:\n",
    "        list, list: The list of the regression losses after successive removal of the samples with the highest loss,\n",
    "        the list of the regression losses after successive removal of the samples with the highest uncertainty\n",
    "    \"\"\"\n",
    "    # Create lists to store the test losses\n",
    "    test_losses_loss = [test_regression_loss]\n",
    "    test_losses_uncertainty = [test_regression_loss]\n",
    "    \n",
    "    # Concatenate the regression losses and convert to numpy array\n",
    "    test_regression_losses = torch.cat(test_regression_losses, dim=0).numpy()\n",
    "\n",
    "    # Concatenate the uncertainties and convert to numpy array\n",
    "    uncertainties = torch.cat(uncertainties, dim=0).numpy()\n",
    "\n",
    "    # Loop over the different percentages of samples to keep\n",
    "    for i in range(1, 10):\n",
    "\n",
    "        # Calculate the number of samples to keep\n",
    "        nb_samples_to_keep = int((1 - i*0.1)*nb_samples)\n",
    "        # Calculate the indices of the samples with the lowest losses\n",
    "        indices_to_keep_loss = test_regression_losses.argsort()[:nb_samples_to_keep]\n",
    "        # Calculate the indices of the samples with the lowest uncertainties\n",
    "        indices_to_keep_uncertainty = uncertainties.argsort()[:nb_samples_to_keep]\n",
    "\n",
    "        # Create a new test dataset without the samples with the largest losses\n",
    "        test_set_loss = Subset(test_set, indices=indices_to_keep_loss)\n",
    "        # Create a new test dataset without the samples with the largest uncertainties\n",
    "        test_set_uncertainty = Subset(test_set, indices=indices_to_keep_uncertainty)\n",
    "\n",
    "        # Create a new test dataloader without the samples with the largest losses\n",
    "        test_loader_loss = DataLoader(test_set_loss,\n",
    "                                      batch_size=BATCH_SIZE,\n",
    "                                      shuffle=False,\n",
    "                                      num_workers=12,\n",
    "                                      pin_memory=True,\n",
    "                                      )\n",
    "        # Create a new test dataloader without the samples with the largest uncertainties\n",
    "        test_loader_uncertainty = DataLoader(test_set_uncertainty,\n",
    "                                             batch_size=BATCH_SIZE,\n",
    "                                             shuffle=False,\n",
    "                                             num_workers=12,\n",
    "                                             pin_memory=True,\n",
    "                                             )\n",
    "\n",
    "        # Test the model on the new test dataset without the samples with the largest losses\n",
    "        test_regression_loss_loss = test_models(models, \n",
    "                                         device,\n",
    "                                         test_loader_loss,\n",
    "                                         criterion_classification,\n",
    "                                         criterion_regression,\n",
    "                                         bins_midpoints,\n",
    "                                         uncertainty_function)[0]\n",
    "        # Test the model on the new test dataset without the samples with the largest uncertainties\n",
    "        test_regression_loss_uncertainty = test_models(models,\n",
    "                                                device,\n",
    "                                                test_loader_uncertainty,\n",
    "                                                criterion_classification,\n",
    "                                                criterion_regression,\n",
    "                                                bins_midpoints,\n",
    "                                                uncertainty_function)[0]\n",
    "        \n",
    "        # Append the test loss to the list\n",
    "        test_losses_loss.append(test_regression_loss_loss)\n",
    "        test_losses_uncertainty.append(test_regression_loss_uncertainty)\n",
    "        \n",
    "    return test_losses_loss, test_losses_uncertainty"
   ]
  },
  {
   "cell_type": "code",
   "execution_count": 41,
   "metadata": {},
   "outputs": [
    {
     "name": "stdout",
     "output_type": "stream",
     "text": [
      "Test regression loss:  0.03648184422844361\n"
     ]
    }
   ],
   "source": [
    "# Create arrays to store the test losses\n",
    "# test_losses_loss = np.zeros((nb_models, 10))\n",
    "# test_losses_uncertainty = np.zeros((nb_models, 10))\n",
    "\n",
    "uncertainty_function = shannon_entropy\n",
    "\n",
    "# Loop over the models\n",
    "# for i in range(nb_models):\n",
    "    \n",
    "    \n",
    "test_regression_loss, test_regression_losses, uncertainties = test_models(some_models,\n",
    "                                                                          device,\n",
    "                                                                          test_loader,\n",
    "                                                                          criterion_classification,\n",
    "                                                                          criterion_regression,\n",
    "                                                                          bins_midpoints,\n",
    "                                                                          uncertainty_function)\n",
    "print(\"Test regression loss: \", test_regression_loss)\n",
    "\n",
    "# Compute the test losses after successive removal of the samples with the highest loss and uncertainty\n",
    "test_losses_loss, test_losses_uncertainty = uncertainty_relevance_models(some_models,\n",
    "                                                                  device,\n",
    "                                                                  criterion_classification,\n",
    "                                                                  criterion_regression,\n",
    "                                                                  bins_midpoints,\n",
    "                                                                  uncertainty_function,\n",
    "                                                                  test_set,\n",
    "                                                                  test_regression_loss,\n",
    "                                                                  test_regression_losses,\n",
    "                                                                  uncertainties)"
   ]
  },
  {
   "attachments": {},
   "cell_type": "markdown",
   "metadata": {},
   "source": [
    "#### Plotting the results"
   ]
  },
  {
   "cell_type": "code",
   "execution_count": 42,
   "metadata": {},
   "outputs": [
    {
     "data": {
      "text/plain": [
       "Text(0, 0.5, 'Regression error (MSE)')"
      ]
     },
     "execution_count": 42,
     "metadata": {},
     "output_type": "execute_result"
    },
    {
     "data": {
      "image/png": "[encoded data removed]",
      "text/plain": [
       "<Figure size 640x480 with 1 Axes>"
      ]
     },
     "metadata": {},
     "output_type": "display_data"
    }
   ],
   "source": [
    "plt.plot(range(0, 100, 10), test_losses_loss, \"bo--\", label=\"removing samples with highest regression loss\", markersize=4)\n",
    "plt.plot(range(0, 100, 10), test_losses_uncertainty, \"ro--\", label=\"removing samples with highest uncertainty\", markersize=4)\n",
    "\n",
    "plt.legend(loc=\"upper right\")\n",
    "plt.xlabel(\"Percentage of samples removed\")\n",
    "plt.ylabel(\"Regression error (MSE)\")"
   ]
  },
  {
   "cell_type": "code",
   "execution_count": null,
   "metadata": {},
   "outputs": [],
   "source": []
  }
 ],
 "metadata": {
  "kernelspec": {
   "display_name": "Python 3",
   "language": "python",
   "name": "python3"
  },
  "language_info": {
   "codemirror_mode": {
    "name": "ipython",
    "version": 3
   },
   "file_extension": ".py",
   "mimetype": "text/x-python",
   "name": "python",
   "nbconvert_exporter": "python",
   "pygments_lexer": "ipython3",
   "version": "3.8.10"
  },
  "orig_nbformat": 4,
  "vscode": {
   "interpreter": {
    "hash": "916dbcbb3f70747c44a77c7bcd40155683ae19c65e1c03b4aa3499c5328201f1"
   }
  }
 },
 "nbformat": 4,
 "nbformat_minor": 2
}
