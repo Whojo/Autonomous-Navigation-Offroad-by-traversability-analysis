{
 "cells": [
  {
   "cell_type": "code",
   "execution_count": 1,
   "metadata": {},
   "outputs": [],
   "source": [
    "# Import libraries\n",
    "import torch\n",
    "import torch.nn as nn\n",
    "from torch import optim\n",
    "import torchvision.models as models\n",
    "from torchvision import transforms\n",
    "from torch.utils.data import DataLoader, Subset\n",
    "import torch.nn.functional as F\n",
    "\n",
    "from tqdm import tqdm\n",
    "\n",
    "import pandas as pd\n",
    "import numpy as np\n",
    "import matplotlib.pyplot as plt\n",
    "plt.rcParams.update({\n",
    "    \"pgf.texsystem\": \"pdflatex\",\n",
    "    'font.family': 'serif',\n",
    "    'text.usetex': True,\n",
    "    'pgf.rcfonts': False,\n",
    "})\n",
    "\n",
    "from PIL import Image\n",
    "from sklearn.model_selection import train_test_split\n",
    "from datetime import datetime\n",
    "\n",
    "from pathlib import Path\n",
    "\n",
    "# Custom modules and packages\n",
    "import params.learning\n",
    "import uncertainty.functions\n",
    "import uncertainty.evaluation\n",
    "from utils import compute_mean_std\n",
    "from dataset import TraversabilityDataset\n",
    "from model import ResNet18Velocity_Regression_Alt\n",
    "from train import train\n",
    "from validate import validate\n",
    "from test import test, test_models\n",
    "from result import parameters_table, generate_log\n",
    "from custom_transforms import Cutout, Shadowcasting\n",
    "\n",
    "from params import PROJECT_PATH"
   ]
  },
  {
   "attachments": {},
   "cell_type": "markdown",
   "metadata": {},
   "source": [
    "## Load learning parameters"
   ]
  },
  {
   "cell_type": "code",
   "execution_count": 2,
   "metadata": {},
   "outputs": [],
   "source": [
    "LEARNING_PARAMS = params.learning.LEARNING\n",
    "NET_PARAMS = params.learning.NET_PARAMS"
   ]
  },
  {
   "attachments": {},
   "cell_type": "markdown",
   "metadata": {},
   "source": [
    "## Prepare data"
   ]
  },
  {
   "attachments": {},
   "cell_type": "markdown",
   "metadata": {},
   "source": [
    "#### Compute the mean and the standard deviation of the images set"
   ]
  },
  {
   "cell_type": "code",
   "execution_count": 3,
   "metadata": {},
   "outputs": [
    {
     "name": "stdout",
     "output_type": "stream",
     "text": [
      "{'rbg': {'mean': tensor([0.4710, 0.5030, 0.4580]), 'std': tensor([0.1965, 0.1859, 0.1955])}, 'depth': {'mean': tensor([0.0855]), 'std': tensor([0.0684])}, 'normal': {'mean': tensor([0.4981, 0.5832, 0.8387]), 'std': tensor([0.1720, 0.1991, 0.1468])}}\n"
     ]
    }
   ],
   "source": [
    "# Load pre-computed mean and std\n",
    "NORMALIZE_PARAMS = params.learning.NORMALIZE_PARAMS\n",
    "\n",
    "normalize_params_recompute = False\n",
    "\n",
    "if normalize_params_recompute:\n",
    "    mean, std = compute_mean_std(\"images_train\", \"traversal_costs_train.csv\")\n",
    "    NORMALIZE_PARAMS = {\"rbg\": {\"mean\": mean[:3],\n",
    "                                \"std\": std[:3]},\n",
    "                        \"depth\": {\"mean\": mean[3],\n",
    "                                  \"std\": std[3]},\n",
    "                        \"normal\": {\"mean\": mean[4:],\n",
    "                                   \"std\": std[4:]}}\n",
    "\n",
    "print(NORMALIZE_PARAMS)"
   ]
  },
  {
   "cell_type": "code",
   "execution_count": 4,
   "metadata": {},
   "outputs": [],
   "source": [
    "# Compose several transforms together to be applied to training data\n",
    "# (Note that transforms are not applied yet)\n",
    "train_transform = transforms.Compose([\n",
    "    # Reduce the size of the images\n",
    "    # (if size is an int, the smaller edge of the\n",
    "    # image will be matched to this number and the ration is kept)\n",
    "    # transforms.Resize(100),\n",
    "    transforms.Resize(params.learning.IMAGE_SHAPE, antialias=True),\n",
    "    \n",
    "    # Perform horizontal flip of the image with a probability of 0.5\n",
    "    # transforms.RandomHorizontalFlip(p=0.5),\n",
    "    \n",
    "    # Modify the brightness and the contrast of the image\n",
    "    transforms.ColorJitter(**params.learning.JITTER_PARAMS),\n",
    "\n",
    "    # Randomly adds a black patch to the image\n",
    "    Cutout(0.5),\n",
    "    \n",
    "    # Randomly cast a shadow on the image\n",
    "    Shadowcasting(0.5),\n",
    "\n",
    "    # Convert a PIL Image or numpy.ndarray to tensor\n",
    "    transforms.ToTensor(),\n",
    "    \n",
    "    # Add some random gaussian noise to the image\n",
    "    transforms.Lambda(lambda x: x + (0.001**0.5)*torch.randn(x.shape)),\n",
    "    \n",
    "    # Normalize a tensor image with pre-computed mean and standard deviation\n",
    "    # (based on the data used to train the model(s))\n",
    "    # (be careful, it only works on torch.*Tensor)\n",
    "    transforms.Normalize(\n",
    "        mean=NORMALIZE_PARAMS[\"rbg\"][\"mean\"],\n",
    "        std=NORMALIZE_PARAMS[\"rbg\"][\"std\"]\n",
    "    ),\n",
    "])\n",
    "\n",
    "# Define a different set of transforms testing\n",
    "# (for instance we do not need to flip the image)\n",
    "test_transform = transforms.Compose([\n",
    "    # transforms.Resize(100),\n",
    "    transforms.Resize(params.learning.IMAGE_SHAPE, antialias=True),\n",
    "    # transforms.Grayscale(),\n",
    "    # transforms.CenterCrop(100),\n",
    "    # transforms.RandomCrop(100),\n",
    "    transforms.ToTensor(),\n",
    "    \n",
    "    # Mean and standard deviation were pre-computed on the training data\n",
    "    # (on the ImageNet dataset)\n",
    "    transforms.Normalize(\n",
    "        mean=NORMALIZE_PARAMS[\"rbg\"][\"mean\"],\n",
    "        std=NORMALIZE_PARAMS[\"rbg\"][\"std\"]\n",
    "    ),\n",
    "])\n",
    "\n",
    "transform_depth = transforms.Compose([\n",
    "        # Convert a PIL Image or numpy.ndarray to tensor\n",
    "        transforms.ToTensor(),\n",
    "        \n",
    "        # Reduce the size of the images\n",
    "        # (if size is an int, the smaller edge of the\n",
    "        # image will be matched to this number and the ration is kept)\n",
    "        transforms.Resize(params.learning.IMAGE_SHAPE, antialias=True),\n",
    "        \n",
    "        # Normalize a tensor image with pre-computed mean and standard deviation\n",
    "        # (based on the data used to train the model(s))\n",
    "        # (be careful, it only works on torch.*Tensor)\n",
    "        transforms.Normalize(\n",
    "            mean=NORMALIZE_PARAMS[\"depth\"][\"mean\"],\n",
    "            std=NORMALIZE_PARAMS[\"depth\"][\"std\"]\n",
    "        ),\n",
    "])\n",
    "\n",
    "transform_normal = transforms.Compose([\n",
    "        # Convert a PIL Image or numpy.ndarray to tensor\n",
    "        transforms.ToTensor(),\n",
    "        \n",
    "        # Reduce the size of the images\n",
    "        # (if size is an int, the smaller edge of the\n",
    "        # image will be matched to this number and the ration is kept)\n",
    "        transforms.Resize(params.learning.IMAGE_SHAPE, antialias=True),\n",
    "        \n",
    "        # Normalize a tensor image with pre-computed mean and standard deviation\n",
    "        # (based on the data used to train the model(s))\n",
    "        # (be careful, it only works on torch.*Tensor)\n",
    "        transforms.Normalize(\n",
    "            mean=NORMALIZE_PARAMS[\"normal\"][\"mean\"],\n",
    "            std=NORMALIZE_PARAMS[\"normal\"][\"std\"]\n",
    "        ),\n",
    "])\n",
    "\n",
    "\n",
    "# Create a Dataset for training\n",
    "train_set = TraversabilityDataset(\n",
    "    traversal_costs_file=params.learning.DATASET / \"traversal_costs_train.csv\",\n",
    "    images_directory=params.learning.DATASET / \"images_train\",\n",
    "    transform_image=train_transform,\n",
    "    transform_depth=transform_depth,\n",
    "    transform_normal=transform_normal\n",
    ")\n",
    "\n",
    "# Create a Dataset for validation\n",
    "val_set = TraversabilityDataset(\n",
    "    traversal_costs_file=params.learning.DATASET / \"traversal_costs_train.csv\",\n",
    "    images_directory=params.learning.DATASET / \"images_train\",\n",
    "    transform_image=test_transform,\n",
    "    transform_depth=transform_depth,\n",
    "    transform_normal=transform_normal\n",
    ")\n",
    "\n",
    "# Create a Dataset for testin\n",
    "test_set = TraversabilityDataset(\n",
    "    traversal_costs_file=params.learning.DATASET / \"traversal_costs_test.csv\",\n",
    "    images_directory=params.learning.DATASET / \"images_test\",\n",
    "    transform_image=test_transform,\n",
    "    transform_depth=transform_depth,\n",
    "    transform_normal=transform_normal\n",
    ")\n",
    "\n",
    "# Set the train dataset size\n",
    "train_size = params.learning.TRAIN_SIZE/(1-params.learning.TEST_SIZE)\n",
    "\n",
    "# Splits train data indices into train and validation data indices\n",
    "train_indices, val_indices = train_test_split(range(len(train_set)),\n",
    "                                              train_size=train_size)\n",
    "\n",
    "# Extract the corresponding subsets of the train dataset\n",
    "train_set = Subset(train_set, train_indices)\n",
    "val_set = Subset(val_set, val_indices)\n",
    "\n",
    "\n",
    "# Combine a dataset and a sampler, and provide an iterable over the dataset\n",
    "# (setting shuffle argument to True calls a RandomSampler, and avoids to\n",
    "# have to create a Sampler object)\n",
    "train_loader = DataLoader(\n",
    "    train_set,\n",
    "    batch_size=LEARNING_PARAMS[\"batch_size\"],\n",
    "    shuffle=True,\n",
    "    num_workers=12,  # Asynchronous data loading and augmentation\n",
    "    pin_memory=True,  # Increase the transferring speed of the data to the GPU\n",
    ")\n",
    "\n",
    "val_loader = DataLoader(\n",
    "    val_set,\n",
    "    batch_size=LEARNING_PARAMS[\"batch_size\"],\n",
    "    shuffle=True,\n",
    "    num_workers=12,\n",
    "    pin_memory=True,\n",
    ")\n",
    "\n",
    "test_loader = DataLoader(\n",
    "    test_set,\n",
    "    batch_size=LEARNING_PARAMS[\"batch_size\"],\n",
    "    shuffle=False,  # SequentialSampler\n",
    "    num_workers=12,\n",
    "    pin_memory=True,\n",
    ")"
   ]
  },
  {
   "cell_type": "code",
   "execution_count": 5,
   "metadata": {},
   "outputs": [],
   "source": [
    "# Get the number of samples per split\n",
    "NB_TRAIN = len(train_set)\n",
    "NB_VAL = len(val_set)\n",
    "NB_TEST = len(test_set)"
   ]
  },
  {
   "cell_type": "code",
   "execution_count": 6,
   "metadata": {},
   "outputs": [
    {
     "name": "stdout",
     "output_type": "stream",
     "text": [
      "70.0 % of the data for training (198 samples)\n",
      "15.0 % of the data for validation (43 samples)\n",
      "15.0 % of the data for testing (43 samples)\n"
     ]
    }
   ],
   "source": [
    "# Display the splits ratio\n",
    "NB_SAMPLES = NB_TRAIN + NB_VAL + NB_TEST\n",
    "\n",
    "print(f\"{np.round(NB_TRAIN/NB_SAMPLES*100)} % of the data for training ({NB_TRAIN} samples)\")\n",
    "print(f\"{np.round(NB_VAL/NB_SAMPLES*100)} % of the data for validation ({NB_VAL} samples)\")\n",
    "print(f\"{np.round(NB_TEST/NB_SAMPLES*100)} % of the data for testing ({NB_TEST} samples)\")"
   ]
  },
  {
   "attachments": {},
   "cell_type": "markdown",
   "metadata": {},
   "source": [
    "## GPU?"
   ]
  },
  {
   "cell_type": "code",
   "execution_count": 7,
   "metadata": {},
   "outputs": [
    {
     "name": "stdout",
     "output_type": "stream",
     "text": [
      "Device: cuda\n",
      "\n"
     ]
    }
   ],
   "source": [
    "# Use a GPU if available\n",
    "# device = \"cpu\"\n",
    "device = \"cuda\" if torch.cuda.is_available() else \"cpu\"\n",
    "print(f\"Device: {device}\\n\")"
   ]
  },
  {
   "attachments": {},
   "cell_type": "markdown",
   "metadata": {},
   "source": [
    "## Training and validation"
   ]
  },
  {
   "cell_type": "code",
   "execution_count": 8,
   "metadata": {},
   "outputs": [],
   "source": [
    "# Create a model\n",
    "\n",
    "model = ResNet18Velocity_Regression_Alt(nb_input_channels=NET_PARAMS[\"nb_input_channels\"],\n",
    "                                    nb_input_features=NET_PARAMS[\"nb_input_features\"],\n",
    "                                    nb_classes=1).to(device=device)"
   ]
  },
  {
   "cell_type": "code",
   "execution_count": 9,
   "metadata": {},
   "outputs": [
    {
     "name": "stdout",
     "output_type": "stream",
     "text": [
      "torch.Size([32])\n"
     ]
    }
   ],
   "source": [
    "# Create dummy tensors\n",
    "images = torch.randn(32,\n",
    "                     params.learning.NET_PARAMS[\"nb_input_channels\"],\n",
    "                     params.learning.IMAGE_SHAPE[0],\n",
    "                     params.learning.IMAGE_SHAPE[1]).to(device=device)  # (batch, channels, height, width)\n",
    "data = torch.randn(32, 1).to(device=device)  # (batch, features)\n",
    "\n",
    "print(model(images, data).shape)"
   ]
  },
  {
   "attachments": {},
   "cell_type": "markdown",
   "metadata": {},
   "source": [
    "#### Visualize the model"
   ]
  },
  {
   "cell_type": "code",
   "execution_count": 10,
   "metadata": {},
   "outputs": [
    {
     "name": "stdout",
     "output_type": "stream",
     "text": [
      "ResNet18Velocity_Regression_Alt(\n",
      "  (resnet18): ResNet(\n",
      "    (conv1): Conv2d(7, 64, kernel_size=(7, 7), stride=(2, 2), padding=(3, 3), bias=False)\n",
      "    (bn1): BatchNorm2d(64, eps=1e-05, momentum=0.1, affine=True, track_running_stats=True)\n",
      "    (relu): ReLU(inplace=True)\n",
      "    (maxpool): MaxPool2d(kernel_size=3, stride=2, padding=1, dilation=1, ceil_mode=False)\n",
      "    (layer1): Sequential(\n",
      "      (0): BasicBlock(\n",
      "        (conv1): Conv2d(64, 64, kernel_size=(3, 3), stride=(1, 1), padding=(1, 1), bias=False)\n",
      "        (bn1): BatchNorm2d(64, eps=1e-05, momentum=0.1, affine=True, track_running_stats=True)\n",
      "        (relu): ReLU(inplace=True)\n",
      "        (conv2): Conv2d(64, 64, kernel_size=(3, 3), stride=(1, 1), padding=(1, 1), bias=False)\n",
      "        (bn2): BatchNorm2d(64, eps=1e-05, momentum=0.1, affine=True, track_running_stats=True)\n",
      "      )\n",
      "      (1): BasicBlock(\n",
      "        (conv1): Conv2d(64, 64, kernel_size=(3, 3), stride=(1, 1), padding=(1, 1), bias=False)\n",
      "        (bn1): BatchNorm2d(64, eps=1e-05, momentum=0.1, affine=True, track_running_stats=True)\n",
      "        (relu): ReLU(inplace=True)\n",
      "        (conv2): Conv2d(64, 64, kernel_size=(3, 3), stride=(1, 1), padding=(1, 1), bias=False)\n",
      "        (bn2): BatchNorm2d(64, eps=1e-05, momentum=0.1, affine=True, track_running_stats=True)\n",
      "      )\n",
      "    )\n",
      "    (layer2): Sequential(\n",
      "      (0): BasicBlock(\n",
      "        (conv1): Conv2d(64, 128, kernel_size=(3, 3), stride=(2, 2), padding=(1, 1), bias=False)\n",
      "        (bn1): BatchNorm2d(128, eps=1e-05, momentum=0.1, affine=True, track_running_stats=True)\n",
      "        (relu): ReLU(inplace=True)\n",
      "        (conv2): Conv2d(128, 128, kernel_size=(3, 3), stride=(1, 1), padding=(1, 1), bias=False)\n",
      "        (bn2): BatchNorm2d(128, eps=1e-05, momentum=0.1, affine=True, track_running_stats=True)\n",
      "        (downsample): Sequential(\n",
      "          (0): Conv2d(64, 128, kernel_size=(1, 1), stride=(2, 2), bias=False)\n",
      "          (1): BatchNorm2d(128, eps=1e-05, momentum=0.1, affine=True, track_running_stats=True)\n",
      "        )\n",
      "      )\n",
      "      (1): BasicBlock(\n",
      "        (conv1): Conv2d(128, 128, kernel_size=(3, 3), stride=(1, 1), padding=(1, 1), bias=False)\n",
      "        (bn1): BatchNorm2d(128, eps=1e-05, momentum=0.1, affine=True, track_running_stats=True)\n",
      "        (relu): ReLU(inplace=True)\n",
      "        (conv2): Conv2d(128, 128, kernel_size=(3, 3), stride=(1, 1), padding=(1, 1), bias=False)\n",
      "        (bn2): BatchNorm2d(128, eps=1e-05, momentum=0.1, affine=True, track_running_stats=True)\n",
      "      )\n",
      "    )\n",
      "    (layer3): Sequential(\n",
      "      (0): BasicBlock(\n",
      "        (conv1): Conv2d(128, 256, kernel_size=(3, 3), stride=(2, 2), padding=(1, 1), bias=False)\n",
      "        (bn1): BatchNorm2d(256, eps=1e-05, momentum=0.1, affine=True, track_running_stats=True)\n",
      "        (relu): ReLU(inplace=True)\n",
      "        (conv2): Conv2d(256, 256, kernel_size=(3, 3), stride=(1, 1), padding=(1, 1), bias=False)\n",
      "        (bn2): BatchNorm2d(256, eps=1e-05, momentum=0.1, affine=True, track_running_stats=True)\n",
      "        (downsample): Sequential(\n",
      "          (0): Conv2d(128, 256, kernel_size=(1, 1), stride=(2, 2), bias=False)\n",
      "          (1): BatchNorm2d(256, eps=1e-05, momentum=0.1, affine=True, track_running_stats=True)\n",
      "        )\n",
      "      )\n",
      "      (1): BasicBlock(\n",
      "        (conv1): Conv2d(256, 256, kernel_size=(3, 3), stride=(1, 1), padding=(1, 1), bias=False)\n",
      "        (bn1): BatchNorm2d(256, eps=1e-05, momentum=0.1, affine=True, track_running_stats=True)\n",
      "        (relu): ReLU(inplace=True)\n",
      "        (conv2): Conv2d(256, 256, kernel_size=(3, 3), stride=(1, 1), padding=(1, 1), bias=False)\n",
      "        (bn2): BatchNorm2d(256, eps=1e-05, momentum=0.1, affine=True, track_running_stats=True)\n",
      "      )\n",
      "    )\n",
      "    (layer4): Sequential(\n",
      "      (0): BasicBlock(\n",
      "        (conv1): Conv2d(256, 512, kernel_size=(3, 3), stride=(2, 2), padding=(1, 1), bias=False)\n",
      "        (bn1): BatchNorm2d(512, eps=1e-05, momentum=0.1, affine=True, track_running_stats=True)\n",
      "        (relu): ReLU(inplace=True)\n",
      "        (conv2): Conv2d(512, 512, kernel_size=(3, 3), stride=(1, 1), padding=(1, 1), bias=False)\n",
      "        (bn2): BatchNorm2d(512, eps=1e-05, momentum=0.1, affine=True, track_running_stats=True)\n",
      "        (downsample): Sequential(\n",
      "          (0): Conv2d(256, 512, kernel_size=(1, 1), stride=(2, 2), bias=False)\n",
      "          (1): BatchNorm2d(512, eps=1e-05, momentum=0.1, affine=True, track_running_stats=True)\n",
      "        )\n",
      "      )\n",
      "      (1): BasicBlock(\n",
      "        (conv1): Conv2d(512, 512, kernel_size=(3, 3), stride=(1, 1), padding=(1, 1), bias=False)\n",
      "        (bn1): BatchNorm2d(512, eps=1e-05, momentum=0.1, affine=True, track_running_stats=True)\n",
      "        (relu): ReLU(inplace=True)\n",
      "        (conv2): Conv2d(512, 512, kernel_size=(3, 3), stride=(1, 1), padding=(1, 1), bias=False)\n",
      "        (bn2): BatchNorm2d(512, eps=1e-05, momentum=0.1, affine=True, track_running_stats=True)\n",
      "      )\n",
      "    )\n",
      "    (avgpool): AdaptiveAvgPool2d(output_size=(1, 1))\n",
      "    (fc): Linear(in_features=512, out_features=256, bias=True)\n",
      "  )\n",
      "  (fc): Linear(in_features=256, out_features=1, bias=True)\n",
      "  (fc_speed): Linear(in_features=1, out_features=512, bias=True)\n",
      ")\n"
     ]
    }
   ],
   "source": [
    "# Open TensorBoard\n",
    "# tensorboard = SummaryWriter()\n",
    "\n",
    "# Display the architecture in TensorBoard\n",
    "# images, traversal_costs, traversability_labels, linear_velocities = next(iter(train_loader))\n",
    "# images = images.to(device)\n",
    "# linear_velocities = linear_velocities.type(torch.float32).to(device)\n",
    "\n",
    "# Add a dimension to the linear velocities tensor\n",
    "# linear_velocities.unsqueeze_(1)\n",
    "\n",
    "# tensorboard.add_graph(model, (images, linear_velocities))\n",
    "\n",
    "print(model)\n",
    "# print(torchsummary.summary(model, (3, 100, 100)))\n",
    "# print([(name, param.shape) for name, param in model.named_parameters()])\n",
    "# print(model.fc.state_dict())"
   ]
  },
  {
   "cell_type": "code",
   "execution_count": 11,
   "metadata": {},
   "outputs": [
    {
     "data": {
      "application/vnd.jupyter.widget-view+json": {
       "model_id": "60e9799155f249c3b3c03505cf146eca",
       "version_major": 2,
       "version_minor": 0
      },
      "text/plain": [
       "  0%|          | 0/7 [00:00<?, ?batch/s]"
      ]
     },
     "metadata": {},
     "output_type": "display_data"
    },
    {
     "data": {
      "application/vnd.jupyter.widget-view+json": {
       "model_id": "7a9a2e26f5514222b50a0ab23ad4770e",
       "version_major": 2,
       "version_minor": 0
      },
      "text/plain": [
       "  0%|          | 0/2 [00:00<?, ?batch/s]"
      ]
     },
     "metadata": {},
     "output_type": "display_data"
    },
    {
     "name": "stdout",
     "output_type": "stream",
     "text": [
      "Train regression loss:  5.4210566111973355\n",
      "Validation regression loss:  5.060315370559692\n"
     ]
    },
    {
     "data": {
      "application/vnd.jupyter.widget-view+json": {
       "model_id": "847201ac0c4345ccbaa03aa181210bac",
       "version_major": 2,
       "version_minor": 0
      },
      "text/plain": [
       "  0%|          | 0/7 [00:00<?, ?batch/s]"
      ]
     },
     "metadata": {},
     "output_type": "display_data"
    },
    {
     "data": {
      "application/vnd.jupyter.widget-view+json": {
       "model_id": "94148c342e3042d7a7b9a887ba92cdcc",
       "version_major": 2,
       "version_minor": 0
      },
      "text/plain": [
       "  0%|          | 0/2 [00:00<?, ?batch/s]"
      ]
     },
     "metadata": {},
     "output_type": "display_data"
    },
    {
     "name": "stdout",
     "output_type": "stream",
     "text": [
      "Train regression loss:  5.105952194758824\n",
      "Validation regression loss:  4.39331841468811\n"
     ]
    },
    {
     "data": {
      "application/vnd.jupyter.widget-view+json": {
       "model_id": "86a2776254ae4e34aa6c30011157de77",
       "version_major": 2,
       "version_minor": 0
      },
      "text/plain": [
       "  0%|          | 0/7 [00:00<?, ?batch/s]"
      ]
     },
     "metadata": {},
     "output_type": "display_data"
    },
    {
     "data": {
      "application/vnd.jupyter.widget-view+json": {
       "model_id": "3065f000f9cb46569b4197f4e40d113d",
       "version_major": 2,
       "version_minor": 0
      },
      "text/plain": [
       "  0%|          | 0/2 [00:00<?, ?batch/s]"
      ]
     },
     "metadata": {},
     "output_type": "display_data"
    },
    {
     "name": "stdout",
     "output_type": "stream",
     "text": [
      "Train regression loss:  3.5182273728506908\n",
      "Validation regression loss:  2.7476307153701782\n"
     ]
    },
    {
     "data": {
      "application/vnd.jupyter.widget-view+json": {
       "model_id": "59a814372183471c819721f32446d053",
       "version_major": 2,
       "version_minor": 0
      },
      "text/plain": [
       "  0%|          | 0/7 [00:00<?, ?batch/s]"
      ]
     },
     "metadata": {},
     "output_type": "display_data"
    },
    {
     "data": {
      "application/vnd.jupyter.widget-view+json": {
       "model_id": "9033f7ae923e4776967946126a5c4ea1",
       "version_major": 2,
       "version_minor": 0
      },
      "text/plain": [
       "  0%|          | 0/2 [00:00<?, ?batch/s]"
      ]
     },
     "metadata": {},
     "output_type": "display_data"
    },
    {
     "name": "stdout",
     "output_type": "stream",
     "text": [
      "Train regression loss:  2.5890694005148753\n",
      "Validation regression loss:  1.735469251871109\n"
     ]
    },
    {
     "data": {
      "application/vnd.jupyter.widget-view+json": {
       "model_id": "8d0625e141774db7bc8bb327a1306db8",
       "version_major": 2,
       "version_minor": 0
      },
      "text/plain": [
       "  0%|          | 0/7 [00:00<?, ?batch/s]"
      ]
     },
     "metadata": {},
     "output_type": "display_data"
    },
    {
     "data": {
      "application/vnd.jupyter.widget-view+json": {
       "model_id": "28cf245ef82c496cbb2f1927650b1d56",
       "version_major": 2,
       "version_minor": 0
      },
      "text/plain": [
       "  0%|          | 0/2 [00:00<?, ?batch/s]"
      ]
     },
     "metadata": {},
     "output_type": "display_data"
    },
    {
     "name": "stdout",
     "output_type": "stream",
     "text": [
      "Train regression loss:  1.9947793654033117\n",
      "Validation regression loss:  1.394451379776001\n"
     ]
    },
    {
     "data": {
      "application/vnd.jupyter.widget-view+json": {
       "model_id": "f92d1df9e76241cc82c2ddfddf76a8f9",
       "version_major": 2,
       "version_minor": 0
      },
      "text/plain": [
       "  0%|          | 0/7 [00:00<?, ?batch/s]"
      ]
     },
     "metadata": {},
     "output_type": "display_data"
    },
    {
     "data": {
      "application/vnd.jupyter.widget-view+json": {
       "model_id": "5fd74ff6f4f54977ab2249bb2a1b6111",
       "version_major": 2,
       "version_minor": 0
      },
      "text/plain": [
       "  0%|          | 0/2 [00:00<?, ?batch/s]"
      ]
     },
     "metadata": {},
     "output_type": "display_data"
    },
    {
     "name": "stdout",
     "output_type": "stream",
     "text": [
      "Train regression loss:  1.682228411946978\n",
      "Validation regression loss:  0.8758670091629028\n"
     ]
    },
    {
     "data": {
      "application/vnd.jupyter.widget-view+json": {
       "model_id": "477ba52871364151bc72a83a3573db4f",
       "version_major": 2,
       "version_minor": 0
      },
      "text/plain": [
       "  0%|          | 0/7 [00:00<?, ?batch/s]"
      ]
     },
     "metadata": {},
     "output_type": "display_data"
    },
    {
     "data": {
      "application/vnd.jupyter.widget-view+json": {
       "model_id": "f473b73f650a403d8c818b0ef2ee0e58",
       "version_major": 2,
       "version_minor": 0
      },
      "text/plain": [
       "  0%|          | 0/2 [00:00<?, ?batch/s]"
      ]
     },
     "metadata": {},
     "output_type": "display_data"
    },
    {
     "name": "stdout",
     "output_type": "stream",
     "text": [
      "Train regression loss:  1.1475202356066023\n",
      "Validation regression loss:  0.8892360329627991\n"
     ]
    },
    {
     "data": {
      "application/vnd.jupyter.widget-view+json": {
       "model_id": "a520386bcd3445dfa02b2ddabd84a0c4",
       "version_major": 2,
       "version_minor": 0
      },
      "text/plain": [
       "  0%|          | 0/7 [00:00<?, ?batch/s]"
      ]
     },
     "metadata": {},
     "output_type": "display_data"
    },
    {
     "data": {
      "application/vnd.jupyter.widget-view+json": {
       "model_id": "e77c95620bc0426ea905ebf67a9a8edf",
       "version_major": 2,
       "version_minor": 0
      },
      "text/plain": [
       "  0%|          | 0/2 [00:00<?, ?batch/s]"
      ]
     },
     "metadata": {},
     "output_type": "display_data"
    },
    {
     "name": "stdout",
     "output_type": "stream",
     "text": [
      "Train regression loss:  1.1005342176982336\n",
      "Validation regression loss:  0.66203972697258\n"
     ]
    },
    {
     "data": {
      "application/vnd.jupyter.widget-view+json": {
       "model_id": "b2ad265c1ef1486391866a62ba878802",
       "version_major": 2,
       "version_minor": 0
      },
      "text/plain": [
       "  0%|          | 0/7 [00:00<?, ?batch/s]"
      ]
     },
     "metadata": {},
     "output_type": "display_data"
    },
    {
     "data": {
      "application/vnd.jupyter.widget-view+json": {
       "model_id": "148ef11953ef481a9410f286d90badef",
       "version_major": 2,
       "version_minor": 0
      },
      "text/plain": [
       "  0%|          | 0/2 [00:00<?, ?batch/s]"
      ]
     },
     "metadata": {},
     "output_type": "display_data"
    },
    {
     "name": "stdout",
     "output_type": "stream",
     "text": [
      "Train regression loss:  1.0435654520988464\n",
      "Validation regression loss:  0.7467965185642242\n"
     ]
    },
    {
     "data": {
      "application/vnd.jupyter.widget-view+json": {
       "model_id": "7ceb59df0dd345e9b7389c979705f6cd",
       "version_major": 2,
       "version_minor": 0
      },
      "text/plain": [
       "  0%|          | 0/7 [00:00<?, ?batch/s]"
      ]
     },
     "metadata": {},
     "output_type": "display_data"
    },
    {
     "data": {
      "application/vnd.jupyter.widget-view+json": {
       "model_id": "27fc0aa1e5b14ce698172f9935a9a647",
       "version_major": 2,
       "version_minor": 0
      },
      "text/plain": [
       "  0%|          | 0/2 [00:00<?, ?batch/s]"
      ]
     },
     "metadata": {},
     "output_type": "display_data"
    },
    {
     "name": "stdout",
     "output_type": "stream",
     "text": [
      "Train regression loss:  0.9512949500765119\n",
      "Validation regression loss:  0.6568854749202728\n"
     ]
    },
    {
     "data": {
      "application/vnd.jupyter.widget-view+json": {
       "model_id": "2aaab11cf01f4be8ab664ccd4c5ea0a5",
       "version_major": 2,
       "version_minor": 0
      },
      "text/plain": [
       "  0%|          | 0/7 [00:00<?, ?batch/s]"
      ]
     },
     "metadata": {},
     "output_type": "display_data"
    },
    {
     "data": {
      "application/vnd.jupyter.widget-view+json": {
       "model_id": "8356d2a7dbfe416eb56df14f9ecf78c3",
       "version_major": 2,
       "version_minor": 0
      },
      "text/plain": [
       "  0%|          | 0/2 [00:00<?, ?batch/s]"
      ]
     },
     "metadata": {},
     "output_type": "display_data"
    },
    {
     "name": "stdout",
     "output_type": "stream",
     "text": [
      "Train regression loss:  1.0800065738814217\n",
      "Validation regression loss:  0.7069426774978638\n"
     ]
    },
    {
     "data": {
      "application/vnd.jupyter.widget-view+json": {
       "model_id": "a157179654824658bd2c79958cd312f5",
       "version_major": 2,
       "version_minor": 0
      },
      "text/plain": [
       "  0%|          | 0/7 [00:00<?, ?batch/s]"
      ]
     },
     "metadata": {},
     "output_type": "display_data"
    },
    {
     "data": {
      "application/vnd.jupyter.widget-view+json": {
       "model_id": "23b0a5804bf148368f9250d81a876508",
       "version_major": 2,
       "version_minor": 0
      },
      "text/plain": [
       "  0%|          | 0/2 [00:00<?, ?batch/s]"
      ]
     },
     "metadata": {},
     "output_type": "display_data"
    },
    {
     "name": "stdout",
     "output_type": "stream",
     "text": [
      "Train regression loss:  0.8668157373155866\n",
      "Validation regression loss:  0.6440993845462799\n"
     ]
    },
    {
     "data": {
      "application/vnd.jupyter.widget-view+json": {
       "model_id": "d553f9c3c3164e47aa8ef28f08955975",
       "version_major": 2,
       "version_minor": 0
      },
      "text/plain": [
       "  0%|          | 0/7 [00:00<?, ?batch/s]"
      ]
     },
     "metadata": {},
     "output_type": "display_data"
    },
    {
     "data": {
      "application/vnd.jupyter.widget-view+json": {
       "model_id": "c320e930c2ea48c09d5b04eeb0bb2db0",
       "version_major": 2,
       "version_minor": 0
      },
      "text/plain": [
       "  0%|          | 0/2 [00:00<?, ?batch/s]"
      ]
     },
     "metadata": {},
     "output_type": "display_data"
    },
    {
     "name": "stdout",
     "output_type": "stream",
     "text": [
      "Train regression loss:  0.9612859828131539\n",
      "Validation regression loss:  0.5653876960277557\n"
     ]
    },
    {
     "data": {
      "application/vnd.jupyter.widget-view+json": {
       "model_id": "c47670336c644ed8a74a5dce41365061",
       "version_major": 2,
       "version_minor": 0
      },
      "text/plain": [
       "  0%|          | 0/7 [00:00<?, ?batch/s]"
      ]
     },
     "metadata": {},
     "output_type": "display_data"
    },
    {
     "data": {
      "application/vnd.jupyter.widget-view+json": {
       "model_id": "285659cf84834cfd8ce38eaa44e4ad53",
       "version_major": 2,
       "version_minor": 0
      },
      "text/plain": [
       "  0%|          | 0/2 [00:00<?, ?batch/s]"
      ]
     },
     "metadata": {},
     "output_type": "display_data"
    },
    {
     "name": "stdout",
     "output_type": "stream",
     "text": [
      "Train regression loss:  0.8626726354871478\n",
      "Validation regression loss:  0.6066959202289581\n"
     ]
    },
    {
     "data": {
      "application/vnd.jupyter.widget-view+json": {
       "model_id": "32bef938363e4dc68fcefe493cb9478b",
       "version_major": 2,
       "version_minor": 0
      },
      "text/plain": [
       "  0%|          | 0/7 [00:00<?, ?batch/s]"
      ]
     },
     "metadata": {},
     "output_type": "display_data"
    },
    {
     "data": {
      "application/vnd.jupyter.widget-view+json": {
       "model_id": "9ef4c5b981e8408b8783a05b82eecc56",
       "version_major": 2,
       "version_minor": 0
      },
      "text/plain": [
       "  0%|          | 0/2 [00:00<?, ?batch/s]"
      ]
     },
     "metadata": {},
     "output_type": "display_data"
    },
    {
     "name": "stdout",
     "output_type": "stream",
     "text": [
      "Train regression loss:  0.9376882570130485\n",
      "Validation regression loss:  0.6215351223945618\n"
     ]
    },
    {
     "data": {
      "application/vnd.jupyter.widget-view+json": {
       "model_id": "712264d32c43478c90b300b2527f7448",
       "version_major": 2,
       "version_minor": 0
      },
      "text/plain": [
       "  0%|          | 0/7 [00:00<?, ?batch/s]"
      ]
     },
     "metadata": {},
     "output_type": "display_data"
    },
    {
     "data": {
      "application/vnd.jupyter.widget-view+json": {
       "model_id": "1a60967eb86642fa8ed4f475f57001bf",
       "version_major": 2,
       "version_minor": 0
      },
      "text/plain": [
       "  0%|          | 0/2 [00:00<?, ?batch/s]"
      ]
     },
     "metadata": {},
     "output_type": "display_data"
    },
    {
     "name": "stdout",
     "output_type": "stream",
     "text": [
      "Train regression loss:  0.9501705510275704\n",
      "Validation regression loss:  0.7111437916755676\n"
     ]
    },
    {
     "data": {
      "application/vnd.jupyter.widget-view+json": {
       "model_id": "074af0d992884532878739d1d8f542c7",
       "version_major": 2,
       "version_minor": 0
      },
      "text/plain": [
       "  0%|          | 0/7 [00:00<?, ?batch/s]"
      ]
     },
     "metadata": {},
     "output_type": "display_data"
    },
    {
     "data": {
      "application/vnd.jupyter.widget-view+json": {
       "model_id": "53a5721f194a43b183b87bff8eda17c4",
       "version_major": 2,
       "version_minor": 0
      },
      "text/plain": [
       "  0%|          | 0/2 [00:00<?, ?batch/s]"
      ]
     },
     "metadata": {},
     "output_type": "display_data"
    },
    {
     "name": "stdout",
     "output_type": "stream",
     "text": [
      "Train regression loss:  1.0280412350382124\n",
      "Validation regression loss:  0.6752103269100189\n"
     ]
    },
    {
     "data": {
      "application/vnd.jupyter.widget-view+json": {
       "model_id": "944cc867009e49d2a401f9be79bd937d",
       "version_major": 2,
       "version_minor": 0
      },
      "text/plain": [
       "  0%|          | 0/7 [00:00<?, ?batch/s]"
      ]
     },
     "metadata": {},
     "output_type": "display_data"
    },
    {
     "data": {
      "application/vnd.jupyter.widget-view+json": {
       "model_id": "29a20e0cec4841389b52d7790afba859",
       "version_major": 2,
       "version_minor": 0
      },
      "text/plain": [
       "  0%|          | 0/2 [00:00<?, ?batch/s]"
      ]
     },
     "metadata": {},
     "output_type": "display_data"
    },
    {
     "name": "stdout",
     "output_type": "stream",
     "text": [
      "Train regression loss:  0.88750992502485\n",
      "Validation regression loss:  0.6184393465518951\n"
     ]
    },
    {
     "data": {
      "application/vnd.jupyter.widget-view+json": {
       "model_id": "bc2eae472b58410583b3bfc144a10b5b",
       "version_major": 2,
       "version_minor": 0
      },
      "text/plain": [
       "  0%|          | 0/7 [00:00<?, ?batch/s]"
      ]
     },
     "metadata": {},
     "output_type": "display_data"
    },
    {
     "data": {
      "application/vnd.jupyter.widget-view+json": {
       "model_id": "5019687eca0f42deaee153216e0efee1",
       "version_major": 2,
       "version_minor": 0
      },
      "text/plain": [
       "  0%|          | 0/2 [00:00<?, ?batch/s]"
      ]
     },
     "metadata": {},
     "output_type": "display_data"
    },
    {
     "name": "stdout",
     "output_type": "stream",
     "text": [
      "Train regression loss:  0.8402357058865684\n",
      "Validation regression loss:  0.5708761811256409\n"
     ]
    },
    {
     "data": {
      "application/vnd.jupyter.widget-view+json": {
       "model_id": "8080113e03d64dd18e4c650bdbce0cbc",
       "version_major": 2,
       "version_minor": 0
      },
      "text/plain": [
       "  0%|          | 0/7 [00:00<?, ?batch/s]"
      ]
     },
     "metadata": {},
     "output_type": "display_data"
    },
    {
     "data": {
      "application/vnd.jupyter.widget-view+json": {
       "model_id": "c99a759ebf8845bfb8f395f4e0ee625b",
       "version_major": 2,
       "version_minor": 0
      },
      "text/plain": [
       "  0%|          | 0/2 [00:00<?, ?batch/s]"
      ]
     },
     "metadata": {},
     "output_type": "display_data"
    },
    {
     "name": "stdout",
     "output_type": "stream",
     "text": [
      "Train regression loss:  0.8475760732378278\n",
      "Validation regression loss:  0.7028511166572571\n"
     ]
    },
    {
     "data": {
      "application/vnd.jupyter.widget-view+json": {
       "model_id": "a4347637964e47fda5605089e52e89ac",
       "version_major": 2,
       "version_minor": 0
      },
      "text/plain": [
       "  0%|          | 0/7 [00:00<?, ?batch/s]"
      ]
     },
     "metadata": {},
     "output_type": "display_data"
    },
    {
     "data": {
      "application/vnd.jupyter.widget-view+json": {
       "model_id": "470c822f7fcb4dc1be42693507c5861c",
       "version_major": 2,
       "version_minor": 0
      },
      "text/plain": [
       "  0%|          | 0/2 [00:00<?, ?batch/s]"
      ]
     },
     "metadata": {},
     "output_type": "display_data"
    },
    {
     "name": "stdout",
     "output_type": "stream",
     "text": [
      "Train regression loss:  0.9944679822240557\n",
      "Validation regression loss:  0.5969442427158356\n"
     ]
    },
    {
     "data": {
      "application/vnd.jupyter.widget-view+json": {
       "model_id": "bdf903d12d99422d8357c1bdb9b24d2e",
       "version_major": 2,
       "version_minor": 0
      },
      "text/plain": [
       "  0%|          | 0/7 [00:00<?, ?batch/s]"
      ]
     },
     "metadata": {},
     "output_type": "display_data"
    },
    {
     "data": {
      "application/vnd.jupyter.widget-view+json": {
       "model_id": "6574670c61ff476a9ede1972abad5d64",
       "version_major": 2,
       "version_minor": 0
      },
      "text/plain": [
       "  0%|          | 0/2 [00:00<?, ?batch/s]"
      ]
     },
     "metadata": {},
     "output_type": "display_data"
    },
    {
     "name": "stdout",
     "output_type": "stream",
     "text": [
      "Train regression loss:  1.0097080894878931\n",
      "Validation regression loss:  0.5876096785068512\n"
     ]
    },
    {
     "data": {
      "application/vnd.jupyter.widget-view+json": {
       "model_id": "bd5f25aba72d4a28b1db4cced9081474",
       "version_major": 2,
       "version_minor": 0
      },
      "text/plain": [
       "  0%|          | 0/7 [00:00<?, ?batch/s]"
      ]
     },
     "metadata": {},
     "output_type": "display_data"
    },
    {
     "data": {
      "application/vnd.jupyter.widget-view+json": {
       "model_id": "a733293fba2f47ba90cdba4302c630cf",
       "version_major": 2,
       "version_minor": 0
      },
      "text/plain": [
       "  0%|          | 0/2 [00:00<?, ?batch/s]"
      ]
     },
     "metadata": {},
     "output_type": "display_data"
    },
    {
     "name": "stdout",
     "output_type": "stream",
     "text": [
      "Train regression loss:  0.9103145854813712\n",
      "Validation regression loss:  0.580139085650444\n"
     ]
    },
    {
     "data": {
      "application/vnd.jupyter.widget-view+json": {
       "model_id": "2f341ee8c8bc4cd49d27bada06cc7f41",
       "version_major": 2,
       "version_minor": 0
      },
      "text/plain": [
       "  0%|          | 0/7 [00:00<?, ?batch/s]"
      ]
     },
     "metadata": {},
     "output_type": "display_data"
    },
    {
     "data": {
      "application/vnd.jupyter.widget-view+json": {
       "model_id": "6d846c9e346d4ad1ba45b4d59ac16998",
       "version_major": 2,
       "version_minor": 0
      },
      "text/plain": [
       "  0%|          | 0/2 [00:00<?, ?batch/s]"
      ]
     },
     "metadata": {},
     "output_type": "display_data"
    },
    {
     "name": "stdout",
     "output_type": "stream",
     "text": [
      "Train regression loss:  0.8190005379063743\n",
      "Validation regression loss:  0.5324322581291199\n"
     ]
    },
    {
     "data": {
      "application/vnd.jupyter.widget-view+json": {
       "model_id": "a24de6b2660b410b9ae778dbcb58b5ae",
       "version_major": 2,
       "version_minor": 0
      },
      "text/plain": [
       "  0%|          | 0/7 [00:00<?, ?batch/s]"
      ]
     },
     "metadata": {},
     "output_type": "display_data"
    },
    {
     "data": {
      "application/vnd.jupyter.widget-view+json": {
       "model_id": "762214e99994442b8197cc0bef7d5ad7",
       "version_major": 2,
       "version_minor": 0
      },
      "text/plain": [
       "  0%|          | 0/2 [00:00<?, ?batch/s]"
      ]
     },
     "metadata": {},
     "output_type": "display_data"
    },
    {
     "name": "stdout",
     "output_type": "stream",
     "text": [
      "Train regression loss:  0.8078572068895612\n",
      "Validation regression loss:  0.5506092756986618\n"
     ]
    },
    {
     "data": {
      "application/vnd.jupyter.widget-view+json": {
       "model_id": "ff8dc3a9814e46909c83a35f790a7e7a",
       "version_major": 2,
       "version_minor": 0
      },
      "text/plain": [
       "  0%|          | 0/7 [00:00<?, ?batch/s]"
      ]
     },
     "metadata": {},
     "output_type": "display_data"
    },
    {
     "data": {
      "application/vnd.jupyter.widget-view+json": {
       "model_id": "55a9a947c01e4b87a9aa4fb98d32944c",
       "version_major": 2,
       "version_minor": 0
      },
      "text/plain": [
       "  0%|          | 0/2 [00:00<?, ?batch/s]"
      ]
     },
     "metadata": {},
     "output_type": "display_data"
    },
    {
     "name": "stdout",
     "output_type": "stream",
     "text": [
      "Train regression loss:  0.9647109082766941\n",
      "Validation regression loss:  0.678883820772171\n"
     ]
    },
    {
     "data": {
      "application/vnd.jupyter.widget-view+json": {
       "model_id": "e1c94442396a4c599d9fa70c19f57c09",
       "version_major": 2,
       "version_minor": 0
      },
      "text/plain": [
       "  0%|          | 0/7 [00:00<?, ?batch/s]"
      ]
     },
     "metadata": {},
     "output_type": "display_data"
    },
    {
     "data": {
      "application/vnd.jupyter.widget-view+json": {
       "model_id": "017465f8a41845d18bd7e516732d43a3",
       "version_major": 2,
       "version_minor": 0
      },
      "text/plain": [
       "  0%|          | 0/2 [00:00<?, ?batch/s]"
      ]
     },
     "metadata": {},
     "output_type": "display_data"
    },
    {
     "name": "stdout",
     "output_type": "stream",
     "text": [
      "Train regression loss:  0.9990491909640176\n",
      "Validation regression loss:  0.680691659450531\n"
     ]
    },
    {
     "data": {
      "application/vnd.jupyter.widget-view+json": {
       "model_id": "f77d75a9d6794b389386c99b38dd8870",
       "version_major": 2,
       "version_minor": 0
      },
      "text/plain": [
       "  0%|          | 0/7 [00:00<?, ?batch/s]"
      ]
     },
     "metadata": {},
     "output_type": "display_data"
    },
    {
     "data": {
      "application/vnd.jupyter.widget-view+json": {
       "model_id": "86328000962d4c2a8717033e82f88d73",
       "version_major": 2,
       "version_minor": 0
      },
      "text/plain": [
       "  0%|          | 0/2 [00:00<?, ?batch/s]"
      ]
     },
     "metadata": {},
     "output_type": "display_data"
    },
    {
     "name": "stdout",
     "output_type": "stream",
     "text": [
      "Train regression loss:  0.8804301278931754\n",
      "Validation regression loss:  0.6172915101051331\n"
     ]
    },
    {
     "data": {
      "application/vnd.jupyter.widget-view+json": {
       "model_id": "7954dc47397e416b8daaac88cd9c7716",
       "version_major": 2,
       "version_minor": 0
      },
      "text/plain": [
       "  0%|          | 0/7 [00:00<?, ?batch/s]"
      ]
     },
     "metadata": {},
     "output_type": "display_data"
    },
    {
     "data": {
      "application/vnd.jupyter.widget-view+json": {
       "model_id": "638495de06284a20af65f580fdf00dca",
       "version_major": 2,
       "version_minor": 0
      },
      "text/plain": [
       "  0%|          | 0/2 [00:00<?, ?batch/s]"
      ]
     },
     "metadata": {},
     "output_type": "display_data"
    },
    {
     "name": "stdout",
     "output_type": "stream",
     "text": [
      "Train regression loss:  0.8604641216141837\n",
      "Validation regression loss:  0.5265711843967438\n"
     ]
    },
    {
     "data": {
      "application/vnd.jupyter.widget-view+json": {
       "model_id": "11381b0dcf1b42bcbb0868eb175ff104",
       "version_major": 2,
       "version_minor": 0
      },
      "text/plain": [
       "  0%|          | 0/7 [00:00<?, ?batch/s]"
      ]
     },
     "metadata": {},
     "output_type": "display_data"
    },
    {
     "data": {
      "application/vnd.jupyter.widget-view+json": {
       "model_id": "5f8f9adc16724ac780033b972c6f9ee8",
       "version_major": 2,
       "version_minor": 0
      },
      "text/plain": [
       "  0%|          | 0/2 [00:00<?, ?batch/s]"
      ]
     },
     "metadata": {},
     "output_type": "display_data"
    },
    {
     "name": "stdout",
     "output_type": "stream",
     "text": [
      "Train regression loss:  0.7951893891607013\n",
      "Validation regression loss:  0.7182453572750092\n"
     ]
    },
    {
     "data": {
      "application/vnd.jupyter.widget-view+json": {
       "model_id": "5758c4afc8114e5a810dc742aa0fae5c",
       "version_major": 2,
       "version_minor": 0
      },
      "text/plain": [
       "  0%|          | 0/7 [00:00<?, ?batch/s]"
      ]
     },
     "metadata": {},
     "output_type": "display_data"
    },
    {
     "data": {
      "application/vnd.jupyter.widget-view+json": {
       "model_id": "607c26138628478c863b25e41f45d0d4",
       "version_major": 2,
       "version_minor": 0
      },
      "text/plain": [
       "  0%|          | 0/2 [00:00<?, ?batch/s]"
      ]
     },
     "metadata": {},
     "output_type": "display_data"
    },
    {
     "name": "stdout",
     "output_type": "stream",
     "text": [
      "Train regression loss:  0.7391274656568255\n",
      "Validation regression loss:  0.661634624004364\n"
     ]
    },
    {
     "data": {
      "application/vnd.jupyter.widget-view+json": {
       "model_id": "c785cf4ff1d64aa79b8c98d1b786fba3",
       "version_major": 2,
       "version_minor": 0
      },
      "text/plain": [
       "  0%|          | 0/7 [00:00<?, ?batch/s]"
      ]
     },
     "metadata": {},
     "output_type": "display_data"
    },
    {
     "data": {
      "application/vnd.jupyter.widget-view+json": {
       "model_id": "e91baade14bc49ceb566bbf3316564c4",
       "version_major": 2,
       "version_minor": 0
      },
      "text/plain": [
       "  0%|          | 0/2 [00:00<?, ?batch/s]"
      ]
     },
     "metadata": {},
     "output_type": "display_data"
    },
    {
     "name": "stdout",
     "output_type": "stream",
     "text": [
      "Train regression loss:  0.7627507618495396\n",
      "Validation regression loss:  0.6504418551921844\n"
     ]
    },
    {
     "data": {
      "application/vnd.jupyter.widget-view+json": {
       "model_id": "3987a6065f9044d8a132f5b63aecc6d0",
       "version_major": 2,
       "version_minor": 0
      },
      "text/plain": [
       "  0%|          | 0/7 [00:00<?, ?batch/s]"
      ]
     },
     "metadata": {},
     "output_type": "display_data"
    },
    {
     "data": {
      "application/vnd.jupyter.widget-view+json": {
       "model_id": "8970fbd5785542e88167f99b864b0066",
       "version_major": 2,
       "version_minor": 0
      },
      "text/plain": [
       "  0%|          | 0/2 [00:00<?, ?batch/s]"
      ]
     },
     "metadata": {},
     "output_type": "display_data"
    },
    {
     "name": "stdout",
     "output_type": "stream",
     "text": [
      "Train regression loss:  0.8764347859791347\n",
      "Validation regression loss:  0.7000988125801086\n"
     ]
    },
    {
     "data": {
      "application/vnd.jupyter.widget-view+json": {
       "model_id": "3df65de0393845b7b34d1288a7240a12",
       "version_major": 2,
       "version_minor": 0
      },
      "text/plain": [
       "  0%|          | 0/7 [00:00<?, ?batch/s]"
      ]
     },
     "metadata": {},
     "output_type": "display_data"
    },
    {
     "data": {
      "application/vnd.jupyter.widget-view+json": {
       "model_id": "b790385d85594135b348235ec6393a70",
       "version_major": 2,
       "version_minor": 0
      },
      "text/plain": [
       "  0%|          | 0/2 [00:00<?, ?batch/s]"
      ]
     },
     "metadata": {},
     "output_type": "display_data"
    },
    {
     "name": "stdout",
     "output_type": "stream",
     "text": [
      "Train regression loss:  0.8829874992370605\n",
      "Validation regression loss:  0.5246048718690872\n"
     ]
    },
    {
     "data": {
      "application/vnd.jupyter.widget-view+json": {
       "model_id": "02bca43a0efa4102b71608d03d8dacac",
       "version_major": 2,
       "version_minor": 0
      },
      "text/plain": [
       "  0%|          | 0/7 [00:00<?, ?batch/s]"
      ]
     },
     "metadata": {},
     "output_type": "display_data"
    },
    {
     "data": {
      "application/vnd.jupyter.widget-view+json": {
       "model_id": "146487fc933d46539433c685110458f6",
       "version_major": 2,
       "version_minor": 0
      },
      "text/plain": [
       "  0%|          | 0/2 [00:00<?, ?batch/s]"
      ]
     },
     "metadata": {},
     "output_type": "display_data"
    },
    {
     "name": "stdout",
     "output_type": "stream",
     "text": [
      "Train regression loss:  0.7705484969275338\n",
      "Validation regression loss:  0.48272476345300674\n"
     ]
    },
    {
     "data": {
      "application/vnd.jupyter.widget-view+json": {
       "model_id": "8d274942cf064c19ab0ac3490cf472e0",
       "version_major": 2,
       "version_minor": 0
      },
      "text/plain": [
       "  0%|          | 0/7 [00:00<?, ?batch/s]"
      ]
     },
     "metadata": {},
     "output_type": "display_data"
    },
    {
     "data": {
      "application/vnd.jupyter.widget-view+json": {
       "model_id": "685a31173a52425d8003075fede38340",
       "version_major": 2,
       "version_minor": 0
      },
      "text/plain": [
       "  0%|          | 0/2 [00:00<?, ?batch/s]"
      ]
     },
     "metadata": {},
     "output_type": "display_data"
    },
    {
     "name": "stdout",
     "output_type": "stream",
     "text": [
      "Train regression loss:  0.775493860244751\n",
      "Validation regression loss:  0.5199529677629471\n"
     ]
    },
    {
     "data": {
      "application/vnd.jupyter.widget-view+json": {
       "model_id": "1389a9a68d1440418844b8f7d7cedddd",
       "version_major": 2,
       "version_minor": 0
      },
      "text/plain": [
       "  0%|          | 0/7 [00:00<?, ?batch/s]"
      ]
     },
     "metadata": {},
     "output_type": "display_data"
    },
    {
     "data": {
      "application/vnd.jupyter.widget-view+json": {
       "model_id": "c0e93d59ee354a798549c5424c4b8b89",
       "version_major": 2,
       "version_minor": 0
      },
      "text/plain": [
       "  0%|          | 0/2 [00:00<?, ?batch/s]"
      ]
     },
     "metadata": {},
     "output_type": "display_data"
    },
    {
     "name": "stdout",
     "output_type": "stream",
     "text": [
      "Train regression loss:  0.7686354773385184\n",
      "Validation regression loss:  0.5120384097099304\n"
     ]
    },
    {
     "data": {
      "application/vnd.jupyter.widget-view+json": {
       "model_id": "53ed1d52468e484593a45ffe6db8b2c4",
       "version_major": 2,
       "version_minor": 0
      },
      "text/plain": [
       "  0%|          | 0/7 [00:00<?, ?batch/s]"
      ]
     },
     "metadata": {},
     "output_type": "display_data"
    },
    {
     "data": {
      "application/vnd.jupyter.widget-view+json": {
       "model_id": "544fb5d396314c54bc31207efee96ec9",
       "version_major": 2,
       "version_minor": 0
      },
      "text/plain": [
       "  0%|          | 0/2 [00:00<?, ?batch/s]"
      ]
     },
     "metadata": {},
     "output_type": "display_data"
    },
    {
     "name": "stdout",
     "output_type": "stream",
     "text": [
      "Train regression loss:  0.862666768687112\n",
      "Validation regression loss:  0.7243419885635376\n"
     ]
    },
    {
     "data": {
      "application/vnd.jupyter.widget-view+json": {
       "model_id": "1c14224e8cc042d992fd2f0552845344",
       "version_major": 2,
       "version_minor": 0
      },
      "text/plain": [
       "  0%|          | 0/7 [00:00<?, ?batch/s]"
      ]
     },
     "metadata": {},
     "output_type": "display_data"
    },
    {
     "data": {
      "application/vnd.jupyter.widget-view+json": {
       "model_id": "a40b7699bb5d435d992ca5413d849aa7",
       "version_major": 2,
       "version_minor": 0
      },
      "text/plain": [
       "  0%|          | 0/2 [00:00<?, ?batch/s]"
      ]
     },
     "metadata": {},
     "output_type": "display_data"
    },
    {
     "name": "stdout",
     "output_type": "stream",
     "text": [
      "Train regression loss:  0.804989048412868\n",
      "Validation regression loss:  0.6583491563796997\n"
     ]
    },
    {
     "data": {
      "application/vnd.jupyter.widget-view+json": {
       "model_id": "9502b90831d54750b69d1e8f20f4b208",
       "version_major": 2,
       "version_minor": 0
      },
      "text/plain": [
       "  0%|          | 0/7 [00:00<?, ?batch/s]"
      ]
     },
     "metadata": {},
     "output_type": "display_data"
    },
    {
     "data": {
      "application/vnd.jupyter.widget-view+json": {
       "model_id": "1df675415a974014a0731342496f3437",
       "version_major": 2,
       "version_minor": 0
      },
      "text/plain": [
       "  0%|          | 0/2 [00:00<?, ?batch/s]"
      ]
     },
     "metadata": {},
     "output_type": "display_data"
    },
    {
     "name": "stdout",
     "output_type": "stream",
     "text": [
      "Train regression loss:  0.8906611800193787\n",
      "Validation regression loss:  0.726082980632782\n"
     ]
    },
    {
     "data": {
      "application/vnd.jupyter.widget-view+json": {
       "model_id": "40e1792e68c34276a2cfa09bde03b190",
       "version_major": 2,
       "version_minor": 0
      },
      "text/plain": [
       "  0%|          | 0/7 [00:00<?, ?batch/s]"
      ]
     },
     "metadata": {},
     "output_type": "display_data"
    },
    {
     "data": {
      "application/vnd.jupyter.widget-view+json": {
       "model_id": "5313ca48d41641709ac5d37e47e67ab9",
       "version_major": 2,
       "version_minor": 0
      },
      "text/plain": [
       "  0%|          | 0/2 [00:00<?, ?batch/s]"
      ]
     },
     "metadata": {},
     "output_type": "display_data"
    },
    {
     "name": "stdout",
     "output_type": "stream",
     "text": [
      "Train regression loss:  0.8563239659581866\n",
      "Validation regression loss:  0.7331121861934662\n"
     ]
    },
    {
     "data": {
      "application/vnd.jupyter.widget-view+json": {
       "model_id": "2aee45e8868d4821b20061edb57e0ed3",
       "version_major": 2,
       "version_minor": 0
      },
      "text/plain": [
       "  0%|          | 0/7 [00:00<?, ?batch/s]"
      ]
     },
     "metadata": {},
     "output_type": "display_data"
    },
    {
     "data": {
      "application/vnd.jupyter.widget-view+json": {
       "model_id": "03e0400283f345fe9299ae899fb1479d",
       "version_major": 2,
       "version_minor": 0
      },
      "text/plain": [
       "  0%|          | 0/2 [00:00<?, ?batch/s]"
      ]
     },
     "metadata": {},
     "output_type": "display_data"
    },
    {
     "name": "stdout",
     "output_type": "stream",
     "text": [
      "Train regression loss:  0.8430430633681161\n",
      "Validation regression loss:  0.6544637382030487\n"
     ]
    },
    {
     "data": {
      "application/vnd.jupyter.widget-view+json": {
       "model_id": "94ccc11948a6456597995cc5d65983a3",
       "version_major": 2,
       "version_minor": 0
      },
      "text/plain": [
       "  0%|          | 0/7 [00:00<?, ?batch/s]"
      ]
     },
     "metadata": {},
     "output_type": "display_data"
    },
    {
     "data": {
      "application/vnd.jupyter.widget-view+json": {
       "model_id": "fcb261bf1f334091b806d74060fa9366",
       "version_major": 2,
       "version_minor": 0
      },
      "text/plain": [
       "  0%|          | 0/2 [00:00<?, ?batch/s]"
      ]
     },
     "metadata": {},
     "output_type": "display_data"
    },
    {
     "name": "stdout",
     "output_type": "stream",
     "text": [
      "Train regression loss:  0.798457179750715\n",
      "Validation regression loss:  0.694652795791626\n"
     ]
    },
    {
     "data": {
      "application/vnd.jupyter.widget-view+json": {
       "model_id": "a2452de0b9b549e19f3bb7d3a2aad279",
       "version_major": 2,
       "version_minor": 0
      },
      "text/plain": [
       "  0%|          | 0/7 [00:00<?, ?batch/s]"
      ]
     },
     "metadata": {},
     "output_type": "display_data"
    },
    {
     "data": {
      "application/vnd.jupyter.widget-view+json": {
       "model_id": "b3a3499b2eec4cf69d4c2e23ed86708e",
       "version_major": 2,
       "version_minor": 0
      },
      "text/plain": [
       "  0%|          | 0/2 [00:00<?, ?batch/s]"
      ]
     },
     "metadata": {},
     "output_type": "display_data"
    },
    {
     "name": "stdout",
     "output_type": "stream",
     "text": [
      "Train regression loss:  0.8690897652081081\n",
      "Validation regression loss:  0.5827386677265167\n"
     ]
    },
    {
     "data": {
      "application/vnd.jupyter.widget-view+json": {
       "model_id": "a26ed432acda476fb3cc13c029d9d1a0",
       "version_major": 2,
       "version_minor": 0
      },
      "text/plain": [
       "  0%|          | 0/7 [00:00<?, ?batch/s]"
      ]
     },
     "metadata": {},
     "output_type": "display_data"
    },
    {
     "data": {
      "application/vnd.jupyter.widget-view+json": {
       "model_id": "6a44522b4ae847af9d276a7633945852",
       "version_major": 2,
       "version_minor": 0
      },
      "text/plain": [
       "  0%|          | 0/2 [00:00<?, ?batch/s]"
      ]
     },
     "metadata": {},
     "output_type": "display_data"
    },
    {
     "name": "stdout",
     "output_type": "stream",
     "text": [
      "Train regression loss:  0.7258378863334656\n",
      "Validation regression loss:  0.6924447417259216\n"
     ]
    },
    {
     "data": {
      "application/vnd.jupyter.widget-view+json": {
       "model_id": "88eb916fd8b74ef0be38fc76d6481943",
       "version_major": 2,
       "version_minor": 0
      },
      "text/plain": [
       "  0%|          | 0/7 [00:00<?, ?batch/s]"
      ]
     },
     "metadata": {},
     "output_type": "display_data"
    },
    {
     "data": {
      "application/vnd.jupyter.widget-view+json": {
       "model_id": "50d931b101a841daa9eaa309a1bfb47c",
       "version_major": 2,
       "version_minor": 0
      },
      "text/plain": [
       "  0%|          | 0/2 [00:00<?, ?batch/s]"
      ]
     },
     "metadata": {},
     "output_type": "display_data"
    },
    {
     "name": "stdout",
     "output_type": "stream",
     "text": [
      "Train regression loss:  0.855602639062064\n",
      "Validation regression loss:  0.5238071382045746\n"
     ]
    },
    {
     "data": {
      "application/vnd.jupyter.widget-view+json": {
       "model_id": "428359fa8c7e4cb18913978bc081d21c",
       "version_major": 2,
       "version_minor": 0
      },
      "text/plain": [
       "  0%|          | 0/7 [00:00<?, ?batch/s]"
      ]
     },
     "metadata": {},
     "output_type": "display_data"
    },
    {
     "data": {
      "application/vnd.jupyter.widget-view+json": {
       "model_id": "ff4fc75495d7428c9ca9ffa157609028",
       "version_major": 2,
       "version_minor": 0
      },
      "text/plain": [
       "  0%|          | 0/2 [00:00<?, ?batch/s]"
      ]
     },
     "metadata": {},
     "output_type": "display_data"
    },
    {
     "name": "stdout",
     "output_type": "stream",
     "text": [
      "Train regression loss:  0.844005925314767\n",
      "Validation regression loss:  0.594038724899292\n"
     ]
    },
    {
     "data": {
      "application/vnd.jupyter.widget-view+json": {
       "model_id": "3eb62b52dcd04366b9a8f1a598701245",
       "version_major": 2,
       "version_minor": 0
      },
      "text/plain": [
       "  0%|          | 0/7 [00:00<?, ?batch/s]"
      ]
     },
     "metadata": {},
     "output_type": "display_data"
    },
    {
     "data": {
      "application/vnd.jupyter.widget-view+json": {
       "model_id": "a4efacda191745d68a6239e6a7d7a0f1",
       "version_major": 2,
       "version_minor": 0
      },
      "text/plain": [
       "  0%|          | 0/2 [00:00<?, ?batch/s]"
      ]
     },
     "metadata": {},
     "output_type": "display_data"
    },
    {
     "name": "stdout",
     "output_type": "stream",
     "text": [
      "Train regression loss:  0.8227473071643284\n",
      "Validation regression loss:  0.6636204123497009\n"
     ]
    },
    {
     "data": {
      "application/vnd.jupyter.widget-view+json": {
       "model_id": "043f55f895de4883af47d89c3783e317",
       "version_major": 2,
       "version_minor": 0
      },
      "text/plain": [
       "  0%|          | 0/7 [00:00<?, ?batch/s]"
      ]
     },
     "metadata": {},
     "output_type": "display_data"
    },
    {
     "data": {
      "application/vnd.jupyter.widget-view+json": {
       "model_id": "973ea7d3bb704593977cd78fba9272ee",
       "version_major": 2,
       "version_minor": 0
      },
      "text/plain": [
       "  0%|          | 0/2 [00:00<?, ?batch/s]"
      ]
     },
     "metadata": {},
     "output_type": "display_data"
    },
    {
     "name": "stdout",
     "output_type": "stream",
     "text": [
      "Train regression loss:  0.8845982466425214\n",
      "Validation regression loss:  0.6694881916046143\n"
     ]
    },
    {
     "data": {
      "application/vnd.jupyter.widget-view+json": {
       "model_id": "173ceeb0e53d4ce3b03e946002e20b84",
       "version_major": 2,
       "version_minor": 0
      },
      "text/plain": [
       "  0%|          | 0/7 [00:00<?, ?batch/s]"
      ]
     },
     "metadata": {},
     "output_type": "display_data"
    },
    {
     "data": {
      "application/vnd.jupyter.widget-view+json": {
       "model_id": "a5cecde1bfd24cdc9e00acdf75990c44",
       "version_major": 2,
       "version_minor": 0
      },
      "text/plain": [
       "  0%|          | 0/2 [00:00<?, ?batch/s]"
      ]
     },
     "metadata": {},
     "output_type": "display_data"
    },
    {
     "name": "stdout",
     "output_type": "stream",
     "text": [
      "Train regression loss:  0.7127611466816494\n",
      "Validation regression loss:  0.6141506731510162\n"
     ]
    }
   ],
   "source": [
    "# Loss function to compare the expected traversal cost over the bins\n",
    "# and the ground truth traversal cost\n",
    "criterion_regression = nn.MSELoss()\n",
    "\n",
    "# Get all the parameters excepts the weights and bias of fc layer\n",
    "base_params = [param for name, param in model.named_parameters()\n",
    "               if name not in [\"resnet18.fc.weight\", \"resnet18.fc.bias\"]]\n",
    "\n",
    "# Define the optimizer, with a greater learning rate for the new fc layer\n",
    "# optimizer = optim.SGD([\n",
    "#     {\"params\": base_params},\n",
    "#     {\"params\": model.resnet18.fc.parameters(),\n",
    "#      \"lr\": LEARNING_PARAMS[\"learning_rate\"]*10},\n",
    "# ],\n",
    "#     lr=LEARNING_PARAMS[\"learning_rate\"],\n",
    "#     momentum=LEARNING_PARAMS[\"momentum\"],\n",
    "#     weight_decay=LEARNING_PARAMS[\"weight_decay\"])\n",
    "\n",
    "optimizer = optim.SGD(model.parameters(),\n",
    "                      lr=LEARNING_PARAMS[\"learning_rate\"],\n",
    "                      momentum=LEARNING_PARAMS[\"momentum\"],\n",
    "                      weight_decay=LEARNING_PARAMS[\"weight_decay\"])\n",
    "\n",
    "scheduler = optim.lr_scheduler.LinearLR(optimizer=optimizer, total_iters=LEARNING_PARAMS[\"nb_epochs\"])\n",
    "\n",
    "# Create tensors to store the loss and accuracy values\n",
    "regression_loss_values = torch.zeros(2, LEARNING_PARAMS[\"nb_epochs\"])\n",
    "\n",
    "# Loop over the epochs\n",
    "for epoch in range(LEARNING_PARAMS[\"nb_epochs\"]):\n",
    "    \n",
    "    # Training\n",
    "    train_regression_loss = train(model,\n",
    "                                  device,\n",
    "                                  train_loader,\n",
    "                                  optimizer,\n",
    "                                  scheduler,\n",
    "                                  criterion_regression,\n",
    "                                  epoch)\n",
    "    \n",
    "    # Validation\n",
    "    val_regression_loss = validate(model,\n",
    "                                   device,\n",
    "                                   val_loader,\n",
    "                                   criterion_regression,\n",
    "                                   epoch) \n",
    "    \n",
    "    print(\"Train regression loss: \", train_regression_loss)\n",
    "    print(\"Validation regression loss: \", val_regression_loss)\n",
    "\n",
    "    # Store the computed regression losses\n",
    "    regression_loss_values[0, epoch] = train_regression_loss\n",
    "    regression_loss_values[1, epoch] = val_regression_loss\n",
    "    \n",
    "#     # Add the losses to TensorBoard\n",
    "#     tensorboard.add_scalar(\"train_loss\", train_loss, epoch)\n",
    "#     tensorboard.add_scalar(\"val_loss\", val_loss, epoch)\n",
    "#     # Add the accuracies to TensorBoard\n",
    "#     tensorboard.add_scalar(\"train_accuracy\", train_accuracy, epoch)\n",
    "#     tensorboard.add_scalar(\"val_accuracy\", val_accuracy, epoch)\n",
    "#     # Add the regression losses to TensorBoard\n",
    "#     tensorboard.add_scalar(\"train_regression_loss\", train_regression_loss, epoch)\n",
    "#     tensorboard.add_scalar(\"val_regression_loss\", val_regression_loss, epoch)\n",
    "\n",
    "# # Close TensorBoard\n",
    "# tensorboard.close()"
   ]
  },
  {
   "attachments": {},
   "cell_type": "markdown",
   "metadata": {},
   "source": [
    "## Testing"
   ]
  },
  {
   "attachments": {},
   "cell_type": "markdown",
   "metadata": {},
   "source": [
    "#### Testing the model"
   ]
  },
  {
   "cell_type": "code",
   "execution_count": 12,
   "metadata": {},
   "outputs": [
    {
     "name": "stdout",
     "output_type": "stream",
     "text": [
      "Regression loss:  0.6191043257713318\n"
     ]
    }
   ],
   "source": [
    "# Set the uncertainty function\n",
    "uncertainty_function = uncertainty.functions.shannon_entropy\n",
    "\n",
    "# Test the model\n",
    "test_regression_loss,\\\n",
    "test_regression_losses = test(model,\n",
    "                              device,\n",
    "                              test_loader,\n",
    "                              criterion_regression,\n",
    "                              uncertainty_function)\n",
    "\n",
    "print(\"Regression loss: \", test_regression_loss)"
   ]
  },
  {
   "attachments": {},
   "cell_type": "markdown",
   "metadata": {},
   "source": [
    "#### Generate a log directory"
   ]
  },
  {
   "cell_type": "code",
   "execution_count": 13,
   "metadata": {},
   "outputs": [
    {
     "data": {
      "image/png": "[encoded data removed]",
      "text/plain": [
       "<Figure size 640x480 with 1 Axes>"
      ]
     },
     "metadata": {},
     "output_type": "display_data"
    }
   ],
   "source": [
    "params_table = parameters_table(dataset=params.learning.DATASET,\n",
    "                                learning_params=LEARNING_PARAMS)\n",
    "\n",
    "# Set the path to the results directory\n",
    "if params.learning.LOG_DIR:\n",
    "    results_directory = Path(\n",
    "        \"logs/_\" + params.learning.LOG_DIR\n",
    "    )\n",
    "else:\n",
    "    results_directory = Path(\n",
    "        \"logs/_\" + datetime.now().strftime(\"%Y-%m-%d-%H-%M-%S\")\n",
    "    )\n",
    "\n",
    "generate_log(results_directory=results_directory,\n",
    "             test_regression_loss=test_regression_loss,\n",
    "             parameters_table=params_table,\n",
    "             model=model,\n",
    "             regression_loss_values=regression_loss_values)"
   ]
  },
  {
   "cell_type": "markdown",
   "metadata": {},
   "source": [
    "#### Comparing to the worst possible loss"
   ]
  },
  {
   "cell_type": "code",
   "execution_count": 14,
   "metadata": {},
   "outputs": [
    {
     "ename": "KeyError",
     "evalue": "'traversal_cost'",
     "output_type": "error",
     "traceback": [
      "\u001b[0;31m---------------------------------------------------------------------------\u001b[0m",
      "\u001b[0;31mKeyError\u001b[0m                                  Traceback (most recent call last)",
      "File \u001b[0;32m~/.local/lib/python3.8/site-packages/pandas/core/indexes/base.py:3653\u001b[0m, in \u001b[0;36mIndex.get_loc\u001b[0;34m(self, key)\u001b[0m\n\u001b[1;32m   3652\u001b[0m \u001b[39mtry\u001b[39;00m:\n\u001b[0;32m-> 3653\u001b[0m     \u001b[39mreturn\u001b[39;00m \u001b[39mself\u001b[39;49m\u001b[39m.\u001b[39;49m_engine\u001b[39m.\u001b[39;49mget_loc(casted_key)\n\u001b[1;32m   3654\u001b[0m \u001b[39mexcept\u001b[39;00m \u001b[39mKeyError\u001b[39;00m \u001b[39mas\u001b[39;00m err:\n",
      "File \u001b[0;32m~/.local/lib/python3.8/site-packages/pandas/_libs/index.pyx:147\u001b[0m, in \u001b[0;36mpandas._libs.index.IndexEngine.get_loc\u001b[0;34m()\u001b[0m\n",
      "File \u001b[0;32m~/.local/lib/python3.8/site-packages/pandas/_libs/index.pyx:176\u001b[0m, in \u001b[0;36mpandas._libs.index.IndexEngine.get_loc\u001b[0;34m()\u001b[0m\n",
      "File \u001b[0;32mpandas/_libs/hashtable_class_helper.pxi:7080\u001b[0m, in \u001b[0;36mpandas._libs.hashtable.PyObjectHashTable.get_item\u001b[0;34m()\u001b[0m\n",
      "File \u001b[0;32mpandas/_libs/hashtable_class_helper.pxi:7088\u001b[0m, in \u001b[0;36mpandas._libs.hashtable.PyObjectHashTable.get_item\u001b[0;34m()\u001b[0m\n",
      "\u001b[0;31mKeyError\u001b[0m: 'traversal_cost'",
      "\nThe above exception was the direct cause of the following exception:\n",
      "\u001b[0;31mKeyError\u001b[0m                                  Traceback (most recent call last)",
      "\u001b[1;32m/home/g_thomas/Documents/PRE/src/models_development/multimodal_velocity_regression_alt/main.ipynb Cell 24\u001b[0m line \u001b[0;36m3\n\u001b[1;32m      <a href='vscode-notebook-cell:/home/g_thomas/Documents/PRE/src/models_development/multimodal_velocity_regression_alt/main.ipynb#X34sZmlsZQ%3D%3D?line=0'>1</a>\u001b[0m dataset_dir \u001b[39m=\u001b[39m PROJECT_PATH \u001b[39m/\u001b[39m  \u001b[39m\"\u001b[39m\u001b[39mdatasets/dataset_multimodal_siamese_png_quantilebinning/traversal_costs.csv\u001b[39m\u001b[39m\"\u001b[39m\n\u001b[1;32m      <a href='vscode-notebook-cell:/home/g_thomas/Documents/PRE/src/models_development/multimodal_velocity_regression_alt/main.ipynb#X34sZmlsZQ%3D%3D?line=1'>2</a>\u001b[0m costs_df \u001b[39m=\u001b[39m pd\u001b[39m.\u001b[39mread_csv(dataset_dir)\n\u001b[0;32m----> <a href='vscode-notebook-cell:/home/g_thomas/Documents/PRE/src/models_development/multimodal_velocity_regression_alt/main.ipynb#X34sZmlsZQ%3D%3D?line=2'>3</a>\u001b[0m costs \u001b[39m=\u001b[39m costs_df[\u001b[39m'\u001b[39;49m\u001b[39mtraversal_cost\u001b[39;49m\u001b[39m'\u001b[39;49m]\u001b[39m.\u001b[39mto_numpy()\n\u001b[1;32m      <a href='vscode-notebook-cell:/home/g_thomas/Documents/PRE/src/models_development/multimodal_velocity_regression_alt/main.ipynb#X34sZmlsZQ%3D%3D?line=3'>4</a>\u001b[0m mean_dataset_value \u001b[39m=\u001b[39m costs_df[\u001b[39m'\u001b[39m\u001b[39mtraversal_cost\u001b[39m\u001b[39m'\u001b[39m]\u001b[39m.\u001b[39mmean()\n\u001b[1;32m      <a href='vscode-notebook-cell:/home/g_thomas/Documents/PRE/src/models_development/multimodal_velocity_regression_alt/main.ipynb#X34sZmlsZQ%3D%3D?line=5'>6</a>\u001b[0m \u001b[39mprint\u001b[39m(mean_dataset_value)\n",
      "File \u001b[0;32m~/.local/lib/python3.8/site-packages/pandas/core/frame.py:3761\u001b[0m, in \u001b[0;36mDataFrame.__getitem__\u001b[0;34m(self, key)\u001b[0m\n\u001b[1;32m   3759\u001b[0m \u001b[39mif\u001b[39;00m \u001b[39mself\u001b[39m\u001b[39m.\u001b[39mcolumns\u001b[39m.\u001b[39mnlevels \u001b[39m>\u001b[39m \u001b[39m1\u001b[39m:\n\u001b[1;32m   3760\u001b[0m     \u001b[39mreturn\u001b[39;00m \u001b[39mself\u001b[39m\u001b[39m.\u001b[39m_getitem_multilevel(key)\n\u001b[0;32m-> 3761\u001b[0m indexer \u001b[39m=\u001b[39m \u001b[39mself\u001b[39;49m\u001b[39m.\u001b[39;49mcolumns\u001b[39m.\u001b[39;49mget_loc(key)\n\u001b[1;32m   3762\u001b[0m \u001b[39mif\u001b[39;00m is_integer(indexer):\n\u001b[1;32m   3763\u001b[0m     indexer \u001b[39m=\u001b[39m [indexer]\n",
      "File \u001b[0;32m~/.local/lib/python3.8/site-packages/pandas/core/indexes/base.py:3655\u001b[0m, in \u001b[0;36mIndex.get_loc\u001b[0;34m(self, key)\u001b[0m\n\u001b[1;32m   3653\u001b[0m     \u001b[39mreturn\u001b[39;00m \u001b[39mself\u001b[39m\u001b[39m.\u001b[39m_engine\u001b[39m.\u001b[39mget_loc(casted_key)\n\u001b[1;32m   3654\u001b[0m \u001b[39mexcept\u001b[39;00m \u001b[39mKeyError\u001b[39;00m \u001b[39mas\u001b[39;00m err:\n\u001b[0;32m-> 3655\u001b[0m     \u001b[39mraise\u001b[39;00m \u001b[39mKeyError\u001b[39;00m(key) \u001b[39mfrom\u001b[39;00m \u001b[39merr\u001b[39;00m\n\u001b[1;32m   3656\u001b[0m \u001b[39mexcept\u001b[39;00m \u001b[39mTypeError\u001b[39;00m:\n\u001b[1;32m   3657\u001b[0m     \u001b[39m# If we have a listlike key, _check_indexing_error will raise\u001b[39;00m\n\u001b[1;32m   3658\u001b[0m     \u001b[39m#  InvalidIndexError. Otherwise we fall through and re-raise\u001b[39;00m\n\u001b[1;32m   3659\u001b[0m     \u001b[39m#  the TypeError.\u001b[39;00m\n\u001b[1;32m   3660\u001b[0m     \u001b[39mself\u001b[39m\u001b[39m.\u001b[39m_check_indexing_error(key)\n",
      "\u001b[0;31mKeyError\u001b[0m: 'traversal_cost'"
     ]
    }
   ],
   "source": [
    "dataset_dir = PROJECT_PATH /  \"datasets/dataset_multimodal_siamese_png_quantilebinning/traversal_costs.csv\"\n",
    "costs_df = pd.read_csv(dataset_dir)\n",
    "costs = costs_df['traversal_cost'].to_numpy()\n",
    "mean_dataset_value = costs_df['traversal_cost'].mean()\n",
    "\n",
    "print(mean_dataset_value)\n",
    "\n",
    "mean_loss = 0.\n",
    "\n",
    "# Add a progress bar\n",
    "train_loader_pbar = tqdm(train_loader, unit=\"batch\")\n",
    "\n",
    "# Loop over the training batches\n",
    "for images,\\\n",
    "    traversal_costs,\\\n",
    "    linear_velocities in train_loader_pbar:\n",
    "    mean_tensor_value = torch.tensor(np.full(list(traversal_costs.shape), mean_dataset_value), dtype=torch.float32)\n",
    "\n",
    "    #loss = criterion_classification(mean_tensor_label, traversability_labels)\n",
    "    #\n",
    "    ## Accumulate batch loss to average over the epoch\n",
    "    #train_loss += loss.item()\n",
    "    #\n",
    "    ## Get the number of correct predictions\n",
    "    #train_correct += torch.sum(\n",
    "    #    torch.argmax(mean_tensor_label, dim=1) == traversability_labels\n",
    "    #    ).item()\n",
    "    \n",
    "    # Compute and accumulate the batch loss\n",
    "    mean_loss += criterion_regression(\n",
    "        mean_tensor_value,\n",
    "        traversal_costs).item()\n",
    "\n",
    "# Compute the losses and accuracies\n",
    "mean_loss /= len(train_loader)\n",
    "    \n",
    "print(mean_loss)\n",
    "\n"
   ]
  },
  {
   "cell_type": "markdown",
   "metadata": {},
   "source": [
    "#### Getting some stats about the dataset"
   ]
  },
  {
   "attachments": {},
   "cell_type": "markdown",
   "metadata": {},
   "source": [
    "## Assessing the relevance of the uncertainty"
   ]
  },
  {
   "cell_type": "code",
   "execution_count": null,
   "metadata": {},
   "outputs": [],
   "source": [
    "##import uncertainty.functions\n",
    "##import uncertainty.evaluation\n",
    "##\n",
    "### Compute the test losses after successive removal of the samples\n",
    "### with the highest loss and uncertainty\n",
    "##test_losses_loss, test_losses_uncertainty =\\\n",
    "##    uncertainty.evaluation.uncertainty_relevance(\n",
    "##        model,\n",
    "##        device,\n",
    "##        criterion_regression,\n",
    "##        uncertainty_function,\n",
    "##        test,\n",
    "##        test_set,\n",
    "##        test_regression_loss,\n",
    "##        test_regression_losses)"
   ]
  },
  {
   "attachments": {},
   "cell_type": "markdown",
   "metadata": {},
   "source": [
    "#### Plotting the results"
   ]
  },
  {
   "cell_type": "code",
   "execution_count": null,
   "metadata": {},
   "outputs": [],
   "source": [
    "##plt.plot(range(0, 100, 10),\n",
    "##         test_losses_loss,\n",
    "##         \"bo--\",\n",
    "##         label=\"removing samples with highest regression loss\",\n",
    "##         markersize=4)\n",
    "##plt.plot(range(0, 100, 10),\n",
    "##         test_losses_uncertainty,\n",
    "##         \"ro--\",\n",
    "##         label=\"removing samples with highest uncertainty\",\n",
    "##         markersize=4)\n",
    "##\n",
    "##plt.legend(loc=\"upper right\")\n",
    "##plt.xlabel(\"Percentage of samples removed\")\n",
    "##plt.ylabel(\"Regression error (MSE)\")"
   ]
  },
  {
   "attachments": {},
   "cell_type": "markdown",
   "metadata": {},
   "source": [
    "### Ensemble learning"
   ]
  },
  {
   "attachments": {},
   "cell_type": "markdown",
   "metadata": {},
   "source": [
    "#### Training the models"
   ]
  },
  {
   "cell_type": "code",
   "execution_count": null,
   "metadata": {},
   "outputs": [],
   "source": [
    "# Create a list of models\n",
    "nb_models = 3\n",
    "some_models = [ResNet18Velocity().to(device=device) for _ in range(nb_models)]\n",
    "\n",
    "# Loop over the models\n",
    "for i in range(nb_models):\n",
    "    \n",
    "    print(f\"Training model {i+1}/{nb_models}\")\n",
    "    \n",
    "    # Get all the parameters excepts the weights and bias of fc layer\n",
    "    base_params = [param for name, param in some_models[i].named_parameters()\n",
    "                   if name not in [\"resnet18.fc.weight\", \"resnet18.fc.bias\"]]\n",
    "\n",
    "    # Define the optimizer, with a greater learning rate for the new fc layer\n",
    "    optimizer = optim.SGD([\n",
    "        {\"params\": base_params},\n",
    "        {\"params\": some_models[i].resnet18.fc.parameters(),\n",
    "         \"lr\": LEARNING_PARAMS[\"learning_rate\"] * 10},\n",
    "    ],\n",
    "        lr=LEARNING_PARAMS[\"learning_rate\"],\n",
    "        momentum=LEARNING_PARAMS[\"momentum\"],\n",
    "        weight_decay=LEARNING_PARAMS[\"weight_decay\"])\n",
    "    \n",
    "    # Loop over the epochs\n",
    "    for epoch in range(LEARNING_PARAMS[\"nb_epochs\"]):\n",
    "\n",
    "        # Train the model\n",
    "        train_loss, train_accuracy, train_regression_loss = train(some_models[i],\n",
    "                                                                  device,\n",
    "                                                                  train_loader,\n",
    "                                                                  optimizer,\n",
    "                                                                  criterion_classification,\n",
    "                                                                  criterion_regression,\n",
    "                                                                  bins_midpoints,\n",
    "                                                                  epoch)"
   ]
  },
  {
   "cell_type": "code",
   "execution_count": null,
   "metadata": {},
   "outputs": [],
   "source": [
    "# Create arrays to store the test losses\n",
    "# test_losses_loss = np.zeros((nb_models, 10))\n",
    "# test_losses_uncertainty = np.zeros((nb_models, 10))\n",
    "\n",
    "uncertainty_function = uncertainty.functions.shannon_entropy\n",
    "\n",
    "# Test the models\n",
    "test_regression_loss, test_regression_losses, uncertainties = test_models(some_models,\n",
    "                                                                          device,\n",
    "                                                                          test_loader,\n",
    "                                                                          criterion_classification,\n",
    "                                                                          criterion_regression,\n",
    "                                                                          bins_midpoints,\n",
    "                                                                          uncertainty_function)\n",
    "print(\"Test regression loss: \", test_regression_loss)\n",
    "\n",
    "# Compute the test losses after successive removal of the samples with the highest loss and uncertainty\n",
    "test_losses_loss, test_losses_uncertainty = \\\n",
    "    uncertainty.evaluation.uncertainty_relevance_models(some_models,\n",
    "                                                        device,\n",
    "                                                        criterion_classification,\n",
    "                                                        criterion_regression,\n",
    "                                                        bins_midpoints,\n",
    "                                                        uncertainty_function,\n",
    "                                                        test_models,\n",
    "                                                        test_set,\n",
    "                                                        test_regression_loss,\n",
    "                                                        test_regression_losses,\n",
    "                                                        uncertainties)"
   ]
  },
  {
   "attachments": {},
   "cell_type": "markdown",
   "metadata": {},
   "source": [
    "#### Plotting the results"
   ]
  },
  {
   "cell_type": "code",
   "execution_count": null,
   "metadata": {},
   "outputs": [],
   "source": [
    "plt.plot(range(0, 100, 10),\n",
    "         test_losses_loss,\n",
    "         \"bo--\",\n",
    "         label=\"removing samples with highest regression loss\",\n",
    "         markersize=4)\n",
    "plt.plot(range(0, 100, 10),\n",
    "         test_losses_uncertainty,\n",
    "         \"ro--\",\n",
    "         label=\"removing samples with highest uncertainty\",\n",
    "         markersize=4)\n",
    "\n",
    "plt.legend(loc=\"upper right\")\n",
    "plt.xlabel(\"Percentage of samples removed\")\n",
    "plt.ylabel(\"Regression error (MSE)\")"
   ]
  }
 ],
 "metadata": {
  "kernelspec": {
   "display_name": "global-python",
   "language": "python",
   "name": "global-python"
  },
  "language_info": {
   "codemirror_mode": {
    "name": "ipython",
    "version": 3
   },
   "file_extension": ".py",
   "mimetype": "text/x-python",
   "name": "python",
   "nbconvert_exporter": "python",
   "pygments_lexer": "ipython3",
   "version": "3.8.10"
  },
  "orig_nbformat": 4,
  "vscode": {
   "interpreter": {
    "hash": "916dbcbb3f70747c44a77c7bcd40155683ae19c65e1c03b4aa3499c5328201f1"
   }
  }
 },
 "nbformat": 4,
 "nbformat_minor": 2
}
