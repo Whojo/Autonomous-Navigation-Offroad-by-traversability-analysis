{
 "cells": [
  {
   "cell_type": "code",
   "execution_count": 1,
   "metadata": {},
   "outputs": [],
   "source": [
    "import torch\n",
    "import torch.nn as nn\n",
    "from torch import optim\n",
    "from torchvision import transforms\n",
    "from torch import Tensor\n",
    "import numpy as np\n",
    "\n",
    "from ray import train as ray_train\n",
    "from ray import tune\n",
    "from ray.tune.search.optuna import OptunaSearch\n",
    "\n",
    "from pathlib import Path\n",
    "\n",
    "import params.learning\n",
    "from params.learning import LEARNING\n",
    "from dataset import get_dataloader\n",
    "from model import ResNet18Velocity_Regression_Alt\n",
    "from train import train\n",
    "from validate import validate\n",
    "from test import test\n",
    "from result import generate_log\n",
    "\n",
    "from custom_transforms import (\n",
    "    Cutout,\n",
    "    Shadowcasting,\n",
    ")\n",
    "\n",
    "from params import PROJECT_PATH\n",
    "\n",
    "device = \"cuda\" if torch.cuda.is_available() else \"cpu\""
   ]
  },
  {
   "cell_type": "markdown",
   "metadata": {},
   "source": [
    "# Hyperparameters list"
   ]
  },
  {
   "cell_type": "code",
   "execution_count": 2,
   "metadata": {},
   "outputs": [],
   "source": [
    "# Define ablation range of data augmentation\n",
    "\n",
    "color_jitter_transforms = [\n",
    "    transforms.ColorJitter(\n",
    "        brightness=0.9, contrast=0.3, saturation=1, hue=0.1\n",
    "    ),\n",
    "    transforms.ColorJitter(\n",
    "        brightness=0.45, contrast=0.15, saturation=0.5, hue=0.1\n",
    "    ),\n",
    "    transforms.ColorJitter(\n",
    "        brightness=0.15, contrast=0.7, saturation=0.25, hue=0.1\n",
    "    ),\n",
    "    None,\n",
    "]\n",
    "\n",
    "image_augmentation_transforms = [\n",
    "    transforms.GaussianBlur(3),\n",
    "    transforms.GaussianBlur(7),\n",
    "    transforms.GaussianBlur(13),\n",
    "    transforms.RandomSolarize(0.5),\n",
    "    Cutout(),\n",
    "    Shadowcasting(),\n",
    "]\n",
    "augmentation_transforms = [\n",
    "    transforms.RandomHorizontalFlip(),\n",
    "    transforms.RandomVerticalFlip(),\n",
    "    transforms.RandomRotation(30),\n",
    "    transforms.RandomResizedCrop(\n",
    "        params.learning.IMAGE_SHAPE,\n",
    "        scale=(0.2, 1.0),\n",
    "        ratio=(3, 3),\n",
    "        antialias=True,\n",
    "    ),\n",
    "]\n",
    "normalization_transforms = transforms.Normalize(\n",
    "    Tensor([0.4333, 0.4610, 0.4413, 0.0926, 0.4989, 0.5924, 0.8239]),\n",
    "    Tensor([0.2223, 0.2146, 0.2154, 0.0817, 0.2162, 0.2504, 0.1614]),\n",
    ")"
   ]
  },
  {
   "cell_type": "code",
   "execution_count": 3,
   "metadata": {},
   "outputs": [],
   "source": [
    "# Optimizer hyperparameters\n",
    "optimizers = [\n",
    "    optim.Adam,\n",
    "    # optim.SGD,  # Clearly less performant than Adam on previous runs\n",
    "    optim.RMSprop,\n",
    "    optim.AdamW,\n",
    "    optim.Adamax,\n",
    "    # optim.ASGD,  # Clearly less performant than Adam on previous runs\n",
    "]"
   ]
  },
  {
   "cell_type": "code",
   "execution_count": 4,
   "metadata": {},
   "outputs": [],
   "source": [
    "image_augmentation_search_space = {\n",
    "    f\"image_augmentation_{i}\": tune.choice([True, False])\n",
    "    for i, aug in enumerate(image_augmentation_transforms)\n",
    "}\n",
    "\n",
    "augmentation_search_space = {\n",
    "    f\"augmentation_{i}\": tune.choice([True, False])\n",
    "    for i, aug in enumerate(augmentation_transforms)\n",
    "}"
   ]
  },
  {
   "cell_type": "code",
   "execution_count": 5,
   "metadata": {},
   "outputs": [],
   "source": [
    "search_space = {\n",
    "    \"nb_epochs\": 200,\n",
    "    \"batch_size\": tune.lograndint(8, 512),\n",
    "    \"learning_rate\": tune.loguniform(1e-5, 1e-3),\n",
    "    \"optimizer\": tune.choice(optimizers),\n",
    "    \"normalize\": tune.choice([True, False]),\n",
    "    \"color_jitter\": tune.choice(color_jitter_transforms),\n",
    "    **image_augmentation_search_space,\n",
    "    # **augmentation_search_space,  # Worked well on previous runs: keep all of them\n",
    "}"
   ]
  },
  {
   "cell_type": "markdown",
   "metadata": {},
   "source": [
    "# Black-box optimizer"
   ]
  },
  {
   "cell_type": "code",
   "execution_count": 6,
   "metadata": {},
   "outputs": [],
   "source": [
    "def get_multiple_choice(\n",
    "    config: dict, prefix: str, choices: []\n",
    ") -> transforms.Compose:\n",
    "    return transforms.Compose(\n",
    "        [\n",
    "            aug\n",
    "            for i, aug in enumerate(choices)\n",
    "            if f\"{prefix}_{i}\" in config and config[f\"{prefix}_{i}\"]\n",
    "        ]\n",
    "    )"
   ]
  },
  {
   "cell_type": "code",
   "execution_count": 7,
   "metadata": {},
   "outputs": [],
   "source": [
    "criterion_regression = nn.MSELoss()\n",
    "\n",
    "\n",
    "def get_multimodal_transform(config: dict) -> transforms.Compose:\n",
    "    multimodal_transform = [\n",
    "        transforms.Resize(params.learning.IMAGE_SHAPE, antialias=True)\n",
    "    ]\n",
    "    if config[\"normalize\"]:\n",
    "        multimodal_transform.append(normalization_transforms)\n",
    "\n",
    "    return transforms.Compose(multimodal_transform)\n",
    "\n",
    "\n",
    "def get_image_augmentation_transform(config: dict) -> transforms.Compose:\n",
    "    image_augmentation_transform = get_multiple_choice(\n",
    "        config, \"image_augmentation\", image_augmentation_transforms\n",
    "    )\n",
    "\n",
    "    if config[\"color_jitter\"] is not None:\n",
    "        image_augmentation_transform = transforms.Compose(\n",
    "            [\n",
    "                config[\"color_jitter\"],\n",
    "                image_augmentation_transform,\n",
    "            ]\n",
    "        )\n",
    "\n",
    "    return image_augmentation_transform\n",
    "\n",
    "\n",
    "def trial(config, *, early_stop=True):\n",
    "    multimodal_transform = get_multimodal_transform(config)\n",
    "    image_augmentation_transform = get_image_augmentation_transform(config)\n",
    "\n",
    "    train_loader, val_loader, test_loader = get_dataloader(\n",
    "        params.learning.DATASET,\n",
    "        image_augmentation_transform=image_augmentation_transform,\n",
    "        augmentation_transform=transforms.Compose(augmentation_transforms),\n",
    "        multimodal_transform=multimodal_transform,\n",
    "        batch_size=config[\"batch_size\"],\n",
    "    )\n",
    "\n",
    "    model = ResNet18Velocity_Regression_Alt().to(device)\n",
    "    optimizer = config[\"optimizer\"](\n",
    "        model.parameters(),\n",
    "        lr=config[\"learning_rate\"],\n",
    "    )\n",
    "\n",
    "    scheduler = optim.lr_scheduler.LinearLR(\n",
    "        optimizer=optimizer, total_iters=config[\"nb_epochs\"]\n",
    "    )\n",
    "\n",
    "    regression_loss_values = np.zeros((2, config[\"nb_epochs\"]))\n",
    "\n",
    "    for epoch in range(config[\"nb_epochs\"]):\n",
    "        train_regression_loss = train(\n",
    "            model,\n",
    "            device,\n",
    "            train_loader,\n",
    "            optimizer,\n",
    "            scheduler,\n",
    "            criterion_regression,\n",
    "            epoch,\n",
    "        )\n",
    "\n",
    "        val_regression_loss = validate(\n",
    "            model, device, val_loader, criterion_regression, epoch\n",
    "        )\n",
    "\n",
    "        ray_train.report(\n",
    "            {\n",
    "                \"train_loss\": train_regression_loss,\n",
    "                \"val_loss\": val_regression_loss,\n",
    "            }\n",
    "        )\n",
    "\n",
    "        regression_loss_values[0, epoch] = train_regression_loss\n",
    "        regression_loss_values[1, epoch] = val_regression_loss\n",
    "\n",
    "        if early_stop and np.min(\n",
    "            regression_loss_values[1, : epoch + 1]\n",
    "        ) < np.min(regression_loss_values[1, max(0, epoch - 10) : epoch + 1]):\n",
    "            break\n",
    "\n",
    "    test_regression_loss, _ = test(\n",
    "        model, device, test_loader, criterion_regression\n",
    "    )\n",
    "    if test_regression_loss < 0.025:  # 0.7:\n",
    "        generate_log(\n",
    "            results_directory=PROJECT_PATH\n",
    "            / f\"src/models_development/multimodal_velocity_regression_alt/logs/formula_hp_tuning/{test_regression_loss:.4f}\",\n",
    "            test_regression_loss=test_regression_loss,\n",
    "            parameters_table=str(config),\n",
    "            model=model,\n",
    "            regression_loss_values=regression_loss_values[\n",
    "                :, regression_loss_values[1, :] != 0\n",
    "            ],\n",
    "        )"
   ]
  },
  {
   "cell_type": "code",
   "execution_count": 8,
   "metadata": {},
   "outputs": [],
   "source": [
    "gpu_trial = tune.with_resources(trial, {\"cpu\": 12, \"gpu\": 1})"
   ]
  },
  {
   "cell_type": "code",
   "execution_count": 20,
   "metadata": {},
   "outputs": [
    {
     "data": {
      "text/html": [
       "<div class=\"tuneStatus\">\n",
       "  <div style=\"display: flex;flex-direction: row\">\n",
       "    <div style=\"display: flex;flex-direction: column;\">\n",
       "      <h3>Tune Status</h3>\n",
       "      <table>\n",
       "<tbody>\n",
       "<tr><td>Current time:</td><td>2023-11-09 16:47:20</td></tr>\n",
       "<tr><td>Running for: </td><td>00:00:02.19        </td></tr>\n",
       "<tr><td>Memory:      </td><td>17.7/62.5 GiB      </td></tr>\n",
       "</tbody>\n",
       "</table>\n",
       "    </div>\n",
       "    <div class=\"vDivider\"></div>\n",
       "    <div class=\"systemInfo\">\n",
       "      <h3>System Info</h3>\n",
       "      Using FIFO scheduling algorithm.<br>Logical resource usage: 12.0/12 CPUs, 1.0/1 GPUs (0.0/1.0 accelerator_type:RTX)\n",
       "    </div>\n",
       "    \n",
       "  </div>\n",
       "  <div class=\"hDivider\"></div>\n",
       "  <div class=\"trialStatus\">\n",
       "    <h3>Trial Status</h3>\n",
       "    <table>\n",
       "<thead>\n",
       "<tr><th>Trial name    </th><th>status  </th><th>loc  </th><th style=\"text-align: right;\">  batch_size</th><th>color_jitter        </th><th>image_augmentation_0  </th><th>image_augmentation_1  </th><th>image_augmentation_2  </th><th>image_augmentation_3  </th><th>image_augmentation_4  </th><th>image_augmentation_5  </th><th style=\"text-align: right;\">  learning_rate</th><th>normalize  </th><th>optimizer           </th></tr>\n",
       "</thead>\n",
       "<tbody>\n",
       "<tr><td>trial_33c1b051</td><td>PENDING </td><td>     </td><td style=\"text-align: right;\">         496</td><td>ColorJitter(bri_0070</td><td>False                 </td><td>True                  </td><td>False                 </td><td>False                 </td><td>True                  </td><td>True                  </td><td style=\"text-align: right;\">    0.000189693</td><td>True       </td><td>&lt;class &#x27;torch.o_2aa0</td></tr>\n",
       "</tbody>\n",
       "</table>\n",
       "  </div>\n",
       "</div>\n",
       "<style>\n",
       ".tuneStatus {\n",
       "  color: var(--jp-ui-font-color1);\n",
       "}\n",
       ".tuneStatus .systemInfo {\n",
       "  display: flex;\n",
       "  flex-direction: column;\n",
       "}\n",
       ".tuneStatus td {\n",
       "  white-space: nowrap;\n",
       "}\n",
       ".tuneStatus .trialStatus {\n",
       "  display: flex;\n",
       "  flex-direction: column;\n",
       "}\n",
       ".tuneStatus h3 {\n",
       "  font-weight: bold;\n",
       "}\n",
       ".tuneStatus .hDivider {\n",
       "  border-bottom-width: var(--jp-border-width);\n",
       "  border-bottom-color: var(--jp-border-color0);\n",
       "  border-bottom-style: solid;\n",
       "}\n",
       ".tuneStatus .vDivider {\n",
       "  border-left-width: var(--jp-border-width);\n",
       "  border-left-color: var(--jp-border-color0);\n",
       "  border-left-style: solid;\n",
       "  margin: 0.5em 1em 0.5em 1em;\n",
       "}\n",
       "</style>\n"
      ],
      "text/plain": [
       "<IPython.core.display.HTML object>"
      ]
     },
     "metadata": {},
     "output_type": "display_data"
    },
    {
     "name": "stderr",
     "output_type": "stream",
     "text": [
      "2023-11-09 16:47:20,185\tWARNING tune.py:186 -- Stop signal received (e.g. via SIGINT/Ctrl+C), ending Ray Tune run. This will try to checkpoint the experiment state one last time. Press CTRL+C (or send SIGINT/SIGKILL/SIGTERM) to skip. \n",
      "2023-11-09 16:47:22,199\tINFO tune.py:1047 -- Total run time: 4.23 seconds (2.18 seconds for the tuning loop).\n",
      "2023-11-09 16:47:22,200\tWARNING tune.py:1062 -- Experiment has been interrupted, but the most recent state was saved.\n",
      "Resume experiment with: Tuner.restore(path=\"/home/g_thomas/ray_results/trial_2023-11-09_16-47-17\", trainable=...)\n",
      "2023-11-09 16:47:22,204\tWARNING experiment_analysis.py:185 -- Failed to fetch metrics for 1 trial(s):\n",
      "- trial_33c1b051: FileNotFoundError('Could not fetch metrics for trial_33c1b051: both result.json and progress.csv were not found at /home/g_thomas/ray_results/trial_2023-11-09_16-47-17/trial_33c1b051_1_batch_size=496,color_jitter=ref_ph_ad846ce6,image_augmentation_0=False,image_augmentation_1=True,image_augmentati_2023-11-09_16-47-18')\n"
     ]
    }
   ],
   "source": [
    "algo = OptunaSearch()\n",
    "\n",
    "tuner = tune.Tuner(\n",
    "    gpu_trial,\n",
    "    tune_config=tune.TuneConfig(\n",
    "        metric=\"val_loss\",\n",
    "        mode=\"min\",\n",
    "        search_alg=algo,\n",
    "        num_samples=100,\n",
    "    ),\n",
    "    param_space=search_space,\n",
    ")\n",
    "results = tuner.fit()"
   ]
  },
  {
   "cell_type": "code",
   "execution_count": null,
   "metadata": {},
   "outputs": [],
   "source": [
    "results.experiment_path"
   ]
  },
  {
   "cell_type": "markdown",
   "metadata": {},
   "source": [
    "# Analyse HP-tuning results"
   ]
  },
  {
   "cell_type": "code",
   "execution_count": null,
   "metadata": {},
   "outputs": [],
   "source": [
    "from ray.tune.analysis import ExperimentAnalysis\n",
    "\n",
    "results = tune.Tuner.restore(\n",
    "    \"/home/g_thomas/ray_results/siamese_hp_tuning_data_aug/\",\n",
    "    trainable=gpu_trial,\n",
    ").get_results()"
   ]
  },
  {
   "cell_type": "code",
   "execution_count": null,
   "metadata": {},
   "outputs": [
    {
     "name": "stdout",
     "output_type": "stream",
     "text": [
      "Best hyperparameters found were:  {'nb_epochs': 200, 'learning_rate': 0.00010384159955189438, 'optimizer': <class 'torch.optim.adamw.AdamW'>, 'image_augmentation_0': False, 'image_augmentation_1': False, 'image_augmentation_2': True, 'image_augmentation_3': True, 'image_augmentation_4': False, 'image_augmentation_5': False, 'augmentation_0': True, 'augmentation_1': True, 'augmentation_2': True, 'augmentation_3': False}\n"
     ]
    }
   ],
   "source": [
    "print(\"Best hyperparameters found were: \", results.get_best_result().config)"
   ]
  },
  {
   "cell_type": "code",
   "execution_count": null,
   "metadata": {},
   "outputs": [
    {
     "name": "stdout",
     "output_type": "stream",
     "text": [
      "Result(\n",
      "  metrics={'train_loss': 0.699599524554999, 'val_loss': 0.6452513138453165},\n",
      "  path='/home/g_thomas/ray_results/trial_2023-10-18_15-53-36/trial_ccc4813f_38_augmentation_0=True,augmentation_1=True,augmentation_2=True,augmentation_3=False,image_augmentation_0=False,imag_2023-10-19_10-57-33',\n",
      "  filesystem='local',\n",
      "  checkpoint=None\n",
      ")\n"
     ]
    }
   ],
   "source": [
    "print(results.get_best_result())"
   ]
  },
  {
   "cell_type": "code",
   "execution_count": null,
   "metadata": {},
   "outputs": [
    {
     "data": {
      "text/plain": [
       "train_loss                                                0.6996\n",
       "val_loss                                                0.645251\n",
       "timestamp                                             1697710588\n",
       "done                                                       False\n",
       "training_iteration                                            76\n",
       "trial_id                                                ccc4813f\n",
       "date                                         2023-10-19_12-16-28\n",
       "time_this_iter_s                                       31.507401\n",
       "time_total_s                                          2589.01325\n",
       "pid                                                       558020\n",
       "hostname                                            buenos-aires\n",
       "node_ip                                           147.250.35.113\n",
       "time_since_restore                                    2589.01325\n",
       "iterations_since_restore                                      76\n",
       "checkpoint_dir_name                                         None\n",
       "config/nb_epochs                                             200\n",
       "config/learning_rate                                    0.000104\n",
       "config/optimizer               <class 'torch.optim.adamw.AdamW'>\n",
       "config/image_augmentation_0                                False\n",
       "config/image_augmentation_1                                False\n",
       "config/image_augmentation_2                                 True\n",
       "config/image_augmentation_3                                 True\n",
       "config/image_augmentation_4                                False\n",
       "config/image_augmentation_5                                False\n",
       "config/augmentation_0                                       True\n",
       "config/augmentation_1                                       True\n",
       "config/augmentation_2                                       True\n",
       "config/augmentation_3                                      False\n",
       "logdir                                                  ccc4813f\n",
       "Name: 37, dtype: object"
      ]
     },
     "execution_count": 29,
     "metadata": {},
     "output_type": "execute_result"
    }
   ],
   "source": [
    "df = results.get_dataframe()\n",
    "best = df.iloc[df[\"val_loss\"].argmin()]\n",
    "best"
   ]
  },
  {
   "cell_type": "code",
   "execution_count": null,
   "metadata": {},
   "outputs": [],
   "source": [
    "import matplotlib.pyplot as plt\n",
    "\n",
    "plt.rcParams[\"text.usetex\"] = False"
   ]
  },
  {
   "cell_type": "code",
   "execution_count": null,
   "metadata": {},
   "outputs": [],
   "source": [
    "df[\"config/optimizer\"] = df[\"config/optimizer\"].astype(str)"
   ]
  },
  {
   "cell_type": "code",
   "execution_count": null,
   "metadata": {},
   "outputs": [
    {
     "data": {
      "text/plain": [
       "0.6452513138453165"
      ]
     },
     "execution_count": 32,
     "metadata": {},
     "output_type": "execute_result"
    }
   ],
   "source": [
    "min(df[\"val_loss\"])"
   ]
  },
  {
   "cell_type": "code",
   "execution_count": null,
   "metadata": {},
   "outputs": [
    {
     "data": {
      "text/plain": [
       "0     0.000017\n",
       "1     0.000011\n",
       "2     0.000032\n",
       "3     0.000042\n",
       "4     0.000805\n",
       "        ...   \n",
       "95    0.000091\n",
       "96    0.000139\n",
       "97    0.000146\n",
       "98    0.000097\n",
       "99    0.000097\n",
       "Name: config/learning_rate, Length: 100, dtype: float64"
      ]
     },
     "execution_count": 33,
     "metadata": {},
     "output_type": "execute_result"
    }
   ],
   "source": [
    "df[\"config/learning_rate\"]"
   ]
  },
  {
   "cell_type": "code",
   "execution_count": null,
   "metadata": {},
   "outputs": [
    {
     "data": {
      "image/png": "[encoded data removed]",
      "text/plain": [
       "<Figure size 640x480 with 1 Axes>"
      ]
     },
     "metadata": {},
     "output_type": "display_data"
    }
   ],
   "source": [
    "plt.scatter(df[\"config/learning_rate\"], df[\"val_loss\"])\n",
    "plt.ylim(0.55, 1.5)\n",
    "plt.ylabel(\"Validation loss\")\n",
    "plt.xlabel(\"Learning rate (log)\")\n",
    "plt.xscale(\"log\")"
   ]
  },
  {
   "cell_type": "code",
   "execution_count": null,
   "metadata": {},
   "outputs": [],
   "source": [
    "%%script false --no-raise-error\n",
    "\n",
    "plt.scatter(df[\"config/batch_size\"], df[\"val_loss\"])\n",
    "plt.ylim(0.55, 1.5)\n",
    "plt.ylabel(\"Validation loss\")\n",
    "plt.xlabel(\"Batch size (log)\")\n",
    "plt.xscale(\"log\")"
   ]
  },
  {
   "cell_type": "code",
   "execution_count": null,
   "metadata": {},
   "outputs": [
    {
     "data": {
      "image/png": "[encoded data removed]",
      "text/plain": [
       "<Figure size 3000x500 with 6 Axes>"
      ]
     },
     "metadata": {},
     "output_type": "display_data"
    }
   ],
   "source": [
    "range_ = df[\"val_loss\"].min(), 2\n",
    "\n",
    "\n",
    "def plot_trials_binary_config(df, best, column_group):\n",
    "    columns = [col for col in df.columns if column_group in col]\n",
    "\n",
    "    _, ax_list = plt.subplots(1, len(columns), figsize=(5 * len(columns), 5))\n",
    "    if len(columns) == 1:\n",
    "        ax_list = [ax_list]\n",
    "\n",
    "    for col, ax in zip(columns, ax_list):\n",
    "        ax.set_title(f\"{col} (best: {best[col]})\")\n",
    "        for value, group in df.groupby(col):\n",
    "            ax.hist(\n",
    "                group[\"val_loss\"],\n",
    "                label=value,\n",
    "                range=range_,\n",
    "                bins=20,\n",
    "                alpha=0.7,\n",
    "            )\n",
    "\n",
    "        ax.set_xlabel(\"Validation loss\")\n",
    "        ax.set_ylabel(\"Number of trials\")\n",
    "        ax.legend()\n",
    "        ax.set_ylim(0, 26)\n",
    "\n",
    "\n",
    "plot_trials_binary_config(df, best, \"config/image_augmentation\")\n",
    "# plot_trials_binary_config(df, best, \"config/augmentation\")\n",
    "# plot_trials_binary_config(df, best, \"config/normalize\")"
   ]
  },
  {
   "cell_type": "code",
   "execution_count": null,
   "metadata": {},
   "outputs": [
    {
     "data": {
      "image/png": "[encoded data removed]",
      "text/plain": [
       "<Figure size 2400x400 with 4 Axes>"
      ]
     },
     "metadata": {},
     "output_type": "display_data"
    }
   ],
   "source": [
    "def plot_trials_multiple_config(column_group: str):\n",
    "    _, ax_list = plt.subplots(\n",
    "        1, len(optimizers), figsize=(6 * len(optimizers), 4)\n",
    "    )\n",
    "\n",
    "    for ax, (value, group) in zip(\n",
    "        ax_list, df.groupby(column_group, sort=False, dropna=False)\n",
    "    ):\n",
    "        title = f\"{value}\"\n",
    "        color = \"firebrick\"\n",
    "        if str(best[column_group]) == value:\n",
    "            color = \"limegreen\"\n",
    "            title += \" (best)\"\n",
    "\n",
    "        ax.set_title(title)\n",
    "        ax.hist(\n",
    "            group[\"val_loss\"],\n",
    "            range=range_,\n",
    "            bins=20,\n",
    "            color=color,\n",
    "        )\n",
    "        ax.set_xlabel(\"Validation loss\")\n",
    "        ax.set_ylabel(\"Number of trials\")\n",
    "        ax.set_ylim(0, 19)\n",
    "\n",
    "\n",
    "plot_trials_multiple_config(\"config/optimizer\")\n",
    "# plot_trials_multiple_config(\"config/color_jitter\")"
   ]
  }
 ],
 "metadata": {
  "kernelspec": {
   "display_name": "traversability-analysis-FVBHScUm-py3.9",
   "language": "python",
   "name": "python3"
  },
  "language_info": {
   "codemirror_mode": {
    "name": "ipython",
    "version": 3
   },
   "file_extension": ".py",
   "mimetype": "text/x-python",
   "name": "python",
   "nbconvert_exporter": "python",
   "pygments_lexer": "ipython3",
   "version": "3.9.5"
  }
 },
 "nbformat": 4,
 "nbformat_minor": 2
}
