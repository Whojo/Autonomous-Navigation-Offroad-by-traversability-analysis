{
 "cells": [
  {
   "cell_type": "code",
   "execution_count": 1,
   "metadata": {},
   "outputs": [],
   "source": [
    "# Import libraries\n",
    "import torch\n",
    "import torch.nn as nn\n",
    "from torch import optim\n",
    "import torchvision.models as models\n",
    "from torchvision import transforms\n",
    "from torch.utils.data import DataLoader, Dataset, random_split, Subset\n",
    "\n",
    "# A module to print a model summary (outputs shape, number of parameters, ...)\n",
    "import torchsummary\n",
    "\n",
    "# TensorBoard for visualization\n",
    "from torch.utils.tensorboard import SummaryWriter\n",
    "\n",
    "from tqdm import tqdm\n",
    "\n",
    "import pandas as pd\n",
    "import numpy as np\n",
    "import os\n",
    "import matplotlib.pyplot as plt\n",
    "plt.rcParams.update({\n",
    "    \"pgf.texsystem\": \"pdflatex\",\n",
    "    'font.family': 'serif',\n",
    "    'text.usetex': True,\n",
    "    'pgf.rcfonts': False,\n",
    "})\n",
    "# plt.rcParams['text.usetex'] = True  # Render Matplotlib text with Tex\n",
    "from PIL import Image\n",
    "from sklearn.model_selection import train_test_split\n",
    "\n",
    "from params import PROJECT_PATH"
   ]
  },
  {
   "attachments": {},
   "cell_type": "markdown",
   "metadata": {},
   "source": [
    "## Prepare data"
   ]
  },
  {
   "cell_type": "code",
   "execution_count": 2,
   "metadata": {},
   "outputs": [],
   "source": [
    "# Define the data to be used\n",
    "# DATASET = PROJECT_PATH / \"datasets/dataset_to_delete/\"\n",
    "DATASET = PROJECT_PATH / \"datasets/dataset_3+8bags_3var3sc_regression_classification_kmeans_split/\"\n",
    "\n",
    "\n",
    "class TraversabilityDataset(Dataset):\n",
    "    \"\"\"Custom Dataset class to represent our dataset\n",
    "    It includes data and information about the data\n",
    "\n",
    "    Args:\n",
    "        Dataset (class): Abstract class which represents a dataset\n",
    "    \"\"\"\n",
    "    \n",
    "    def __init__(self, traversal_costs_file, images_directory,\n",
    "                 transform=None):\n",
    "        \"\"\"Constructor of the class\n",
    "\n",
    "        Args:\n",
    "            traversal_costs_file (string): Path to the csv file which contains\n",
    "            images index and their associated traversal cost\n",
    "            images_directory (string): Directory with all the images\n",
    "            transform (callable, optional): Transforms to be applied on a\n",
    "            sample. Defaults to None.\n",
    "        \"\"\"\n",
    "        # Read the csv file\n",
    "        self.traversal_costs_frame = pd.read_csv(traversal_costs_file)\n",
    "        \n",
    "        # Initialize the name of the images directory\n",
    "        self.images_directory = images_directory\n",
    "        \n",
    "        # Initialize the transforms\n",
    "        self.transform = transform\n",
    "\n",
    "    def __len__(self):\n",
    "        \"\"\"Return the size of the dataset\n",
    "\n",
    "        Returns:\n",
    "            int: Number of samples\n",
    "        \"\"\"\n",
    "        # Count the number of files in the image directory\n",
    "        # return len(os.listdir(self.images_directory))\n",
    "        return len(self.traversal_costs_frame)\n",
    "\n",
    "    def __getitem__(self, idx):\n",
    "        \"\"\"Allow to access a sample by its index\n",
    "\n",
    "        Args:\n",
    "            idx (int): Index of a sample\n",
    "\n",
    "        Returns:\n",
    "            list: Sample at index idx\n",
    "            ([image, traversal_cost])\n",
    "        \"\"\"\n",
    "        # Get the image name at index idx\n",
    "        image_name = os.path.join(self.images_directory,\n",
    "                                  self.traversal_costs_frame.loc[idx, \"image_id\"])\n",
    "        \n",
    "        # Read the image\n",
    "        image = Image.open(image_name)\n",
    "        \n",
    "        # Eventually apply transforms to the image\n",
    "        if self.transform:\n",
    "            image = self.transform(image)\n",
    "        \n",
    "        # Get the corresponding traversal cost\n",
    "        traversal_cost = self.traversal_costs_frame.loc[idx, \"traversal_cost\"]\n",
    "        \n",
    "        # Get the corresponding traversability label\n",
    "        traversability_label = self.traversal_costs_frame.loc[idx, \"traversability_label\"]\n",
    "\n",
    "        return image, traversal_cost, traversability_label"
   ]
  },
  {
   "cell_type": "code",
   "execution_count": 3,
   "metadata": {},
   "outputs": [],
   "source": [
    "def compute_mean_std(images_directory, traversal_costs_file):\n",
    "    transform = transforms.Compose([\n",
    "        # Reduce the size of the images\n",
    "        # (if size is an int, the smaller edge of the\n",
    "        # image will be matched to this number and the ration is kept)\n",
    "        transforms.Resize((70, 210)),\n",
    "\n",
    "        # Convert a PIL Image or numpy.ndarray to tensor\n",
    "        transforms.ToTensor(),\n",
    "    ])\n",
    "    \n",
    "    # Create a Dataset for training\n",
    "    dataset = TraversabilityDataset(\n",
    "        traversal_costs_file=DATASET / traversal_costs_file,\n",
    "        images_directory=DATASET / images_directory,\n",
    "        transform=transform\n",
    "    )\n",
    "    \n",
    "    loader = DataLoader(\n",
    "        dataset=dataset,\n",
    "        batch_size=1,\n",
    "        shuffle=False,\n",
    "        num_workers=12,\n",
    "        pin_memory=True\n",
    "    )\n",
    "\n",
    "    cnt = 0\n",
    "    first_moment = torch.empty(3)\n",
    "    second_moment = torch.empty(3)\n",
    "\n",
    "    for images, traversal_costs, traversability_labels in loader:\n",
    "        b, c, h, w = images.shape\n",
    "        nb_pixels = b * h * w\n",
    "        sum_ = torch.sum(images, dim=[0, 2, 3])\n",
    "        sum_of_square = torch.sum(images ** 2, dim=[0, 2, 3])\n",
    "        first_moment = (cnt * first_moment + sum_) / (cnt + nb_pixels)\n",
    "        second_moment = (cnt * second_moment + sum_of_square) / (cnt + nb_pixels)\n",
    "        cnt += nb_pixels\n",
    "\n",
    "    mean = first_moment\n",
    "    std = torch.sqrt(second_moment - first_moment ** 2)\n",
    "    \n",
    "    return mean, std"
   ]
  },
  {
   "cell_type": "code",
   "execution_count": 4,
   "metadata": {},
   "outputs": [
    {
     "name": "stdout",
     "output_type": "stream",
     "text": [
      "tensor([0.3426, 0.3569, 0.2914]) tensor([0.1363, 0.1248, 0.1302])\n"
     ]
    }
   ],
   "source": [
    "mean, std = compute_mean_std(\"images_train\", \"traversal_costs_train.csv\")\n",
    "print(mean, std)"
   ]
  },
  {
   "cell_type": "code",
   "execution_count": 5,
   "metadata": {},
   "outputs": [],
   "source": [
    "# Compose several transforms together to be applied to training data\n",
    "# (Note that transforms are not applied yet)\n",
    "train_transform = transforms.Compose([\n",
    "    # Reduce the size of the images\n",
    "    # (if size is an int, the smaller edge of the\n",
    "    # image will be matched to this number and the ration is kept)\n",
    "    # transforms.Resize(100),\n",
    "    transforms.Resize((70, 210)),\n",
    "    \n",
    "    # Perform horizontal flip of the image with a probability of 0.5\n",
    "    transforms.RandomHorizontalFlip(p=0.5),\n",
    "    \n",
    "    # Modify the brightness and the contrast of the image\n",
    "    transforms.ColorJitter(contrast=0.5, brightness=0.5),\n",
    "    \n",
    "    # Convert a PIL Image or numpy.ndarray to tensor\n",
    "    transforms.ToTensor(),\n",
    "    \n",
    "    # Add some random gaussian noise to the image\n",
    "    transforms.Lambda(lambda x: x + (0.001**0.5)*torch.randn(x.shape)),\n",
    "    \n",
    "    # Normalize a tensor image with pre-computed mean and standard deviation\n",
    "    # (based on the data used to train the model(s))\n",
    "    # (be careful, it only works on torch.*Tensor)\n",
    "    transforms.Normalize(\n",
    "        mean=mean,\n",
    "        std=std,\n",
    "        # mean=[0.485, 0.456, 0.406],\n",
    "        # std=[0.229, 0.224, 0.225],\n",
    "    ),\n",
    "])\n",
    "\n",
    "# Define a different set of transforms testing\n",
    "# (for instance we do not need to flip the image)\n",
    "test_transform = transforms.Compose([\n",
    "    # transforms.Resize(100),\n",
    "    transforms.Resize((70, 210)),\n",
    "    # transforms.Grayscale(),\n",
    "    # transforms.CenterCrop(100),\n",
    "    # transforms.RandomCrop(100),\n",
    "    transforms.ToTensor(),\n",
    "    \n",
    "    # Mean and standard deviation were pre-computed on the training data\n",
    "    # (on the ImageNet dataset)\n",
    "    transforms.Normalize(\n",
    "        mean=mean,\n",
    "        std=std,\n",
    "        # mean=[0.485, 0.456, 0.406],\n",
    "        # std=[0.229, 0.224, 0.225],\n",
    "    ),\n",
    "])\n",
    "\n",
    "\n",
    "# # Create a Dataset instance for our training data\n",
    "# data = TraversabilityDataset(\n",
    "#     traversal_costs_file=DATASET / \"traversal_costs.csv\",\n",
    "#     images_directory=DATASET / \"images\",\n",
    "#     transform=train_transform\n",
    "# )\n",
    "\n",
    "# # Split our training dataset into a training dataset and a validation dataset\n",
    "# train_set, val_set, test_set = random_split(data, [0.8, 0.1, 0.1])\n",
    "\n",
    "\n",
    "# Create a Dataset for training\n",
    "train_set = TraversabilityDataset(\n",
    "    traversal_costs_file=DATASET / \"traversal_costs_train.csv\",\n",
    "    images_directory=DATASET / \"images_train\",\n",
    "    transform=train_transform\n",
    ")\n",
    "\n",
    "# Create a Dataset for validation\n",
    "val_set = TraversabilityDataset(\n",
    "    traversal_costs_file=DATASET / \"traversal_costs_train.csv\",\n",
    "    images_directory=DATASET / \"images_train\",\n",
    "    transform=test_transform\n",
    ")\n",
    "\n",
    "# Create a Dataset for testin\n",
    "test_set = TraversabilityDataset(\n",
    "    traversal_costs_file=DATASET / \"traversal_costs_test.csv\",\n",
    "    images_directory=DATASET / \"images_test\",\n",
    "    transform=test_transform\n",
    ")\n",
    "\n",
    "# Set the train dataset size\n",
    "# 70% of the total data is used for training, 15% for validation\n",
    "# and 15% for testing\n",
    "train_size = 70/(100-15)\n",
    "\n",
    "# Splits train data indices into train and validation data indices\n",
    "train_indices, val_indices = train_test_split(range(len(train_set)), train_size=train_size)\n",
    "\n",
    "# Extract the corresponding subsets of the train dataset\n",
    "train_set = Subset(train_set, train_indices)\n",
    "val_set = Subset(val_set, val_indices)\n",
    "\n",
    "\n",
    "BATCH_SIZE = 32\n",
    "\n",
    "# Combine a dataset and a sampler, and provide an iterable over the dataset\n",
    "# (setting shuffle argument to True calls a RandomSampler, and avoids to\n",
    "# have to create a Sampler object)\n",
    "train_loader = DataLoader(\n",
    "    train_set,\n",
    "    batch_size=BATCH_SIZE,\n",
    "    shuffle=True,\n",
    "    num_workers=12,  # Asynchronous data loading and augmentation\n",
    "    pin_memory=True,  # Increase the transferring speed of the data to the GPU\n",
    ")\n",
    "\n",
    "val_loader = DataLoader(\n",
    "    val_set,\n",
    "    batch_size=BATCH_SIZE,\n",
    "    shuffle=True,\n",
    "    num_workers=12,\n",
    "    pin_memory=True,\n",
    ")\n",
    "\n",
    "test_loader = DataLoader(\n",
    "    test_set,\n",
    "    batch_size=BATCH_SIZE,\n",
    "    shuffle=False,  # SequentialSampler\n",
    "    num_workers=12,\n",
    "    pin_memory=True,\n",
    ")"
   ]
  },
  {
   "cell_type": "code",
   "execution_count": 6,
   "metadata": {},
   "outputs": [],
   "source": [
    "# Get the number of samples per split\n",
    "NB_TRAIN = len(train_set)\n",
    "NB_VAL = len(val_set)\n",
    "NB_TEST = len(test_set)"
   ]
  },
  {
   "cell_type": "code",
   "execution_count": 7,
   "metadata": {},
   "outputs": [
    {
     "name": "stdout",
     "output_type": "stream",
     "text": [
      "70.0 % of the data for training (6239 samples)\n",
      "15.0 % of the data for validation (1337 samples)\n",
      "15.0 % of the data for testing (1338 samples)\n"
     ]
    }
   ],
   "source": [
    "# Display the splits ratio\n",
    "NB_SAMPLES = NB_TRAIN + NB_VAL + NB_TEST\n",
    "\n",
    "print(f\"{np.round(NB_TRAIN/NB_SAMPLES*100)} % of the data for training ({NB_TRAIN} samples)\")\n",
    "print(f\"{np.round(NB_VAL/NB_SAMPLES*100)} % of the data for validation ({NB_VAL} samples)\")\n",
    "print(f\"{np.round(NB_TEST/NB_SAMPLES*100)} % of the data for testing ({NB_TEST} samples)\")"
   ]
  },
  {
   "attachments": {},
   "cell_type": "markdown",
   "metadata": {},
   "source": [
    "## GPU?"
   ]
  },
  {
   "cell_type": "code",
   "execution_count": 8,
   "metadata": {},
   "outputs": [
    {
     "name": "stdout",
     "output_type": "stream",
     "text": [
      "Device: cuda\n",
      "\n"
     ]
    }
   ],
   "source": [
    "# Use a GPU if available\n",
    "# device = \"cpu\"\n",
    "device = \"cuda\" if torch.cuda.is_available() else \"cpu\"\n",
    "print(f\"Device: {device}\\n\")"
   ]
  },
  {
   "attachments": {},
   "cell_type": "markdown",
   "metadata": {},
   "source": [
    "## Model design and initialization"
   ]
  },
  {
   "cell_type": "code",
   "execution_count": 9,
   "metadata": {},
   "outputs": [],
   "source": [
    "# Open TensorBoard\n",
    "tensorboard = SummaryWriter()\n",
    "\n",
    "# Load the pre-trained ResNet model\n",
    "model = models.resnet18().to(device=device)\n",
    "\n",
    "# model = models.resnet18(weights=models.ResNet18_Weights.DEFAULT).to(device=device)\n",
    "\n",
    "# Replace the last layer by a fully-connected one with 1 output\n",
    "model.fc = nn.Linear(model.fc.in_features, 1, device=device)\n",
    "\n",
    "# Initialize the last layer using Xavier initialization\n",
    "# nn.init.xavier_uniform_(model.fc.weight)\n",
    "\n",
    "# Display the architecture in TensorBoard\n",
    "images, traversal_costs, traversability_labels = next(iter(train_loader))\n",
    "images = images.to(device)\n",
    "tensorboard.add_graph(model, images)\n",
    "\n",
    "# print(model)\n",
    "# print(torchsummary.summary(model, (3, 100, 100)))"
   ]
  },
  {
   "cell_type": "code",
   "execution_count": 10,
   "metadata": {},
   "outputs": [
    {
     "data": {
      "text/plain": [
       "[('conv1.weight', torch.Size([64, 3, 7, 7])),\n",
       " ('bn1.weight', torch.Size([64])),\n",
       " ('bn1.bias', torch.Size([64])),\n",
       " ('layer1.0.conv1.weight', torch.Size([64, 64, 3, 3])),\n",
       " ('layer1.0.bn1.weight', torch.Size([64])),\n",
       " ('layer1.0.bn1.bias', torch.Size([64])),\n",
       " ('layer1.0.conv2.weight', torch.Size([64, 64, 3, 3])),\n",
       " ('layer1.0.bn2.weight', torch.Size([64])),\n",
       " ('layer1.0.bn2.bias', torch.Size([64])),\n",
       " ('layer1.1.conv1.weight', torch.Size([64, 64, 3, 3])),\n",
       " ('layer1.1.bn1.weight', torch.Size([64])),\n",
       " ('layer1.1.bn1.bias', torch.Size([64])),\n",
       " ('layer1.1.conv2.weight', torch.Size([64, 64, 3, 3])),\n",
       " ('layer1.1.bn2.weight', torch.Size([64])),\n",
       " ('layer1.1.bn2.bias', torch.Size([64])),\n",
       " ('layer2.0.conv1.weight', torch.Size([128, 64, 3, 3])),\n",
       " ('layer2.0.bn1.weight', torch.Size([128])),\n",
       " ('layer2.0.bn1.bias', torch.Size([128])),\n",
       " ('layer2.0.conv2.weight', torch.Size([128, 128, 3, 3])),\n",
       " ('layer2.0.bn2.weight', torch.Size([128])),\n",
       " ('layer2.0.bn2.bias', torch.Size([128])),\n",
       " ('layer2.0.downsample.0.weight', torch.Size([128, 64, 1, 1])),\n",
       " ('layer2.0.downsample.1.weight', torch.Size([128])),\n",
       " ('layer2.0.downsample.1.bias', torch.Size([128])),\n",
       " ('layer2.1.conv1.weight', torch.Size([128, 128, 3, 3])),\n",
       " ('layer2.1.bn1.weight', torch.Size([128])),\n",
       " ('layer2.1.bn1.bias', torch.Size([128])),\n",
       " ('layer2.1.conv2.weight', torch.Size([128, 128, 3, 3])),\n",
       " ('layer2.1.bn2.weight', torch.Size([128])),\n",
       " ('layer2.1.bn2.bias', torch.Size([128])),\n",
       " ('layer3.0.conv1.weight', torch.Size([256, 128, 3, 3])),\n",
       " ('layer3.0.bn1.weight', torch.Size([256])),\n",
       " ('layer3.0.bn1.bias', torch.Size([256])),\n",
       " ('layer3.0.conv2.weight', torch.Size([256, 256, 3, 3])),\n",
       " ('layer3.0.bn2.weight', torch.Size([256])),\n",
       " ('layer3.0.bn2.bias', torch.Size([256])),\n",
       " ('layer3.0.downsample.0.weight', torch.Size([256, 128, 1, 1])),\n",
       " ('layer3.0.downsample.1.weight', torch.Size([256])),\n",
       " ('layer3.0.downsample.1.bias', torch.Size([256])),\n",
       " ('layer3.1.conv1.weight', torch.Size([256, 256, 3, 3])),\n",
       " ('layer3.1.bn1.weight', torch.Size([256])),\n",
       " ('layer3.1.bn1.bias', torch.Size([256])),\n",
       " ('layer3.1.conv2.weight', torch.Size([256, 256, 3, 3])),\n",
       " ('layer3.1.bn2.weight', torch.Size([256])),\n",
       " ('layer3.1.bn2.bias', torch.Size([256])),\n",
       " ('layer4.0.conv1.weight', torch.Size([512, 256, 3, 3])),\n",
       " ('layer4.0.bn1.weight', torch.Size([512])),\n",
       " ('layer4.0.bn1.bias', torch.Size([512])),\n",
       " ('layer4.0.conv2.weight', torch.Size([512, 512, 3, 3])),\n",
       " ('layer4.0.bn2.weight', torch.Size([512])),\n",
       " ('layer4.0.bn2.bias', torch.Size([512])),\n",
       " ('layer4.0.downsample.0.weight', torch.Size([512, 256, 1, 1])),\n",
       " ('layer4.0.downsample.1.weight', torch.Size([512])),\n",
       " ('layer4.0.downsample.1.bias', torch.Size([512])),\n",
       " ('layer4.1.conv1.weight', torch.Size([512, 512, 3, 3])),\n",
       " ('layer4.1.bn1.weight', torch.Size([512])),\n",
       " ('layer4.1.bn1.bias', torch.Size([512])),\n",
       " ('layer4.1.conv2.weight', torch.Size([512, 512, 3, 3])),\n",
       " ('layer4.1.bn2.weight', torch.Size([512])),\n",
       " ('layer4.1.bn2.bias', torch.Size([512])),\n",
       " ('fc.weight', torch.Size([1, 512])),\n",
       " ('fc.bias', torch.Size([1]))]"
      ]
     },
     "execution_count": 10,
     "metadata": {},
     "output_type": "execute_result"
    }
   ],
   "source": [
    "[(name, param.shape) for name, param in model.named_parameters()]"
   ]
  },
  {
   "cell_type": "code",
   "execution_count": 11,
   "metadata": {},
   "outputs": [
    {
     "name": "stdout",
     "output_type": "stream",
     "text": [
      "OrderedDict([('weight', tensor([[ 0.0226,  0.0154,  0.0006, -0.0336, -0.0419, -0.0103,  0.0350, -0.0052,\n",
      "          0.0234,  0.0271, -0.0366,  0.0356, -0.0144,  0.0098, -0.0074, -0.0263,\n",
      "          0.0221, -0.0346, -0.0349,  0.0204, -0.0366,  0.0214, -0.0131, -0.0412,\n",
      "          0.0007,  0.0389,  0.0193,  0.0095,  0.0273, -0.0195, -0.0027, -0.0287,\n",
      "          0.0333, -0.0219, -0.0064,  0.0401, -0.0175, -0.0411, -0.0089, -0.0364,\n",
      "         -0.0264,  0.0411,  0.0037, -0.0225,  0.0349,  0.0024, -0.0224,  0.0428,\n",
      "          0.0260,  0.0197, -0.0218,  0.0041, -0.0309, -0.0403, -0.0430,  0.0424,\n",
      "          0.0385,  0.0040, -0.0117,  0.0258, -0.0407,  0.0210, -0.0303, -0.0211,\n",
      "         -0.0396, -0.0160, -0.0379, -0.0076,  0.0323, -0.0156,  0.0105,  0.0308,\n",
      "          0.0180,  0.0256, -0.0353, -0.0437,  0.0090, -0.0362, -0.0391,  0.0404,\n",
      "         -0.0344,  0.0398, -0.0246, -0.0221,  0.0112, -0.0395,  0.0223, -0.0351,\n",
      "         -0.0355, -0.0115,  0.0146, -0.0240, -0.0173, -0.0080, -0.0352, -0.0087,\n",
      "          0.0088,  0.0241, -0.0096, -0.0242, -0.0156, -0.0340,  0.0263,  0.0118,\n",
      "         -0.0262,  0.0130, -0.0105, -0.0057, -0.0095, -0.0076,  0.0146,  0.0367,\n",
      "         -0.0165, -0.0358,  0.0072, -0.0118, -0.0040, -0.0105,  0.0049,  0.0107,\n",
      "          0.0258,  0.0132, -0.0144,  0.0303,  0.0227,  0.0405,  0.0165, -0.0125,\n",
      "          0.0198, -0.0076, -0.0133,  0.0154, -0.0382, -0.0147,  0.0253, -0.0402,\n",
      "         -0.0324,  0.0202,  0.0285,  0.0288, -0.0433,  0.0124, -0.0346,  0.0263,\n",
      "          0.0057, -0.0082, -0.0404,  0.0412,  0.0056,  0.0032, -0.0023, -0.0205,\n",
      "         -0.0209,  0.0435, -0.0100, -0.0092, -0.0156, -0.0377, -0.0424, -0.0265,\n",
      "          0.0064, -0.0349, -0.0200,  0.0176, -0.0351,  0.0368,  0.0376,  0.0021,\n",
      "          0.0063,  0.0120,  0.0102,  0.0087,  0.0238,  0.0034,  0.0225,  0.0268,\n",
      "         -0.0394,  0.0052, -0.0234,  0.0356,  0.0414,  0.0266, -0.0363, -0.0208,\n",
      "          0.0161,  0.0100,  0.0049,  0.0192, -0.0195,  0.0371, -0.0440,  0.0070,\n",
      "         -0.0385,  0.0265,  0.0377, -0.0122,  0.0435,  0.0248, -0.0093, -0.0426,\n",
      "          0.0068,  0.0253,  0.0203, -0.0262, -0.0135, -0.0018,  0.0409,  0.0181,\n",
      "          0.0272, -0.0046,  0.0285, -0.0387,  0.0371, -0.0440, -0.0148,  0.0352,\n",
      "          0.0401, -0.0286, -0.0089, -0.0038,  0.0389, -0.0190,  0.0010, -0.0406,\n",
      "         -0.0193, -0.0015,  0.0198,  0.0367,  0.0230,  0.0412, -0.0132, -0.0134,\n",
      "         -0.0406, -0.0175, -0.0189,  0.0074, -0.0152, -0.0221,  0.0335,  0.0047,\n",
      "          0.0387,  0.0356, -0.0378, -0.0388,  0.0282,  0.0224, -0.0385, -0.0294,\n",
      "         -0.0019,  0.0422, -0.0240,  0.0113,  0.0365,  0.0069,  0.0305, -0.0287,\n",
      "         -0.0005,  0.0058,  0.0141, -0.0300, -0.0257,  0.0143, -0.0378,  0.0238,\n",
      "          0.0138,  0.0346, -0.0237,  0.0281,  0.0361,  0.0293,  0.0379,  0.0386,\n",
      "         -0.0367,  0.0207,  0.0309,  0.0300, -0.0280,  0.0108,  0.0041, -0.0427,\n",
      "          0.0084,  0.0387, -0.0243, -0.0006, -0.0198,  0.0014,  0.0300,  0.0222,\n",
      "         -0.0045,  0.0183, -0.0232, -0.0232,  0.0059,  0.0138,  0.0415,  0.0032,\n",
      "          0.0106,  0.0115, -0.0226, -0.0308, -0.0238, -0.0065,  0.0297,  0.0141,\n",
      "          0.0438, -0.0141, -0.0055, -0.0065,  0.0297,  0.0173, -0.0070, -0.0122,\n",
      "         -0.0385, -0.0120,  0.0283,  0.0333,  0.0366,  0.0015,  0.0043,  0.0342,\n",
      "          0.0088,  0.0050, -0.0188,  0.0013,  0.0128,  0.0058,  0.0158, -0.0279,\n",
      "         -0.0004,  0.0212,  0.0228,  0.0263, -0.0095,  0.0077, -0.0362,  0.0016,\n",
      "          0.0316, -0.0196, -0.0143,  0.0021, -0.0025,  0.0031, -0.0122,  0.0341,\n",
      "          0.0303,  0.0182, -0.0185, -0.0108, -0.0437, -0.0020, -0.0018,  0.0056,\n",
      "          0.0275,  0.0062, -0.0157, -0.0351, -0.0198, -0.0021,  0.0362, -0.0329,\n",
      "          0.0395, -0.0280,  0.0329, -0.0295, -0.0103, -0.0032,  0.0335, -0.0293,\n",
      "          0.0032, -0.0202, -0.0181,  0.0324,  0.0094, -0.0017,  0.0263,  0.0370,\n",
      "          0.0318, -0.0170,  0.0362,  0.0234,  0.0013, -0.0234, -0.0005,  0.0296,\n",
      "          0.0387, -0.0401,  0.0213, -0.0018,  0.0285,  0.0337,  0.0371,  0.0205,\n",
      "         -0.0078,  0.0378,  0.0268,  0.0249,  0.0377, -0.0353, -0.0230,  0.0201,\n",
      "          0.0190, -0.0405,  0.0208, -0.0147,  0.0393, -0.0240,  0.0267, -0.0405,\n",
      "          0.0353,  0.0240, -0.0401, -0.0113,  0.0217, -0.0434, -0.0131, -0.0275,\n",
      "          0.0067, -0.0367,  0.0036, -0.0204, -0.0257, -0.0238, -0.0406,  0.0352,\n",
      "          0.0221, -0.0104,  0.0055, -0.0352,  0.0048, -0.0073, -0.0214,  0.0395,\n",
      "         -0.0387, -0.0061, -0.0085, -0.0310, -0.0115, -0.0390, -0.0231, -0.0093,\n",
      "          0.0013, -0.0253,  0.0072, -0.0073,  0.0234,  0.0142, -0.0168, -0.0280,\n",
      "         -0.0262, -0.0440,  0.0154, -0.0255,  0.0299, -0.0155, -0.0205,  0.0166,\n",
      "         -0.0308, -0.0042, -0.0171, -0.0384,  0.0264, -0.0231, -0.0247, -0.0007,\n",
      "         -0.0169, -0.0313,  0.0020,  0.0365, -0.0015, -0.0083, -0.0145, -0.0346,\n",
      "          0.0216, -0.0046, -0.0094,  0.0341, -0.0402, -0.0084,  0.0187,  0.0419,\n",
      "          0.0123,  0.0125, -0.0269, -0.0421, -0.0209,  0.0225,  0.0129,  0.0180,\n",
      "          0.0046,  0.0034, -0.0130, -0.0228,  0.0334,  0.0400,  0.0386, -0.0346,\n",
      "          0.0208,  0.0330, -0.0241,  0.0167, -0.0041, -0.0197,  0.0424,  0.0278,\n",
      "         -0.0180, -0.0400,  0.0151, -0.0063, -0.0108,  0.0098, -0.0128, -0.0006]],\n",
      "       device='cuda:0')), ('bias', tensor([-0.0439], device='cuda:0'))])\n"
     ]
    }
   ],
   "source": [
    "print(model.fc.state_dict())"
   ]
  },
  {
   "attachments": {},
   "cell_type": "markdown",
   "metadata": {},
   "source": [
    "## Training and validation loops"
   ]
  },
  {
   "cell_type": "code",
   "execution_count": 12,
   "metadata": {},
   "outputs": [
    {
     "name": "stderr",
     "output_type": "stream",
     "text": [
      "Epoch 0 [train]: 100%|██████████| 195/195 [00:07<00:00, 27.11batch/s, batch_loss=0.0635]\n",
      "Epoch 0 [val]: 100%|██████████| 42/42 [00:01<00:00, 34.14batch/s, batch_loss=0.0415]\n"
     ]
    },
    {
     "name": "stdout",
     "output_type": "stream",
     "text": [
      "Train loss:  0.17244895363274293\n",
      "Validation loss:  0.056374091655015945\n"
     ]
    },
    {
     "name": "stderr",
     "output_type": "stream",
     "text": [
      "Epoch 1 [train]: 100%|██████████| 195/195 [00:06<00:00, 28.31batch/s, batch_loss=0.124] \n",
      "Epoch 1 [val]: 100%|██████████| 42/42 [00:01<00:00, 35.42batch/s, batch_loss=0.12]  \n"
     ]
    },
    {
     "name": "stdout",
     "output_type": "stream",
     "text": [
      "Train loss:  0.07854181661819801\n",
      "Validation loss:  0.06835880396621567\n"
     ]
    },
    {
     "name": "stderr",
     "output_type": "stream",
     "text": [
      "Epoch 2 [train]: 100%|██████████| 195/195 [00:06<00:00, 29.34batch/s, batch_loss=0.0775]\n",
      "Epoch 2 [val]: 100%|██████████| 42/42 [00:01<00:00, 32.85batch/s, batch_loss=0.0915]\n"
     ]
    },
    {
     "name": "stdout",
     "output_type": "stream",
     "text": [
      "Train loss:  0.075883321559582\n",
      "Validation loss:  0.08482127751977671\n"
     ]
    },
    {
     "name": "stderr",
     "output_type": "stream",
     "text": [
      "Epoch 3 [train]: 100%|██████████| 195/195 [00:06<00:00, 29.64batch/s, batch_loss=0.086] \n",
      "Epoch 3 [val]: 100%|██████████| 42/42 [00:01<00:00, 34.87batch/s, batch_loss=0.0307]\n"
     ]
    },
    {
     "name": "stdout",
     "output_type": "stream",
     "text": [
      "Train loss:  0.06593565782293295\n",
      "Validation loss:  0.04984076086076952\n"
     ]
    },
    {
     "name": "stderr",
     "output_type": "stream",
     "text": [
      "Epoch 4 [train]: 100%|██████████| 195/195 [00:06<00:00, 29.15batch/s, batch_loss=0.101] \n",
      "Epoch 4 [val]: 100%|██████████| 42/42 [00:01<00:00, 32.46batch/s, batch_loss=0.0447]\n"
     ]
    },
    {
     "name": "stdout",
     "output_type": "stream",
     "text": [
      "Train loss:  0.075062559134303\n",
      "Validation loss:  0.07920582237697783\n"
     ]
    },
    {
     "name": "stderr",
     "output_type": "stream",
     "text": [
      "Epoch 5 [train]: 100%|██████████| 195/195 [00:07<00:00, 27.34batch/s, batch_loss=0.14]  \n",
      "Epoch 5 [val]: 100%|██████████| 42/42 [00:01<00:00, 34.28batch/s, batch_loss=0.0431]\n"
     ]
    },
    {
     "name": "stdout",
     "output_type": "stream",
     "text": [
      "Train loss:  0.06934344683511134\n",
      "Validation loss:  0.08598668456432365\n"
     ]
    },
    {
     "name": "stderr",
     "output_type": "stream",
     "text": [
      "Epoch 6 [train]: 100%|██████████| 195/195 [00:07<00:00, 27.83batch/s, batch_loss=0.0409]\n",
      "Epoch 6 [val]: 100%|██████████| 42/42 [00:01<00:00, 35.22batch/s, batch_loss=0.0168]\n"
     ]
    },
    {
     "name": "stdout",
     "output_type": "stream",
     "text": [
      "Train loss:  0.06667611952393483\n",
      "Validation loss:  0.04811844398223218\n"
     ]
    },
    {
     "name": "stderr",
     "output_type": "stream",
     "text": [
      "Epoch 7 [train]: 100%|██████████| 195/195 [00:06<00:00, 28.01batch/s, batch_loss=0.0858]\n",
      "Epoch 7 [val]: 100%|██████████| 42/42 [00:01<00:00, 34.30batch/s, batch_loss=0.097] \n"
     ]
    },
    {
     "name": "stdout",
     "output_type": "stream",
     "text": [
      "Train loss:  0.07359157434831827\n",
      "Validation loss:  0.10989539484892573\n"
     ]
    },
    {
     "name": "stderr",
     "output_type": "stream",
     "text": [
      "Epoch 8 [train]: 100%|██████████| 195/195 [00:06<00:00, 29.02batch/s, batch_loss=0.0687]\n",
      "Epoch 8 [val]: 100%|██████████| 42/42 [00:01<00:00, 32.73batch/s, batch_loss=0.0411]\n"
     ]
    },
    {
     "name": "stdout",
     "output_type": "stream",
     "text": [
      "Train loss:  0.06483407691121101\n",
      "Validation loss:  0.05408673445206313\n"
     ]
    },
    {
     "name": "stderr",
     "output_type": "stream",
     "text": [
      "Epoch 9 [train]: 100%|██████████| 195/195 [00:06<00:00, 30.09batch/s, batch_loss=0.0498]\n",
      "Epoch 9 [val]: 100%|██████████| 42/42 [00:01<00:00, 32.64batch/s, batch_loss=0.0421]\n"
     ]
    },
    {
     "name": "stdout",
     "output_type": "stream",
     "text": [
      "Train loss:  0.0655332993524961\n",
      "Validation loss:  0.04496893038352331\n"
     ]
    },
    {
     "name": "stderr",
     "output_type": "stream",
     "text": [
      "Epoch 10 [train]: 100%|██████████| 195/195 [00:06<00:00, 28.59batch/s, batch_loss=0.0849]\n",
      "Epoch 10 [val]: 100%|██████████| 42/42 [00:01<00:00, 32.28batch/s, batch_loss=0.0938]\n"
     ]
    },
    {
     "name": "stdout",
     "output_type": "stream",
     "text": [
      "Train loss:  0.07363440261628383\n",
      "Validation loss:  0.06135563924908638\n"
     ]
    },
    {
     "name": "stderr",
     "output_type": "stream",
     "text": [
      "Epoch 11 [train]: 100%|██████████| 195/195 [00:06<00:00, 28.53batch/s, batch_loss=0.145] \n",
      "Epoch 11 [val]: 100%|██████████| 42/42 [00:01<00:00, 32.63batch/s, batch_loss=0.085] \n"
     ]
    },
    {
     "name": "stdout",
     "output_type": "stream",
     "text": [
      "Train loss:  0.060605205490421026\n",
      "Validation loss:  0.09905921197718098\n"
     ]
    },
    {
     "name": "stderr",
     "output_type": "stream",
     "text": [
      "Epoch 12 [train]: 100%|██████████| 195/195 [00:07<00:00, 27.48batch/s, batch_loss=0.0864]\n",
      "Epoch 12 [val]: 100%|██████████| 42/42 [00:01<00:00, 38.33batch/s, batch_loss=0.0493]\n"
     ]
    },
    {
     "name": "stdout",
     "output_type": "stream",
     "text": [
      "Train loss:  0.06546349618106316\n",
      "Validation loss:  0.052901123295582476\n"
     ]
    },
    {
     "name": "stderr",
     "output_type": "stream",
     "text": [
      "Epoch 13 [train]: 100%|██████████| 195/195 [00:06<00:00, 29.11batch/s, batch_loss=0.0729]\n",
      "Epoch 13 [val]: 100%|██████████| 42/42 [00:01<00:00, 34.27batch/s, batch_loss=0.088] \n"
     ]
    },
    {
     "name": "stdout",
     "output_type": "stream",
     "text": [
      "Train loss:  0.06363766176196245\n",
      "Validation loss:  0.0735162685492209\n"
     ]
    },
    {
     "name": "stderr",
     "output_type": "stream",
     "text": [
      "Epoch 14 [train]: 100%|██████████| 195/195 [00:06<00:00, 28.37batch/s, batch_loss=0.136] \n",
      "Epoch 14 [val]: 100%|██████████| 42/42 [00:01<00:00, 33.96batch/s, batch_loss=0.0525]\n"
     ]
    },
    {
     "name": "stdout",
     "output_type": "stream",
     "text": [
      "Train loss:  0.062481153211914574\n",
      "Validation loss:  0.04831742548516819\n"
     ]
    },
    {
     "name": "stderr",
     "output_type": "stream",
     "text": [
      "Epoch 15 [train]: 100%|██████████| 195/195 [00:06<00:00, 28.65batch/s, batch_loss=0.0449]\n",
      "Epoch 15 [val]: 100%|██████████| 42/42 [00:01<00:00, 38.66batch/s, batch_loss=0.0498]\n"
     ]
    },
    {
     "name": "stdout",
     "output_type": "stream",
     "text": [
      "Train loss:  0.06000256223174242\n",
      "Validation loss:  0.053803536020928903\n"
     ]
    },
    {
     "name": "stderr",
     "output_type": "stream",
     "text": [
      "Epoch 16 [train]: 100%|██████████| 195/195 [00:06<00:00, 28.51batch/s, batch_loss=0.101] \n",
      "Epoch 16 [val]: 100%|██████████| 42/42 [00:01<00:00, 34.95batch/s, batch_loss=0.0363]\n"
     ]
    },
    {
     "name": "stdout",
     "output_type": "stream",
     "text": [
      "Train loss:  0.05973614431822147\n",
      "Validation loss:  0.048376349155746755\n"
     ]
    },
    {
     "name": "stderr",
     "output_type": "stream",
     "text": [
      "Epoch 17 [train]: 100%|██████████| 195/195 [00:06<00:00, 28.03batch/s, batch_loss=0.028] \n",
      "Epoch 17 [val]: 100%|██████████| 42/42 [00:01<00:00, 33.96batch/s, batch_loss=0.0248]\n"
     ]
    },
    {
     "name": "stdout",
     "output_type": "stream",
     "text": [
      "Train loss:  0.06213371648620337\n",
      "Validation loss:  0.04793091426559147\n"
     ]
    },
    {
     "name": "stderr",
     "output_type": "stream",
     "text": [
      "Epoch 18 [train]: 100%|██████████| 195/195 [00:06<00:00, 30.17batch/s, batch_loss=0.0467]\n",
      "Epoch 18 [val]: 100%|██████████| 42/42 [00:01<00:00, 33.99batch/s, batch_loss=0.0217]\n"
     ]
    },
    {
     "name": "stdout",
     "output_type": "stream",
     "text": [
      "Train loss:  0.059487947267599595\n",
      "Validation loss:  0.047643868651773245\n"
     ]
    },
    {
     "name": "stderr",
     "output_type": "stream",
     "text": [
      "Epoch 19 [train]: 100%|██████████| 195/195 [00:06<00:00, 28.20batch/s, batch_loss=0.0309]\n",
      "Epoch 19 [val]: 100%|██████████| 42/42 [00:01<00:00, 33.35batch/s, batch_loss=0.0355]\n"
     ]
    },
    {
     "name": "stdout",
     "output_type": "stream",
     "text": [
      "Train loss:  0.059436252350226426\n",
      "Validation loss:  0.04913895461885702\n"
     ]
    },
    {
     "name": "stderr",
     "output_type": "stream",
     "text": [
      "Epoch 20 [train]: 100%|██████████| 195/195 [00:06<00:00, 28.54batch/s, batch_loss=0.0347]\n",
      "Epoch 20 [val]: 100%|██████████| 42/42 [00:01<00:00, 36.36batch/s, batch_loss=0.0226]\n"
     ]
    },
    {
     "name": "stdout",
     "output_type": "stream",
     "text": [
      "Train loss:  0.05576402501991162\n",
      "Validation loss:  0.047317992008867715\n"
     ]
    },
    {
     "name": "stderr",
     "output_type": "stream",
     "text": [
      "Epoch 21 [train]: 100%|██████████| 195/195 [00:06<00:00, 28.90batch/s, batch_loss=0.0964]\n",
      "Epoch 21 [val]: 100%|██████████| 42/42 [00:01<00:00, 30.42batch/s, batch_loss=0.0258]\n"
     ]
    },
    {
     "name": "stdout",
     "output_type": "stream",
     "text": [
      "Train loss:  0.06008294274409612\n",
      "Validation loss:  0.04832354587103639\n"
     ]
    },
    {
     "name": "stderr",
     "output_type": "stream",
     "text": [
      "Epoch 22 [train]: 100%|██████████| 195/195 [00:06<00:00, 29.35batch/s, batch_loss=0.0886]\n",
      "Epoch 22 [val]: 100%|██████████| 42/42 [00:01<00:00, 32.50batch/s, batch_loss=0.0343]\n"
     ]
    },
    {
     "name": "stdout",
     "output_type": "stream",
     "text": [
      "Train loss:  0.056138276366087106\n",
      "Validation loss:  0.04736624511757067\n"
     ]
    },
    {
     "name": "stderr",
     "output_type": "stream",
     "text": [
      "Epoch 23 [train]: 100%|██████████| 195/195 [00:06<00:00, 27.88batch/s, batch_loss=0.105] \n",
      "Epoch 23 [val]: 100%|██████████| 42/42 [00:01<00:00, 33.98batch/s, batch_loss=0.0899]\n"
     ]
    },
    {
     "name": "stdout",
     "output_type": "stream",
     "text": [
      "Train loss:  0.0553625066119891\n",
      "Validation loss:  0.05619329617669185\n"
     ]
    },
    {
     "name": "stderr",
     "output_type": "stream",
     "text": [
      "Epoch 24 [train]: 100%|██████████| 195/195 [00:06<00:00, 28.72batch/s, batch_loss=0.024] \n",
      "Epoch 24 [val]: 100%|██████████| 42/42 [00:01<00:00, 34.65batch/s, batch_loss=0.0261]\n"
     ]
    },
    {
     "name": "stdout",
     "output_type": "stream",
     "text": [
      "Train loss:  0.056642173861081786\n",
      "Validation loss:  0.04424918274439517\n"
     ]
    },
    {
     "name": "stderr",
     "output_type": "stream",
     "text": [
      "Epoch 25 [train]: 100%|██████████| 195/195 [00:06<00:00, 29.27batch/s, batch_loss=0.0495]\n",
      "Epoch 25 [val]: 100%|██████████| 42/42 [00:01<00:00, 34.44batch/s, batch_loss=0.0285]\n"
     ]
    },
    {
     "name": "stdout",
     "output_type": "stream",
     "text": [
      "Train loss:  0.05480643534220946\n",
      "Validation loss:  0.04542584256047294\n"
     ]
    },
    {
     "name": "stderr",
     "output_type": "stream",
     "text": [
      "Epoch 26 [train]: 100%|██████████| 195/195 [00:06<00:00, 29.39batch/s, batch_loss=0.0252]\n",
      "Epoch 26 [val]: 100%|██████████| 42/42 [00:01<00:00, 34.34batch/s, batch_loss=0.049] \n"
     ]
    },
    {
     "name": "stdout",
     "output_type": "stream",
     "text": [
      "Train loss:  0.056861833435220596\n",
      "Validation loss:  0.0439335930471619\n"
     ]
    },
    {
     "name": "stderr",
     "output_type": "stream",
     "text": [
      "Epoch 27 [train]: 100%|██████████| 195/195 [00:06<00:00, 28.48batch/s, batch_loss=0.0423]\n",
      "Epoch 27 [val]: 100%|██████████| 42/42 [00:01<00:00, 33.86batch/s, batch_loss=0.0606]\n"
     ]
    },
    {
     "name": "stdout",
     "output_type": "stream",
     "text": [
      "Train loss:  0.05825221371383239\n",
      "Validation loss:  0.05371739466985067\n"
     ]
    },
    {
     "name": "stderr",
     "output_type": "stream",
     "text": [
      "Epoch 28 [train]: 100%|██████████| 195/195 [00:06<00:00, 29.05batch/s, batch_loss=0.0503]\n",
      "Epoch 28 [val]: 100%|██████████| 42/42 [00:01<00:00, 34.68batch/s, batch_loss=0.0393]\n"
     ]
    },
    {
     "name": "stdout",
     "output_type": "stream",
     "text": [
      "Train loss:  0.054982679948592794\n",
      "Validation loss:  0.05007976129473675\n"
     ]
    },
    {
     "name": "stderr",
     "output_type": "stream",
     "text": [
      "Epoch 29 [train]: 100%|██████████| 195/195 [00:06<00:00, 28.47batch/s, batch_loss=0.0703]\n",
      "Epoch 29 [val]: 100%|██████████| 42/42 [00:01<00:00, 33.56batch/s, batch_loss=0.0361]\n"
     ]
    },
    {
     "name": "stdout",
     "output_type": "stream",
     "text": [
      "Train loss:  0.0529451001339998\n",
      "Validation loss:  0.052692386942605175\n"
     ]
    },
    {
     "name": "stderr",
     "output_type": "stream",
     "text": [
      "Epoch 30 [train]: 100%|██████████| 195/195 [00:06<00:00, 29.41batch/s, batch_loss=0.0276]\n",
      "Epoch 30 [val]: 100%|██████████| 42/42 [00:01<00:00, 35.68batch/s, batch_loss=0.0366]\n"
     ]
    },
    {
     "name": "stdout",
     "output_type": "stream",
     "text": [
      "Train loss:  0.05516285625978922\n",
      "Validation loss:  0.047685573232315835\n"
     ]
    },
    {
     "name": "stderr",
     "output_type": "stream",
     "text": [
      "Epoch 31 [train]: 100%|██████████| 195/195 [00:06<00:00, 29.00batch/s, batch_loss=0.0737]\n",
      "Epoch 31 [val]: 100%|██████████| 42/42 [00:01<00:00, 36.68batch/s, batch_loss=0.0914]\n"
     ]
    },
    {
     "name": "stdout",
     "output_type": "stream",
     "text": [
      "Train loss:  0.05477526295834627\n",
      "Validation loss:  0.0458101157897285\n"
     ]
    },
    {
     "name": "stderr",
     "output_type": "stream",
     "text": [
      "Epoch 32 [train]: 100%|██████████| 195/195 [00:06<00:00, 29.47batch/s, batch_loss=0.0314]\n",
      "Epoch 32 [val]: 100%|██████████| 42/42 [00:01<00:00, 32.91batch/s, batch_loss=0.0296]\n"
     ]
    },
    {
     "name": "stdout",
     "output_type": "stream",
     "text": [
      "Train loss:  0.0602388396859169\n",
      "Validation loss:  0.050198648169281934\n"
     ]
    },
    {
     "name": "stderr",
     "output_type": "stream",
     "text": [
      "Epoch 33 [train]: 100%|██████████| 195/195 [00:06<00:00, 29.01batch/s, batch_loss=0.0535]\n",
      "Epoch 33 [val]: 100%|██████████| 42/42 [00:01<00:00, 32.41batch/s, batch_loss=0.0836]\n"
     ]
    },
    {
     "name": "stdout",
     "output_type": "stream",
     "text": [
      "Train loss:  0.05135413581171097\n",
      "Validation loss:  0.04584053651030574\n"
     ]
    },
    {
     "name": "stderr",
     "output_type": "stream",
     "text": [
      "Epoch 34 [train]: 100%|██████████| 195/195 [00:06<00:00, 28.83batch/s, batch_loss=0.0533]\n",
      "Epoch 34 [val]: 100%|██████████| 42/42 [00:01<00:00, 34.70batch/s, batch_loss=0.0769]\n"
     ]
    },
    {
     "name": "stdout",
     "output_type": "stream",
     "text": [
      "Train loss:  0.05210267606262977\n",
      "Validation loss:  0.047561846407396455\n"
     ]
    },
    {
     "name": "stderr",
     "output_type": "stream",
     "text": [
      "Epoch 35 [train]: 100%|██████████| 195/195 [00:06<00:00, 28.30batch/s, batch_loss=0.0519]\n",
      "Epoch 35 [val]: 100%|██████████| 42/42 [00:01<00:00, 35.13batch/s, batch_loss=0.0556]\n"
     ]
    },
    {
     "name": "stdout",
     "output_type": "stream",
     "text": [
      "Train loss:  0.054266001030993764\n",
      "Validation loss:  0.045119538415400756\n"
     ]
    },
    {
     "name": "stderr",
     "output_type": "stream",
     "text": [
      "Epoch 36 [train]: 100%|██████████| 195/195 [00:06<00:00, 29.63batch/s, batch_loss=0.0633]\n",
      "Epoch 36 [val]: 100%|██████████| 42/42 [00:01<00:00, 33.76batch/s, batch_loss=0.0302]\n"
     ]
    },
    {
     "name": "stdout",
     "output_type": "stream",
     "text": [
      "Train loss:  0.0524399757767335\n",
      "Validation loss:  0.04624568529072262\n"
     ]
    },
    {
     "name": "stderr",
     "output_type": "stream",
     "text": [
      "Epoch 37 [train]: 100%|██████████| 195/195 [00:06<00:00, 28.52batch/s, batch_loss=0.0738]\n",
      "Epoch 37 [val]: 100%|██████████| 42/42 [00:01<00:00, 34.12batch/s, batch_loss=0.0849]\n"
     ]
    },
    {
     "name": "stdout",
     "output_type": "stream",
     "text": [
      "Train loss:  0.05198671091825534\n",
      "Validation loss:  0.06439466020535856\n"
     ]
    },
    {
     "name": "stderr",
     "output_type": "stream",
     "text": [
      "Epoch 38 [train]: 100%|██████████| 195/195 [00:06<00:00, 28.70batch/s, batch_loss=0.0575]\n",
      "Epoch 38 [val]: 100%|██████████| 42/42 [00:01<00:00, 36.49batch/s, batch_loss=0.0446]\n"
     ]
    },
    {
     "name": "stdout",
     "output_type": "stream",
     "text": [
      "Train loss:  0.05009745909139896\n",
      "Validation loss:  0.041842694549510874\n"
     ]
    },
    {
     "name": "stderr",
     "output_type": "stream",
     "text": [
      "Epoch 39 [train]: 100%|██████████| 195/195 [00:06<00:00, 29.12batch/s, batch_loss=0.0474]\n",
      "Epoch 39 [val]: 100%|██████████| 42/42 [00:01<00:00, 34.18batch/s, batch_loss=0.0609]"
     ]
    },
    {
     "name": "stdout",
     "output_type": "stream",
     "text": [
      "Train loss:  0.05172068709746385\n",
      "Validation loss:  0.06060402818201553\n"
     ]
    },
    {
     "name": "stderr",
     "output_type": "stream",
     "text": [
      "\n"
     ]
    }
   ],
   "source": [
    "# Define the loss function\n",
    "criterion = nn.MSELoss()\n",
    "\n",
    "# Get all the parameters excepts the weights and bias of fc layer\n",
    "base_params = [param for name, param in model.named_parameters()\n",
    "               if name not in [\"fc.weight\", \"fc.bias\"]]\n",
    "\n",
    "# Define the optimizer, with a greater learning rate for the new fc layer\n",
    "optimizer = optim.SGD([\n",
    "    {\"params\": base_params},\n",
    "    {\"params\": model.fc.parameters(), \"lr\": 1e-3},\n",
    "],\n",
    "    lr=1e-3, momentum=0.9, weight_decay=0.001)\n",
    "\n",
    "# An epoch is one complete pass of the training dataset through the network\n",
    "NB_EPOCHS = 40\n",
    "\n",
    "# Number of epochs we wait for the loss to decrease before stopping\n",
    "# the training process early\n",
    "patience = 10\n",
    "\n",
    "best_val_loss = float('inf')\n",
    "best_epoch = 0\n",
    "\n",
    "loss_values = torch.zeros(2, NB_EPOCHS)\n",
    "\n",
    "# Loop over the epochs\n",
    "for epoch in range(NB_EPOCHS):\n",
    "    \n",
    "    # Training\n",
    "    train_loss = 0.\n",
    "    \n",
    "    # Configure the model for training\n",
    "    # (good practice, only necessary if the model operates differently for\n",
    "    # training and validation)\n",
    "    model.train()\n",
    "    \n",
    "    # Add a progress bar\n",
    "    train_loader_pbar = tqdm(train_loader, unit=\"batch\")\n",
    "    \n",
    "    # Loop over the training batches\n",
    "    for images, traversal_costs, _ in train_loader_pbar:\n",
    "        \n",
    "        # Print the epoch and training mode\n",
    "        train_loader_pbar.set_description(f\"Epoch {epoch} [train]\")\n",
    "        \n",
    "        # Move images and traversal scores to GPU (if available)\n",
    "        images = images.to(device)\n",
    "        traversal_costs = traversal_costs.type(torch.FloatTensor).to(device)\n",
    "        \n",
    "        # Zero out gradients before each backpropagation pass, to avoid that\n",
    "        # they accumulate\n",
    "        optimizer.zero_grad()\n",
    "        \n",
    "        # Perform forward pass\n",
    "        predicted_traversal_costs = model(images)\n",
    "        \n",
    "        # Compute loss \n",
    "        loss = criterion(predicted_traversal_costs[:, 0], traversal_costs)\n",
    "        \n",
    "        # Print the batch loss next to the progress bar\n",
    "        train_loader_pbar.set_postfix(batch_loss=loss.item())\n",
    "        \n",
    "        # Perform backpropagation (update weights)\n",
    "        loss.backward()\n",
    "        \n",
    "        # Adjust parameters based on gradients\n",
    "        optimizer.step()\n",
    "        \n",
    "        # Accumulate batch loss to average over the epoch\n",
    "        train_loss += loss.item()\n",
    "    \n",
    "    \n",
    "    # Validation\n",
    "    val_loss = 0.\n",
    "    \n",
    "    # Configure the model for testing\n",
    "    # (turn off dropout layers, batchnorm layers, etc)\n",
    "    model.eval()\n",
    "    \n",
    "    # Add a progress bar\n",
    "    val_loader_pbar = tqdm(val_loader, unit=\"batch\")\n",
    "    \n",
    "    # Turn off gradients computation (the backward computational graph is built during\n",
    "    # the forward pass and weights are updated during the backward pass, here we avoid\n",
    "    # building the graph)\n",
    "    with torch.no_grad():\n",
    "        # Loop over the validation batches\n",
    "        for images, traversal_costs, _ in val_loader_pbar:\n",
    "\n",
    "            # Print the epoch and validation mode\n",
    "            val_loader_pbar.set_description(f\"Epoch {epoch} [val]\")\n",
    "\n",
    "            # Move images and traversal scores to GPU (if available)\n",
    "            images = images.to(device)\n",
    "            traversal_costs = traversal_costs.type(torch.FloatTensor).to(device)\n",
    "            \n",
    "            # Perform forward pass (only, no backpropagation)\n",
    "            predicted_traversal_costs = model(images)\n",
    "\n",
    "            # Compute loss\n",
    "            loss = criterion(predicted_traversal_costs[:, 0], traversal_costs)\n",
    "\n",
    "            # Print the batch loss next to the progress bar\n",
    "            val_loader_pbar.set_postfix(batch_loss=loss.item())\n",
    "\n",
    "            # Accumulate batch loss to average over the epoch\n",
    "            val_loss += loss.item()\n",
    "            \n",
    "    \n",
    "    # Compute the losses\n",
    "    train_loss /= len(train_loader)\n",
    "    val_loss /= len(val_loader)\n",
    "    \n",
    "    print(\"Train loss: \", train_loss)\n",
    "    print(\"Validation loss: \", val_loss)\n",
    "    \n",
    "    # Store the computed losses\n",
    "    loss_values[0, epoch] = train_loss\n",
    "    loss_values[1, epoch] = val_loss\n",
    "    \n",
    "    # Add the losses to TensorBoard\n",
    "    tensorboard.add_scalar(\"train_loss\", train_loss, epoch)\n",
    "    tensorboard.add_scalar(\"val_loss\", val_loss, epoch)\n",
    "    \n",
    "    # Early stopping based on validation loss: stop the training if the\n",
    "    # loss has not improved for the last 5 epochs\n",
    "    # if val_loss < best_val_loss:\n",
    "    #     best_val_loss = val_loss\n",
    "    #     best_epoch = epoch\n",
    "    \n",
    "    # elif epoch - best_epoch >= patience:\n",
    "    #     print(f'Early stopping at epoch {epoch}')\n",
    "    #     break\n",
    "\n",
    "# Close TensorBoard\n",
    "tensorboard.close()"
   ]
  },
  {
   "attachments": {},
   "cell_type": "markdown",
   "metadata": {},
   "source": [
    "### Visualization"
   ]
  },
  {
   "cell_type": "code",
   "execution_count": 13,
   "metadata": {},
   "outputs": [
    {
     "data": {
      "text/plain": [
       "Text(0.5, 0, 'Epoch')"
      ]
     },
     "execution_count": 13,
     "metadata": {},
     "output_type": "execute_result"
    },
    {
     "data": {
      "image/png": "[encoded data removed]",
      "text/plain": [
       "<Figure size 640x480 with 1 Axes>"
      ]
     },
     "metadata": {},
     "output_type": "display_data"
    }
   ],
   "source": [
    "# Loss\n",
    "indices = loss_values[0] != 0\n",
    "train_losses = loss_values[0][indices]\n",
    "val_losses = loss_values[1][indices]\n",
    "\n",
    "plt.plot(train_losses, label=\"train loss\")\n",
    "plt.plot(val_losses, label=\"validation loss\")\n",
    "\n",
    "plt.legend()\n",
    "plt.xlabel(\"Epoch\")"
   ]
  },
  {
   "cell_type": "markdown",
   "metadata": {},
   "source": [
    "## Testing"
   ]
  },
  {
   "cell_type": "code",
   "execution_count": 14,
   "metadata": {},
   "outputs": [
    {
     "name": "stdout",
     "output_type": "stream",
     "text": [
      "Test loss:  0.059557005698024135\n"
     ]
    }
   ],
   "source": [
    "# Testing\n",
    "test_loss = 0.\n",
    "\n",
    "# Configure the model for testing\n",
    "model.eval()\n",
    "\n",
    "with torch.no_grad():\n",
    "    # Loop over the testing batches\n",
    "    for images, traversal_costs, _ in test_loader:\n",
    "        \n",
    "        images = images.to(device)\n",
    "        traversal_costs = traversal_costs.to(device)\n",
    "        \n",
    "        # Perform forward pass\n",
    "        predicted_traversal_costs = model(images)\n",
    "        \n",
    "        # Compute loss\n",
    "        loss = criterion(predicted_traversal_costs[:, 0], traversal_costs)\n",
    "        \n",
    "        # Accumulate batch loss to average of the entire testing set\n",
    "        test_loss += loss.item()\n",
    "        \n",
    "# Compute the loss and accuracy\n",
    "test_loss /= len(test_loader)\n",
    "\n",
    "print(\"Test loss: \", test_loss)"
   ]
  },
  {
   "cell_type": "code",
   "execution_count": 41,
   "metadata": {},
   "outputs": [
    {
     "name": "stdout",
     "output_type": "stream",
     "text": [
      "Output:\n",
      " tensor([[2.0622],\n",
      "        [1.4585],\n",
      "        [1.9043],\n",
      "        [2.1624],\n",
      "        [1.9757],\n",
      "        [2.0722],\n",
      "        [1.9546],\n",
      "        [1.9779],\n",
      "        [1.9246],\n",
      "        [1.9387],\n",
      "        [1.9201],\n",
      "        [1.6849],\n",
      "        [1.8691],\n",
      "        [2.0227],\n",
      "        [1.7642],\n",
      "        [1.9321],\n",
      "        [1.6783],\n",
      "        [2.1785],\n",
      "        [2.1655],\n",
      "        [1.3817],\n",
      "        [1.9115],\n",
      "        [1.6339],\n",
      "        [1.7190],\n",
      "        [1.8927],\n",
      "        [1.9418],\n",
      "        [1.6963]], device='cuda:0')\n",
      "Ground truth:\n",
      " tensor([1.4431, 1.8142, 1.4213, 1.8988, 1.6864, 1.0896, 1.3164, 1.1830, 1.9168,\n",
      "        1.0740, 1.7578, 1.9497, 1.1054, 1.4927, 2.1730, 1.6349, 1.9143, 1.6020,\n",
      "        1.8331, 2.0072, 1.7344, 1.1041, 1.8847, 1.4045, 0.9980, 2.2835, 1.8514,\n",
      "        1.1247, 2.0487, 1.2955, 1.9082, 1.9524], device='cuda:0',\n",
      "       dtype=torch.float64)\n"
     ]
    }
   ],
   "source": [
    "images, traversal_costs, _ = next(iter(test_loader))\n",
    "\n",
    "images = images.to(device)\n",
    "traversal_costs = traversal_costs.to(device)\n",
    "\n",
    "predicted_traversal_scores = model(images)\n",
    "# predicted_traversal_scores = nn.Softmax(dim=1)(model(images))\n",
    "\n",
    "print(\"Output:\\n\", predicted_traversal_costs)\n",
    "print(\"Ground truth:\\n\", traversal_costs)\n",
    "\n",
    "# print(predicted_traversal_scores-traversal_scores)\n",
    "\n",
    "# predicted_traversal_scores = predicted_traversal_scores.to(\"cpu\").detach().numpy()\n",
    "# plt.hist(predicted_traversal_scores)\n"
   ]
  },
  {
   "cell_type": "code",
   "execution_count": 74,
   "metadata": {},
   "outputs": [
    {
     "data": {
      "text/plain": [
       "(array([  58.,  323.,  565.,  727.,  665.,  921., 1330., 1083.,  458.,\n",
       "         109.]),\n",
       " array([0. , 0.9, 1.8, 2.7, 3.6, 4.5, 5.4, 6.3, 7.2, 8.1, 9. ]),\n",
       " <a list of 10 Patch objects>)"
      ]
     },
     "execution_count": 74,
     "metadata": {},
     "output_type": "execute_result"
    },
    {
     "data": {
      "image/png": "[encoded data removed]",
      "text/plain": [
       "<Figure size 640x480 with 1 Axes>"
      ]
     },
     "metadata": {},
     "output_type": "display_data"
    }
   ],
   "source": [
    "traversal_costs_train = []\n",
    "\n",
    "for _, score in train_set:\n",
    "    traversal_costs_train.append(score)\n",
    "    \n",
    "# print(traversal_scores_train)\n",
    "plt.hist(traversal_costs_train, bins=10)"
   ]
  },
  {
   "attachments": {},
   "cell_type": "markdown",
   "metadata": {},
   "source": [
    "## Save model parameters"
   ]
  },
  {
   "cell_type": "code",
   "execution_count": null,
   "metadata": {},
   "outputs": [],
   "source": [
    "# Save the model parameters\n",
    "torch.save(model.state_dict(), \"resnet18_fine_tuned_3+8bags_3var3sc_classification_kmeans_100epochs.params\")"
   ]
  }
 ],
 "metadata": {
  "kernelspec": {
   "display_name": "Python 3",
   "language": "python",
   "name": "python3"
  },
  "language_info": {
   "codemirror_mode": {
    "name": "ipython",
    "version": 3
   },
   "file_extension": ".py",
   "mimetype": "text/x-python",
   "name": "python",
   "nbconvert_exporter": "python",
   "pygments_lexer": "ipython3",
   "version": "3.8.10"
  },
  "orig_nbformat": 4,
  "vscode": {
   "interpreter": {
    "hash": "916dbcbb3f70747c44a77c7bcd40155683ae19c65e1c03b4aa3499c5328201f1"
   }
  }
 },
 "nbformat": 4,
 "nbformat_minor": 2
}
